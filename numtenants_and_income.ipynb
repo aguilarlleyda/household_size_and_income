{
 "cells": [
  {
   "cell_type": "markdown",
   "metadata": {},
   "source": [
    "# Do wealthier people share a roof with more or less people? A study of household size and income in the city of Barcelona"
   ]
  },
  {
   "cell_type": "markdown",
   "metadata": {},
   "source": [
    "## 1. Importing libraries\n",
    "We'll start by importing the libraries we'll need."
   ]
  },
  {
   "cell_type": "code",
   "execution_count": 71,
   "metadata": {},
   "outputs": [],
   "source": [
    "import numpy as np\n",
    "import pandas as pd\n",
    "import json\n",
    "import geopandas as gpd\n",
    "import plotly.graph_objects as go\n",
    "\n",
    "from statsmodels.nonparametric.smoothers_lowess import lowess #this last function will help us visualize overall trends"
   ]
  },
  {
   "cell_type": "markdown",
   "metadata": {},
   "source": [
    "## 2. Customizing visualization parameters\n",
    "Next we'll tweak a few things to display the data better, as well as to change a bit the default plotting theme to make it more visually pleasing."
   ]
  },
  {
   "cell_type": "code",
   "execution_count": 72,
   "metadata": {},
   "outputs": [],
   "source": [
    "#Set max rows and columns when displaying data\n",
    "pd.set_option('display.max_columns', None) #no maximum number of columns\n",
    "pd.set_option('display.max_rows', 25) #maximum number of rows\n",
    "\n",
    "# Create the layout for figures with a custom theme\n",
    "mylayout = go.Layout(\n",
    "        xaxis=dict(linecolor='black', gridcolor='lightgrey'), #x-axis line and grid color\n",
    "        yaxis=dict(linecolor='black', gridcolor='lightgrey'), #same for y-axis\n",
    "        paper_bgcolor='white',  #background color\n",
    "        plot_bgcolor='white')  #plot area background color\n",
    "\n",
    "#defining a color palette for our figures, as well as a matching lighter palette for some plot details\n",
    "palcolors = ['#04BB85','#8F76D7','#FF9500','#019BBF','#F62F36','#9D5E31','#E65898','#B1C019','#FDC903','#C1A471'] \n",
    "palcolors_light = ['#7ADFA7', '#D5C2FF', '#FFE07F', '#49B3FF', '#FF8B8F', '#E9BEA8', '#FFA4D3', '#E5F075', '#FFE947', '#F4DDAD']"
   ]
  },
  {
   "cell_type": "markdown",
   "metadata": {},
   "source": [
    "## 3. First dataset: yearly net income per person \n",
    "We'll first focus on the dataset containing the information on the average tax revenue per person, or what's the same, the yearly average net income per person. The data comes from the city of Barcelona, and it can be accessed in [its City Council's website](https://opendata-ajuntament.barcelona.cat/data/en/dataset/renda-tributaria-per-persona-atlas-distribucio/resource/7e2ab9ed-68ea-43ea-abb0-afbb620ee09e).\n",
    "\n",
    "After loading the data as DataFrame, we'll have to adapt some headers and values, and then we'll visualize it.\n",
    "\n"
   ]
  },
  {
   "cell_type": "markdown",
   "metadata": {},
   "source": [
    "### 3.1. Loading the yearly income per person dataset\n",
    "\n",
    "After loading the dataset we can display it. As you can see, the header for each column is not in English, but in Catalan. We'll take care of that next. "
   ]
  },
  {
   "cell_type": "code",
   "execution_count": 73,
   "metadata": {},
   "outputs": [
    {
     "data": {
      "text/html": [
       "<div>\n",
       "<style scoped>\n",
       "    .dataframe tbody tr th:only-of-type {\n",
       "        vertical-align: middle;\n",
       "    }\n",
       "\n",
       "    .dataframe tbody tr th {\n",
       "        vertical-align: top;\n",
       "    }\n",
       "\n",
       "    .dataframe thead th {\n",
       "        text-align: right;\n",
       "    }\n",
       "</style>\n",
       "<table border=\"1\" class=\"dataframe\">\n",
       "  <thead>\n",
       "    <tr style=\"text-align: right;\">\n",
       "      <th></th>\n",
       "      <th>Any</th>\n",
       "      <th>Codi_Districte</th>\n",
       "      <th>Nom_Districte</th>\n",
       "      <th>Codi_Barri</th>\n",
       "      <th>Nom_Barri</th>\n",
       "      <th>Seccio_Censal</th>\n",
       "      <th>Import_Euros</th>\n",
       "    </tr>\n",
       "  </thead>\n",
       "  <tbody>\n",
       "    <tr>\n",
       "      <th>0</th>\n",
       "      <td>2021</td>\n",
       "      <td>1</td>\n",
       "      <td>Ciutat Vella</td>\n",
       "      <td>1</td>\n",
       "      <td>el Raval</td>\n",
       "      <td>1</td>\n",
       "      <td>11166</td>\n",
       "    </tr>\n",
       "    <tr>\n",
       "      <th>1</th>\n",
       "      <td>2021</td>\n",
       "      <td>1</td>\n",
       "      <td>Ciutat Vella</td>\n",
       "      <td>1</td>\n",
       "      <td>el Raval</td>\n",
       "      <td>2</td>\n",
       "      <td>9115</td>\n",
       "    </tr>\n",
       "    <tr>\n",
       "      <th>2</th>\n",
       "      <td>2021</td>\n",
       "      <td>1</td>\n",
       "      <td>Ciutat Vella</td>\n",
       "      <td>1</td>\n",
       "      <td>el Raval</td>\n",
       "      <td>3</td>\n",
       "      <td>9431</td>\n",
       "    </tr>\n",
       "    <tr>\n",
       "      <th>3</th>\n",
       "      <td>2021</td>\n",
       "      <td>1</td>\n",
       "      <td>Ciutat Vella</td>\n",
       "      <td>1</td>\n",
       "      <td>el Raval</td>\n",
       "      <td>4</td>\n",
       "      <td>10898</td>\n",
       "    </tr>\n",
       "    <tr>\n",
       "      <th>4</th>\n",
       "      <td>2021</td>\n",
       "      <td>1</td>\n",
       "      <td>Ciutat Vella</td>\n",
       "      <td>1</td>\n",
       "      <td>el Raval</td>\n",
       "      <td>5</td>\n",
       "      <td>9717</td>\n",
       "    </tr>\n",
       "    <tr>\n",
       "      <th>...</th>\n",
       "      <td>...</td>\n",
       "      <td>...</td>\n",
       "      <td>...</td>\n",
       "      <td>...</td>\n",
       "      <td>...</td>\n",
       "      <td>...</td>\n",
       "      <td>...</td>\n",
       "    </tr>\n",
       "    <tr>\n",
       "      <th>1063</th>\n",
       "      <td>2021</td>\n",
       "      <td>10</td>\n",
       "      <td>Sant Martí</td>\n",
       "      <td>73</td>\n",
       "      <td>la Verneda i la Pau</td>\n",
       "      <td>143</td>\n",
       "      <td>12705</td>\n",
       "    </tr>\n",
       "    <tr>\n",
       "      <th>1064</th>\n",
       "      <td>2021</td>\n",
       "      <td>10</td>\n",
       "      <td>Sant Martí</td>\n",
       "      <td>65</td>\n",
       "      <td>el Clot</td>\n",
       "      <td>234</td>\n",
       "      <td>16081</td>\n",
       "    </tr>\n",
       "    <tr>\n",
       "      <th>1065</th>\n",
       "      <td>2021</td>\n",
       "      <td>10</td>\n",
       "      <td>Sant Martí</td>\n",
       "      <td>69</td>\n",
       "      <td>Diagonal Mar i el Front Marítim del Poblenou</td>\n",
       "      <td>235</td>\n",
       "      <td>14455</td>\n",
       "    </tr>\n",
       "    <tr>\n",
       "      <th>1066</th>\n",
       "      <td>2021</td>\n",
       "      <td>10</td>\n",
       "      <td>Sant Martí</td>\n",
       "      <td>69</td>\n",
       "      <td>Diagonal Mar i el Front Marítim del Poblenou</td>\n",
       "      <td>236</td>\n",
       "      <td>14844</td>\n",
       "    </tr>\n",
       "    <tr>\n",
       "      <th>1067</th>\n",
       "      <td>2021</td>\n",
       "      <td>10</td>\n",
       "      <td>Sant Martí</td>\n",
       "      <td>71</td>\n",
       "      <td>Provençals del Poblenou</td>\n",
       "      <td>237</td>\n",
       "      <td>13443</td>\n",
       "    </tr>\n",
       "  </tbody>\n",
       "</table>\n",
       "<p>1068 rows × 7 columns</p>\n",
       "</div>"
      ],
      "text/plain": [
       "       Any  Codi_Districte Nom_Districte  Codi_Barri  \\\n",
       "0     2021               1  Ciutat Vella           1   \n",
       "1     2021               1  Ciutat Vella           1   \n",
       "2     2021               1  Ciutat Vella           1   \n",
       "3     2021               1  Ciutat Vella           1   \n",
       "4     2021               1  Ciutat Vella           1   \n",
       "...    ...             ...           ...         ...   \n",
       "1063  2021              10    Sant Martí          73   \n",
       "1064  2021              10    Sant Martí          65   \n",
       "1065  2021              10    Sant Martí          69   \n",
       "1066  2021              10    Sant Martí          69   \n",
       "1067  2021              10    Sant Martí          71   \n",
       "\n",
       "                                         Nom_Barri  Seccio_Censal  \\\n",
       "0                                         el Raval              1   \n",
       "1                                         el Raval              2   \n",
       "2                                         el Raval              3   \n",
       "3                                         el Raval              4   \n",
       "4                                         el Raval              5   \n",
       "...                                            ...            ...   \n",
       "1063                           la Verneda i la Pau            143   \n",
       "1064                                       el Clot            234   \n",
       "1065  Diagonal Mar i el Front Marítim del Poblenou            235   \n",
       "1066  Diagonal Mar i el Front Marítim del Poblenou            236   \n",
       "1067                       Provençals del Poblenou            237   \n",
       "\n",
       "      Import_Euros  \n",
       "0            11166  \n",
       "1             9115  \n",
       "2             9431  \n",
       "3            10898  \n",
       "4             9717  \n",
       "...            ...  \n",
       "1063         12705  \n",
       "1064         16081  \n",
       "1065         14455  \n",
       "1066         14844  \n",
       "1067         13443  \n",
       "\n",
       "[1068 rows x 7 columns]"
      ]
     },
     "metadata": {},
     "output_type": "display_data"
    }
   ],
   "source": [
    "#load as DataFrame\n",
    "df_indivincome = pd.read_csv('2021_renda_neta_mitjana_per_persona.csv')\n",
    "\n",
    "#display the DataFrame\n",
    "display(df_indivincome)"
   ]
  },
  {
   "cell_type": "markdown",
   "metadata": {},
   "source": [
    "### 3.2. Data preparation\n",
    "Let's get our data frame up and running. To start, we'll eliminate the `Any` column, which simply indicates the year the data refers to, and then rename all other variables to English."
   ]
  },
  {
   "cell_type": "code",
   "execution_count": 74,
   "metadata": {},
   "outputs": [
    {
     "data": {
      "text/html": [
       "<div>\n",
       "<style scoped>\n",
       "    .dataframe tbody tr th:only-of-type {\n",
       "        vertical-align: middle;\n",
       "    }\n",
       "\n",
       "    .dataframe tbody tr th {\n",
       "        vertical-align: top;\n",
       "    }\n",
       "\n",
       "    .dataframe thead th {\n",
       "        text-align: right;\n",
       "    }\n",
       "</style>\n",
       "<table border=\"1\" class=\"dataframe\">\n",
       "  <thead>\n",
       "    <tr style=\"text-align: right;\">\n",
       "      <th></th>\n",
       "      <th>district_code</th>\n",
       "      <th>district_name</th>\n",
       "      <th>neighborhood_code</th>\n",
       "      <th>neighborhood_name</th>\n",
       "      <th>census_section</th>\n",
       "      <th>income_per_person</th>\n",
       "    </tr>\n",
       "  </thead>\n",
       "  <tbody>\n",
       "    <tr>\n",
       "      <th>0</th>\n",
       "      <td>1</td>\n",
       "      <td>Ciutat Vella</td>\n",
       "      <td>1</td>\n",
       "      <td>el Raval</td>\n",
       "      <td>1</td>\n",
       "      <td>11166</td>\n",
       "    </tr>\n",
       "    <tr>\n",
       "      <th>1</th>\n",
       "      <td>1</td>\n",
       "      <td>Ciutat Vella</td>\n",
       "      <td>1</td>\n",
       "      <td>el Raval</td>\n",
       "      <td>2</td>\n",
       "      <td>9115</td>\n",
       "    </tr>\n",
       "    <tr>\n",
       "      <th>2</th>\n",
       "      <td>1</td>\n",
       "      <td>Ciutat Vella</td>\n",
       "      <td>1</td>\n",
       "      <td>el Raval</td>\n",
       "      <td>3</td>\n",
       "      <td>9431</td>\n",
       "    </tr>\n",
       "    <tr>\n",
       "      <th>3</th>\n",
       "      <td>1</td>\n",
       "      <td>Ciutat Vella</td>\n",
       "      <td>1</td>\n",
       "      <td>el Raval</td>\n",
       "      <td>4</td>\n",
       "      <td>10898</td>\n",
       "    </tr>\n",
       "    <tr>\n",
       "      <th>4</th>\n",
       "      <td>1</td>\n",
       "      <td>Ciutat Vella</td>\n",
       "      <td>1</td>\n",
       "      <td>el Raval</td>\n",
       "      <td>5</td>\n",
       "      <td>9717</td>\n",
       "    </tr>\n",
       "    <tr>\n",
       "      <th>...</th>\n",
       "      <td>...</td>\n",
       "      <td>...</td>\n",
       "      <td>...</td>\n",
       "      <td>...</td>\n",
       "      <td>...</td>\n",
       "      <td>...</td>\n",
       "    </tr>\n",
       "    <tr>\n",
       "      <th>1063</th>\n",
       "      <td>10</td>\n",
       "      <td>Sant Martí</td>\n",
       "      <td>73</td>\n",
       "      <td>la Verneda i la Pau</td>\n",
       "      <td>143</td>\n",
       "      <td>12705</td>\n",
       "    </tr>\n",
       "    <tr>\n",
       "      <th>1064</th>\n",
       "      <td>10</td>\n",
       "      <td>Sant Martí</td>\n",
       "      <td>65</td>\n",
       "      <td>el Clot</td>\n",
       "      <td>234</td>\n",
       "      <td>16081</td>\n",
       "    </tr>\n",
       "    <tr>\n",
       "      <th>1065</th>\n",
       "      <td>10</td>\n",
       "      <td>Sant Martí</td>\n",
       "      <td>69</td>\n",
       "      <td>Diagonal Mar i el Front Marítim del Poblenou</td>\n",
       "      <td>235</td>\n",
       "      <td>14455</td>\n",
       "    </tr>\n",
       "    <tr>\n",
       "      <th>1066</th>\n",
       "      <td>10</td>\n",
       "      <td>Sant Martí</td>\n",
       "      <td>69</td>\n",
       "      <td>Diagonal Mar i el Front Marítim del Poblenou</td>\n",
       "      <td>236</td>\n",
       "      <td>14844</td>\n",
       "    </tr>\n",
       "    <tr>\n",
       "      <th>1067</th>\n",
       "      <td>10</td>\n",
       "      <td>Sant Martí</td>\n",
       "      <td>71</td>\n",
       "      <td>Provençals del Poblenou</td>\n",
       "      <td>237</td>\n",
       "      <td>13443</td>\n",
       "    </tr>\n",
       "  </tbody>\n",
       "</table>\n",
       "<p>1068 rows × 6 columns</p>\n",
       "</div>"
      ],
      "text/plain": [
       "      district_code district_name  neighborhood_code  \\\n",
       "0                 1  Ciutat Vella                  1   \n",
       "1                 1  Ciutat Vella                  1   \n",
       "2                 1  Ciutat Vella                  1   \n",
       "3                 1  Ciutat Vella                  1   \n",
       "4                 1  Ciutat Vella                  1   \n",
       "...             ...           ...                ...   \n",
       "1063             10    Sant Martí                 73   \n",
       "1064             10    Sant Martí                 65   \n",
       "1065             10    Sant Martí                 69   \n",
       "1066             10    Sant Martí                 69   \n",
       "1067             10    Sant Martí                 71   \n",
       "\n",
       "                                 neighborhood_name  census_section  \\\n",
       "0                                         el Raval               1   \n",
       "1                                         el Raval               2   \n",
       "2                                         el Raval               3   \n",
       "3                                         el Raval               4   \n",
       "4                                         el Raval               5   \n",
       "...                                            ...             ...   \n",
       "1063                           la Verneda i la Pau             143   \n",
       "1064                                       el Clot             234   \n",
       "1065  Diagonal Mar i el Front Marítim del Poblenou             235   \n",
       "1066  Diagonal Mar i el Front Marítim del Poblenou             236   \n",
       "1067                       Provençals del Poblenou             237   \n",
       "\n",
       "      income_per_person  \n",
       "0                 11166  \n",
       "1                  9115  \n",
       "2                  9431  \n",
       "3                 10898  \n",
       "4                  9717  \n",
       "...                 ...  \n",
       "1063              12705  \n",
       "1064              16081  \n",
       "1065              14455  \n",
       "1066              14844  \n",
       "1067              13443  \n",
       "\n",
       "[1068 rows x 6 columns]"
      ]
     },
     "metadata": {},
     "output_type": "display_data"
    }
   ],
   "source": [
    "#trim and rename original columns\n",
    "df_indivincome = df_indivincome.drop(['Any'], axis=1) #delete 'Any' column, which does not provide any useful information\n",
    "\n",
    "df_indivincome = df_indivincome.set_axis(['district_code', 'district_name', 'neighborhood_code', 'neighborhood_name','census_section','income_per_person'], axis=1) #renaming all column names to English\n",
    "\n",
    "#display the DataFrame\n",
    "display(df_indivincome)"
   ]
  },
  {
   "cell_type": "markdown",
   "metadata": {},
   "source": [
    "We can see that our data contains six columns:\n",
    "- `district_code`: a 1-to-10 digit value for each of the 10 districts of Barcelona.\n",
    "- `district_name`: the name of the district itself.\n",
    "- `neighborhood_code`: a 1-to-71 value for each of the 71 neighborhoods of Barcelona, each forming part of a specitif district.\n",
    "- `neighborhood_name`: the name of the neighborhood itself.\n",
    "- `census_section`: a 1-to-n value representing each of the census sections, the smallest subdivisions of the city, with each district having a different number of them. Note that, unlike neighborhood_code, this variable is not unique for a given census section within the city, as all districts start their census sections from section 1.\n",
    "- `income_per_person`: a numeric value representing the average net income a person has for that particular district, neighborhood and census section.\n",
    "\n",
    "We just mentioned that the `census_section` column does not possess unique identifiers for each census section of the city. Oddly enough, other Barcelona datasets, like the one we'll load later, employ another coding system, which is actually better for our purposes. In this other system, each census area is uniquely represented by a number consisting of the district code plus the census area code, the latter always expressed as 3 digits. Thus, census section 1 of district 2 will appear as 2001, and census section 34 of district 10 will be 10034. In order to have unique identifiers for each census section in our current data set, and also to be able to merge our datasets early on, we'll replace the values in `census_section` to adopt the better codification. We'll do that by defining a function and then passing the function to our DataFrame."
   ]
  },
  {
   "cell_type": "code",
   "execution_count": 75,
   "metadata": {},
   "outputs": [
    {
     "data": {
      "text/html": [
       "<div>\n",
       "<style scoped>\n",
       "    .dataframe tbody tr th:only-of-type {\n",
       "        vertical-align: middle;\n",
       "    }\n",
       "\n",
       "    .dataframe tbody tr th {\n",
       "        vertical-align: top;\n",
       "    }\n",
       "\n",
       "    .dataframe thead th {\n",
       "        text-align: right;\n",
       "    }\n",
       "</style>\n",
       "<table border=\"1\" class=\"dataframe\">\n",
       "  <thead>\n",
       "    <tr style=\"text-align: right;\">\n",
       "      <th></th>\n",
       "      <th>district_code</th>\n",
       "      <th>district_name</th>\n",
       "      <th>neighborhood_code</th>\n",
       "      <th>neighborhood_name</th>\n",
       "      <th>census_section</th>\n",
       "      <th>income_per_person</th>\n",
       "    </tr>\n",
       "  </thead>\n",
       "  <tbody>\n",
       "    <tr>\n",
       "      <th>0</th>\n",
       "      <td>1</td>\n",
       "      <td>Ciutat Vella</td>\n",
       "      <td>1</td>\n",
       "      <td>el Raval</td>\n",
       "      <td>1001</td>\n",
       "      <td>11166</td>\n",
       "    </tr>\n",
       "    <tr>\n",
       "      <th>1</th>\n",
       "      <td>1</td>\n",
       "      <td>Ciutat Vella</td>\n",
       "      <td>1</td>\n",
       "      <td>el Raval</td>\n",
       "      <td>1002</td>\n",
       "      <td>9115</td>\n",
       "    </tr>\n",
       "    <tr>\n",
       "      <th>2</th>\n",
       "      <td>1</td>\n",
       "      <td>Ciutat Vella</td>\n",
       "      <td>1</td>\n",
       "      <td>el Raval</td>\n",
       "      <td>1003</td>\n",
       "      <td>9431</td>\n",
       "    </tr>\n",
       "    <tr>\n",
       "      <th>3</th>\n",
       "      <td>1</td>\n",
       "      <td>Ciutat Vella</td>\n",
       "      <td>1</td>\n",
       "      <td>el Raval</td>\n",
       "      <td>1004</td>\n",
       "      <td>10898</td>\n",
       "    </tr>\n",
       "    <tr>\n",
       "      <th>4</th>\n",
       "      <td>1</td>\n",
       "      <td>Ciutat Vella</td>\n",
       "      <td>1</td>\n",
       "      <td>el Raval</td>\n",
       "      <td>1005</td>\n",
       "      <td>9717</td>\n",
       "    </tr>\n",
       "    <tr>\n",
       "      <th>...</th>\n",
       "      <td>...</td>\n",
       "      <td>...</td>\n",
       "      <td>...</td>\n",
       "      <td>...</td>\n",
       "      <td>...</td>\n",
       "      <td>...</td>\n",
       "    </tr>\n",
       "    <tr>\n",
       "      <th>1063</th>\n",
       "      <td>10</td>\n",
       "      <td>Sant Martí</td>\n",
       "      <td>73</td>\n",
       "      <td>la Verneda i la Pau</td>\n",
       "      <td>10143</td>\n",
       "      <td>12705</td>\n",
       "    </tr>\n",
       "    <tr>\n",
       "      <th>1064</th>\n",
       "      <td>10</td>\n",
       "      <td>Sant Martí</td>\n",
       "      <td>65</td>\n",
       "      <td>el Clot</td>\n",
       "      <td>10234</td>\n",
       "      <td>16081</td>\n",
       "    </tr>\n",
       "    <tr>\n",
       "      <th>1065</th>\n",
       "      <td>10</td>\n",
       "      <td>Sant Martí</td>\n",
       "      <td>69</td>\n",
       "      <td>Diagonal Mar i el Front Marítim del Poblenou</td>\n",
       "      <td>10235</td>\n",
       "      <td>14455</td>\n",
       "    </tr>\n",
       "    <tr>\n",
       "      <th>1066</th>\n",
       "      <td>10</td>\n",
       "      <td>Sant Martí</td>\n",
       "      <td>69</td>\n",
       "      <td>Diagonal Mar i el Front Marítim del Poblenou</td>\n",
       "      <td>10236</td>\n",
       "      <td>14844</td>\n",
       "    </tr>\n",
       "    <tr>\n",
       "      <th>1067</th>\n",
       "      <td>10</td>\n",
       "      <td>Sant Martí</td>\n",
       "      <td>71</td>\n",
       "      <td>Provençals del Poblenou</td>\n",
       "      <td>10237</td>\n",
       "      <td>13443</td>\n",
       "    </tr>\n",
       "  </tbody>\n",
       "</table>\n",
       "<p>1068 rows × 6 columns</p>\n",
       "</div>"
      ],
      "text/plain": [
       "      district_code district_name  neighborhood_code  \\\n",
       "0                 1  Ciutat Vella                  1   \n",
       "1                 1  Ciutat Vella                  1   \n",
       "2                 1  Ciutat Vella                  1   \n",
       "3                 1  Ciutat Vella                  1   \n",
       "4                 1  Ciutat Vella                  1   \n",
       "...             ...           ...                ...   \n",
       "1063             10    Sant Martí                 73   \n",
       "1064             10    Sant Martí                 65   \n",
       "1065             10    Sant Martí                 69   \n",
       "1066             10    Sant Martí                 69   \n",
       "1067             10    Sant Martí                 71   \n",
       "\n",
       "                                 neighborhood_name census_section  \\\n",
       "0                                         el Raval           1001   \n",
       "1                                         el Raval           1002   \n",
       "2                                         el Raval           1003   \n",
       "3                                         el Raval           1004   \n",
       "4                                         el Raval           1005   \n",
       "...                                            ...            ...   \n",
       "1063                           la Verneda i la Pau          10143   \n",
       "1064                                       el Clot          10234   \n",
       "1065  Diagonal Mar i el Front Marítim del Poblenou          10235   \n",
       "1066  Diagonal Mar i el Front Marítim del Poblenou          10236   \n",
       "1067                       Provençals del Poblenou          10237   \n",
       "\n",
       "      income_per_person  \n",
       "0                 11166  \n",
       "1                  9115  \n",
       "2                  9431  \n",
       "3                 10898  \n",
       "4                  9717  \n",
       "...                 ...  \n",
       "1063              12705  \n",
       "1064              16081  \n",
       "1065              14455  \n",
       "1066              14844  \n",
       "1067              13443  \n",
       "\n",
       "[1068 rows x 6 columns]"
      ]
     },
     "metadata": {},
     "output_type": "display_data"
    }
   ],
   "source": [
    "#create an extra column providing a unique identifier for each census section of the city.\n",
    "def create_census_section_column(row):\n",
    "    return str(row['district_code']) + str(row['census_section']).zfill(3) #this is created by appending a 3-digit census section to the district code\n",
    "\n",
    "df_indivincome['census_section'] = df_indivincome.apply(create_census_section_column, axis=1)\n",
    "\n",
    "#display the DataFrame\n",
    "display(df_indivincome)"
   ]
  },
  {
   "cell_type": "markdown",
   "metadata": {},
   "source": [
    "### 3.3. Visualizing income across districts\n",
    "Even if our objective is to relate income and household size, it's a good practice to start by visualizing each variable on its own. We'll first visualize, then, how income is distributed across our census sections. Since there are 1068 census areas in the city, we'll group them by district. With such abundant data points, it's helpful to also represent the general trend as a density. One of the most intuitive ways of doing so are violin plots.\n",
    "\n",
    "Below is the code to create the visualization with the help of the plotly library. Instead of the more sparse plotly express, I like to use plotly's graphical objects, which offer greater customization, even if at the expense of more lines of code. In this case, since I want the color of the data to depend on the district, I will have to define a for loop to assign the color and then append the violin to a list."
   ]
  },
  {
   "cell_type": "code",
   "execution_count": 76,
   "metadata": {},
   "outputs": [
    {
     "data": {
      "application/vnd.plotly.v1+json": {
       "config": {
        "plotlyServerURL": "https://plot.ly"
       },
       "data": [
        {
         "box": {
          "visible": false
         },
         "customdata": [
          [
           "Ciutat Vella",
           "el Raval",
           "1001",
           11166
          ],
          [
           "Ciutat Vella",
           "el Raval",
           "1002",
           9115
          ],
          [
           "Ciutat Vella",
           "el Raval",
           "1003",
           9431
          ],
          [
           "Ciutat Vella",
           "el Raval",
           "1004",
           10898
          ],
          [
           "Ciutat Vella",
           "el Raval",
           "1005",
           9717
          ],
          [
           "Ciutat Vella",
           "el Raval",
           "1006",
           10214
          ],
          [
           "Ciutat Vella",
           "el Raval",
           "1007",
           9880
          ],
          [
           "Ciutat Vella",
           "el Raval",
           "1008",
           7755
          ],
          [
           "Ciutat Vella",
           "el Raval",
           "1009",
           10011
          ],
          [
           "Ciutat Vella",
           "el Raval",
           "1010",
           8936
          ],
          [
           "Ciutat Vella",
           "el Raval",
           "1011",
           8137
          ],
          [
           "Ciutat Vella",
           "el Raval",
           "1012",
           10578
          ],
          [
           "Ciutat Vella",
           "el Raval",
           "1013",
           10757
          ],
          [
           "Ciutat Vella",
           "el Raval",
           "1014",
           10052
          ],
          [
           "Ciutat Vella",
           "el Raval",
           "1015",
           10444
          ],
          [
           "Ciutat Vella",
           "el Raval",
           "1016",
           9623
          ],
          [
           "Ciutat Vella",
           "el Raval",
           "1017",
           9048
          ],
          [
           "Ciutat Vella",
           "el Raval",
           "1018",
           9854
          ],
          [
           "Ciutat Vella",
           "el Raval",
           "1019",
           9665
          ],
          [
           "Ciutat Vella",
           "el Raval",
           "1020",
           14725
          ],
          [
           "Ciutat Vella",
           "el Raval",
           "1021",
           14304
          ],
          [
           "Ciutat Vella",
           "el Barri Gòtic",
           "1022",
           15141
          ],
          [
           "Ciutat Vella",
           "el Barri Gòtic",
           "1023",
           15038
          ],
          [
           "Ciutat Vella",
           "el Barri Gòtic",
           "1025",
           14081
          ],
          [
           "Ciutat Vella",
           "el Barri Gòtic",
           "1026",
           14859
          ],
          [
           "Ciutat Vella",
           "el Barri Gòtic",
           "1027",
           13379
          ],
          [
           "Ciutat Vella",
           "el Barri Gòtic",
           "1028",
           12429
          ],
          [
           "Ciutat Vella",
           "el Barri Gòtic",
           "1029",
           11413
          ],
          [
           "Ciutat Vella",
           "el Barri Gòtic",
           "1030",
           11300
          ],
          [
           "Ciutat Vella",
           "el Barri Gòtic",
           "1031",
           11604
          ],
          [
           "Ciutat Vella",
           "la Barceloneta",
           "1032",
           15133
          ],
          [
           "Ciutat Vella",
           "la Barceloneta",
           "1033",
           12890
          ],
          [
           "Ciutat Vella",
           "la Barceloneta",
           "1034",
           13175
          ],
          [
           "Ciutat Vella",
           "la Barceloneta",
           "1035",
           12947
          ],
          [
           "Ciutat Vella",
           "la Barceloneta",
           "1036",
           13476
          ],
          [
           "Ciutat Vella",
           "la Barceloneta",
           "1037",
           13402
          ],
          [
           "Ciutat Vella",
           "la Barceloneta",
           "1038",
           12033
          ],
          [
           "Ciutat Vella",
           "la Barceloneta",
           "1039",
           13289
          ],
          [
           "Ciutat Vella",
           "la Barceloneta",
           "1040",
           13332
          ],
          [
           "Ciutat Vella",
           "la Barceloneta",
           "1041",
           11903
          ],
          [
           "Ciutat Vella",
           "la Barceloneta",
           "1042",
           13567
          ],
          [
           "Ciutat Vella",
           "Sant Pere, Santa Caterina i la Ribera",
           "1043",
           17964
          ],
          [
           "Ciutat Vella",
           "Sant Pere, Santa Caterina i la Ribera",
           "1044",
           16272
          ],
          [
           "Ciutat Vella",
           "Sant Pere, Santa Caterina i la Ribera",
           "1045",
           14198
          ],
          [
           "Ciutat Vella",
           "Sant Pere, Santa Caterina i la Ribera",
           "1046",
           12601
          ],
          [
           "Ciutat Vella",
           "Sant Pere, Santa Caterina i la Ribera",
           "1047",
           13294
          ],
          [
           "Ciutat Vella",
           "Sant Pere, Santa Caterina i la Ribera",
           "1048",
           10784
          ],
          [
           "Ciutat Vella",
           "Sant Pere, Santa Caterina i la Ribera",
           "1049",
           13097
          ],
          [
           "Ciutat Vella",
           "Sant Pere, Santa Caterina i la Ribera",
           "1050",
           13589
          ],
          [
           "Ciutat Vella",
           "Sant Pere, Santa Caterina i la Ribera",
           "1051",
           11908
          ],
          [
           "Ciutat Vella",
           "Sant Pere, Santa Caterina i la Ribera",
           "1052",
           17727
          ],
          [
           "Ciutat Vella",
           "Sant Pere, Santa Caterina i la Ribera",
           "1053",
           12487
          ],
          [
           "Ciutat Vella",
           "Sant Pere, Santa Caterina i la Ribera",
           "1054",
           13563
          ],
          [
           "Ciutat Vella",
           "Sant Pere, Santa Caterina i la Ribera",
           "1055",
           17342
          ]
         ],
         "fillcolor": "#7ADFA7",
         "hoveron": "points",
         "hovertemplate": "<br><b>District: %{customdata[0]}</b></br><b>Neighborhood: %{customdata[1]}</b><br><b>Census section: %{customdata[2]}</b></br><b>Income: %{customdata[3]}</b><extra></extra>",
         "jitter": 1,
         "line": {
          "color": "#04BB85"
         },
         "marker": {
          "color": "#04BB85",
          "line": {
           "color": "#7ADFA7",
           "width": 1
          },
          "size": 8
         },
         "name": "Ciutat Vella",
         "pointpos": 0,
         "points": "all",
         "showlegend": false,
         "type": "violin",
         "y": [
          11166,
          9115,
          9431,
          10898,
          9717,
          10214,
          9880,
          7755,
          10011,
          8936,
          8137,
          10578,
          10757,
          10052,
          10444,
          9623,
          9048,
          9854,
          9665,
          14725,
          14304,
          15141,
          15038,
          14081,
          14859,
          13379,
          12429,
          11413,
          11300,
          11604,
          15133,
          12890,
          13175,
          12947,
          13476,
          13402,
          12033,
          13289,
          13332,
          11903,
          13567,
          17964,
          16272,
          14198,
          12601,
          13294,
          10784,
          13097,
          13589,
          11908,
          17727,
          12487,
          13563,
          17342
         ]
        },
        {
         "box": {
          "visible": false
         },
         "customdata": [
          [
           "L'Eixample",
           "el Fort Pienc",
           "2001",
           17360
          ],
          [
           "L'Eixample",
           "el Fort Pienc",
           "2002",
           18298
          ],
          [
           "L'Eixample",
           "el Fort Pienc",
           "2003",
           20487
          ],
          [
           "L'Eixample",
           "el Fort Pienc",
           "2004",
           14770
          ],
          [
           "L'Eixample",
           "el Fort Pienc",
           "2005",
           19933
          ],
          [
           "L'Eixample",
           "el Fort Pienc",
           "2006",
           20119
          ],
          [
           "L'Eixample",
           "el Fort Pienc",
           "2007",
           20950
          ],
          [
           "L'Eixample",
           "el Fort Pienc",
           "2008",
           19176
          ],
          [
           "L'Eixample",
           "el Fort Pienc",
           "2009",
           18832
          ],
          [
           "L'Eixample",
           "el Fort Pienc",
           "2010",
           17709
          ],
          [
           "L'Eixample",
           "el Fort Pienc",
           "2011",
           18661
          ],
          [
           "L'Eixample",
           "el Fort Pienc",
           "2012",
           15460
          ],
          [
           "L'Eixample",
           "el Fort Pienc",
           "2013",
           16269
          ],
          [
           "L'Eixample",
           "el Fort Pienc",
           "2014",
           14867
          ],
          [
           "L'Eixample",
           "el Fort Pienc",
           "2015",
           15300
          ],
          [
           "L'Eixample",
           "el Fort Pienc",
           "2016",
           19727
          ],
          [
           "L'Eixample",
           "el Fort Pienc",
           "2017",
           19271
          ],
          [
           "L'Eixample",
           "el Fort Pienc",
           "2018",
           19442
          ],
          [
           "L'Eixample",
           "el Fort Pienc",
           "2019",
           18071
          ],
          [
           "L'Eixample",
           "el Fort Pienc",
           "2020",
           16179
          ],
          [
           "L'Eixample",
           "la Sagrada Família",
           "2021",
           17317
          ],
          [
           "L'Eixample",
           "la Sagrada Família",
           "2022",
           17604
          ],
          [
           "L'Eixample",
           "la Sagrada Família",
           "2023",
           18726
          ],
          [
           "L'Eixample",
           "la Sagrada Família",
           "2024",
           16799
          ],
          [
           "L'Eixample",
           "la Sagrada Família",
           "2025",
           17109
          ],
          [
           "L'Eixample",
           "la Sagrada Família",
           "2026",
           18083
          ],
          [
           "L'Eixample",
           "la Sagrada Família",
           "2027",
           17722
          ],
          [
           "L'Eixample",
           "la Sagrada Família",
           "2028",
           17634
          ],
          [
           "L'Eixample",
           "la Sagrada Família",
           "2029",
           18484
          ],
          [
           "L'Eixample",
           "la Sagrada Família",
           "2030",
           14734
          ],
          [
           "L'Eixample",
           "la Sagrada Família",
           "2031",
           18904
          ],
          [
           "L'Eixample",
           "la Sagrada Família",
           "2032",
           18104
          ],
          [
           "L'Eixample",
           "la Sagrada Família",
           "2033",
           17289
          ],
          [
           "L'Eixample",
           "la Sagrada Família",
           "2034",
           15736
          ],
          [
           "L'Eixample",
           "la Sagrada Família",
           "2035",
           18096
          ],
          [
           "L'Eixample",
           "la Sagrada Família",
           "2036",
           19667
          ],
          [
           "L'Eixample",
           "la Sagrada Família",
           "2037",
           19484
          ],
          [
           "L'Eixample",
           "la Sagrada Família",
           "2038",
           19996
          ],
          [
           "L'Eixample",
           "la Sagrada Família",
           "2039",
           17259
          ],
          [
           "L'Eixample",
           "la Sagrada Família",
           "2040",
           15952
          ],
          [
           "L'Eixample",
           "la Sagrada Família",
           "2041",
           17755
          ],
          [
           "L'Eixample",
           "la Sagrada Família",
           "2042",
           20134
          ],
          [
           "L'Eixample",
           "la Sagrada Família",
           "2043",
           18660
          ],
          [
           "L'Eixample",
           "la Sagrada Família",
           "2044",
           15721
          ],
          [
           "L'Eixample",
           "la Sagrada Família",
           "2045",
           18535
          ],
          [
           "L'Eixample",
           "la Sagrada Família",
           "2046",
           16440
          ],
          [
           "L'Eixample",
           "la Sagrada Família",
           "2047",
           17138
          ],
          [
           "L'Eixample",
           "la Sagrada Família",
           "2048",
           16423
          ],
          [
           "L'Eixample",
           "la Sagrada Família",
           "2049",
           16513
          ],
          [
           "L'Eixample",
           "la Sagrada Família",
           "2050",
           17613
          ],
          [
           "L'Eixample",
           "la Sagrada Família",
           "2051",
           15763
          ],
          [
           "L'Eixample",
           "la Sagrada Família",
           "2052",
           18709
          ],
          [
           "L'Eixample",
           "la Sagrada Família",
           "2053",
           19165
          ],
          [
           "L'Eixample",
           "la Sagrada Família",
           "2054",
           18069
          ],
          [
           "L'Eixample",
           "la Dreta de l'Eixample",
           "2055",
           18909
          ],
          [
           "L'Eixample",
           "la Dreta de l'Eixample",
           "2056",
           19330
          ],
          [
           "L'Eixample",
           "la Dreta de l'Eixample",
           "2057",
           21523
          ],
          [
           "L'Eixample",
           "la Dreta de l'Eixample",
           "2058",
           21830
          ],
          [
           "L'Eixample",
           "la Dreta de l'Eixample",
           "2059",
           20727
          ],
          [
           "L'Eixample",
           "la Dreta de l'Eixample",
           "2060",
           20529
          ],
          [
           "L'Eixample",
           "la Dreta de l'Eixample",
           "2061",
           19310
          ],
          [
           "L'Eixample",
           "la Dreta de l'Eixample",
           "2062",
           22087
          ],
          [
           "L'Eixample",
           "la Dreta de l'Eixample",
           "2063",
           26639
          ],
          [
           "L'Eixample",
           "la Dreta de l'Eixample",
           "2064",
           24745
          ],
          [
           "L'Eixample",
           "la Dreta de l'Eixample",
           "2065",
           20403
          ],
          [
           "L'Eixample",
           "la Dreta de l'Eixample",
           "2066",
           19980
          ],
          [
           "L'Eixample",
           "la Dreta de l'Eixample",
           "2067",
           17865
          ],
          [
           "L'Eixample",
           "la Dreta de l'Eixample",
           "2068",
           18113
          ],
          [
           "L'Eixample",
           "la Dreta de l'Eixample",
           "2069",
           21546
          ],
          [
           "L'Eixample",
           "la Dreta de l'Eixample",
           "2070",
           23478
          ],
          [
           "L'Eixample",
           "la Dreta de l'Eixample",
           "2071",
           23431
          ],
          [
           "L'Eixample",
           "la Dreta de l'Eixample",
           "2072",
           25710
          ],
          [
           "L'Eixample",
           "la Dreta de l'Eixample",
           "2073",
           22981
          ],
          [
           "L'Eixample",
           "la Dreta de l'Eixample",
           "2074",
           22346
          ],
          [
           "L'Eixample",
           "la Dreta de l'Eixample",
           "2075",
           21690
          ],
          [
           "L'Eixample",
           "la Dreta de l'Eixample",
           "2076",
           23065
          ],
          [
           "L'Eixample",
           "la Dreta de l'Eixample",
           "2077",
           20255
          ],
          [
           "L'Eixample",
           "la Dreta de l'Eixample",
           "2078",
           22793
          ],
          [
           "L'Eixample",
           "la Dreta de l'Eixample",
           "2079",
           25585
          ],
          [
           "L'Eixample",
           "la Dreta de l'Eixample",
           "2080",
           23579
          ],
          [
           "L'Eixample",
           "la Dreta de l'Eixample",
           "2081",
           23739
          ],
          [
           "L'Eixample",
           "la Dreta de l'Eixample",
           "2082",
           23306
          ],
          [
           "L'Eixample",
           "la Dreta de l'Eixample",
           "2083",
           24587
          ],
          [
           "L'Eixample",
           "l'Antiga Esquerra de l'Eixample",
           "2084",
           21309
          ],
          [
           "L'Eixample",
           "l'Antiga Esquerra de l'Eixample",
           "2085",
           22742
          ],
          [
           "L'Eixample",
           "l'Antiga Esquerra de l'Eixample",
           "2086",
           23534
          ],
          [
           "L'Eixample",
           "l'Antiga Esquerra de l'Eixample",
           "2087",
           21878
          ],
          [
           "L'Eixample",
           "l'Antiga Esquerra de l'Eixample",
           "2088",
           23664
          ],
          [
           "L'Eixample",
           "l'Antiga Esquerra de l'Eixample",
           "2089",
           22208
          ],
          [
           "L'Eixample",
           "l'Antiga Esquerra de l'Eixample",
           "2090",
           18827
          ],
          [
           "L'Eixample",
           "l'Antiga Esquerra de l'Eixample",
           "2091",
           20757
          ],
          [
           "L'Eixample",
           "l'Antiga Esquerra de l'Eixample",
           "2092",
           18926
          ],
          [
           "L'Eixample",
           "l'Antiga Esquerra de l'Eixample",
           "2093",
           20906
          ],
          [
           "L'Eixample",
           "l'Antiga Esquerra de l'Eixample",
           "2094",
           20610
          ],
          [
           "L'Eixample",
           "l'Antiga Esquerra de l'Eixample",
           "2095",
           19778
          ],
          [
           "L'Eixample",
           "l'Antiga Esquerra de l'Eixample",
           "2096",
           19220
          ],
          [
           "L'Eixample",
           "l'Antiga Esquerra de l'Eixample",
           "2097",
           18395
          ],
          [
           "L'Eixample",
           "l'Antiga Esquerra de l'Eixample",
           "2098",
           19540
          ],
          [
           "L'Eixample",
           "l'Antiga Esquerra de l'Eixample",
           "2099",
           21069
          ],
          [
           "L'Eixample",
           "l'Antiga Esquerra de l'Eixample",
           "2100",
           20966
          ],
          [
           "L'Eixample",
           "l'Antiga Esquerra de l'Eixample",
           "2101",
           19595
          ],
          [
           "L'Eixample",
           "l'Antiga Esquerra de l'Eixample",
           "2102",
           22918
          ],
          [
           "L'Eixample",
           "l'Antiga Esquerra de l'Eixample",
           "2103",
           18186
          ],
          [
           "L'Eixample",
           "l'Antiga Esquerra de l'Eixample",
           "2104",
           21982
          ],
          [
           "L'Eixample",
           "l'Antiga Esquerra de l'Eixample",
           "2105",
           18362
          ],
          [
           "L'Eixample",
           "l'Antiga Esquerra de l'Eixample",
           "2106",
           22833
          ],
          [
           "L'Eixample",
           "l'Antiga Esquerra de l'Eixample",
           "2107",
           22415
          ],
          [
           "L'Eixample",
           "l'Antiga Esquerra de l'Eixample",
           "2108",
           23588
          ],
          [
           "L'Eixample",
           "l'Antiga Esquerra de l'Eixample",
           "2109",
           25041
          ],
          [
           "L'Eixample",
           "la Nova Esquerra de l'Eixample",
           "2110",
           19807
          ],
          [
           "L'Eixample",
           "la Nova Esquerra de l'Eixample",
           "2111",
           20187
          ],
          [
           "L'Eixample",
           "la Nova Esquerra de l'Eixample",
           "2112",
           25168
          ],
          [
           "L'Eixample",
           "la Nova Esquerra de l'Eixample",
           "2113",
           22820
          ],
          [
           "L'Eixample",
           "la Nova Esquerra de l'Eixample",
           "2114",
           19902
          ],
          [
           "L'Eixample",
           "la Nova Esquerra de l'Eixample",
           "2115",
           19295
          ],
          [
           "L'Eixample",
           "la Nova Esquerra de l'Eixample",
           "2116",
           23599
          ],
          [
           "L'Eixample",
           "la Nova Esquerra de l'Eixample",
           "2117",
           19934
          ],
          [
           "L'Eixample",
           "la Nova Esquerra de l'Eixample",
           "2118",
           22115
          ],
          [
           "L'Eixample",
           "la Nova Esquerra de l'Eixample",
           "2119",
           21194
          ],
          [
           "L'Eixample",
           "la Nova Esquerra de l'Eixample",
           "2120",
           20539
          ],
          [
           "L'Eixample",
           "la Nova Esquerra de l'Eixample",
           "2121",
           21153
          ],
          [
           "L'Eixample",
           "la Nova Esquerra de l'Eixample",
           "2122",
           22307
          ],
          [
           "L'Eixample",
           "la Nova Esquerra de l'Eixample",
           "2123",
           20294
          ],
          [
           "L'Eixample",
           "la Nova Esquerra de l'Eixample",
           "2124",
           21550
          ],
          [
           "L'Eixample",
           "la Nova Esquerra de l'Eixample",
           "2125",
           19386
          ],
          [
           "L'Eixample",
           "la Nova Esquerra de l'Eixample",
           "2126",
           20203
          ],
          [
           "L'Eixample",
           "la Nova Esquerra de l'Eixample",
           "2127",
           19190
          ],
          [
           "L'Eixample",
           "la Nova Esquerra de l'Eixample",
           "2128",
           17733
          ],
          [
           "L'Eixample",
           "la Nova Esquerra de l'Eixample",
           "2129",
           19347
          ],
          [
           "L'Eixample",
           "la Nova Esquerra de l'Eixample",
           "2130",
           27558
          ],
          [
           "L'Eixample",
           "la Nova Esquerra de l'Eixample",
           "2131",
           19073
          ],
          [
           "L'Eixample",
           "la Nova Esquerra de l'Eixample",
           "2132",
           20403
          ],
          [
           "L'Eixample",
           "la Nova Esquerra de l'Eixample",
           "2133",
           21245
          ],
          [
           "L'Eixample",
           "la Nova Esquerra de l'Eixample",
           "2134",
           18761
          ],
          [
           "L'Eixample",
           "la Nova Esquerra de l'Eixample",
           "2135",
           17714
          ],
          [
           "L'Eixample",
           "la Nova Esquerra de l'Eixample",
           "2136",
           20442
          ],
          [
           "L'Eixample",
           "la Nova Esquerra de l'Eixample",
           "2137",
           17649
          ],
          [
           "L'Eixample",
           "la Nova Esquerra de l'Eixample",
           "2138",
           19523
          ],
          [
           "L'Eixample",
           "la Nova Esquerra de l'Eixample",
           "2139",
           18339
          ],
          [
           "L'Eixample",
           "la Nova Esquerra de l'Eixample",
           "2140",
           19163
          ],
          [
           "L'Eixample",
           "la Nova Esquerra de l'Eixample",
           "2141",
           17975
          ],
          [
           "L'Eixample",
           "la Nova Esquerra de l'Eixample",
           "2142",
           16885
          ],
          [
           "L'Eixample",
           "la Nova Esquerra de l'Eixample",
           "2143",
           18211
          ],
          [
           "L'Eixample",
           "la Nova Esquerra de l'Eixample",
           "2144",
           20931
          ],
          [
           "L'Eixample",
           "la Nova Esquerra de l'Eixample",
           "2145",
           17652
          ],
          [
           "L'Eixample",
           "la Nova Esquerra de l'Eixample",
           "2146",
           18025
          ],
          [
           "L'Eixample",
           "la Nova Esquerra de l'Eixample",
           "2147",
           17981
          ],
          [
           "L'Eixample",
           "la Nova Esquerra de l'Eixample",
           "2148",
           20238
          ],
          [
           "L'Eixample",
           "la Nova Esquerra de l'Eixample",
           "2149",
           17709
          ],
          [
           "L'Eixample",
           "Sant Antoni",
           "2150",
           16410
          ],
          [
           "L'Eixample",
           "Sant Antoni",
           "2151",
           18345
          ],
          [
           "L'Eixample",
           "Sant Antoni",
           "2152",
           19827
          ],
          [
           "L'Eixample",
           "Sant Antoni",
           "2153",
           19322
          ],
          [
           "L'Eixample",
           "Sant Antoni",
           "2154",
           15599
          ],
          [
           "L'Eixample",
           "Sant Antoni",
           "2155",
           16523
          ],
          [
           "L'Eixample",
           "Sant Antoni",
           "2156",
           18283
          ],
          [
           "L'Eixample",
           "Sant Antoni",
           "2157",
           17057
          ],
          [
           "L'Eixample",
           "Sant Antoni",
           "2158",
           17976
          ],
          [
           "L'Eixample",
           "Sant Antoni",
           "2159",
           17571
          ],
          [
           "L'Eixample",
           "Sant Antoni",
           "2160",
           19971
          ],
          [
           "L'Eixample",
           "Sant Antoni",
           "2161",
           17628
          ],
          [
           "L'Eixample",
           "Sant Antoni",
           "2162",
           16864
          ],
          [
           "L'Eixample",
           "Sant Antoni",
           "2163",
           19768
          ],
          [
           "L'Eixample",
           "Sant Antoni",
           "2164",
           18527
          ],
          [
           "L'Eixample",
           "Sant Antoni",
           "2165",
           18275
          ],
          [
           "L'Eixample",
           "Sant Antoni",
           "2166",
           17215
          ],
          [
           "L'Eixample",
           "Sant Antoni",
           "2167",
           17274
          ],
          [
           "L'Eixample",
           "Sant Antoni",
           "2168",
           17738
          ],
          [
           "L'Eixample",
           "Sant Antoni",
           "2169",
           17432
          ],
          [
           "L'Eixample",
           "Sant Antoni",
           "2170",
           17008
          ],
          [
           "L'Eixample",
           "Sant Antoni",
           "2171",
           15879
          ],
          [
           "L'Eixample",
           "Sant Antoni",
           "2172",
           16511
          ],
          [
           "L'Eixample",
           "Sant Antoni",
           "2173",
           17459
          ]
         ],
         "fillcolor": "#D5C2FF",
         "hoveron": "points",
         "hovertemplate": "<br><b>District: %{customdata[0]}</b></br><b>Neighborhood: %{customdata[1]}</b><br><b>Census section: %{customdata[2]}</b></br><b>Income: %{customdata[3]}</b><extra></extra>",
         "jitter": 1,
         "line": {
          "color": "#8F76D7"
         },
         "marker": {
          "color": "#8F76D7",
          "line": {
           "color": "#D5C2FF",
           "width": 1
          },
          "size": 8
         },
         "name": "L'Eixample",
         "pointpos": 0,
         "points": "all",
         "showlegend": false,
         "type": "violin",
         "y": [
          17360,
          18298,
          20487,
          14770,
          19933,
          20119,
          20950,
          19176,
          18832,
          17709,
          18661,
          15460,
          16269,
          14867,
          15300,
          19727,
          19271,
          19442,
          18071,
          16179,
          17317,
          17604,
          18726,
          16799,
          17109,
          18083,
          17722,
          17634,
          18484,
          14734,
          18904,
          18104,
          17289,
          15736,
          18096,
          19667,
          19484,
          19996,
          17259,
          15952,
          17755,
          20134,
          18660,
          15721,
          18535,
          16440,
          17138,
          16423,
          16513,
          17613,
          15763,
          18709,
          19165,
          18069,
          18909,
          19330,
          21523,
          21830,
          20727,
          20529,
          19310,
          22087,
          26639,
          24745,
          20403,
          19980,
          17865,
          18113,
          21546,
          23478,
          23431,
          25710,
          22981,
          22346,
          21690,
          23065,
          20255,
          22793,
          25585,
          23579,
          23739,
          23306,
          24587,
          21309,
          22742,
          23534,
          21878,
          23664,
          22208,
          18827,
          20757,
          18926,
          20906,
          20610,
          19778,
          19220,
          18395,
          19540,
          21069,
          20966,
          19595,
          22918,
          18186,
          21982,
          18362,
          22833,
          22415,
          23588,
          25041,
          19807,
          20187,
          25168,
          22820,
          19902,
          19295,
          23599,
          19934,
          22115,
          21194,
          20539,
          21153,
          22307,
          20294,
          21550,
          19386,
          20203,
          19190,
          17733,
          19347,
          27558,
          19073,
          20403,
          21245,
          18761,
          17714,
          20442,
          17649,
          19523,
          18339,
          19163,
          17975,
          16885,
          18211,
          20931,
          17652,
          18025,
          17981,
          20238,
          17709,
          16410,
          18345,
          19827,
          19322,
          15599,
          16523,
          18283,
          17057,
          17976,
          17571,
          19971,
          17628,
          16864,
          19768,
          18527,
          18275,
          17215,
          17274,
          17738,
          17432,
          17008,
          15879,
          16511,
          17459
         ]
        },
        {
         "box": {
          "visible": false
         },
         "customdata": [
          [
           "Sants-Montjuïc",
           "el Poble Sec",
           "3001",
           14247
          ],
          [
           "Sants-Montjuïc",
           "el Poble Sec",
           "3002",
           13238
          ],
          [
           "Sants-Montjuïc",
           "el Poble Sec",
           "3003",
           12578
          ],
          [
           "Sants-Montjuïc",
           "el Poble Sec",
           "3004",
           15018
          ],
          [
           "Sants-Montjuïc",
           "el Poble Sec",
           "3005",
           13965
          ],
          [
           "Sants-Montjuïc",
           "el Poble Sec",
           "3006",
           13622
          ],
          [
           "Sants-Montjuïc",
           "el Poble Sec",
           "3007",
           14036
          ],
          [
           "Sants-Montjuïc",
           "el Poble Sec",
           "3008",
           13008
          ],
          [
           "Sants-Montjuïc",
           "el Poble Sec",
           "3009",
           14594
          ],
          [
           "Sants-Montjuïc",
           "el Poble Sec",
           "3010",
           12625
          ],
          [
           "Sants-Montjuïc",
           "el Poble Sec",
           "3011",
           11481
          ],
          [
           "Sants-Montjuïc",
           "el Poble Sec",
           "3012",
           13185
          ],
          [
           "Sants-Montjuïc",
           "el Poble Sec",
           "3013",
           12518
          ],
          [
           "Sants-Montjuïc",
           "el Poble Sec",
           "3014",
           12020
          ],
          [
           "Sants-Montjuïc",
           "el Poble Sec",
           "3015",
           12854
          ],
          [
           "Sants-Montjuïc",
           "el Poble Sec",
           "3016",
           11779
          ],
          [
           "Sants-Montjuïc",
           "el Poble Sec",
           "3017",
           11728
          ],
          [
           "Sants-Montjuïc",
           "el Poble Sec",
           "3018",
           13871
          ],
          [
           "Sants-Montjuïc",
           "el Poble Sec",
           "3019",
           12919
          ],
          [
           "Sants-Montjuïc",
           "el Poble Sec",
           "3020",
           15696
          ],
          [
           "Sants-Montjuïc",
           "el Poble Sec",
           "3021",
           15268
          ],
          [
           "Sants-Montjuïc",
           "el Poble Sec",
           "3022",
           14977
          ],
          [
           "Sants-Montjuïc",
           "el Poble Sec",
           "3023",
           12823
          ],
          [
           "Sants-Montjuïc",
           "el Poble Sec",
           "3024",
           13386
          ],
          [
           "Sants-Montjuïc",
           "la Marina del Prat Vermell",
           "3025",
           11802
          ],
          [
           "Sants-Montjuïc",
           "la Marina de Port",
           "3026",
           13981
          ],
          [
           "Sants-Montjuïc",
           "la Marina de Port",
           "3027",
           15254
          ],
          [
           "Sants-Montjuïc",
           "la Marina de Port",
           "3028",
           16508
          ],
          [
           "Sants-Montjuïc",
           "la Marina de Port",
           "3029",
           13058
          ],
          [
           "Sants-Montjuïc",
           "la Marina de Port",
           "3030",
           14732
          ],
          [
           "Sants-Montjuïc",
           "la Marina de Port",
           "3031",
           13753
          ],
          [
           "Sants-Montjuïc",
           "la Marina de Port",
           "3032",
           12628
          ],
          [
           "Sants-Montjuïc",
           "la Marina de Port",
           "3033",
           10569
          ],
          [
           "Sants-Montjuïc",
           "la Marina de Port",
           "3034",
           13542
          ],
          [
           "Sants-Montjuïc",
           "la Marina de Port",
           "3035",
           15149
          ],
          [
           "Sants-Montjuïc",
           "la Marina de Port",
           "3036",
           16205
          ],
          [
           "Sants-Montjuïc",
           "la Marina de Port",
           "3037",
           16201
          ],
          [
           "Sants-Montjuïc",
           "la Marina de Port",
           "3038",
           10862
          ],
          [
           "Sants-Montjuïc",
           "la Marina de Port",
           "3039",
           10253
          ],
          [
           "Sants-Montjuïc",
           "la Font de la Guatlla",
           "3040",
           18097
          ],
          [
           "Sants-Montjuïc",
           "la Font de la Guatlla",
           "3041",
           15260
          ],
          [
           "Sants-Montjuïc",
           "la Font de la Guatlla",
           "3042",
           15009
          ],
          [
           "Sants-Montjuïc",
           "la Font de la Guatlla",
           "3043",
           16679
          ],
          [
           "Sants-Montjuïc",
           "la Font de la Guatlla",
           "3044",
           14226
          ],
          [
           "Sants-Montjuïc",
           "la Font de la Guatlla",
           "3045",
           16342
          ],
          [
           "Sants-Montjuïc",
           "la Font de la Guatlla",
           "3046",
           18791
          ],
          [
           "Sants-Montjuïc",
           "Hostafrancs",
           "3047",
           15222
          ],
          [
           "Sants-Montjuïc",
           "Hostafrancs",
           "3048",
           18503
          ],
          [
           "Sants-Montjuïc",
           "Hostafrancs",
           "3049",
           16166
          ],
          [
           "Sants-Montjuïc",
           "Hostafrancs",
           "3050",
           16854
          ],
          [
           "Sants-Montjuïc",
           "Hostafrancs",
           "3051",
           13296
          ],
          [
           "Sants-Montjuïc",
           "Hostafrancs",
           "3052",
           15113
          ],
          [
           "Sants-Montjuïc",
           "Hostafrancs",
           "3053",
           14259
          ],
          [
           "Sants-Montjuïc",
           "Hostafrancs",
           "3054",
           16441
          ],
          [
           "Sants-Montjuïc",
           "Hostafrancs",
           "3055",
           15814
          ],
          [
           "Sants-Montjuïc",
           "Hostafrancs",
           "3056",
           15558
          ],
          [
           "Sants-Montjuïc",
           "la Bordeta",
           "3057",
           15600
          ],
          [
           "Sants-Montjuïc",
           "la Bordeta",
           "3058",
           19114
          ],
          [
           "Sants-Montjuïc",
           "la Bordeta",
           "3059",
           14638
          ],
          [
           "Sants-Montjuïc",
           "la Bordeta",
           "3060",
           17070
          ],
          [
           "Sants-Montjuïc",
           "la Bordeta",
           "3061",
           15119
          ],
          [
           "Sants-Montjuïc",
           "la Bordeta",
           "3062",
           15918
          ],
          [
           "Sants-Montjuïc",
           "la Bordeta",
           "3063",
           15062
          ],
          [
           "Sants-Montjuïc",
           "la Bordeta",
           "3064",
           16876
          ],
          [
           "Sants-Montjuïc",
           "la Bordeta",
           "3065",
           16261
          ],
          [
           "Sants-Montjuïc",
           "la Bordeta",
           "3066",
           14794
          ],
          [
           "Sants-Montjuïc",
           "la Bordeta",
           "3067",
           16197
          ],
          [
           "Sants-Montjuïc",
           "la Bordeta",
           "3068",
           14292
          ],
          [
           "Sants-Montjuïc",
           "la Bordeta",
           "3069",
           17274
          ],
          [
           "Sants-Montjuïc",
           "Sants-Badal",
           "3070",
           13649
          ],
          [
           "Sants-Montjuïc",
           "Sants-Badal",
           "3071",
           13716
          ],
          [
           "Sants-Montjuïc",
           "Sants-Badal",
           "3072",
           14094
          ],
          [
           "Sants-Montjuïc",
           "Sants-Badal",
           "3073",
           16840
          ],
          [
           "Sants-Montjuïc",
           "Sants-Badal",
           "3074",
           16459
          ],
          [
           "Sants-Montjuïc",
           "Sants-Badal",
           "3075",
           14718
          ],
          [
           "Sants-Montjuïc",
           "Sants-Badal",
           "3076",
           14766
          ],
          [
           "Sants-Montjuïc",
           "Sants-Badal",
           "3077",
           14471
          ],
          [
           "Sants-Montjuïc",
           "Sants-Badal",
           "3078",
           14565
          ],
          [
           "Sants-Montjuïc",
           "Sants-Badal",
           "3079",
           13347
          ],
          [
           "Sants-Montjuïc",
           "Sants-Badal",
           "3080",
           15269
          ],
          [
           "Sants-Montjuïc",
           "Sants-Badal",
           "3081",
           15983
          ],
          [
           "Sants-Montjuïc",
           "Sants-Badal",
           "3082",
           17703
          ],
          [
           "Sants-Montjuïc",
           "Sants-Badal",
           "3083",
           17592
          ],
          [
           "Sants-Montjuïc",
           "Sants-Badal",
           "3084",
           17681
          ],
          [
           "Sants-Montjuïc",
           "Sants-Badal",
           "3085",
           17565
          ],
          [
           "Sants-Montjuïc",
           "Sants",
           "3086",
           20636
          ],
          [
           "Sants-Montjuïc",
           "Sants",
           "3087",
           18744
          ],
          [
           "Sants-Montjuïc",
           "Sants",
           "3088",
           15939
          ],
          [
           "Sants-Montjuïc",
           "Sants",
           "3089",
           18315
          ],
          [
           "Sants-Montjuïc",
           "Sants",
           "3090",
           20224
          ],
          [
           "Sants-Montjuïc",
           "Sants",
           "3091",
           17221
          ],
          [
           "Sants-Montjuïc",
           "Sants",
           "3092",
           17178
          ],
          [
           "Sants-Montjuïc",
           "Sants",
           "3093",
           17620
          ],
          [
           "Sants-Montjuïc",
           "Sants",
           "3094",
           18401
          ],
          [
           "Sants-Montjuïc",
           "Sants",
           "3095",
           16746
          ],
          [
           "Sants-Montjuïc",
           "Sants",
           "3096",
           15753
          ],
          [
           "Sants-Montjuïc",
           "Sants",
           "3097",
           12301
          ],
          [
           "Sants-Montjuïc",
           "Sants",
           "3098",
           13798
          ],
          [
           "Sants-Montjuïc",
           "Sants",
           "3099",
           16691
          ],
          [
           "Sants-Montjuïc",
           "Sants",
           "3100",
           15773
          ],
          [
           "Sants-Montjuïc",
           "Sants",
           "3101",
           16558
          ],
          [
           "Sants-Montjuïc",
           "Sants",
           "3102",
           15895
          ],
          [
           "Sants-Montjuïc",
           "Sants",
           "3103",
           16400
          ],
          [
           "Sants-Montjuïc",
           "Sants",
           "3104",
           15703
          ],
          [
           "Sants-Montjuïc",
           "Sants",
           "3105",
           15724
          ],
          [
           "Sants-Montjuïc",
           "Sants",
           "3106",
           16349
          ],
          [
           "Sants-Montjuïc",
           "Sants",
           "3107",
           16925
          ],
          [
           "Sants-Montjuïc",
           "Sants",
           "3108",
           16315
          ],
          [
           "Sants-Montjuïc",
           "Sants",
           "3109",
           17220
          ],
          [
           "Sants-Montjuïc",
           "Sants",
           "3110",
           17987
          ],
          [
           "Sants-Montjuïc",
           "Sants",
           "3111",
           18035
          ],
          [
           "Sants-Montjuïc",
           "Sants",
           "3112",
           19022
          ],
          [
           "Sants-Montjuïc",
           "Sants",
           "3113",
           21563
          ],
          [
           "Sants-Montjuïc",
           "Sants",
           "3114",
           20519
          ],
          [
           "Sants-Montjuïc",
           "la Marina de Port",
           "3211",
           14303
          ],
          [
           "Sants-Montjuïc",
           "la Marina de Port",
           "3212",
           13518
          ],
          [
           "Sants-Montjuïc",
           "la Marina de Port",
           "3213",
           11370
          ]
         ],
         "fillcolor": "#FFE07F",
         "hoveron": "points",
         "hovertemplate": "<br><b>District: %{customdata[0]}</b></br><b>Neighborhood: %{customdata[1]}</b><br><b>Census section: %{customdata[2]}</b></br><b>Income: %{customdata[3]}</b><extra></extra>",
         "jitter": 1,
         "line": {
          "color": "#FF9500"
         },
         "marker": {
          "color": "#FF9500",
          "line": {
           "color": "#FFE07F",
           "width": 1
          },
          "size": 8
         },
         "name": "Sants-Montjuïc",
         "pointpos": 0,
         "points": "all",
         "showlegend": false,
         "type": "violin",
         "y": [
          14247,
          13238,
          12578,
          15018,
          13965,
          13622,
          14036,
          13008,
          14594,
          12625,
          11481,
          13185,
          12518,
          12020,
          12854,
          11779,
          11728,
          13871,
          12919,
          15696,
          15268,
          14977,
          12823,
          13386,
          11802,
          13981,
          15254,
          16508,
          13058,
          14732,
          13753,
          12628,
          10569,
          13542,
          15149,
          16205,
          16201,
          10862,
          10253,
          18097,
          15260,
          15009,
          16679,
          14226,
          16342,
          18791,
          15222,
          18503,
          16166,
          16854,
          13296,
          15113,
          14259,
          16441,
          15814,
          15558,
          15600,
          19114,
          14638,
          17070,
          15119,
          15918,
          15062,
          16876,
          16261,
          14794,
          16197,
          14292,
          17274,
          13649,
          13716,
          14094,
          16840,
          16459,
          14718,
          14766,
          14471,
          14565,
          13347,
          15269,
          15983,
          17703,
          17592,
          17681,
          17565,
          20636,
          18744,
          15939,
          18315,
          20224,
          17221,
          17178,
          17620,
          18401,
          16746,
          15753,
          12301,
          13798,
          16691,
          15773,
          16558,
          15895,
          16400,
          15703,
          15724,
          16349,
          16925,
          16315,
          17220,
          17987,
          18035,
          19022,
          21563,
          20519,
          14303,
          13518,
          11370
         ]
        },
        {
         "box": {
          "visible": false
         },
         "customdata": [
          [
           "Les Corts",
           "les Corts",
           "4001",
           19560
          ],
          [
           "Les Corts",
           "les Corts",
           "4002",
           21553
          ],
          [
           "Les Corts",
           "les Corts",
           "4003",
           21399
          ],
          [
           "Les Corts",
           "les Corts",
           "4004",
           19655
          ],
          [
           "Les Corts",
           "les Corts",
           "4005",
           19197
          ],
          [
           "Les Corts",
           "les Corts",
           "4006",
           19820
          ],
          [
           "Les Corts",
           "les Corts",
           "4007",
           16869
          ],
          [
           "Les Corts",
           "les Corts",
           "4008",
           17678
          ],
          [
           "Les Corts",
           "les Corts",
           "4009",
           19377
          ],
          [
           "Les Corts",
           "les Corts",
           "4010",
           21245
          ],
          [
           "Les Corts",
           "les Corts",
           "4011",
           23153
          ],
          [
           "Les Corts",
           "les Corts",
           "4012",
           21353
          ],
          [
           "Les Corts",
           "les Corts",
           "4013",
           22913
          ],
          [
           "Les Corts",
           "les Corts",
           "4014",
           24480
          ],
          [
           "Les Corts",
           "les Corts",
           "4015",
           21460
          ],
          [
           "Les Corts",
           "les Corts",
           "4016",
           23031
          ],
          [
           "Les Corts",
           "les Corts",
           "4017",
           21899
          ],
          [
           "Les Corts",
           "les Corts",
           "4018",
           23356
          ],
          [
           "Les Corts",
           "les Corts",
           "4019",
           27099
          ],
          [
           "Les Corts",
           "les Corts",
           "4020",
           22922
          ],
          [
           "Les Corts",
           "les Corts",
           "4021",
           25576
          ],
          [
           "Les Corts",
           "les Corts",
           "4022",
           21986
          ],
          [
           "Les Corts",
           "les Corts",
           "4023",
           32039
          ],
          [
           "Les Corts",
           "les Corts",
           "4024",
           30055
          ],
          [
           "Les Corts",
           "les Corts",
           "4025",
           20994
          ],
          [
           "Les Corts",
           "les Corts",
           "4026",
           22198
          ],
          [
           "Les Corts",
           "les Corts",
           "4027",
           23982
          ],
          [
           "Les Corts",
           "les Corts",
           "4028",
           21620
          ],
          [
           "Les Corts",
           "les Corts",
           "4029",
           24135
          ],
          [
           "Les Corts",
           "les Corts",
           "4030",
           22883
          ],
          [
           "Les Corts",
           "les Corts",
           "4031",
           19907
          ],
          [
           "Les Corts",
           "les Corts",
           "4032",
           18983
          ],
          [
           "Les Corts",
           "les Corts",
           "4033",
           19120
          ],
          [
           "Les Corts",
           "les Corts",
           "4034",
           23629
          ],
          [
           "Les Corts",
           "les Corts",
           "4035",
           22479
          ],
          [
           "Les Corts",
           "la Maternitat i Sant Ramon",
           "4036",
           18061
          ],
          [
           "Les Corts",
           "la Maternitat i Sant Ramon",
           "4037",
           19682
          ],
          [
           "Les Corts",
           "la Maternitat i Sant Ramon",
           "4038",
           19857
          ],
          [
           "Les Corts",
           "la Maternitat i Sant Ramon",
           "4039",
           18164
          ],
          [
           "Les Corts",
           "la Maternitat i Sant Ramon",
           "4040",
           14924
          ],
          [
           "Les Corts",
           "la Maternitat i Sant Ramon",
           "4041",
           16471
          ],
          [
           "Les Corts",
           "la Maternitat i Sant Ramon",
           "4042",
           15808
          ],
          [
           "Les Corts",
           "la Maternitat i Sant Ramon",
           "4043",
           22614
          ],
          [
           "Les Corts",
           "la Maternitat i Sant Ramon",
           "4044",
           17519
          ],
          [
           "Les Corts",
           "la Maternitat i Sant Ramon",
           "4045",
           17251
          ],
          [
           "Les Corts",
           "la Maternitat i Sant Ramon",
           "4046",
           25831
          ],
          [
           "Les Corts",
           "la Maternitat i Sant Ramon",
           "4047",
           20835
          ],
          [
           "Les Corts",
           "la Maternitat i Sant Ramon",
           "4048",
           22687
          ],
          [
           "Les Corts",
           "la Maternitat i Sant Ramon",
           "4049",
           27584
          ],
          [
           "Les Corts",
           "Pedralbes",
           "4050",
           32039
          ],
          [
           "Les Corts",
           "Pedralbes",
           "4051",
           23882
          ],
          [
           "Les Corts",
           "Pedralbes",
           "4052",
           32039
          ],
          [
           "Les Corts",
           "Pedralbes",
           "4053",
           20738
          ],
          [
           "Les Corts",
           "Pedralbes",
           "4054",
           29408
          ],
          [
           "Les Corts",
           "Pedralbes",
           "4055",
           32039
          ],
          [
           "Les Corts",
           "Pedralbes",
           "4056",
           28091
          ],
          [
           "Les Corts",
           "la Maternitat i Sant Ramon",
           "4084",
           23741
          ]
         ],
         "fillcolor": "#49B3FF",
         "hoveron": "points",
         "hovertemplate": "<br><b>District: %{customdata[0]}</b></br><b>Neighborhood: %{customdata[1]}</b><br><b>Census section: %{customdata[2]}</b></br><b>Income: %{customdata[3]}</b><extra></extra>",
         "jitter": 1,
         "line": {
          "color": "#019BBF"
         },
         "marker": {
          "color": "#019BBF",
          "line": {
           "color": "#49B3FF",
           "width": 1
          },
          "size": 8
         },
         "name": "Les Corts",
         "pointpos": 0,
         "points": "all",
         "showlegend": false,
         "type": "violin",
         "y": [
          19560,
          21553,
          21399,
          19655,
          19197,
          19820,
          16869,
          17678,
          19377,
          21245,
          23153,
          21353,
          22913,
          24480,
          21460,
          23031,
          21899,
          23356,
          27099,
          22922,
          25576,
          21986,
          32039,
          30055,
          20994,
          22198,
          23982,
          21620,
          24135,
          22883,
          19907,
          18983,
          19120,
          23629,
          22479,
          18061,
          19682,
          19857,
          18164,
          14924,
          16471,
          15808,
          22614,
          17519,
          17251,
          25831,
          20835,
          22687,
          27584,
          32039,
          23882,
          32039,
          20738,
          29408,
          32039,
          28091,
          23741
         ]
        },
        {
         "box": {
          "visible": false
         },
         "customdata": [
          [
           "Sarrià-Sant Gervasi",
           "Vallvidrera, el Tibidabo i les Planes",
           "5001",
           15609
          ],
          [
           "Sarrià-Sant Gervasi",
           "Vallvidrera, el Tibidabo i les Planes",
           "5002",
           24298
          ],
          [
           "Sarrià-Sant Gervasi",
           "Vallvidrera, el Tibidabo i les Planes",
           "5003",
           25067
          ],
          [
           "Sarrià-Sant Gervasi",
           "Sarrià",
           "5004",
           29020
          ],
          [
           "Sarrià-Sant Gervasi",
           "Sarrià",
           "5005",
           28881
          ],
          [
           "Sarrià-Sant Gervasi",
           "Sarrià",
           "5006",
           32039
          ],
          [
           "Sarrià-Sant Gervasi",
           "Sarrià",
           "5007",
           26450
          ],
          [
           "Sarrià-Sant Gervasi",
           "Sarrià",
           "5008",
           28510
          ],
          [
           "Sarrià-Sant Gervasi",
           "Sarrià",
           "5009",
           24433
          ],
          [
           "Sarrià-Sant Gervasi",
           "Sarrià",
           "5010",
           22590
          ],
          [
           "Sarrià-Sant Gervasi",
           "Sarrià",
           "5011",
           26954
          ],
          [
           "Sarrià-Sant Gervasi",
           "Sarrià",
           "5012",
           22557
          ],
          [
           "Sarrià-Sant Gervasi",
           "Sarrià",
           "5013",
           24361
          ],
          [
           "Sarrià-Sant Gervasi",
           "Sarrià",
           "5014",
           26875
          ],
          [
           "Sarrià-Sant Gervasi",
           "Sarrià",
           "5015",
           24606
          ],
          [
           "Sarrià-Sant Gervasi",
           "Sarrià",
           "5016",
           20831
          ],
          [
           "Sarrià-Sant Gervasi",
           "Sarrià",
           "5017",
           32039
          ],
          [
           "Sarrià-Sant Gervasi",
           "Sarrià",
           "5018",
           24121
          ],
          [
           "Sarrià-Sant Gervasi",
           "Sarrià",
           "5019",
           28882
          ],
          [
           "Sarrià-Sant Gervasi",
           "les Tres Torres",
           "5020",
           28365
          ],
          [
           "Sarrià-Sant Gervasi",
           "les Tres Torres",
           "5021",
           32039
          ],
          [
           "Sarrià-Sant Gervasi",
           "les Tres Torres",
           "5022",
           31459
          ],
          [
           "Sarrià-Sant Gervasi",
           "les Tres Torres",
           "5023",
           21564
          ],
          [
           "Sarrià-Sant Gervasi",
           "les Tres Torres",
           "5024",
           30766
          ],
          [
           "Sarrià-Sant Gervasi",
           "les Tres Torres",
           "5025",
           32039
          ],
          [
           "Sarrià-Sant Gervasi",
           "les Tres Torres",
           "5026",
           32039
          ],
          [
           "Sarrià-Sant Gervasi",
           "les Tres Torres",
           "5027",
           32039
          ],
          [
           "Sarrià-Sant Gervasi",
           "les Tres Torres",
           "5028",
           28626
          ],
          [
           "Sarrià-Sant Gervasi",
           "les Tres Torres",
           "5029",
           31998
          ],
          [
           "Sarrià-Sant Gervasi",
           "les Tres Torres",
           "5030",
           32039
          ],
          [
           "Sarrià-Sant Gervasi",
           "Sant Gervasi- la Bonanova",
           "5031",
           32039
          ],
          [
           "Sarrià-Sant Gervasi",
           "Sant Gervasi- la Bonanova",
           "5032",
           32039
          ],
          [
           "Sarrià-Sant Gervasi",
           "Sant Gervasi- la Bonanova",
           "5033",
           28111
          ],
          [
           "Sarrià-Sant Gervasi",
           "Sant Gervasi- la Bonanova",
           "5034",
           11363
          ],
          [
           "Sarrià-Sant Gervasi",
           "Sant Gervasi- la Bonanova",
           "5035",
           32039
          ],
          [
           "Sarrià-Sant Gervasi",
           "Sant Gervasi- la Bonanova",
           "5036",
           29621
          ],
          [
           "Sarrià-Sant Gervasi",
           "Sant Gervasi- la Bonanova",
           "5037",
           22303
          ],
          [
           "Sarrià-Sant Gervasi",
           "Sant Gervasi- la Bonanova",
           "5038",
           23592
          ],
          [
           "Sarrià-Sant Gervasi",
           "Sant Gervasi- la Bonanova",
           "5039",
           29997
          ],
          [
           "Sarrià-Sant Gervasi",
           "Sant Gervasi- la Bonanova",
           "5040",
           22151
          ],
          [
           "Sarrià-Sant Gervasi",
           "Sant Gervasi- la Bonanova",
           "5041",
           25302
          ],
          [
           "Sarrià-Sant Gervasi",
           "Sant Gervasi- la Bonanova",
           "5042",
           23455
          ],
          [
           "Sarrià-Sant Gervasi",
           "Sant Gervasi- la Bonanova",
           "5043",
           22791
          ],
          [
           "Sarrià-Sant Gervasi",
           "Sant Gervasi- la Bonanova",
           "5044",
           25508
          ],
          [
           "Sarrià-Sant Gervasi",
           "Sant Gervasi- la Bonanova",
           "5045",
           26567
          ],
          [
           "Sarrià-Sant Gervasi",
           "Sant Gervasi- la Bonanova",
           "5046",
           31896
          ],
          [
           "Sarrià-Sant Gervasi",
           "Sant Gervasi- la Bonanova",
           "5047",
           28010
          ],
          [
           "Sarrià-Sant Gervasi",
           "Sant Gervasi- la Bonanova",
           "5048",
           28998
          ],
          [
           "Sarrià-Sant Gervasi",
           "Sant Gervasi- Galvany",
           "5049",
           30910
          ],
          [
           "Sarrià-Sant Gervasi",
           "Sant Gervasi- Galvany",
           "5050",
           25096
          ],
          [
           "Sarrià-Sant Gervasi",
           "Sant Gervasi- Galvany",
           "5051",
           29638
          ],
          [
           "Sarrià-Sant Gervasi",
           "Sant Gervasi- Galvany",
           "5052",
           32039
          ],
          [
           "Sarrià-Sant Gervasi",
           "Sant Gervasi- Galvany",
           "5053",
           32039
          ],
          [
           "Sarrià-Sant Gervasi",
           "Sant Gervasi- Galvany",
           "5054",
           32039
          ],
          [
           "Sarrià-Sant Gervasi",
           "Sant Gervasi- Galvany",
           "5055",
           32039
          ],
          [
           "Sarrià-Sant Gervasi",
           "Sant Gervasi- Galvany",
           "5056",
           28645
          ],
          [
           "Sarrià-Sant Gervasi",
           "Sant Gervasi- Galvany",
           "5057",
           32039
          ],
          [
           "Sarrià-Sant Gervasi",
           "Sant Gervasi- Galvany",
           "5058",
           31425
          ],
          [
           "Sarrià-Sant Gervasi",
           "Sant Gervasi- Galvany",
           "5059",
           27290
          ],
          [
           "Sarrià-Sant Gervasi",
           "Sant Gervasi- Galvany",
           "5060",
           30049
          ],
          [
           "Sarrià-Sant Gervasi",
           "Sant Gervasi- Galvany",
           "5061",
           24283
          ],
          [
           "Sarrià-Sant Gervasi",
           "Sant Gervasi- Galvany",
           "5062",
           27750
          ],
          [
           "Sarrià-Sant Gervasi",
           "Sant Gervasi- Galvany",
           "5063",
           28264
          ],
          [
           "Sarrià-Sant Gervasi",
           "Sant Gervasi- Galvany",
           "5064",
           25613
          ],
          [
           "Sarrià-Sant Gervasi",
           "Sant Gervasi- Galvany",
           "5065",
           23322
          ],
          [
           "Sarrià-Sant Gervasi",
           "Sant Gervasi- Galvany",
           "5066",
           27942
          ],
          [
           "Sarrià-Sant Gervasi",
           "Sant Gervasi- Galvany",
           "5067",
           27237
          ],
          [
           "Sarrià-Sant Gervasi",
           "Sant Gervasi- Galvany",
           "5068",
           25340
          ],
          [
           "Sarrià-Sant Gervasi",
           "Sant Gervasi- Galvany",
           "5069",
           23900
          ],
          [
           "Sarrià-Sant Gervasi",
           "Sant Gervasi- Galvany",
           "5070",
           24230
          ],
          [
           "Sarrià-Sant Gervasi",
           "Sant Gervasi- Galvany",
           "5071",
           22919
          ],
          [
           "Sarrià-Sant Gervasi",
           "Sant Gervasi- Galvany",
           "5072",
           26494
          ],
          [
           "Sarrià-Sant Gervasi",
           "Sant Gervasi- Galvany",
           "5073",
           23972
          ],
          [
           "Sarrià-Sant Gervasi",
           "Sant Gervasi- Galvany",
           "5074",
           26419
          ],
          [
           "Sarrià-Sant Gervasi",
           "Sant Gervasi- Galvany",
           "5075",
           22459
          ],
          [
           "Sarrià-Sant Gervasi",
           "Sant Gervasi- Galvany",
           "5076",
           25714
          ],
          [
           "Sarrià-Sant Gervasi",
           "Sant Gervasi- Galvany",
           "5077",
           26513
          ],
          [
           "Sarrià-Sant Gervasi",
           "Sant Gervasi- Galvany",
           "5078",
           25536
          ],
          [
           "Sarrià-Sant Gervasi",
           "Sant Gervasi- Galvany",
           "5079",
           24694
          ],
          [
           "Sarrià-Sant Gervasi",
           "el Putxet i el Farró",
           "5080",
           22807
          ],
          [
           "Sarrià-Sant Gervasi",
           "el Putxet i el Farró",
           "5081",
           22614
          ],
          [
           "Sarrià-Sant Gervasi",
           "el Putxet i el Farró",
           "5082",
           21454
          ],
          [
           "Sarrià-Sant Gervasi",
           "el Putxet i el Farró",
           "5083",
           21253
          ],
          [
           "Sarrià-Sant Gervasi",
           "el Putxet i el Farró",
           "5084",
           20950
          ],
          [
           "Sarrià-Sant Gervasi",
           "el Putxet i el Farró",
           "5085",
           20052
          ],
          [
           "Sarrià-Sant Gervasi",
           "el Putxet i el Farró",
           "5086",
           21320
          ],
          [
           "Sarrià-Sant Gervasi",
           "el Putxet i el Farró",
           "5087",
           23403
          ],
          [
           "Sarrià-Sant Gervasi",
           "el Putxet i el Farró",
           "5088",
           23219
          ],
          [
           "Sarrià-Sant Gervasi",
           "el Putxet i el Farró",
           "5089",
           23237
          ],
          [
           "Sarrià-Sant Gervasi",
           "el Putxet i el Farró",
           "5090",
           21497
          ],
          [
           "Sarrià-Sant Gervasi",
           "el Putxet i el Farró",
           "5091",
           22069
          ],
          [
           "Sarrià-Sant Gervasi",
           "el Putxet i el Farró",
           "5092",
           29232
          ],
          [
           "Sarrià-Sant Gervasi",
           "el Putxet i el Farró",
           "5093",
           25458
          ],
          [
           "Sarrià-Sant Gervasi",
           "el Putxet i el Farró",
           "5094",
           26953
          ],
          [
           "Sarrià-Sant Gervasi",
           "el Putxet i el Farró",
           "5095",
           19762
          ],
          [
           "Sarrià-Sant Gervasi",
           "el Putxet i el Farró",
           "5096",
           19615
          ],
          [
           "Sarrià-Sant Gervasi",
           "el Putxet i el Farró",
           "5097",
           23283
          ],
          [
           "Sarrià-Sant Gervasi",
           "el Putxet i el Farró",
           "5098",
           20828
          ]
         ],
         "fillcolor": "#FF8B8F",
         "hoveron": "points",
         "hovertemplate": "<br><b>District: %{customdata[0]}</b></br><b>Neighborhood: %{customdata[1]}</b><br><b>Census section: %{customdata[2]}</b></br><b>Income: %{customdata[3]}</b><extra></extra>",
         "jitter": 1,
         "line": {
          "color": "#F62F36"
         },
         "marker": {
          "color": "#F62F36",
          "line": {
           "color": "#FF8B8F",
           "width": 1
          },
          "size": 8
         },
         "name": "Sarrià-Sant Gervasi",
         "pointpos": 0,
         "points": "all",
         "showlegend": false,
         "type": "violin",
         "y": [
          15609,
          24298,
          25067,
          29020,
          28881,
          32039,
          26450,
          28510,
          24433,
          22590,
          26954,
          22557,
          24361,
          26875,
          24606,
          20831,
          32039,
          24121,
          28882,
          28365,
          32039,
          31459,
          21564,
          30766,
          32039,
          32039,
          32039,
          28626,
          31998,
          32039,
          32039,
          32039,
          28111,
          11363,
          32039,
          29621,
          22303,
          23592,
          29997,
          22151,
          25302,
          23455,
          22791,
          25508,
          26567,
          31896,
          28010,
          28998,
          30910,
          25096,
          29638,
          32039,
          32039,
          32039,
          32039,
          28645,
          32039,
          31425,
          27290,
          30049,
          24283,
          27750,
          28264,
          25613,
          23322,
          27942,
          27237,
          25340,
          23900,
          24230,
          22919,
          26494,
          23972,
          26419,
          22459,
          25714,
          26513,
          25536,
          24694,
          22807,
          22614,
          21454,
          21253,
          20950,
          20052,
          21320,
          23403,
          23219,
          23237,
          21497,
          22069,
          29232,
          25458,
          26953,
          19762,
          19615,
          23283,
          20828
         ]
        },
        {
         "box": {
          "visible": false
         },
         "customdata": [
          [
           "Gràcia",
           "Vallcarca i els Penitents",
           "6001",
           16744
          ],
          [
           "Gràcia",
           "Vallcarca i els Penitents",
           "6002",
           18046
          ],
          [
           "Gràcia",
           "Vallcarca i els Penitents",
           "6003",
           17007
          ],
          [
           "Gràcia",
           "Vallcarca i els Penitents",
           "6004",
           18961
          ],
          [
           "Gràcia",
           "Vallcarca i els Penitents",
           "6006",
           24534
          ],
          [
           "Gràcia",
           "Vallcarca i els Penitents",
           "6007",
           19814
          ],
          [
           "Gràcia",
           "Vallcarca i els Penitents",
           "6008",
           19288
          ],
          [
           "Gràcia",
           "Vallcarca i els Penitents",
           "6009",
           24101
          ],
          [
           "Gràcia",
           "Vallcarca i els Penitents",
           "6010",
           21130
          ],
          [
           "Gràcia",
           "Vallcarca i els Penitents",
           "6011",
           20529
          ],
          [
           "Gràcia",
           "Vallcarca i els Penitents",
           "6012",
           23459
          ],
          [
           "Gràcia",
           "el Coll",
           "6013",
           17306
          ],
          [
           "Gràcia",
           "el Coll",
           "6014",
           16861
          ],
          [
           "Gràcia",
           "el Coll",
           "6015",
           15364
          ],
          [
           "Gràcia",
           "el Coll",
           "6016",
           14819
          ],
          [
           "Gràcia",
           "el Coll",
           "6017",
           15734
          ],
          [
           "Gràcia",
           "la Salut",
           "6018",
           17816
          ],
          [
           "Gràcia",
           "la Salut",
           "6019",
           18217
          ],
          [
           "Gràcia",
           "la Salut",
           "6020",
           18867
          ],
          [
           "Gràcia",
           "la Salut",
           "6021",
           20212
          ],
          [
           "Gràcia",
           "la Salut",
           "6022",
           18754
          ],
          [
           "Gràcia",
           "la Salut",
           "6023",
           24168
          ],
          [
           "Gràcia",
           "la Salut",
           "6024",
           19352
          ],
          [
           "Gràcia",
           "la Salut",
           "6025",
           20472
          ],
          [
           "Gràcia",
           "la Salut",
           "6026",
           19276
          ],
          [
           "Gràcia",
           "la Salut",
           "6027",
           20478
          ],
          [
           "Gràcia",
           "la Vila de Gràcia",
           "6028",
           17324
          ],
          [
           "Gràcia",
           "la Vila de Gràcia",
           "6029",
           19759
          ],
          [
           "Gràcia",
           "la Vila de Gràcia",
           "6030",
           17593
          ],
          [
           "Gràcia",
           "la Vila de Gràcia",
           "6031",
           19342
          ],
          [
           "Gràcia",
           "la Vila de Gràcia",
           "6032",
           17669
          ],
          [
           "Gràcia",
           "la Vila de Gràcia",
           "6033",
           18613
          ],
          [
           "Gràcia",
           "la Vila de Gràcia",
           "6034",
           17646
          ],
          [
           "Gràcia",
           "la Vila de Gràcia",
           "6035",
           21464
          ],
          [
           "Gràcia",
           "la Vila de Gràcia",
           "6036",
           19797
          ],
          [
           "Gràcia",
           "la Vila de Gràcia",
           "6037",
           19395
          ],
          [
           "Gràcia",
           "la Vila de Gràcia",
           "6038",
           18425
          ],
          [
           "Gràcia",
           "la Vila de Gràcia",
           "6039",
           17396
          ],
          [
           "Gràcia",
           "la Vila de Gràcia",
           "6040",
           20084
          ],
          [
           "Gràcia",
           "la Vila de Gràcia",
           "6041",
           20306
          ],
          [
           "Gràcia",
           "la Vila de Gràcia",
           "6042",
           21965
          ],
          [
           "Gràcia",
           "la Vila de Gràcia",
           "6043",
           19377
          ],
          [
           "Gràcia",
           "la Vila de Gràcia",
           "6044",
           23333
          ],
          [
           "Gràcia",
           "la Vila de Gràcia",
           "6045",
           19421
          ],
          [
           "Gràcia",
           "la Vila de Gràcia",
           "6046",
           18867
          ],
          [
           "Gràcia",
           "la Vila de Gràcia",
           "6047",
           16688
          ],
          [
           "Gràcia",
           "la Vila de Gràcia",
           "6048",
           17686
          ],
          [
           "Gràcia",
           "la Vila de Gràcia",
           "6049",
           18821
          ],
          [
           "Gràcia",
           "la Vila de Gràcia",
           "6050",
           16394
          ],
          [
           "Gràcia",
           "la Vila de Gràcia",
           "6051",
           19246
          ],
          [
           "Gràcia",
           "la Vila de Gràcia",
           "6052",
           17901
          ],
          [
           "Gràcia",
           "la Vila de Gràcia",
           "6053",
           17941
          ],
          [
           "Gràcia",
           "la Vila de Gràcia",
           "6054",
           16566
          ],
          [
           "Gràcia",
           "la Vila de Gràcia",
           "6055",
           17975
          ],
          [
           "Gràcia",
           "la Vila de Gràcia",
           "6056",
           17411
          ],
          [
           "Gràcia",
           "la Vila de Gràcia",
           "6057",
           16791
          ],
          [
           "Gràcia",
           "la Vila de Gràcia",
           "6058",
           19116
          ],
          [
           "Gràcia",
           "la Vila de Gràcia",
           "6059",
           18461
          ],
          [
           "Gràcia",
           "la Vila de Gràcia",
           "6060",
           17350
          ],
          [
           "Gràcia",
           "la Vila de Gràcia",
           "6061",
           17818
          ],
          [
           "Gràcia",
           "la Vila de Gràcia",
           "6062",
           16421
          ],
          [
           "Gràcia",
           "la Vila de Gràcia",
           "6063",
           17066
          ],
          [
           "Gràcia",
           "el Camp d'en Grassot i Gràcia Nova",
           "6064",
           19579
          ],
          [
           "Gràcia",
           "el Camp d'en Grassot i Gràcia Nova",
           "6065",
           21031
          ],
          [
           "Gràcia",
           "el Camp d'en Grassot i Gràcia Nova",
           "6066",
           17346
          ],
          [
           "Gràcia",
           "el Camp d'en Grassot i Gràcia Nova",
           "6067",
           19065
          ],
          [
           "Gràcia",
           "el Camp d'en Grassot i Gràcia Nova",
           "6068",
           21024
          ],
          [
           "Gràcia",
           "el Camp d'en Grassot i Gràcia Nova",
           "6069",
           19712
          ],
          [
           "Gràcia",
           "el Camp d'en Grassot i Gràcia Nova",
           "6070",
           17973
          ],
          [
           "Gràcia",
           "el Camp d'en Grassot i Gràcia Nova",
           "6071",
           19609
          ],
          [
           "Gràcia",
           "el Camp d'en Grassot i Gràcia Nova",
           "6072",
           20424
          ],
          [
           "Gràcia",
           "el Camp d'en Grassot i Gràcia Nova",
           "6073",
           18795
          ],
          [
           "Gràcia",
           "el Camp d'en Grassot i Gràcia Nova",
           "6074",
           18192
          ],
          [
           "Gràcia",
           "el Camp d'en Grassot i Gràcia Nova",
           "6075",
           21193
          ],
          [
           "Gràcia",
           "el Camp d'en Grassot i Gràcia Nova",
           "6076",
           19652
          ],
          [
           "Gràcia",
           "el Camp d'en Grassot i Gràcia Nova",
           "6077",
           16947
          ],
          [
           "Gràcia",
           "el Camp d'en Grassot i Gràcia Nova",
           "6078",
           17585
          ],
          [
           "Gràcia",
           "el Camp d'en Grassot i Gràcia Nova",
           "6079",
           19397
          ],
          [
           "Gràcia",
           "el Camp d'en Grassot i Gràcia Nova",
           "6080",
           18582
          ],
          [
           "Gràcia",
           "el Camp d'en Grassot i Gràcia Nova",
           "6081",
           18257
          ],
          [
           "Gràcia",
           "el Camp d'en Grassot i Gràcia Nova",
           "6082",
           19173
          ],
          [
           "Gràcia",
           "el Camp d'en Grassot i Gràcia Nova",
           "6083",
           20791
          ],
          [
           "Gràcia",
           "el Camp d'en Grassot i Gràcia Nova",
           "6084",
           18391
          ],
          [
           "Gràcia",
           "el Camp d'en Grassot i Gràcia Nova",
           "6085",
           19828
          ],
          [
           "Gràcia",
           "el Camp d'en Grassot i Gràcia Nova",
           "6086",
           22988
          ],
          [
           "Gràcia",
           "el Camp d'en Grassot i Gràcia Nova",
           "6087",
           21830
          ],
          [
           "Gràcia",
           "el Camp d'en Grassot i Gràcia Nova",
           "6088",
           19455
          ]
         ],
         "fillcolor": "#E9BEA8",
         "hoveron": "points",
         "hovertemplate": "<br><b>District: %{customdata[0]}</b></br><b>Neighborhood: %{customdata[1]}</b><br><b>Census section: %{customdata[2]}</b></br><b>Income: %{customdata[3]}</b><extra></extra>",
         "jitter": 1,
         "line": {
          "color": "#9D5E31"
         },
         "marker": {
          "color": "#9D5E31",
          "line": {
           "color": "#E9BEA8",
           "width": 1
          },
          "size": 8
         },
         "name": "Gràcia",
         "pointpos": 0,
         "points": "all",
         "showlegend": false,
         "type": "violin",
         "y": [
          16744,
          18046,
          17007,
          18961,
          24534,
          19814,
          19288,
          24101,
          21130,
          20529,
          23459,
          17306,
          16861,
          15364,
          14819,
          15734,
          17816,
          18217,
          18867,
          20212,
          18754,
          24168,
          19352,
          20472,
          19276,
          20478,
          17324,
          19759,
          17593,
          19342,
          17669,
          18613,
          17646,
          21464,
          19797,
          19395,
          18425,
          17396,
          20084,
          20306,
          21965,
          19377,
          23333,
          19421,
          18867,
          16688,
          17686,
          18821,
          16394,
          19246,
          17901,
          17941,
          16566,
          17975,
          17411,
          16791,
          19116,
          18461,
          17350,
          17818,
          16421,
          17066,
          19579,
          21031,
          17346,
          19065,
          21024,
          19712,
          17973,
          19609,
          20424,
          18795,
          18192,
          21193,
          19652,
          16947,
          17585,
          19397,
          18582,
          18257,
          19173,
          20791,
          18391,
          19828,
          22988,
          21830,
          19455
         ]
        },
        {
         "box": {
          "visible": false
         },
         "customdata": [
          [
           "Horta-Guinardó",
           "el Baix Guinardó",
           "7001",
           19208
          ],
          [
           "Horta-Guinardó",
           "el Baix Guinardó",
           "7002",
           16633
          ],
          [
           "Horta-Guinardó",
           "el Baix Guinardó",
           "7003",
           17451
          ],
          [
           "Horta-Guinardó",
           "el Baix Guinardó",
           "7004",
           16429
          ],
          [
           "Horta-Guinardó",
           "el Baix Guinardó",
           "7005",
           16394
          ],
          [
           "Horta-Guinardó",
           "el Baix Guinardó",
           "7006",
           18604
          ],
          [
           "Horta-Guinardó",
           "el Baix Guinardó",
           "7007",
           16434
          ],
          [
           "Horta-Guinardó",
           "el Baix Guinardó",
           "7008",
           18031
          ],
          [
           "Horta-Guinardó",
           "el Baix Guinardó",
           "7009",
           16108
          ],
          [
           "Horta-Guinardó",
           "el Baix Guinardó",
           "7010",
           17481
          ],
          [
           "Horta-Guinardó",
           "el Baix Guinardó",
           "7011",
           16741
          ],
          [
           "Horta-Guinardó",
           "el Baix Guinardó",
           "7012",
           15818
          ],
          [
           "Horta-Guinardó",
           "el Baix Guinardó",
           "7013",
           19440
          ],
          [
           "Horta-Guinardó",
           "el Baix Guinardó",
           "7014",
           14800
          ],
          [
           "Horta-Guinardó",
           "el Baix Guinardó",
           "7015",
           16744
          ],
          [
           "Horta-Guinardó",
           "el Baix Guinardó",
           "7016",
           18381
          ],
          [
           "Horta-Guinardó",
           "el Baix Guinardó",
           "7017",
           16861
          ],
          [
           "Horta-Guinardó",
           "el Baix Guinardó",
           "7018",
           16242
          ],
          [
           "Horta-Guinardó",
           "el Baix Guinardó",
           "7019",
           16938
          ],
          [
           "Horta-Guinardó",
           "Can Baró",
           "7020",
           16536
          ],
          [
           "Horta-Guinardó",
           "Can Baró",
           "7021",
           18322
          ],
          [
           "Horta-Guinardó",
           "Can Baró",
           "7022",
           15317
          ],
          [
           "Horta-Guinardó",
           "Can Baró",
           "7023",
           13840
          ],
          [
           "Horta-Guinardó",
           "Can Baró",
           "7024",
           16576
          ],
          [
           "Horta-Guinardó",
           "Can Baró",
           "7025",
           15155
          ],
          [
           "Horta-Guinardó",
           "Can Baró",
           "7026",
           15971
          ],
          [
           "Horta-Guinardó",
           "el Guinardó",
           "7027",
           14938
          ],
          [
           "Horta-Guinardó",
           "el Guinardó",
           "7028",
           15635
          ],
          [
           "Horta-Guinardó",
           "el Guinardó",
           "7029",
           17566
          ],
          [
           "Horta-Guinardó",
           "el Guinardó",
           "7030",
           14408
          ],
          [
           "Horta-Guinardó",
           "el Guinardó",
           "7031",
           14553
          ],
          [
           "Horta-Guinardó",
           "el Guinardó",
           "7032",
           16522
          ],
          [
           "Horta-Guinardó",
           "el Guinardó",
           "7033",
           17178
          ],
          [
           "Horta-Guinardó",
           "el Guinardó",
           "7034",
           18246
          ],
          [
           "Horta-Guinardó",
           "el Guinardó",
           "7035",
           18748
          ],
          [
           "Horta-Guinardó",
           "el Guinardó",
           "7036",
           19037
          ],
          [
           "Horta-Guinardó",
           "el Guinardó",
           "7037",
           16625
          ],
          [
           "Horta-Guinardó",
           "el Guinardó",
           "7038",
           16592
          ],
          [
           "Horta-Guinardó",
           "el Guinardó",
           "7039",
           17108
          ],
          [
           "Horta-Guinardó",
           "el Guinardó",
           "7040",
           17070
          ],
          [
           "Horta-Guinardó",
           "el Guinardó",
           "7041",
           15601
          ],
          [
           "Horta-Guinardó",
           "el Guinardó",
           "7042",
           17249
          ],
          [
           "Horta-Guinardó",
           "el Guinardó",
           "7043",
           16664
          ],
          [
           "Horta-Guinardó",
           "el Guinardó",
           "7044",
           17946
          ],
          [
           "Horta-Guinardó",
           "el Guinardó",
           "7045",
           15824
          ],
          [
           "Horta-Guinardó",
           "el Guinardó",
           "7046",
           15587
          ],
          [
           "Horta-Guinardó",
           "el Guinardó",
           "7047",
           16158
          ],
          [
           "Horta-Guinardó",
           "el Guinardó",
           "7048",
           16896
          ],
          [
           "Horta-Guinardó",
           "el Guinardó",
           "7049",
           16494
          ],
          [
           "Horta-Guinardó",
           "el Guinardó",
           "7050",
           15464
          ],
          [
           "Horta-Guinardó",
           "el Guinardó",
           "7051",
           15631
          ],
          [
           "Horta-Guinardó",
           "la Font d'en Fargues",
           "7052",
           19908
          ],
          [
           "Horta-Guinardó",
           "la Font d'en Fargues",
           "7053",
           18014
          ],
          [
           "Horta-Guinardó",
           "la Font d'en Fargues",
           "7054",
           22473
          ],
          [
           "Horta-Guinardó",
           "la Font d'en Fargues",
           "7055",
           22552
          ],
          [
           "Horta-Guinardó",
           "la Font d'en Fargues",
           "7056",
           18031
          ],
          [
           "Horta-Guinardó",
           "la Font d'en Fargues",
           "7057",
           18559
          ],
          [
           "Horta-Guinardó",
           "la Font d'en Fargues",
           "7058",
           17727
          ],
          [
           "Horta-Guinardó",
           "el Carmel",
           "7059",
           13195
          ],
          [
           "Horta-Guinardó",
           "el Carmel",
           "7060",
           12739
          ],
          [
           "Horta-Guinardó",
           "el Carmel",
           "7061",
           13428
          ],
          [
           "Horta-Guinardó",
           "el Carmel",
           "7062",
           13312
          ],
          [
           "Horta-Guinardó",
           "el Carmel",
           "7063",
           11462
          ],
          [
           "Horta-Guinardó",
           "el Carmel",
           "7064",
           11937
          ],
          [
           "Horta-Guinardó",
           "el Carmel",
           "7065",
           10979
          ],
          [
           "Horta-Guinardó",
           "el Carmel",
           "7066",
           11682
          ],
          [
           "Horta-Guinardó",
           "el Carmel",
           "7067",
           11574
          ],
          [
           "Horta-Guinardó",
           "el Carmel",
           "7068",
           11194
          ],
          [
           "Horta-Guinardó",
           "el Carmel",
           "7069",
           11844
          ],
          [
           "Horta-Guinardó",
           "el Carmel",
           "7070",
           11813
          ],
          [
           "Horta-Guinardó",
           "el Carmel",
           "7071",
           14311
          ],
          [
           "Horta-Guinardó",
           "el Carmel",
           "7072",
           13445
          ],
          [
           "Horta-Guinardó",
           "el Carmel",
           "7073",
           12227
          ],
          [
           "Horta-Guinardó",
           "el Carmel",
           "7074",
           12874
          ],
          [
           "Horta-Guinardó",
           "el Carmel",
           "7075",
           12171
          ],
          [
           "Horta-Guinardó",
           "el Carmel",
           "7076",
           12372
          ],
          [
           "Horta-Guinardó",
           "el Carmel",
           "7077",
           12425
          ],
          [
           "Horta-Guinardó",
           "el Carmel",
           "7078",
           11999
          ],
          [
           "Horta-Guinardó",
           "el Carmel",
           "7079",
           12393
          ],
          [
           "Horta-Guinardó",
           "el Carmel",
           "7080",
           13184
          ],
          [
           "Horta-Guinardó",
           "la Teixonera",
           "7081",
           14233
          ],
          [
           "Horta-Guinardó",
           "la Teixonera",
           "7082",
           13129
          ],
          [
           "Horta-Guinardó",
           "la Teixonera",
           "7083",
           13044
          ],
          [
           "Horta-Guinardó",
           "la Teixonera",
           "7084",
           13343
          ],
          [
           "Horta-Guinardó",
           "la Teixonera",
           "7085",
           13598
          ],
          [
           "Horta-Guinardó",
           "la Teixonera",
           "7086",
           13087
          ],
          [
           "Horta-Guinardó",
           "la Teixonera",
           "7087",
           13899
          ],
          [
           "Horta-Guinardó",
           "la Teixonera",
           "7088",
           13561
          ],
          [
           "Horta-Guinardó",
           "Sant Genís dels Agudells",
           "7089",
           16489
          ],
          [
           "Horta-Guinardó",
           "Sant Genís dels Agudells",
           "7090",
           14200
          ],
          [
           "Horta-Guinardó",
           "Sant Genís dels Agudells",
           "7091",
           14228
          ],
          [
           "Horta-Guinardó",
           "Sant Genís dels Agudells",
           "7092",
           11962
          ],
          [
           "Horta-Guinardó",
           "Sant Genís dels Agudells",
           "7093",
           14348
          ],
          [
           "Horta-Guinardó",
           "Montbau",
           "7094",
           15406
          ],
          [
           "Horta-Guinardó",
           "Montbau",
           "7095",
           15847
          ],
          [
           "Horta-Guinardó",
           "Montbau",
           "7096",
           14643
          ],
          [
           "Horta-Guinardó",
           "Montbau",
           "7097",
           17325
          ],
          [
           "Horta-Guinardó",
           "la Vall d'Hebron",
           "7098",
           19254
          ],
          [
           "Horta-Guinardó",
           "la Vall d'Hebron",
           "7099",
           18827
          ],
          [
           "Horta-Guinardó",
           "la Vall d'Hebron",
           "7100",
           16795
          ],
          [
           "Horta-Guinardó",
           "la Vall d'Hebron",
           "7101",
           16524
          ],
          [
           "Horta-Guinardó",
           "la Clota",
           "7102",
           15605
          ],
          [
           "Horta-Guinardó",
           "Horta",
           "7103",
           14592
          ],
          [
           "Horta-Guinardó",
           "Horta",
           "7104",
           14097
          ],
          [
           "Horta-Guinardó",
           "Horta",
           "7105",
           17329
          ],
          [
           "Horta-Guinardó",
           "Horta",
           "7106",
           16279
          ],
          [
           "Horta-Guinardó",
           "Horta",
           "7107",
           18725
          ],
          [
           "Horta-Guinardó",
           "Horta",
           "7108",
           16483
          ],
          [
           "Horta-Guinardó",
           "Horta",
           "7109",
           13882
          ],
          [
           "Horta-Guinardó",
           "Horta",
           "7110",
           17117
          ],
          [
           "Horta-Guinardó",
           "Horta",
           "7111",
           19268
          ],
          [
           "Horta-Guinardó",
           "Horta",
           "7112",
           16977
          ],
          [
           "Horta-Guinardó",
           "Horta",
           "7113",
           15161
          ],
          [
           "Horta-Guinardó",
           "Horta",
           "7114",
           18151
          ],
          [
           "Horta-Guinardó",
           "Horta",
           "7115",
           19383
          ],
          [
           "Horta-Guinardó",
           "Horta",
           "7116",
           16443
          ],
          [
           "Horta-Guinardó",
           "Horta",
           "7117",
           16944
          ],
          [
           "Horta-Guinardó",
           "Horta",
           "7118",
           16462
          ],
          [
           "Horta-Guinardó",
           "Horta",
           "7119",
           14319
          ],
          [
           "Horta-Guinardó",
           "Horta",
           "7120",
           14915
          ],
          [
           "Horta-Guinardó",
           "Horta",
           "7121",
           14003
          ],
          [
           "Horta-Guinardó",
           "Horta",
           "7122",
           15397
          ],
          [
           "Horta-Guinardó",
           "Horta",
           "7123",
           17253
          ]
         ],
         "fillcolor": "#FFA4D3",
         "hoveron": "points",
         "hovertemplate": "<br><b>District: %{customdata[0]}</b></br><b>Neighborhood: %{customdata[1]}</b><br><b>Census section: %{customdata[2]}</b></br><b>Income: %{customdata[3]}</b><extra></extra>",
         "jitter": 1,
         "line": {
          "color": "#E65898"
         },
         "marker": {
          "color": "#E65898",
          "line": {
           "color": "#FFA4D3",
           "width": 1
          },
          "size": 8
         },
         "name": "Horta-Guinardó",
         "pointpos": 0,
         "points": "all",
         "showlegend": false,
         "type": "violin",
         "y": [
          19208,
          16633,
          17451,
          16429,
          16394,
          18604,
          16434,
          18031,
          16108,
          17481,
          16741,
          15818,
          19440,
          14800,
          16744,
          18381,
          16861,
          16242,
          16938,
          16536,
          18322,
          15317,
          13840,
          16576,
          15155,
          15971,
          14938,
          15635,
          17566,
          14408,
          14553,
          16522,
          17178,
          18246,
          18748,
          19037,
          16625,
          16592,
          17108,
          17070,
          15601,
          17249,
          16664,
          17946,
          15824,
          15587,
          16158,
          16896,
          16494,
          15464,
          15631,
          19908,
          18014,
          22473,
          22552,
          18031,
          18559,
          17727,
          13195,
          12739,
          13428,
          13312,
          11462,
          11937,
          10979,
          11682,
          11574,
          11194,
          11844,
          11813,
          14311,
          13445,
          12227,
          12874,
          12171,
          12372,
          12425,
          11999,
          12393,
          13184,
          14233,
          13129,
          13044,
          13343,
          13598,
          13087,
          13899,
          13561,
          16489,
          14200,
          14228,
          11962,
          14348,
          15406,
          15847,
          14643,
          17325,
          19254,
          18827,
          16795,
          16524,
          15605,
          14592,
          14097,
          17329,
          16279,
          18725,
          16483,
          13882,
          17117,
          19268,
          16977,
          15161,
          18151,
          19383,
          16443,
          16944,
          16462,
          14319,
          14915,
          14003,
          15397,
          17253
         ]
        },
        {
         "box": {
          "visible": false
         },
         "customdata": [
          [
           "Nou Barris",
           "Vilapicina i la Torre Llobeta",
           "8001",
           15386
          ],
          [
           "Nou Barris",
           "Vilapicina i la Torre Llobeta",
           "8002",
           16809
          ],
          [
           "Nou Barris",
           "Vilapicina i la Torre Llobeta",
           "8003",
           15308
          ],
          [
           "Nou Barris",
           "Vilapicina i la Torre Llobeta",
           "8004",
           14070
          ],
          [
           "Nou Barris",
           "Vilapicina i la Torre Llobeta",
           "8005",
           15919
          ],
          [
           "Nou Barris",
           "Vilapicina i la Torre Llobeta",
           "8006",
           15265
          ],
          [
           "Nou Barris",
           "Vilapicina i la Torre Llobeta",
           "8007",
           16418
          ],
          [
           "Nou Barris",
           "Vilapicina i la Torre Llobeta",
           "8008",
           15842
          ],
          [
           "Nou Barris",
           "Vilapicina i la Torre Llobeta",
           "8009",
           14604
          ],
          [
           "Nou Barris",
           "Vilapicina i la Torre Llobeta",
           "8010",
           17266
          ],
          [
           "Nou Barris",
           "Vilapicina i la Torre Llobeta",
           "8011",
           16946
          ],
          [
           "Nou Barris",
           "Vilapicina i la Torre Llobeta",
           "8012",
           15876
          ],
          [
           "Nou Barris",
           "Vilapicina i la Torre Llobeta",
           "8013",
           15114
          ],
          [
           "Nou Barris",
           "Vilapicina i la Torre Llobeta",
           "8014",
           15113
          ],
          [
           "Nou Barris",
           "Vilapicina i la Torre Llobeta",
           "8015",
           13679
          ],
          [
           "Nou Barris",
           "Vilapicina i la Torre Llobeta",
           "8016",
           14632
          ],
          [
           "Nou Barris",
           "Vilapicina i la Torre Llobeta",
           "8017",
           16752
          ],
          [
           "Nou Barris",
           "Vilapicina i la Torre Llobeta",
           "8018",
           15734
          ],
          [
           "Nou Barris",
           "Vilapicina i la Torre Llobeta",
           "8019",
           14003
          ],
          [
           "Nou Barris",
           "Porta",
           "8020",
           14694
          ],
          [
           "Nou Barris",
           "Porta",
           "8021",
           15295
          ],
          [
           "Nou Barris",
           "Porta",
           "8022",
           15180
          ],
          [
           "Nou Barris",
           "Porta",
           "8023",
           13684
          ],
          [
           "Nou Barris",
           "Porta",
           "8024",
           12015
          ],
          [
           "Nou Barris",
           "Porta",
           "8025",
           13163
          ],
          [
           "Nou Barris",
           "Porta",
           "8026",
           15064
          ],
          [
           "Nou Barris",
           "Porta",
           "8027",
           16107
          ],
          [
           "Nou Barris",
           "Porta",
           "8028",
           14007
          ],
          [
           "Nou Barris",
           "Porta",
           "8029",
           12429
          ],
          [
           "Nou Barris",
           "Porta",
           "8030",
           13479
          ],
          [
           "Nou Barris",
           "Porta",
           "8031",
           14613
          ],
          [
           "Nou Barris",
           "Porta",
           "8032",
           14389
          ],
          [
           "Nou Barris",
           "Porta",
           "8033",
           10184
          ],
          [
           "Nou Barris",
           "Porta",
           "8034",
           11637
          ],
          [
           "Nou Barris",
           "Porta",
           "8035",
           14199
          ],
          [
           "Nou Barris",
           "Porta",
           "8036",
           11491
          ],
          [
           "Nou Barris",
           "Porta",
           "8037",
           13194
          ],
          [
           "Nou Barris",
           "el Turó de la Peira",
           "8038",
           12044
          ],
          [
           "Nou Barris",
           "el Turó de la Peira",
           "8039",
           12919
          ],
          [
           "Nou Barris",
           "el Turó de la Peira",
           "8040",
           11011
          ],
          [
           "Nou Barris",
           "el Turó de la Peira",
           "8041",
           9086
          ],
          [
           "Nou Barris",
           "el Turó de la Peira",
           "8042",
           14914
          ],
          [
           "Nou Barris",
           "el Turó de la Peira",
           "8043",
           13414
          ],
          [
           "Nou Barris",
           "el Turó de la Peira",
           "8044",
           11169
          ],
          [
           "Nou Barris",
           "el Turó de la Peira",
           "8045",
           11120
          ],
          [
           "Nou Barris",
           "el Turó de la Peira",
           "8046",
           12117
          ],
          [
           "Nou Barris",
           "el Turó de la Peira",
           "8047",
           10145
          ],
          [
           "Nou Barris",
           "Can Peguera",
           "8048",
           9577
          ],
          [
           "Nou Barris",
           "Can Peguera",
           "8049",
           12127
          ],
          [
           "Nou Barris",
           "la Guineueta",
           "8050",
           16905
          ],
          [
           "Nou Barris",
           "la Guineueta",
           "8051",
           16226
          ],
          [
           "Nou Barris",
           "la Guineueta",
           "8052",
           14816
          ],
          [
           "Nou Barris",
           "la Guineueta",
           "8053",
           16179
          ],
          [
           "Nou Barris",
           "la Guineueta",
           "8054",
           15399
          ],
          [
           "Nou Barris",
           "la Guineueta",
           "8055",
           18999
          ],
          [
           "Nou Barris",
           "la Guineueta",
           "8056",
           13830
          ],
          [
           "Nou Barris",
           "la Guineueta",
           "8057",
           14088
          ],
          [
           "Nou Barris",
           "la Guineueta",
           "8058",
           13170
          ],
          [
           "Nou Barris",
           "la Guineueta",
           "8059",
           14544
          ],
          [
           "Nou Barris",
           "Canyelles",
           "8060",
           15352
          ],
          [
           "Nou Barris",
           "Canyelles",
           "8061",
           13675
          ],
          [
           "Nou Barris",
           "Canyelles",
           "8062",
           15154
          ],
          [
           "Nou Barris",
           "Canyelles",
           "8063",
           17439
          ],
          [
           "Nou Barris",
           "Canyelles",
           "8064",
           13092
          ],
          [
           "Nou Barris",
           "les Roquetes",
           "8065",
           10161
          ],
          [
           "Nou Barris",
           "les Roquetes",
           "8066",
           9500
          ],
          [
           "Nou Barris",
           "les Roquetes",
           "8067",
           11556
          ],
          [
           "Nou Barris",
           "les Roquetes",
           "8068",
           10217
          ],
          [
           "Nou Barris",
           "les Roquetes",
           "8069",
           10670
          ],
          [
           "Nou Barris",
           "les Roquetes",
           "8070",
           10383
          ],
          [
           "Nou Barris",
           "les Roquetes",
           "8071",
           11106
          ],
          [
           "Nou Barris",
           "les Roquetes",
           "8072",
           12439
          ],
          [
           "Nou Barris",
           "les Roquetes",
           "8073",
           10246
          ],
          [
           "Nou Barris",
           "les Roquetes",
           "8074",
           10309
          ],
          [
           "Nou Barris",
           "Verdun",
           "8075",
           12291
          ],
          [
           "Nou Barris",
           "Verdun",
           "8076",
           12561
          ],
          [
           "Nou Barris",
           "Verdun",
           "8077",
           10397
          ],
          [
           "Nou Barris",
           "Verdun",
           "8078",
           11079
          ],
          [
           "Nou Barris",
           "Verdun",
           "8079",
           10734
          ],
          [
           "Nou Barris",
           "Verdun",
           "8080",
           11764
          ],
          [
           "Nou Barris",
           "Verdun",
           "8081",
           10476
          ],
          [
           "Nou Barris",
           "Verdun",
           "8082",
           12256
          ],
          [
           "Nou Barris",
           "la Prosperitat",
           "8083",
           12459
          ],
          [
           "Nou Barris",
           "la Prosperitat",
           "8084",
           13389
          ],
          [
           "Nou Barris",
           "la Prosperitat",
           "8085",
           11912
          ],
          [
           "Nou Barris",
           "la Prosperitat",
           "8086",
           12881
          ],
          [
           "Nou Barris",
           "la Prosperitat",
           "8087",
           12615
          ],
          [
           "Nou Barris",
           "la Prosperitat",
           "8088",
           12945
          ],
          [
           "Nou Barris",
           "la Prosperitat",
           "8089",
           12480
          ],
          [
           "Nou Barris",
           "la Prosperitat",
           "8090",
           13267
          ],
          [
           "Nou Barris",
           "la Prosperitat",
           "8091",
           12975
          ],
          [
           "Nou Barris",
           "la Prosperitat",
           "8092",
           13743
          ],
          [
           "Nou Barris",
           "la Prosperitat",
           "8093",
           12805
          ],
          [
           "Nou Barris",
           "la Prosperitat",
           "8094",
           13747
          ],
          [
           "Nou Barris",
           "la Prosperitat",
           "8095",
           15693
          ],
          [
           "Nou Barris",
           "la Prosperitat",
           "8096",
           13009
          ],
          [
           "Nou Barris",
           "la Prosperitat",
           "8097",
           12450
          ],
          [
           "Nou Barris",
           "la Prosperitat",
           "8098",
           11981
          ],
          [
           "Nou Barris",
           "la Prosperitat",
           "8099",
           12306
          ],
          [
           "Nou Barris",
           "la Prosperitat",
           "8100",
           12619
          ],
          [
           "Nou Barris",
           "la Prosperitat",
           "8101",
           13323
          ],
          [
           "Nou Barris",
           "la Prosperitat",
           "8102",
           10875
          ],
          [
           "Nou Barris",
           "la Trinitat Nova",
           "8103",
           9398
          ],
          [
           "Nou Barris",
           "la Trinitat Nova",
           "8104",
           10546
          ],
          [
           "Nou Barris",
           "la Trinitat Nova",
           "8105",
           10663
          ],
          [
           "Nou Barris",
           "la Trinitat Nova",
           "8106",
           9940
          ],
          [
           "Nou Barris",
           "la Trinitat Nova",
           "8107",
           10796
          ],
          [
           "Nou Barris",
           "Torre Baró",
           "8108",
           10066
          ],
          [
           "Nou Barris",
           "Torre Baró",
           "8109",
           9561
          ],
          [
           "Nou Barris",
           "Ciutat Meridiana",
           "8110",
           7957
          ],
          [
           "Nou Barris",
           "Ciutat Meridiana",
           "8111",
           8813
          ],
          [
           "Nou Barris",
           "Ciutat Meridiana",
           "8112",
           8926
          ],
          [
           "Nou Barris",
           "Ciutat Meridiana",
           "8113",
           9011
          ],
          [
           "Nou Barris",
           "Ciutat Meridiana",
           "8114",
           9494
          ],
          [
           "Nou Barris",
           "Ciutat Meridiana",
           "8115",
           9328
          ],
          [
           "Nou Barris",
           "Vallbona",
           "8116",
           10132
          ],
          [
           "Nou Barris",
           "la Guineueta",
           "8215",
           16248
          ]
         ],
         "fillcolor": "#E5F075",
         "hoveron": "points",
         "hovertemplate": "<br><b>District: %{customdata[0]}</b></br><b>Neighborhood: %{customdata[1]}</b><br><b>Census section: %{customdata[2]}</b></br><b>Income: %{customdata[3]}</b><extra></extra>",
         "jitter": 1,
         "line": {
          "color": "#B1C019"
         },
         "marker": {
          "color": "#B1C019",
          "line": {
           "color": "#E5F075",
           "width": 1
          },
          "size": 8
         },
         "name": "Nou Barris",
         "pointpos": 0,
         "points": "all",
         "showlegend": false,
         "type": "violin",
         "y": [
          15386,
          16809,
          15308,
          14070,
          15919,
          15265,
          16418,
          15842,
          14604,
          17266,
          16946,
          15876,
          15114,
          15113,
          13679,
          14632,
          16752,
          15734,
          14003,
          14694,
          15295,
          15180,
          13684,
          12015,
          13163,
          15064,
          16107,
          14007,
          12429,
          13479,
          14613,
          14389,
          10184,
          11637,
          14199,
          11491,
          13194,
          12044,
          12919,
          11011,
          9086,
          14914,
          13414,
          11169,
          11120,
          12117,
          10145,
          9577,
          12127,
          16905,
          16226,
          14816,
          16179,
          15399,
          18999,
          13830,
          14088,
          13170,
          14544,
          15352,
          13675,
          15154,
          17439,
          13092,
          10161,
          9500,
          11556,
          10217,
          10670,
          10383,
          11106,
          12439,
          10246,
          10309,
          12291,
          12561,
          10397,
          11079,
          10734,
          11764,
          10476,
          12256,
          12459,
          13389,
          11912,
          12881,
          12615,
          12945,
          12480,
          13267,
          12975,
          13743,
          12805,
          13747,
          15693,
          13009,
          12450,
          11981,
          12306,
          12619,
          13323,
          10875,
          9398,
          10546,
          10663,
          9940,
          10796,
          10066,
          9561,
          7957,
          8813,
          8926,
          9011,
          9494,
          9328,
          10132,
          16248
         ]
        },
        {
         "box": {
          "visible": false
         },
         "customdata": [
          [
           "Sant Andreu",
           "la Trinitat Vella",
           "9001",
           8337
          ],
          [
           "Sant Andreu",
           "la Trinitat Vella",
           "9002",
           9565
          ],
          [
           "Sant Andreu",
           "la Trinitat Vella",
           "9003",
           9676
          ],
          [
           "Sant Andreu",
           "la Trinitat Vella",
           "9004",
           10317
          ],
          [
           "Sant Andreu",
           "la Trinitat Vella",
           "9005",
           13149
          ],
          [
           "Sant Andreu",
           "Baró de Viver",
           "9006",
           10638
          ],
          [
           "Sant Andreu",
           "Baró de Viver",
           "9007",
           9671
          ],
          [
           "Sant Andreu",
           "el Bon Pastor",
           "9008",
           19225
          ],
          [
           "Sant Andreu",
           "el Bon Pastor",
           "9009",
           14670
          ],
          [
           "Sant Andreu",
           "el Bon Pastor",
           "9010",
           12999
          ],
          [
           "Sant Andreu",
           "el Bon Pastor",
           "9011",
           11087
          ],
          [
           "Sant Andreu",
           "el Bon Pastor",
           "9013",
           9572
          ],
          [
           "Sant Andreu",
           "el Bon Pastor",
           "9014",
           11139
          ],
          [
           "Sant Andreu",
           "el Bon Pastor",
           "9015",
           10989
          ],
          [
           "Sant Andreu",
           "Sant Andreu",
           "9016",
           16364
          ],
          [
           "Sant Andreu",
           "Sant Andreu",
           "9017",
           16187
          ],
          [
           "Sant Andreu",
           "Sant Andreu",
           "9018",
           16269
          ],
          [
           "Sant Andreu",
           "Sant Andreu",
           "9019",
           17558
          ],
          [
           "Sant Andreu",
           "Sant Andreu",
           "9020",
           17593
          ],
          [
           "Sant Andreu",
           "Sant Andreu",
           "9021",
           17726
          ],
          [
           "Sant Andreu",
           "Sant Andreu",
           "9022",
           18272
          ],
          [
           "Sant Andreu",
           "Sant Andreu",
           "9023",
           17896
          ],
          [
           "Sant Andreu",
           "Sant Andreu",
           "9024",
           17241
          ],
          [
           "Sant Andreu",
           "Sant Andreu",
           "9025",
           18041
          ],
          [
           "Sant Andreu",
           "Sant Andreu",
           "9026",
           18254
          ],
          [
           "Sant Andreu",
           "Sant Andreu",
           "9027",
           17987
          ],
          [
           "Sant Andreu",
           "Sant Andreu",
           "9028",
           19339
          ],
          [
           "Sant Andreu",
           "Sant Andreu",
           "9029",
           15969
          ],
          [
           "Sant Andreu",
           "Sant Andreu",
           "9030",
           17826
          ],
          [
           "Sant Andreu",
           "Sant Andreu",
           "9031",
           17776
          ],
          [
           "Sant Andreu",
           "Sant Andreu",
           "9032",
           13645
          ],
          [
           "Sant Andreu",
           "Sant Andreu",
           "9033",
           15799
          ],
          [
           "Sant Andreu",
           "Sant Andreu",
           "9034",
           14364
          ],
          [
           "Sant Andreu",
           "Sant Andreu",
           "9035",
           15911
          ],
          [
           "Sant Andreu",
           "Sant Andreu",
           "9036",
           17129
          ],
          [
           "Sant Andreu",
           "Sant Andreu",
           "9037",
           13677
          ],
          [
           "Sant Andreu",
           "Sant Andreu",
           "9038",
           17492
          ],
          [
           "Sant Andreu",
           "Sant Andreu",
           "9039",
           16853
          ],
          [
           "Sant Andreu",
           "Sant Andreu",
           "9040",
           17812
          ],
          [
           "Sant Andreu",
           "Sant Andreu",
           "9041",
           16135
          ],
          [
           "Sant Andreu",
           "Sant Andreu",
           "9042",
           18375
          ],
          [
           "Sant Andreu",
           "Sant Andreu",
           "9043",
           15506
          ],
          [
           "Sant Andreu",
           "Sant Andreu",
           "9044",
           16988
          ],
          [
           "Sant Andreu",
           "Sant Andreu",
           "9045",
           17245
          ],
          [
           "Sant Andreu",
           "Sant Andreu",
           "9046",
           18308
          ],
          [
           "Sant Andreu",
           "Sant Andreu",
           "9047",
           18227
          ],
          [
           "Sant Andreu",
           "Sant Andreu",
           "9048",
           16582
          ],
          [
           "Sant Andreu",
           "Sant Andreu",
           "9049",
           15688
          ],
          [
           "Sant Andreu",
           "Sant Andreu",
           "9050",
           17883
          ],
          [
           "Sant Andreu",
           "Sant Andreu",
           "9051",
           17686
          ],
          [
           "Sant Andreu",
           "Sant Andreu",
           "9052",
           16678
          ],
          [
           "Sant Andreu",
           "Sant Andreu",
           "9053",
           18243
          ],
          [
           "Sant Andreu",
           "Sant Andreu",
           "9054",
           17824
          ],
          [
           "Sant Andreu",
           "la Sagrera",
           "9055",
           13809
          ],
          [
           "Sant Andreu",
           "la Sagrera",
           "9056",
           16945
          ],
          [
           "Sant Andreu",
           "la Sagrera",
           "9057",
           14733
          ],
          [
           "Sant Andreu",
           "la Sagrera",
           "9058",
           16714
          ],
          [
           "Sant Andreu",
           "la Sagrera",
           "9059",
           15977
          ],
          [
           "Sant Andreu",
           "la Sagrera",
           "9060",
           15781
          ],
          [
           "Sant Andreu",
           "la Sagrera",
           "9061",
           18307
          ],
          [
           "Sant Andreu",
           "la Sagrera",
           "9062",
           16406
          ],
          [
           "Sant Andreu",
           "la Sagrera",
           "9063",
           18082
          ],
          [
           "Sant Andreu",
           "la Sagrera",
           "9064",
           17207
          ],
          [
           "Sant Andreu",
           "la Sagrera",
           "9065",
           15430
          ],
          [
           "Sant Andreu",
           "la Sagrera",
           "9066",
           17764
          ],
          [
           "Sant Andreu",
           "la Sagrera",
           "9067",
           14608
          ],
          [
           "Sant Andreu",
           "la Sagrera",
           "9068",
           16871
          ],
          [
           "Sant Andreu",
           "la Sagrera",
           "9069",
           16092
          ],
          [
           "Sant Andreu",
           "la Sagrera",
           "9070",
           12138
          ],
          [
           "Sant Andreu",
           "la Sagrera",
           "9071",
           14705
          ],
          [
           "Sant Andreu",
           "la Sagrera",
           "9072",
           13082
          ],
          [
           "Sant Andreu",
           "la Sagrera",
           "9073",
           16848
          ],
          [
           "Sant Andreu",
           "el Congrés i els Indians",
           "9074",
           15272
          ],
          [
           "Sant Andreu",
           "el Congrés i els Indians",
           "9075",
           15110
          ],
          [
           "Sant Andreu",
           "el Congrés i els Indians",
           "9076",
           15138
          ],
          [
           "Sant Andreu",
           "el Congrés i els Indians",
           "9077",
           15977
          ],
          [
           "Sant Andreu",
           "el Congrés i els Indians",
           "9078",
           15733
          ],
          [
           "Sant Andreu",
           "el Congrés i els Indians",
           "9079",
           17000
          ],
          [
           "Sant Andreu",
           "el Congrés i els Indians",
           "9080",
           16154
          ],
          [
           "Sant Andreu",
           "el Congrés i els Indians",
           "9081",
           16030
          ],
          [
           "Sant Andreu",
           "el Congrés i els Indians",
           "9082",
           16260
          ],
          [
           "Sant Andreu",
           "Navas",
           "9083",
           16654
          ],
          [
           "Sant Andreu",
           "Navas",
           "9084",
           17776
          ],
          [
           "Sant Andreu",
           "Navas",
           "9085",
           16484
          ],
          [
           "Sant Andreu",
           "Navas",
           "9086",
           16143
          ],
          [
           "Sant Andreu",
           "Navas",
           "9087",
           16934
          ],
          [
           "Sant Andreu",
           "Navas",
           "9088",
           14762
          ],
          [
           "Sant Andreu",
           "Navas",
           "9089",
           15410
          ],
          [
           "Sant Andreu",
           "Navas",
           "9090",
           15227
          ],
          [
           "Sant Andreu",
           "Navas",
           "9091",
           16236
          ],
          [
           "Sant Andreu",
           "Navas",
           "9092",
           16506
          ],
          [
           "Sant Andreu",
           "Navas",
           "9093",
           16219
          ],
          [
           "Sant Andreu",
           "Navas",
           "9094",
           16594
          ],
          [
           "Sant Andreu",
           "Navas",
           "9095",
           16517
          ],
          [
           "Sant Andreu",
           "la Sagrera",
           "9156",
           15472
          ]
         ],
         "fillcolor": "#FFE947",
         "hoveron": "points",
         "hovertemplate": "<br><b>District: %{customdata[0]}</b></br><b>Neighborhood: %{customdata[1]}</b><br><b>Census section: %{customdata[2]}</b></br><b>Income: %{customdata[3]}</b><extra></extra>",
         "jitter": 1,
         "line": {
          "color": "#FDC903"
         },
         "marker": {
          "color": "#FDC903",
          "line": {
           "color": "#FFE947",
           "width": 1
          },
          "size": 8
         },
         "name": "Sant Andreu",
         "pointpos": 0,
         "points": "all",
         "showlegend": false,
         "type": "violin",
         "y": [
          8337,
          9565,
          9676,
          10317,
          13149,
          10638,
          9671,
          19225,
          14670,
          12999,
          11087,
          9572,
          11139,
          10989,
          16364,
          16187,
          16269,
          17558,
          17593,
          17726,
          18272,
          17896,
          17241,
          18041,
          18254,
          17987,
          19339,
          15969,
          17826,
          17776,
          13645,
          15799,
          14364,
          15911,
          17129,
          13677,
          17492,
          16853,
          17812,
          16135,
          18375,
          15506,
          16988,
          17245,
          18308,
          18227,
          16582,
          15688,
          17883,
          17686,
          16678,
          18243,
          17824,
          13809,
          16945,
          14733,
          16714,
          15977,
          15781,
          18307,
          16406,
          18082,
          17207,
          15430,
          17764,
          14608,
          16871,
          16092,
          12138,
          14705,
          13082,
          16848,
          15272,
          15110,
          15138,
          15977,
          15733,
          17000,
          16154,
          16030,
          16260,
          16654,
          17776,
          16484,
          16143,
          16934,
          14762,
          15410,
          15227,
          16236,
          16506,
          16219,
          16594,
          16517,
          15472
         ]
        },
        {
         "box": {
          "visible": false
         },
         "customdata": [
          [
           "Sant Martí",
           "el Camp de l'Arpa del Clot",
           "10001",
           14863
          ],
          [
           "Sant Martí",
           "el Camp de l'Arpa del Clot",
           "10002",
           15795
          ],
          [
           "Sant Martí",
           "el Camp de l'Arpa del Clot",
           "10003",
           15884
          ],
          [
           "Sant Martí",
           "el Camp de l'Arpa del Clot",
           "10004",
           16234
          ],
          [
           "Sant Martí",
           "el Camp de l'Arpa del Clot",
           "10005",
           16789
          ],
          [
           "Sant Martí",
           "el Camp de l'Arpa del Clot",
           "10006",
           17559
          ],
          [
           "Sant Martí",
           "el Camp de l'Arpa del Clot",
           "10007",
           21636
          ],
          [
           "Sant Martí",
           "el Camp de l'Arpa del Clot",
           "10008",
           17000
          ],
          [
           "Sant Martí",
           "el Camp de l'Arpa del Clot",
           "10009",
           17258
          ],
          [
           "Sant Martí",
           "el Camp de l'Arpa del Clot",
           "10010",
           15931
          ],
          [
           "Sant Martí",
           "el Camp de l'Arpa del Clot",
           "10011",
           18141
          ],
          [
           "Sant Martí",
           "el Camp de l'Arpa del Clot",
           "10012",
           17869
          ],
          [
           "Sant Martí",
           "el Camp de l'Arpa del Clot",
           "10013",
           16523
          ],
          [
           "Sant Martí",
           "el Camp de l'Arpa del Clot",
           "10014",
           15688
          ],
          [
           "Sant Martí",
           "el Camp de l'Arpa del Clot",
           "10015",
           16447
          ],
          [
           "Sant Martí",
           "el Camp de l'Arpa del Clot",
           "10016",
           17829
          ],
          [
           "Sant Martí",
           "el Camp de l'Arpa del Clot",
           "10017",
           16646
          ],
          [
           "Sant Martí",
           "el Camp de l'Arpa del Clot",
           "10018",
           16085
          ],
          [
           "Sant Martí",
           "el Camp de l'Arpa del Clot",
           "10019",
           16948
          ],
          [
           "Sant Martí",
           "el Camp de l'Arpa del Clot",
           "10020",
           15038
          ],
          [
           "Sant Martí",
           "el Camp de l'Arpa del Clot",
           "10021",
           15345
          ],
          [
           "Sant Martí",
           "el Camp de l'Arpa del Clot",
           "10022",
           16333
          ],
          [
           "Sant Martí",
           "el Camp de l'Arpa del Clot",
           "10023",
           15455
          ],
          [
           "Sant Martí",
           "el Camp de l'Arpa del Clot",
           "10024",
           17040
          ],
          [
           "Sant Martí",
           "el Camp de l'Arpa del Clot",
           "10025",
           15683
          ],
          [
           "Sant Martí",
           "el Clot",
           "10026",
           17299
          ],
          [
           "Sant Martí",
           "el Clot",
           "10027",
           17284
          ],
          [
           "Sant Martí",
           "el Clot",
           "10028",
           16207
          ],
          [
           "Sant Martí",
           "el Clot",
           "10029",
           15399
          ],
          [
           "Sant Martí",
           "el Clot",
           "10030",
           16210
          ],
          [
           "Sant Martí",
           "el Clot",
           "10031",
           16619
          ],
          [
           "Sant Martí",
           "el Clot",
           "10032",
           16940
          ],
          [
           "Sant Martí",
           "el Clot",
           "10033",
           19430
          ],
          [
           "Sant Martí",
           "el Clot",
           "10034",
           15820
          ],
          [
           "Sant Martí",
           "el Clot",
           "10035",
           18018
          ],
          [
           "Sant Martí",
           "el Clot",
           "10036",
           18566
          ],
          [
           "Sant Martí",
           "el Clot",
           "10037",
           12606
          ],
          [
           "Sant Martí",
           "el Clot",
           "10038",
           18328
          ],
          [
           "Sant Martí",
           "el Clot",
           "10039",
           15391
          ],
          [
           "Sant Martí",
           "el Clot",
           "10040",
           16004
          ],
          [
           "Sant Martí",
           "el Clot",
           "10041",
           16736
          ],
          [
           "Sant Martí",
           "el Parc i la Llacuna del Poblenou",
           "10042",
           14942
          ],
          [
           "Sant Martí",
           "el Parc i la Llacuna del Poblenou",
           "10043",
           15112
          ],
          [
           "Sant Martí",
           "el Parc i la Llacuna del Poblenou",
           "10044",
           17470
          ],
          [
           "Sant Martí",
           "el Parc i la Llacuna del Poblenou",
           "10045",
           18553
          ],
          [
           "Sant Martí",
           "el Parc i la Llacuna del Poblenou",
           "10046",
           18860
          ],
          [
           "Sant Martí",
           "el Parc i la Llacuna del Poblenou",
           "10047",
           18334
          ],
          [
           "Sant Martí",
           "el Parc i la Llacuna del Poblenou",
           "10048",
           18851
          ],
          [
           "Sant Martí",
           "el Parc i la Llacuna del Poblenou",
           "10049",
           17719
          ],
          [
           "Sant Martí",
           "el Parc i la Llacuna del Poblenou",
           "10050",
           18438
          ],
          [
           "Sant Martí",
           "la Vila Olímpica del Poblenou",
           "10051",
           18720
          ],
          [
           "Sant Martí",
           "la Vila Olímpica del Poblenou",
           "10052",
           23591
          ],
          [
           "Sant Martí",
           "la Vila Olímpica del Poblenou",
           "10053",
           27126
          ],
          [
           "Sant Martí",
           "la Vila Olímpica del Poblenou",
           "10054",
           22887
          ],
          [
           "Sant Martí",
           "la Vila Olímpica del Poblenou",
           "10055",
           25476
          ],
          [
           "Sant Martí",
           "el Poblenou",
           "10056",
           13934
          ],
          [
           "Sant Martí",
           "el Poblenou",
           "10057",
           16064
          ],
          [
           "Sant Martí",
           "el Poblenou",
           "10058",
           15709
          ],
          [
           "Sant Martí",
           "el Poblenou",
           "10059",
           17963
          ],
          [
           "Sant Martí",
           "el Poblenou",
           "10060",
           16031
          ],
          [
           "Sant Martí",
           "el Poblenou",
           "10061",
           18324
          ],
          [
           "Sant Martí",
           "el Poblenou",
           "10062",
           17784
          ],
          [
           "Sant Martí",
           "el Poblenou",
           "10063",
           17745
          ],
          [
           "Sant Martí",
           "el Poblenou",
           "10064",
           18318
          ],
          [
           "Sant Martí",
           "el Poblenou",
           "10065",
           18573
          ],
          [
           "Sant Martí",
           "el Poblenou",
           "10066",
           17961
          ],
          [
           "Sant Martí",
           "el Poblenou",
           "10067",
           22433
          ],
          [
           "Sant Martí",
           "el Poblenou",
           "10068",
           19439
          ],
          [
           "Sant Martí",
           "el Poblenou",
           "10069",
           19826
          ],
          [
           "Sant Martí",
           "el Poblenou",
           "10070",
           16648
          ],
          [
           "Sant Martí",
           "el Poblenou",
           "10071",
           18961
          ],
          [
           "Sant Martí",
           "el Poblenou",
           "10072",
           16945
          ],
          [
           "Sant Martí",
           "el Poblenou",
           "10073",
           15797
          ],
          [
           "Sant Martí",
           "el Poblenou",
           "10074",
           16183
          ],
          [
           "Sant Martí",
           "el Poblenou",
           "10075",
           15995
          ],
          [
           "Sant Martí",
           "Diagonal Mar i el Front Marítim del Poblenou",
           "10076",
           18981
          ],
          [
           "Sant Martí",
           "Diagonal Mar i el Front Marítim del Poblenou",
           "10077",
           20587
          ],
          [
           "Sant Martí",
           "Diagonal Mar i el Front Marítim del Poblenou",
           "10078",
           21121
          ],
          [
           "Sant Martí",
           "Diagonal Mar i el Front Marítim del Poblenou",
           "10079",
           18273
          ],
          [
           "Sant Martí",
           "Diagonal Mar i el Front Marítim del Poblenou",
           "10080",
           23029
          ],
          [
           "Sant Martí",
           "el Besòs i el Maresme",
           "10081",
           12800
          ],
          [
           "Sant Martí",
           "el Besòs i el Maresme",
           "10082",
           7725
          ],
          [
           "Sant Martí",
           "el Besòs i el Maresme",
           "10083",
           7028
          ],
          [
           "Sant Martí",
           "el Besòs i el Maresme",
           "10084",
           9686
          ],
          [
           "Sant Martí",
           "el Besòs i el Maresme",
           "10085",
           8762
          ],
          [
           "Sant Martí",
           "el Besòs i el Maresme",
           "10086",
           10179
          ],
          [
           "Sant Martí",
           "el Besòs i el Maresme",
           "10087",
           10322
          ],
          [
           "Sant Martí",
           "el Besòs i el Maresme",
           "10088",
           13982
          ],
          [
           "Sant Martí",
           "el Besòs i el Maresme",
           "10089",
           10406
          ],
          [
           "Sant Martí",
           "el Besòs i el Maresme",
           "10090",
           11685
          ],
          [
           "Sant Martí",
           "el Besòs i el Maresme",
           "10091",
           13133
          ],
          [
           "Sant Martí",
           "el Besòs i el Maresme",
           "10092",
           15481
          ],
          [
           "Sant Martí",
           "el Besòs i el Maresme",
           "10093",
           16435
          ],
          [
           "Sant Martí",
           "Provençals del Poblenou",
           "10094",
           17189
          ],
          [
           "Sant Martí",
           "Provençals del Poblenou",
           "10095",
           14059
          ],
          [
           "Sant Martí",
           "Provençals del Poblenou",
           "10096",
           18118
          ],
          [
           "Sant Martí",
           "Provençals del Poblenou",
           "10097",
           18451
          ],
          [
           "Sant Martí",
           "Provençals del Poblenou",
           "10098",
           17264
          ],
          [
           "Sant Martí",
           "Provençals del Poblenou",
           "10099",
           11929
          ],
          [
           "Sant Martí",
           "Provençals del Poblenou",
           "10100",
           14102
          ],
          [
           "Sant Martí",
           "Provençals del Poblenou",
           "10101",
           13639
          ],
          [
           "Sant Martí",
           "Provençals del Poblenou",
           "10102",
           13789
          ],
          [
           "Sant Martí",
           "Provençals del Poblenou",
           "10103",
           15310
          ],
          [
           "Sant Martí",
           "Provençals del Poblenou",
           "10104",
           17837
          ],
          [
           "Sant Martí",
           "Sant Martí de Provençals",
           "10105",
           16029
          ],
          [
           "Sant Martí",
           "Sant Martí de Provençals",
           "10106",
           15270
          ],
          [
           "Sant Martí",
           "Sant Martí de Provençals",
           "10107",
           18763
          ],
          [
           "Sant Martí",
           "Sant Martí de Provençals",
           "10108",
           15241
          ],
          [
           "Sant Martí",
           "Sant Martí de Provençals",
           "10109",
           14108
          ],
          [
           "Sant Martí",
           "Sant Martí de Provençals",
           "10110",
           14008
          ],
          [
           "Sant Martí",
           "Sant Martí de Provençals",
           "10111",
           14520
          ],
          [
           "Sant Martí",
           "Sant Martí de Provençals",
           "10112",
           18028
          ],
          [
           "Sant Martí",
           "Sant Martí de Provençals",
           "10113",
           14290
          ],
          [
           "Sant Martí",
           "Sant Martí de Provençals",
           "10114",
           12535
          ],
          [
           "Sant Martí",
           "Sant Martí de Provençals",
           "10115",
           13576
          ],
          [
           "Sant Martí",
           "Sant Martí de Provençals",
           "10116",
           13033
          ],
          [
           "Sant Martí",
           "Sant Martí de Provençals",
           "10117",
           14233
          ],
          [
           "Sant Martí",
           "Sant Martí de Provençals",
           "10118",
           17949
          ],
          [
           "Sant Martí",
           "Sant Martí de Provençals",
           "10119",
           13146
          ],
          [
           "Sant Martí",
           "Sant Martí de Provençals",
           "10120",
           14033
          ],
          [
           "Sant Martí",
           "Sant Martí de Provençals",
           "10121",
           13427
          ],
          [
           "Sant Martí",
           "Sant Martí de Provençals",
           "10122",
           16878
          ],
          [
           "Sant Martí",
           "la Verneda i la Pau",
           "10123",
           14930
          ],
          [
           "Sant Martí",
           "la Verneda i la Pau",
           "10124",
           15673
          ],
          [
           "Sant Martí",
           "la Verneda i la Pau",
           "10125",
           14109
          ],
          [
           "Sant Martí",
           "la Verneda i la Pau",
           "10126",
           15232
          ],
          [
           "Sant Martí",
           "la Verneda i la Pau",
           "10127",
           15853
          ],
          [
           "Sant Martí",
           "la Verneda i la Pau",
           "10128",
           16095
          ],
          [
           "Sant Martí",
           "la Verneda i la Pau",
           "10129",
           16115
          ],
          [
           "Sant Martí",
           "la Verneda i la Pau",
           "10130",
           15287
          ],
          [
           "Sant Martí",
           "la Verneda i la Pau",
           "10131",
           17885
          ],
          [
           "Sant Martí",
           "la Verneda i la Pau",
           "10132",
           13730
          ],
          [
           "Sant Martí",
           "la Verneda i la Pau",
           "10133",
           12910
          ],
          [
           "Sant Martí",
           "la Verneda i la Pau",
           "10134",
           13274
          ],
          [
           "Sant Martí",
           "la Verneda i la Pau",
           "10135",
           13663
          ],
          [
           "Sant Martí",
           "la Verneda i la Pau",
           "10136",
           13701
          ],
          [
           "Sant Martí",
           "la Verneda i la Pau",
           "10137",
           12252
          ],
          [
           "Sant Martí",
           "la Verneda i la Pau",
           "10138",
           10903
          ],
          [
           "Sant Martí",
           "la Verneda i la Pau",
           "10139",
           11579
          ],
          [
           "Sant Martí",
           "la Verneda i la Pau",
           "10140",
           11746
          ],
          [
           "Sant Martí",
           "la Verneda i la Pau",
           "10141",
           12213
          ],
          [
           "Sant Martí",
           "la Verneda i la Pau",
           "10142",
           11400
          ],
          [
           "Sant Martí",
           "la Verneda i la Pau",
           "10143",
           12705
          ],
          [
           "Sant Martí",
           "el Clot",
           "10234",
           16081
          ],
          [
           "Sant Martí",
           "Diagonal Mar i el Front Marítim del Poblenou",
           "10235",
           14455
          ],
          [
           "Sant Martí",
           "Diagonal Mar i el Front Marítim del Poblenou",
           "10236",
           14844
          ],
          [
           "Sant Martí",
           "Provençals del Poblenou",
           "10237",
           13443
          ]
         ],
         "fillcolor": "#F4DDAD",
         "hoveron": "points",
         "hovertemplate": "<br><b>District: %{customdata[0]}</b></br><b>Neighborhood: %{customdata[1]}</b><br><b>Census section: %{customdata[2]}</b></br><b>Income: %{customdata[3]}</b><extra></extra>",
         "jitter": 1,
         "line": {
          "color": "#C1A471"
         },
         "marker": {
          "color": "#C1A471",
          "line": {
           "color": "#F4DDAD",
           "width": 1
          },
          "size": 8
         },
         "name": "Sant Martí",
         "pointpos": 0,
         "points": "all",
         "showlegend": false,
         "type": "violin",
         "y": [
          14863,
          15795,
          15884,
          16234,
          16789,
          17559,
          21636,
          17000,
          17258,
          15931,
          18141,
          17869,
          16523,
          15688,
          16447,
          17829,
          16646,
          16085,
          16948,
          15038,
          15345,
          16333,
          15455,
          17040,
          15683,
          17299,
          17284,
          16207,
          15399,
          16210,
          16619,
          16940,
          19430,
          15820,
          18018,
          18566,
          12606,
          18328,
          15391,
          16004,
          16736,
          14942,
          15112,
          17470,
          18553,
          18860,
          18334,
          18851,
          17719,
          18438,
          18720,
          23591,
          27126,
          22887,
          25476,
          13934,
          16064,
          15709,
          17963,
          16031,
          18324,
          17784,
          17745,
          18318,
          18573,
          17961,
          22433,
          19439,
          19826,
          16648,
          18961,
          16945,
          15797,
          16183,
          15995,
          18981,
          20587,
          21121,
          18273,
          23029,
          12800,
          7725,
          7028,
          9686,
          8762,
          10179,
          10322,
          13982,
          10406,
          11685,
          13133,
          15481,
          16435,
          17189,
          14059,
          18118,
          18451,
          17264,
          11929,
          14102,
          13639,
          13789,
          15310,
          17837,
          16029,
          15270,
          18763,
          15241,
          14108,
          14008,
          14520,
          18028,
          14290,
          12535,
          13576,
          13033,
          14233,
          17949,
          13146,
          14033,
          13427,
          16878,
          14930,
          15673,
          14109,
          15232,
          15853,
          16095,
          16115,
          15287,
          17885,
          13730,
          12910,
          13274,
          13663,
          13701,
          12252,
          10903,
          11579,
          11746,
          12213,
          11400,
          12705,
          16081,
          14455,
          14844,
          13443
         ]
        }
       ],
       "layout": {
        "margin": {
         "b": 50,
         "l": 100,
         "r": 25,
         "t": 25
        },
        "paper_bgcolor": "white",
        "plot_bgcolor": "white",
        "showlegend": false,
        "template": {
         "data": {
          "bar": [
           {
            "error_x": {
             "color": "#2a3f5f"
            },
            "error_y": {
             "color": "#2a3f5f"
            },
            "marker": {
             "line": {
              "color": "#E5ECF6",
              "width": 0.5
             },
             "pattern": {
              "fillmode": "overlay",
              "size": 10,
              "solidity": 0.2
             }
            },
            "type": "bar"
           }
          ],
          "barpolar": [
           {
            "marker": {
             "line": {
              "color": "#E5ECF6",
              "width": 0.5
             },
             "pattern": {
              "fillmode": "overlay",
              "size": 10,
              "solidity": 0.2
             }
            },
            "type": "barpolar"
           }
          ],
          "carpet": [
           {
            "aaxis": {
             "endlinecolor": "#2a3f5f",
             "gridcolor": "white",
             "linecolor": "white",
             "minorgridcolor": "white",
             "startlinecolor": "#2a3f5f"
            },
            "baxis": {
             "endlinecolor": "#2a3f5f",
             "gridcolor": "white",
             "linecolor": "white",
             "minorgridcolor": "white",
             "startlinecolor": "#2a3f5f"
            },
            "type": "carpet"
           }
          ],
          "choropleth": [
           {
            "colorbar": {
             "outlinewidth": 0,
             "ticks": ""
            },
            "type": "choropleth"
           }
          ],
          "contour": [
           {
            "colorbar": {
             "outlinewidth": 0,
             "ticks": ""
            },
            "colorscale": [
             [
              0,
              "#0d0887"
             ],
             [
              0.1111111111111111,
              "#46039f"
             ],
             [
              0.2222222222222222,
              "#7201a8"
             ],
             [
              0.3333333333333333,
              "#9c179e"
             ],
             [
              0.4444444444444444,
              "#bd3786"
             ],
             [
              0.5555555555555556,
              "#d8576b"
             ],
             [
              0.6666666666666666,
              "#ed7953"
             ],
             [
              0.7777777777777778,
              "#fb9f3a"
             ],
             [
              0.8888888888888888,
              "#fdca26"
             ],
             [
              1,
              "#f0f921"
             ]
            ],
            "type": "contour"
           }
          ],
          "contourcarpet": [
           {
            "colorbar": {
             "outlinewidth": 0,
             "ticks": ""
            },
            "type": "contourcarpet"
           }
          ],
          "heatmap": [
           {
            "colorbar": {
             "outlinewidth": 0,
             "ticks": ""
            },
            "colorscale": [
             [
              0,
              "#0d0887"
             ],
             [
              0.1111111111111111,
              "#46039f"
             ],
             [
              0.2222222222222222,
              "#7201a8"
             ],
             [
              0.3333333333333333,
              "#9c179e"
             ],
             [
              0.4444444444444444,
              "#bd3786"
             ],
             [
              0.5555555555555556,
              "#d8576b"
             ],
             [
              0.6666666666666666,
              "#ed7953"
             ],
             [
              0.7777777777777778,
              "#fb9f3a"
             ],
             [
              0.8888888888888888,
              "#fdca26"
             ],
             [
              1,
              "#f0f921"
             ]
            ],
            "type": "heatmap"
           }
          ],
          "heatmapgl": [
           {
            "colorbar": {
             "outlinewidth": 0,
             "ticks": ""
            },
            "colorscale": [
             [
              0,
              "#0d0887"
             ],
             [
              0.1111111111111111,
              "#46039f"
             ],
             [
              0.2222222222222222,
              "#7201a8"
             ],
             [
              0.3333333333333333,
              "#9c179e"
             ],
             [
              0.4444444444444444,
              "#bd3786"
             ],
             [
              0.5555555555555556,
              "#d8576b"
             ],
             [
              0.6666666666666666,
              "#ed7953"
             ],
             [
              0.7777777777777778,
              "#fb9f3a"
             ],
             [
              0.8888888888888888,
              "#fdca26"
             ],
             [
              1,
              "#f0f921"
             ]
            ],
            "type": "heatmapgl"
           }
          ],
          "histogram": [
           {
            "marker": {
             "pattern": {
              "fillmode": "overlay",
              "size": 10,
              "solidity": 0.2
             }
            },
            "type": "histogram"
           }
          ],
          "histogram2d": [
           {
            "colorbar": {
             "outlinewidth": 0,
             "ticks": ""
            },
            "colorscale": [
             [
              0,
              "#0d0887"
             ],
             [
              0.1111111111111111,
              "#46039f"
             ],
             [
              0.2222222222222222,
              "#7201a8"
             ],
             [
              0.3333333333333333,
              "#9c179e"
             ],
             [
              0.4444444444444444,
              "#bd3786"
             ],
             [
              0.5555555555555556,
              "#d8576b"
             ],
             [
              0.6666666666666666,
              "#ed7953"
             ],
             [
              0.7777777777777778,
              "#fb9f3a"
             ],
             [
              0.8888888888888888,
              "#fdca26"
             ],
             [
              1,
              "#f0f921"
             ]
            ],
            "type": "histogram2d"
           }
          ],
          "histogram2dcontour": [
           {
            "colorbar": {
             "outlinewidth": 0,
             "ticks": ""
            },
            "colorscale": [
             [
              0,
              "#0d0887"
             ],
             [
              0.1111111111111111,
              "#46039f"
             ],
             [
              0.2222222222222222,
              "#7201a8"
             ],
             [
              0.3333333333333333,
              "#9c179e"
             ],
             [
              0.4444444444444444,
              "#bd3786"
             ],
             [
              0.5555555555555556,
              "#d8576b"
             ],
             [
              0.6666666666666666,
              "#ed7953"
             ],
             [
              0.7777777777777778,
              "#fb9f3a"
             ],
             [
              0.8888888888888888,
              "#fdca26"
             ],
             [
              1,
              "#f0f921"
             ]
            ],
            "type": "histogram2dcontour"
           }
          ],
          "mesh3d": [
           {
            "colorbar": {
             "outlinewidth": 0,
             "ticks": ""
            },
            "type": "mesh3d"
           }
          ],
          "parcoords": [
           {
            "line": {
             "colorbar": {
              "outlinewidth": 0,
              "ticks": ""
             }
            },
            "type": "parcoords"
           }
          ],
          "pie": [
           {
            "automargin": true,
            "type": "pie"
           }
          ],
          "scatter": [
           {
            "fillpattern": {
             "fillmode": "overlay",
             "size": 10,
             "solidity": 0.2
            },
            "type": "scatter"
           }
          ],
          "scatter3d": [
           {
            "line": {
             "colorbar": {
              "outlinewidth": 0,
              "ticks": ""
             }
            },
            "marker": {
             "colorbar": {
              "outlinewidth": 0,
              "ticks": ""
             }
            },
            "type": "scatter3d"
           }
          ],
          "scattercarpet": [
           {
            "marker": {
             "colorbar": {
              "outlinewidth": 0,
              "ticks": ""
             }
            },
            "type": "scattercarpet"
           }
          ],
          "scattergeo": [
           {
            "marker": {
             "colorbar": {
              "outlinewidth": 0,
              "ticks": ""
             }
            },
            "type": "scattergeo"
           }
          ],
          "scattergl": [
           {
            "marker": {
             "colorbar": {
              "outlinewidth": 0,
              "ticks": ""
             }
            },
            "type": "scattergl"
           }
          ],
          "scattermapbox": [
           {
            "marker": {
             "colorbar": {
              "outlinewidth": 0,
              "ticks": ""
             }
            },
            "type": "scattermapbox"
           }
          ],
          "scatterpolar": [
           {
            "marker": {
             "colorbar": {
              "outlinewidth": 0,
              "ticks": ""
             }
            },
            "type": "scatterpolar"
           }
          ],
          "scatterpolargl": [
           {
            "marker": {
             "colorbar": {
              "outlinewidth": 0,
              "ticks": ""
             }
            },
            "type": "scatterpolargl"
           }
          ],
          "scatterternary": [
           {
            "marker": {
             "colorbar": {
              "outlinewidth": 0,
              "ticks": ""
             }
            },
            "type": "scatterternary"
           }
          ],
          "surface": [
           {
            "colorbar": {
             "outlinewidth": 0,
             "ticks": ""
            },
            "colorscale": [
             [
              0,
              "#0d0887"
             ],
             [
              0.1111111111111111,
              "#46039f"
             ],
             [
              0.2222222222222222,
              "#7201a8"
             ],
             [
              0.3333333333333333,
              "#9c179e"
             ],
             [
              0.4444444444444444,
              "#bd3786"
             ],
             [
              0.5555555555555556,
              "#d8576b"
             ],
             [
              0.6666666666666666,
              "#ed7953"
             ],
             [
              0.7777777777777778,
              "#fb9f3a"
             ],
             [
              0.8888888888888888,
              "#fdca26"
             ],
             [
              1,
              "#f0f921"
             ]
            ],
            "type": "surface"
           }
          ],
          "table": [
           {
            "cells": {
             "fill": {
              "color": "#EBF0F8"
             },
             "line": {
              "color": "white"
             }
            },
            "header": {
             "fill": {
              "color": "#C8D4E3"
             },
             "line": {
              "color": "white"
             }
            },
            "type": "table"
           }
          ]
         },
         "layout": {
          "annotationdefaults": {
           "arrowcolor": "#2a3f5f",
           "arrowhead": 0,
           "arrowwidth": 1
          },
          "autotypenumbers": "strict",
          "coloraxis": {
           "colorbar": {
            "outlinewidth": 0,
            "ticks": ""
           }
          },
          "colorscale": {
           "diverging": [
            [
             0,
             "#8e0152"
            ],
            [
             0.1,
             "#c51b7d"
            ],
            [
             0.2,
             "#de77ae"
            ],
            [
             0.3,
             "#f1b6da"
            ],
            [
             0.4,
             "#fde0ef"
            ],
            [
             0.5,
             "#f7f7f7"
            ],
            [
             0.6,
             "#e6f5d0"
            ],
            [
             0.7,
             "#b8e186"
            ],
            [
             0.8,
             "#7fbc41"
            ],
            [
             0.9,
             "#4d9221"
            ],
            [
             1,
             "#276419"
            ]
           ],
           "sequential": [
            [
             0,
             "#0d0887"
            ],
            [
             0.1111111111111111,
             "#46039f"
            ],
            [
             0.2222222222222222,
             "#7201a8"
            ],
            [
             0.3333333333333333,
             "#9c179e"
            ],
            [
             0.4444444444444444,
             "#bd3786"
            ],
            [
             0.5555555555555556,
             "#d8576b"
            ],
            [
             0.6666666666666666,
             "#ed7953"
            ],
            [
             0.7777777777777778,
             "#fb9f3a"
            ],
            [
             0.8888888888888888,
             "#fdca26"
            ],
            [
             1,
             "#f0f921"
            ]
           ],
           "sequentialminus": [
            [
             0,
             "#0d0887"
            ],
            [
             0.1111111111111111,
             "#46039f"
            ],
            [
             0.2222222222222222,
             "#7201a8"
            ],
            [
             0.3333333333333333,
             "#9c179e"
            ],
            [
             0.4444444444444444,
             "#bd3786"
            ],
            [
             0.5555555555555556,
             "#d8576b"
            ],
            [
             0.6666666666666666,
             "#ed7953"
            ],
            [
             0.7777777777777778,
             "#fb9f3a"
            ],
            [
             0.8888888888888888,
             "#fdca26"
            ],
            [
             1,
             "#f0f921"
            ]
           ]
          },
          "colorway": [
           "#636efa",
           "#EF553B",
           "#00cc96",
           "#ab63fa",
           "#FFA15A",
           "#19d3f3",
           "#FF6692",
           "#B6E880",
           "#FF97FF",
           "#FECB52"
          ],
          "font": {
           "color": "#2a3f5f"
          },
          "geo": {
           "bgcolor": "white",
           "lakecolor": "white",
           "landcolor": "#E5ECF6",
           "showlakes": true,
           "showland": true,
           "subunitcolor": "white"
          },
          "hoverlabel": {
           "align": "left"
          },
          "hovermode": "closest",
          "mapbox": {
           "style": "light"
          },
          "paper_bgcolor": "white",
          "plot_bgcolor": "#E5ECF6",
          "polar": {
           "angularaxis": {
            "gridcolor": "white",
            "linecolor": "white",
            "ticks": ""
           },
           "bgcolor": "#E5ECF6",
           "radialaxis": {
            "gridcolor": "white",
            "linecolor": "white",
            "ticks": ""
           }
          },
          "scene": {
           "xaxis": {
            "backgroundcolor": "#E5ECF6",
            "gridcolor": "white",
            "gridwidth": 2,
            "linecolor": "white",
            "showbackground": true,
            "ticks": "",
            "zerolinecolor": "white"
           },
           "yaxis": {
            "backgroundcolor": "#E5ECF6",
            "gridcolor": "white",
            "gridwidth": 2,
            "linecolor": "white",
            "showbackground": true,
            "ticks": "",
            "zerolinecolor": "white"
           },
           "zaxis": {
            "backgroundcolor": "#E5ECF6",
            "gridcolor": "white",
            "gridwidth": 2,
            "linecolor": "white",
            "showbackground": true,
            "ticks": "",
            "zerolinecolor": "white"
           }
          },
          "shapedefaults": {
           "line": {
            "color": "#2a3f5f"
           }
          },
          "ternary": {
           "aaxis": {
            "gridcolor": "white",
            "linecolor": "white",
            "ticks": ""
           },
           "baxis": {
            "gridcolor": "white",
            "linecolor": "white",
            "ticks": ""
           },
           "bgcolor": "#E5ECF6",
           "caxis": {
            "gridcolor": "white",
            "linecolor": "white",
            "ticks": ""
           }
          },
          "title": {
           "x": 0.05
          },
          "xaxis": {
           "automargin": true,
           "gridcolor": "white",
           "linecolor": "white",
           "ticks": "",
           "title": {
            "standoff": 15
           },
           "zerolinecolor": "white",
           "zerolinewidth": 2
          },
          "yaxis": {
           "automargin": true,
           "gridcolor": "white",
           "linecolor": "white",
           "ticks": "",
           "title": {
            "standoff": 15
           },
           "zerolinecolor": "white",
           "zerolinewidth": 2
          }
         }
        },
        "xaxis": {
         "gridcolor": "lightgrey",
         "linecolor": "black",
         "title": {
          "text": "District"
         }
        },
        "yaxis": {
         "gridcolor": "lightgrey",
         "linecolor": "black",
         "title": {
          "text": "Income per person/year (1000s €)"
         }
        }
       }
      }
     },
     "metadata": {},
     "output_type": "display_data"
    }
   ],
   "source": [
    "#create the list of violin objects with different colors\n",
    "\n",
    "violins = [] #create an empty list\n",
    "\n",
    "district_names = ['Ciutat Vella', \"L'Eixample\", 'Sants-Montjuïc', 'Les Corts', 'Sarrià-Sant Gervasi', 'Gràcia', 'Horta-Guinardó', 'Nou Barris', 'Sant Andreu', 'Sant Martí'] #list with each district's name, in the order we want it\n",
    "\n",
    "for i, district_name in enumerate(district_names): #loop over all districts\n",
    "    district_data = df_indivincome.loc[df_indivincome['district_name'] == district_name, 'income_per_person']\n",
    "\n",
    "    violin = go.Violin( #defining parameters for the plot\n",
    "        y=district_data,\n",
    "        box_visible=False,\n",
    "        line_color=palcolors[i],\n",
    "        fillcolor=palcolors_light[i],\n",
    "        points='all',\n",
    "        pointpos=0,\n",
    "        jitter=1,\n",
    "        marker=dict(color=palcolors[i], size=8, line=dict(color=palcolors_light[i], width=1)),\n",
    "        hoveron='points',\n",
    "        name=district_name,\n",
    "        showlegend=False,\n",
    "        customdata=np.column_stack(( #choosing the columns to display information when hovering with the mouse on the data points\n",
    "            df_indivincome.loc[df_indivincome['district_name'] == district_name, 'district_name'],\n",
    "            df_indivincome.loc[df_indivincome['district_name'] == district_name, 'neighborhood_name'],\n",
    "            df_indivincome.loc[df_indivincome['district_name'] == district_name, 'census_section'],\n",
    "            district_data\n",
    "        )),\n",
    "        hovertemplate=( #assigning a template to structure and label the aforementioned information\n",
    "            '<br><b>District: %{customdata[0]}</b></br>'\n",
    "            '<b>Neighborhood: %{customdata[1]}</b>'\n",
    "            '<br><b>Census section: %{customdata[2]}</b></br>'\n",
    "            '<b>Income: %{customdata[3]}</b><extra></extra>'\n",
    "        )\n",
    "    )\n",
    "    violins.append(violin) #append current violin to the list\n",
    "\n",
    "#create the figure\n",
    "fig1 = go.Figure(data=violins, layout=mylayout)\n",
    "\n",
    "#update my custom layout with some elements specific to this figure\n",
    "fig1.update_layout(\n",
    "    xaxis=dict(title='District'),\n",
    "    yaxis=dict(title='Income per person/year (1000s €)'),\n",
    "    margin=dict(l=100, r=25, b=50, t=25),#customizing margins\n",
    "    showlegend=False #no legends\n",
    ")\n",
    "\n",
    "#show the figure\n",
    "fig1.show()"
   ]
  },
  {
   "cell_type": "markdown",
   "metadata": {},
   "source": [
    "Quite a lot of data! Overall, the violins, which are just mirrored densities, help appreciate the concentration of data along the y-axis, which expresses the income per person/year in 1000s of euros.\n",
    "\n",
    "We can clearly see that some districts are on the wealthy side, like Sarrià-Sant Gervasi and Les Corts. Others are much more modest, like Ciutat Vella and Nou Barris. And some are quite homogeneous (Gràcia), while others are very diverse (Sant Martí)."
   ]
  },
  {
   "cell_type": "markdown",
   "metadata": {},
   "source": [
    "## 3. Second dataset: number of tenants per household\n",
    "Next up we'll move on to our second dataset, containing the average number of people living in a household, split by city subdivisions. The dataset can also be found on [the City Council's website](https://opendata-ajuntament.barcelona.cat/data/en/dataset/pad_dom_mdbas_n-persones/resource/66985e32-b3c1-4f3e-a987-f880a4c509d3).\n",
    "\n",
    "We'll follow the same procedure: data loading, processing and visualization."
   ]
  },
  {
   "cell_type": "markdown",
   "metadata": {},
   "source": [
    "### 3.1. Loading the dataset"
   ]
  },
  {
   "cell_type": "code",
   "execution_count": 77,
   "metadata": {},
   "outputs": [
    {
     "data": {
      "text/html": [
       "<div>\n",
       "<style scoped>\n",
       "    .dataframe tbody tr th:only-of-type {\n",
       "        vertical-align: middle;\n",
       "    }\n",
       "\n",
       "    .dataframe tbody tr th {\n",
       "        vertical-align: top;\n",
       "    }\n",
       "\n",
       "    .dataframe thead th {\n",
       "        text-align: right;\n",
       "    }\n",
       "</style>\n",
       "<table border=\"1\" class=\"dataframe\">\n",
       "  <thead>\n",
       "    <tr style=\"text-align: right;\">\n",
       "      <th></th>\n",
       "      <th>Data_Referencia</th>\n",
       "      <th>Codi_Districte</th>\n",
       "      <th>Nom_Districte</th>\n",
       "      <th>Codi_Barri</th>\n",
       "      <th>Nom_Barri</th>\n",
       "      <th>AEB</th>\n",
       "      <th>Seccio_Censal</th>\n",
       "      <th>Valor</th>\n",
       "      <th>N_PERSONES_AGG</th>\n",
       "    </tr>\n",
       "  </thead>\n",
       "  <tbody>\n",
       "    <tr>\n",
       "      <th>0</th>\n",
       "      <td>2021-01-01</td>\n",
       "      <td>1</td>\n",
       "      <td>Ciutat Vella</td>\n",
       "      <td>1</td>\n",
       "      <td>el Raval</td>\n",
       "      <td>1</td>\n",
       "      <td>1001</td>\n",
       "      <td>201</td>\n",
       "      <td>1</td>\n",
       "    </tr>\n",
       "    <tr>\n",
       "      <th>1</th>\n",
       "      <td>2021-01-01</td>\n",
       "      <td>1</td>\n",
       "      <td>Ciutat Vella</td>\n",
       "      <td>1</td>\n",
       "      <td>el Raval</td>\n",
       "      <td>1</td>\n",
       "      <td>1001</td>\n",
       "      <td>127</td>\n",
       "      <td>2</td>\n",
       "    </tr>\n",
       "    <tr>\n",
       "      <th>2</th>\n",
       "      <td>2021-01-01</td>\n",
       "      <td>1</td>\n",
       "      <td>Ciutat Vella</td>\n",
       "      <td>1</td>\n",
       "      <td>el Raval</td>\n",
       "      <td>1</td>\n",
       "      <td>1001</td>\n",
       "      <td>66</td>\n",
       "      <td>3</td>\n",
       "    </tr>\n",
       "    <tr>\n",
       "      <th>3</th>\n",
       "      <td>2021-01-01</td>\n",
       "      <td>1</td>\n",
       "      <td>Ciutat Vella</td>\n",
       "      <td>1</td>\n",
       "      <td>el Raval</td>\n",
       "      <td>1</td>\n",
       "      <td>1001</td>\n",
       "      <td>56</td>\n",
       "      <td>4</td>\n",
       "    </tr>\n",
       "    <tr>\n",
       "      <th>4</th>\n",
       "      <td>2021-01-01</td>\n",
       "      <td>1</td>\n",
       "      <td>Ciutat Vella</td>\n",
       "      <td>1</td>\n",
       "      <td>el Raval</td>\n",
       "      <td>1</td>\n",
       "      <td>1001</td>\n",
       "      <td>23</td>\n",
       "      <td>5</td>\n",
       "    </tr>\n",
       "    <tr>\n",
       "      <th>...</th>\n",
       "      <td>...</td>\n",
       "      <td>...</td>\n",
       "      <td>...</td>\n",
       "      <td>...</td>\n",
       "      <td>...</td>\n",
       "      <td>...</td>\n",
       "      <td>...</td>\n",
       "      <td>...</td>\n",
       "      <td>...</td>\n",
       "    </tr>\n",
       "    <tr>\n",
       "      <th>9265</th>\n",
       "      <td>2021-01-01</td>\n",
       "      <td>10</td>\n",
       "      <td>Sant Martí</td>\n",
       "      <td>73</td>\n",
       "      <td>la Verneda i la Pau</td>\n",
       "      <td>233</td>\n",
       "      <td>10143</td>\n",
       "      <td>39</td>\n",
       "      <td>5</td>\n",
       "    </tr>\n",
       "    <tr>\n",
       "      <th>9266</th>\n",
       "      <td>2021-01-01</td>\n",
       "      <td>10</td>\n",
       "      <td>Sant Martí</td>\n",
       "      <td>73</td>\n",
       "      <td>la Verneda i la Pau</td>\n",
       "      <td>233</td>\n",
       "      <td>10143</td>\n",
       "      <td>17</td>\n",
       "      <td>6</td>\n",
       "    </tr>\n",
       "    <tr>\n",
       "      <th>9267</th>\n",
       "      <td>2021-01-01</td>\n",
       "      <td>10</td>\n",
       "      <td>Sant Martí</td>\n",
       "      <td>73</td>\n",
       "      <td>la Verneda i la Pau</td>\n",
       "      <td>233</td>\n",
       "      <td>10143</td>\n",
       "      <td>10</td>\n",
       "      <td>7</td>\n",
       "    </tr>\n",
       "    <tr>\n",
       "      <th>9268</th>\n",
       "      <td>2021-01-01</td>\n",
       "      <td>10</td>\n",
       "      <td>Sant Martí</td>\n",
       "      <td>73</td>\n",
       "      <td>la Verneda i la Pau</td>\n",
       "      <td>233</td>\n",
       "      <td>10143</td>\n",
       "      <td>7</td>\n",
       "      <td>8</td>\n",
       "    </tr>\n",
       "    <tr>\n",
       "      <th>9269</th>\n",
       "      <td>2021-01-01</td>\n",
       "      <td>10</td>\n",
       "      <td>Sant Martí</td>\n",
       "      <td>73</td>\n",
       "      <td>la Verneda i la Pau</td>\n",
       "      <td>233</td>\n",
       "      <td>10143</td>\n",
       "      <td>3</td>\n",
       "      <td>9</td>\n",
       "    </tr>\n",
       "  </tbody>\n",
       "</table>\n",
       "<p>9270 rows × 9 columns</p>\n",
       "</div>"
      ],
      "text/plain": [
       "     Data_Referencia  Codi_Districte Nom_Districte  Codi_Barri  \\\n",
       "0         2021-01-01               1  Ciutat Vella           1   \n",
       "1         2021-01-01               1  Ciutat Vella           1   \n",
       "2         2021-01-01               1  Ciutat Vella           1   \n",
       "3         2021-01-01               1  Ciutat Vella           1   \n",
       "4         2021-01-01               1  Ciutat Vella           1   \n",
       "...              ...             ...           ...         ...   \n",
       "9265      2021-01-01              10    Sant Martí          73   \n",
       "9266      2021-01-01              10    Sant Martí          73   \n",
       "9267      2021-01-01              10    Sant Martí          73   \n",
       "9268      2021-01-01              10    Sant Martí          73   \n",
       "9269      2021-01-01              10    Sant Martí          73   \n",
       "\n",
       "                Nom_Barri  AEB  Seccio_Censal  Valor  N_PERSONES_AGG  \n",
       "0                el Raval    1           1001    201               1  \n",
       "1                el Raval    1           1001    127               2  \n",
       "2                el Raval    1           1001     66               3  \n",
       "3                el Raval    1           1001     56               4  \n",
       "4                el Raval    1           1001     23               5  \n",
       "...                   ...  ...            ...    ...             ...  \n",
       "9265  la Verneda i la Pau  233          10143     39               5  \n",
       "9266  la Verneda i la Pau  233          10143     17               6  \n",
       "9267  la Verneda i la Pau  233          10143     10               7  \n",
       "9268  la Verneda i la Pau  233          10143      7               8  \n",
       "9269  la Verneda i la Pau  233          10143      3               9  \n",
       "\n",
       "[9270 rows x 9 columns]"
      ]
     },
     "metadata": {},
     "output_type": "display_data"
    }
   ],
   "source": [
    "#load as DataFrame\n",
    "df_numtenants = pd.read_csv('2021_pad_dom_mdbas_n-persones.csv')\n",
    "\n",
    "#display the DataFrame\n",
    "display(df_numtenants)"
   ]
  },
  {
   "cell_type": "markdown",
   "metadata": {},
   "source": [
    "### 3.2. Data preparation\n",
    "As before, we'll keep only the useful columns and those will be renamed to English."
   ]
  },
  {
   "cell_type": "code",
   "execution_count": 78,
   "metadata": {},
   "outputs": [
    {
     "data": {
      "text/html": [
       "<div>\n",
       "<style scoped>\n",
       "    .dataframe tbody tr th:only-of-type {\n",
       "        vertical-align: middle;\n",
       "    }\n",
       "\n",
       "    .dataframe tbody tr th {\n",
       "        vertical-align: top;\n",
       "    }\n",
       "\n",
       "    .dataframe thead th {\n",
       "        text-align: right;\n",
       "    }\n",
       "</style>\n",
       "<table border=\"1\" class=\"dataframe\">\n",
       "  <thead>\n",
       "    <tr style=\"text-align: right;\">\n",
       "      <th></th>\n",
       "      <th>district_name</th>\n",
       "      <th>neighborhood_name</th>\n",
       "      <th>census_section</th>\n",
       "      <th>n_households</th>\n",
       "      <th>n_people</th>\n",
       "    </tr>\n",
       "  </thead>\n",
       "  <tbody>\n",
       "    <tr>\n",
       "      <th>0</th>\n",
       "      <td>Ciutat Vella</td>\n",
       "      <td>el Raval</td>\n",
       "      <td>1001</td>\n",
       "      <td>201</td>\n",
       "      <td>1</td>\n",
       "    </tr>\n",
       "    <tr>\n",
       "      <th>1</th>\n",
       "      <td>Ciutat Vella</td>\n",
       "      <td>el Raval</td>\n",
       "      <td>1001</td>\n",
       "      <td>127</td>\n",
       "      <td>2</td>\n",
       "    </tr>\n",
       "    <tr>\n",
       "      <th>2</th>\n",
       "      <td>Ciutat Vella</td>\n",
       "      <td>el Raval</td>\n",
       "      <td>1001</td>\n",
       "      <td>66</td>\n",
       "      <td>3</td>\n",
       "    </tr>\n",
       "    <tr>\n",
       "      <th>3</th>\n",
       "      <td>Ciutat Vella</td>\n",
       "      <td>el Raval</td>\n",
       "      <td>1001</td>\n",
       "      <td>56</td>\n",
       "      <td>4</td>\n",
       "    </tr>\n",
       "    <tr>\n",
       "      <th>4</th>\n",
       "      <td>Ciutat Vella</td>\n",
       "      <td>el Raval</td>\n",
       "      <td>1001</td>\n",
       "      <td>23</td>\n",
       "      <td>5</td>\n",
       "    </tr>\n",
       "    <tr>\n",
       "      <th>...</th>\n",
       "      <td>...</td>\n",
       "      <td>...</td>\n",
       "      <td>...</td>\n",
       "      <td>...</td>\n",
       "      <td>...</td>\n",
       "    </tr>\n",
       "    <tr>\n",
       "      <th>9265</th>\n",
       "      <td>Sant Martí</td>\n",
       "      <td>la Verneda i la Pau</td>\n",
       "      <td>10143</td>\n",
       "      <td>39</td>\n",
       "      <td>5</td>\n",
       "    </tr>\n",
       "    <tr>\n",
       "      <th>9266</th>\n",
       "      <td>Sant Martí</td>\n",
       "      <td>la Verneda i la Pau</td>\n",
       "      <td>10143</td>\n",
       "      <td>17</td>\n",
       "      <td>6</td>\n",
       "    </tr>\n",
       "    <tr>\n",
       "      <th>9267</th>\n",
       "      <td>Sant Martí</td>\n",
       "      <td>la Verneda i la Pau</td>\n",
       "      <td>10143</td>\n",
       "      <td>10</td>\n",
       "      <td>7</td>\n",
       "    </tr>\n",
       "    <tr>\n",
       "      <th>9268</th>\n",
       "      <td>Sant Martí</td>\n",
       "      <td>la Verneda i la Pau</td>\n",
       "      <td>10143</td>\n",
       "      <td>7</td>\n",
       "      <td>8</td>\n",
       "    </tr>\n",
       "    <tr>\n",
       "      <th>9269</th>\n",
       "      <td>Sant Martí</td>\n",
       "      <td>la Verneda i la Pau</td>\n",
       "      <td>10143</td>\n",
       "      <td>3</td>\n",
       "      <td>9</td>\n",
       "    </tr>\n",
       "  </tbody>\n",
       "</table>\n",
       "<p>9270 rows × 5 columns</p>\n",
       "</div>"
      ],
      "text/plain": [
       "     district_name    neighborhood_name  census_section  n_households  \\\n",
       "0     Ciutat Vella             el Raval            1001           201   \n",
       "1     Ciutat Vella             el Raval            1001           127   \n",
       "2     Ciutat Vella             el Raval            1001            66   \n",
       "3     Ciutat Vella             el Raval            1001            56   \n",
       "4     Ciutat Vella             el Raval            1001            23   \n",
       "...            ...                  ...             ...           ...   \n",
       "9265    Sant Martí  la Verneda i la Pau           10143            39   \n",
       "9266    Sant Martí  la Verneda i la Pau           10143            17   \n",
       "9267    Sant Martí  la Verneda i la Pau           10143            10   \n",
       "9268    Sant Martí  la Verneda i la Pau           10143             7   \n",
       "9269    Sant Martí  la Verneda i la Pau           10143             3   \n",
       "\n",
       "      n_people  \n",
       "0            1  \n",
       "1            2  \n",
       "2            3  \n",
       "3            4  \n",
       "4            5  \n",
       "...        ...  \n",
       "9265         5  \n",
       "9266         6  \n",
       "9267         7  \n",
       "9268         8  \n",
       "9269         9  \n",
       "\n",
       "[9270 rows x 5 columns]"
      ]
     },
     "metadata": {},
     "output_type": "display_data"
    }
   ],
   "source": [
    "df_numtenants = df_numtenants.filter(items=['Nom_Districte','Nom_Barri','Seccio_Censal','Valor','N_PERSONES_AGG']) #select only useful columns\n",
    "\n",
    "df_numtenants = df_numtenants.set_axis(['district_name', 'neighborhood_name','census_section','n_households','n_people'], axis=1) #renaming all column names to English\n",
    "\n",
    "df_numtenants['district_name'] = df_numtenants['district_name'].replace(to_replace=\"Eixample\", value=\"L'Eixample\")\n",
    "\n",
    "#display the DataFrame\n",
    "display(df_numtenants)"
   ]
  },
  {
   "cell_type": "markdown",
   "metadata": {},
   "source": [
    "So in this data we have our old friends `district_name`, `neighborhood_name` and `census_section`. Notice that this last variable is already in the format we had to wrangle our former dataset to. The two other columns are new:\n",
    "- `n_people`: an integer describing a certain amount of people (1, 2, 3, ...)\n",
    "- `n_households`: number of households having the exact amount of people specified in `n_people`\n",
    "\n",
    "What this format means is that, for census section 1001, I have 127 households with 2 tenants in each of them, and 23 households with 5 people in each. This data frame is not ripe for us to use yet. What we need is a single row for each census section with a column specifying the average people per household for that city subdivision. We'll do that next."
   ]
  },
  {
   "cell_type": "code",
   "execution_count": 79,
   "metadata": {},
   "outputs": [],
   "source": [
    "df_numtenants['weighted_n_people'] =  df_numtenants['n_people'] * df_numtenants['n_households'] #multiply n_people and n_households to get a weighted number of people\n",
    "\n",
    "df_numtenants = (df_numtenants\n",
    ".groupby(['district_name', 'neighborhood_name','census_section'])[['weighted_n_people', 'n_households']]\n",
    ".sum()\n",
    ".reset_index()) #alculating summatory of n_households\n",
    "\n",
    "df_numtenants['mean_people_household'] = round(df_numtenants['weighted_n_people'] / df_numtenants['n_households'], 2) #use our new varialbes to finally obtain average number of tenants per household, rounded to 2 decimals\n",
    "\n",
    "df_numtenants = df_numtenants.drop('weighted_n_people', axis=1) #delete weighted_n_people columns, as we do not need it anymore"
   ]
  },
  {
   "cell_type": "markdown",
   "metadata": {},
   "source": [
    "### 3.3. Visualizing the average number of tenants per households across districts\n",
    "\n",
    "We'll apply the same procedure we followed on section 3.3., only this time visualizing the average number of tenants per household, the variable we just calculated in our current data frame."
   ]
  },
  {
   "cell_type": "code",
   "execution_count": 80,
   "metadata": {},
   "outputs": [
    {
     "data": {
      "application/vnd.plotly.v1+json": {
       "config": {
        "plotlyServerURL": "https://plot.ly"
       },
       "data": [
        {
         "box": {
          "visible": false
         },
         "customdata": [
          [
           "Ciutat Vella",
           "Sant Pere, Santa Caterina i la Ribera",
           1043,
           2.12
          ],
          [
           "Ciutat Vella",
           "Sant Pere, Santa Caterina i la Ribera",
           1044,
           2.12
          ],
          [
           "Ciutat Vella",
           "Sant Pere, Santa Caterina i la Ribera",
           1045,
           2.05
          ],
          [
           "Ciutat Vella",
           "Sant Pere, Santa Caterina i la Ribera",
           1046,
           2.22
          ],
          [
           "Ciutat Vella",
           "Sant Pere, Santa Caterina i la Ribera",
           1047,
           2.15
          ],
          [
           "Ciutat Vella",
           "Sant Pere, Santa Caterina i la Ribera",
           1048,
           2.31
          ],
          [
           "Ciutat Vella",
           "Sant Pere, Santa Caterina i la Ribera",
           1049,
           2.45
          ],
          [
           "Ciutat Vella",
           "Sant Pere, Santa Caterina i la Ribera",
           1050,
           2.28
          ],
          [
           "Ciutat Vella",
           "Sant Pere, Santa Caterina i la Ribera",
           1051,
           2.26
          ],
          [
           "Ciutat Vella",
           "Sant Pere, Santa Caterina i la Ribera",
           1052,
           2.5
          ],
          [
           "Ciutat Vella",
           "Sant Pere, Santa Caterina i la Ribera",
           1053,
           2.02
          ],
          [
           "Ciutat Vella",
           "Sant Pere, Santa Caterina i la Ribera",
           1054,
           2.05
          ],
          [
           "Ciutat Vella",
           "Sant Pere, Santa Caterina i la Ribera",
           1055,
           2.34
          ],
          [
           "Ciutat Vella",
           "el Barri Gòtic",
           1022,
           2.25
          ],
          [
           "Ciutat Vella",
           "el Barri Gòtic",
           1023,
           2.26
          ],
          [
           "Ciutat Vella",
           "el Barri Gòtic",
           1025,
           2.23
          ],
          [
           "Ciutat Vella",
           "el Barri Gòtic",
           1026,
           2.3
          ],
          [
           "Ciutat Vella",
           "el Barri Gòtic",
           1027,
           2.28
          ],
          [
           "Ciutat Vella",
           "el Barri Gòtic",
           1028,
           2.28
          ],
          [
           "Ciutat Vella",
           "el Barri Gòtic",
           1029,
           2.4
          ],
          [
           "Ciutat Vella",
           "el Barri Gòtic",
           1030,
           2.48
          ],
          [
           "Ciutat Vella",
           "el Barri Gòtic",
           1031,
           2.39
          ],
          [
           "Ciutat Vella",
           "el Raval",
           1001,
           2.5
          ],
          [
           "Ciutat Vella",
           "el Raval",
           1002,
           2.63
          ],
          [
           "Ciutat Vella",
           "el Raval",
           1003,
           2.91
          ],
          [
           "Ciutat Vella",
           "el Raval",
           1004,
           2.63
          ],
          [
           "Ciutat Vella",
           "el Raval",
           1005,
           2.51
          ],
          [
           "Ciutat Vella",
           "el Raval",
           1006,
           2.6
          ],
          [
           "Ciutat Vella",
           "el Raval",
           1007,
           2.82
          ],
          [
           "Ciutat Vella",
           "el Raval",
           1008,
           3.04
          ],
          [
           "Ciutat Vella",
           "el Raval",
           1009,
           2.63
          ],
          [
           "Ciutat Vella",
           "el Raval",
           1010,
           2.95
          ],
          [
           "Ciutat Vella",
           "el Raval",
           1011,
           2.84
          ],
          [
           "Ciutat Vella",
           "el Raval",
           1012,
           2.59
          ],
          [
           "Ciutat Vella",
           "el Raval",
           1013,
           2.87
          ],
          [
           "Ciutat Vella",
           "el Raval",
           1014,
           2.84
          ],
          [
           "Ciutat Vella",
           "el Raval",
           1015,
           2.74
          ],
          [
           "Ciutat Vella",
           "el Raval",
           1016,
           2.89
          ],
          [
           "Ciutat Vella",
           "el Raval",
           1017,
           2.88
          ],
          [
           "Ciutat Vella",
           "el Raval",
           1018,
           2.77
          ],
          [
           "Ciutat Vella",
           "el Raval",
           1019,
           2.64
          ],
          [
           "Ciutat Vella",
           "el Raval",
           1020,
           2.38
          ],
          [
           "Ciutat Vella",
           "el Raval",
           1021,
           2.18
          ],
          [
           "Ciutat Vella",
           "la Barceloneta",
           1032,
           2.04
          ],
          [
           "Ciutat Vella",
           "la Barceloneta",
           1033,
           2.1
          ],
          [
           "Ciutat Vella",
           "la Barceloneta",
           1034,
           1.95
          ],
          [
           "Ciutat Vella",
           "la Barceloneta",
           1035,
           2.12
          ],
          [
           "Ciutat Vella",
           "la Barceloneta",
           1036,
           2.34
          ],
          [
           "Ciutat Vella",
           "la Barceloneta",
           1037,
           2.38
          ],
          [
           "Ciutat Vella",
           "la Barceloneta",
           1038,
           2.07
          ],
          [
           "Ciutat Vella",
           "la Barceloneta",
           1039,
           2.28
          ],
          [
           "Ciutat Vella",
           "la Barceloneta",
           1040,
           2.04
          ],
          [
           "Ciutat Vella",
           "la Barceloneta",
           1041,
           2.1
          ],
          [
           "Ciutat Vella",
           "la Barceloneta",
           1042,
           2.34
          ]
         ],
         "fillcolor": "#7ADFA7",
         "hoveron": "points",
         "hovertemplate": "<br><b>District: %{customdata[0]}</b></br><b>Neighborhood: %{customdata[1]}</b><br><b>Census section: %{customdata[2]}</b></br><b>People per household: %{customdata[3]}</b><extra></extra>",
         "jitter": 1,
         "line": {
          "color": "#04BB85"
         },
         "marker": {
          "color": "#04BB85",
          "line": {
           "color": "#7ADFA7",
           "width": 1
          },
          "size": 8
         },
         "name": "Ciutat Vella",
         "pointpos": 0,
         "points": "all",
         "showlegend": false,
         "type": "violin",
         "y": [
          2.12,
          2.12,
          2.05,
          2.22,
          2.15,
          2.31,
          2.45,
          2.28,
          2.26,
          2.5,
          2.02,
          2.05,
          2.34,
          2.25,
          2.26,
          2.23,
          2.3,
          2.28,
          2.28,
          2.4,
          2.48,
          2.39,
          2.5,
          2.63,
          2.91,
          2.63,
          2.51,
          2.6,
          2.82,
          3.04,
          2.63,
          2.95,
          2.84,
          2.59,
          2.87,
          2.84,
          2.74,
          2.89,
          2.88,
          2.77,
          2.64,
          2.38,
          2.18,
          2.04,
          2.1,
          1.95,
          2.12,
          2.34,
          2.38,
          2.07,
          2.28,
          2.04,
          2.1,
          2.34
         ]
        },
        {
         "box": {
          "visible": false
         },
         "customdata": [
          [
           "L'Eixample",
           "Sant Antoni",
           2150,
           2.5
          ],
          [
           "L'Eixample",
           "Sant Antoni",
           2151,
           2.42
          ],
          [
           "L'Eixample",
           "Sant Antoni",
           2152,
           2.42
          ],
          [
           "L'Eixample",
           "Sant Antoni",
           2153,
           2.36
          ],
          [
           "L'Eixample",
           "Sant Antoni",
           2154,
           2.55
          ],
          [
           "L'Eixample",
           "Sant Antoni",
           2155,
           2.44
          ],
          [
           "L'Eixample",
           "Sant Antoni",
           2156,
           2.32
          ],
          [
           "L'Eixample",
           "Sant Antoni",
           2157,
           2.43
          ],
          [
           "L'Eixample",
           "Sant Antoni",
           2158,
           2.39
          ],
          [
           "L'Eixample",
           "Sant Antoni",
           2159,
           2.54
          ],
          [
           "L'Eixample",
           "Sant Antoni",
           2160,
           2.34
          ],
          [
           "L'Eixample",
           "Sant Antoni",
           2161,
           2.48
          ],
          [
           "L'Eixample",
           "Sant Antoni",
           2162,
           2.35
          ],
          [
           "L'Eixample",
           "Sant Antoni",
           2163,
           2.34
          ],
          [
           "L'Eixample",
           "Sant Antoni",
           2164,
           2.28
          ],
          [
           "L'Eixample",
           "Sant Antoni",
           2165,
           2.38
          ],
          [
           "L'Eixample",
           "Sant Antoni",
           2166,
           2.32
          ],
          [
           "L'Eixample",
           "Sant Antoni",
           2167,
           2.45
          ],
          [
           "L'Eixample",
           "Sant Antoni",
           2168,
           2.31
          ],
          [
           "L'Eixample",
           "Sant Antoni",
           2169,
           2.24
          ],
          [
           "L'Eixample",
           "Sant Antoni",
           2170,
           2.39
          ],
          [
           "L'Eixample",
           "Sant Antoni",
           2171,
           2.38
          ],
          [
           "L'Eixample",
           "Sant Antoni",
           2172,
           2.35
          ],
          [
           "L'Eixample",
           "Sant Antoni",
           2173,
           2.29
          ],
          [
           "L'Eixample",
           "el Fort Pienc",
           2001,
           2.47
          ],
          [
           "L'Eixample",
           "el Fort Pienc",
           2002,
           2.37
          ],
          [
           "L'Eixample",
           "el Fort Pienc",
           2003,
           2.43
          ],
          [
           "L'Eixample",
           "el Fort Pienc",
           2004,
           2.73
          ],
          [
           "L'Eixample",
           "el Fort Pienc",
           2005,
           2.42
          ],
          [
           "L'Eixample",
           "el Fort Pienc",
           2006,
           2.42
          ],
          [
           "L'Eixample",
           "el Fort Pienc",
           2007,
           2.33
          ],
          [
           "L'Eixample",
           "el Fort Pienc",
           2008,
           2.56
          ],
          [
           "L'Eixample",
           "el Fort Pienc",
           2009,
           2.58
          ],
          [
           "L'Eixample",
           "el Fort Pienc",
           2010,
           2.66
          ],
          [
           "L'Eixample",
           "el Fort Pienc",
           2011,
           2.37
          ],
          [
           "L'Eixample",
           "el Fort Pienc",
           2012,
           2.58
          ],
          [
           "L'Eixample",
           "el Fort Pienc",
           2013,
           2.35
          ],
          [
           "L'Eixample",
           "el Fort Pienc",
           2014,
           2.4
          ],
          [
           "L'Eixample",
           "el Fort Pienc",
           2015,
           2.4
          ],
          [
           "L'Eixample",
           "el Fort Pienc",
           2016,
           2.38
          ],
          [
           "L'Eixample",
           "el Fort Pienc",
           2017,
           2.49
          ],
          [
           "L'Eixample",
           "el Fort Pienc",
           2018,
           2.46
          ],
          [
           "L'Eixample",
           "el Fort Pienc",
           2019,
           2.4
          ],
          [
           "L'Eixample",
           "el Fort Pienc",
           2020,
           2.31
          ],
          [
           "L'Eixample",
           "l'Antiga Esquerra de l'Eixample",
           2084,
           2.29
          ],
          [
           "L'Eixample",
           "l'Antiga Esquerra de l'Eixample",
           2085,
           2.23
          ],
          [
           "L'Eixample",
           "l'Antiga Esquerra de l'Eixample",
           2086,
           2.44
          ],
          [
           "L'Eixample",
           "l'Antiga Esquerra de l'Eixample",
           2087,
           2.37
          ],
          [
           "L'Eixample",
           "l'Antiga Esquerra de l'Eixample",
           2088,
           2.25
          ],
          [
           "L'Eixample",
           "l'Antiga Esquerra de l'Eixample",
           2089,
           2.24
          ],
          [
           "L'Eixample",
           "l'Antiga Esquerra de l'Eixample",
           2090,
           2.33
          ],
          [
           "L'Eixample",
           "l'Antiga Esquerra de l'Eixample",
           2091,
           2.34
          ],
          [
           "L'Eixample",
           "l'Antiga Esquerra de l'Eixample",
           2092,
           2.23
          ],
          [
           "L'Eixample",
           "l'Antiga Esquerra de l'Eixample",
           2093,
           2.42
          ],
          [
           "L'Eixample",
           "l'Antiga Esquerra de l'Eixample",
           2094,
           2.45
          ],
          [
           "L'Eixample",
           "l'Antiga Esquerra de l'Eixample",
           2095,
           2.39
          ],
          [
           "L'Eixample",
           "l'Antiga Esquerra de l'Eixample",
           2096,
           2.31
          ],
          [
           "L'Eixample",
           "l'Antiga Esquerra de l'Eixample",
           2097,
           2.27
          ],
          [
           "L'Eixample",
           "l'Antiga Esquerra de l'Eixample",
           2098,
           2.28
          ],
          [
           "L'Eixample",
           "l'Antiga Esquerra de l'Eixample",
           2099,
           2.57
          ],
          [
           "L'Eixample",
           "l'Antiga Esquerra de l'Eixample",
           2100,
           2.24
          ],
          [
           "L'Eixample",
           "l'Antiga Esquerra de l'Eixample",
           2101,
           2.45
          ],
          [
           "L'Eixample",
           "l'Antiga Esquerra de l'Eixample",
           2102,
           2.28
          ],
          [
           "L'Eixample",
           "l'Antiga Esquerra de l'Eixample",
           2103,
           2.16
          ],
          [
           "L'Eixample",
           "l'Antiga Esquerra de l'Eixample",
           2104,
           2.37
          ],
          [
           "L'Eixample",
           "l'Antiga Esquerra de l'Eixample",
           2105,
           2.33
          ],
          [
           "L'Eixample",
           "l'Antiga Esquerra de l'Eixample",
           2106,
           2.32
          ],
          [
           "L'Eixample",
           "l'Antiga Esquerra de l'Eixample",
           2107,
           2.38
          ],
          [
           "L'Eixample",
           "l'Antiga Esquerra de l'Eixample",
           2108,
           2.36
          ],
          [
           "L'Eixample",
           "l'Antiga Esquerra de l'Eixample",
           2109,
           2.33
          ],
          [
           "L'Eixample",
           "la Dreta de l'Eixample",
           2055,
           2.34
          ],
          [
           "L'Eixample",
           "la Dreta de l'Eixample",
           2056,
           2.28
          ],
          [
           "L'Eixample",
           "la Dreta de l'Eixample",
           2057,
           2.43
          ],
          [
           "L'Eixample",
           "la Dreta de l'Eixample",
           2058,
           2.25
          ],
          [
           "L'Eixample",
           "la Dreta de l'Eixample",
           2059,
           2.44
          ],
          [
           "L'Eixample",
           "la Dreta de l'Eixample",
           2060,
           2.44
          ],
          [
           "L'Eixample",
           "la Dreta de l'Eixample",
           2061,
           2.31
          ],
          [
           "L'Eixample",
           "la Dreta de l'Eixample",
           2062,
           2.37
          ],
          [
           "L'Eixample",
           "la Dreta de l'Eixample",
           2063,
           2.52
          ],
          [
           "L'Eixample",
           "la Dreta de l'Eixample",
           2064,
           2.46
          ],
          [
           "L'Eixample",
           "la Dreta de l'Eixample",
           2065,
           2.36
          ],
          [
           "L'Eixample",
           "la Dreta de l'Eixample",
           2066,
           2.34
          ],
          [
           "L'Eixample",
           "la Dreta de l'Eixample",
           2067,
           2.31
          ],
          [
           "L'Eixample",
           "la Dreta de l'Eixample",
           2068,
           2.38
          ],
          [
           "L'Eixample",
           "la Dreta de l'Eixample",
           2069,
           2.41
          ],
          [
           "L'Eixample",
           "la Dreta de l'Eixample",
           2070,
           2.41
          ],
          [
           "L'Eixample",
           "la Dreta de l'Eixample",
           2071,
           2.46
          ],
          [
           "L'Eixample",
           "la Dreta de l'Eixample",
           2072,
           2.39
          ],
          [
           "L'Eixample",
           "la Dreta de l'Eixample",
           2073,
           2.45
          ],
          [
           "L'Eixample",
           "la Dreta de l'Eixample",
           2074,
           2.46
          ],
          [
           "L'Eixample",
           "la Dreta de l'Eixample",
           2075,
           2.48
          ],
          [
           "L'Eixample",
           "la Dreta de l'Eixample",
           2076,
           2.48
          ],
          [
           "L'Eixample",
           "la Dreta de l'Eixample",
           2077,
           2.38
          ],
          [
           "L'Eixample",
           "la Dreta de l'Eixample",
           2078,
           2.27
          ],
          [
           "L'Eixample",
           "la Dreta de l'Eixample",
           2079,
           2.29
          ],
          [
           "L'Eixample",
           "la Dreta de l'Eixample",
           2080,
           2.39
          ],
          [
           "L'Eixample",
           "la Dreta de l'Eixample",
           2081,
           2.29
          ],
          [
           "L'Eixample",
           "la Dreta de l'Eixample",
           2082,
           2.19
          ],
          [
           "L'Eixample",
           "la Dreta de l'Eixample",
           2083,
           2.21
          ],
          [
           "L'Eixample",
           "la Nova Esquerra de l'Eixample",
           2110,
           2.31
          ],
          [
           "L'Eixample",
           "la Nova Esquerra de l'Eixample",
           2111,
           2.28
          ],
          [
           "L'Eixample",
           "la Nova Esquerra de l'Eixample",
           2112,
           2.35
          ],
          [
           "L'Eixample",
           "la Nova Esquerra de l'Eixample",
           2113,
           2.47
          ],
          [
           "L'Eixample",
           "la Nova Esquerra de l'Eixample",
           2114,
           2.28
          ],
          [
           "L'Eixample",
           "la Nova Esquerra de l'Eixample",
           2115,
           2.34
          ],
          [
           "L'Eixample",
           "la Nova Esquerra de l'Eixample",
           2116,
           2.43
          ],
          [
           "L'Eixample",
           "la Nova Esquerra de l'Eixample",
           2117,
           2.43
          ],
          [
           "L'Eixample",
           "la Nova Esquerra de l'Eixample",
           2118,
           2.45
          ],
          [
           "L'Eixample",
           "la Nova Esquerra de l'Eixample",
           2119,
           2.35
          ],
          [
           "L'Eixample",
           "la Nova Esquerra de l'Eixample",
           2120,
           2.31
          ],
          [
           "L'Eixample",
           "la Nova Esquerra de l'Eixample",
           2121,
           2.24
          ],
          [
           "L'Eixample",
           "la Nova Esquerra de l'Eixample",
           2122,
           2.44
          ],
          [
           "L'Eixample",
           "la Nova Esquerra de l'Eixample",
           2123,
           2.13
          ],
          [
           "L'Eixample",
           "la Nova Esquerra de l'Eixample",
           2124,
           2.31
          ],
          [
           "L'Eixample",
           "la Nova Esquerra de l'Eixample",
           2125,
           2.39
          ],
          [
           "L'Eixample",
           "la Nova Esquerra de l'Eixample",
           2126,
           2.4
          ],
          [
           "L'Eixample",
           "la Nova Esquerra de l'Eixample",
           2127,
           2.2
          ],
          [
           "L'Eixample",
           "la Nova Esquerra de l'Eixample",
           2128,
           2.3
          ],
          [
           "L'Eixample",
           "la Nova Esquerra de l'Eixample",
           2129,
           2.37
          ],
          [
           "L'Eixample",
           "la Nova Esquerra de l'Eixample",
           2130,
           2.5
          ],
          [
           "L'Eixample",
           "la Nova Esquerra de l'Eixample",
           2131,
           2.28
          ],
          [
           "L'Eixample",
           "la Nova Esquerra de l'Eixample",
           2132,
           2.33
          ],
          [
           "L'Eixample",
           "la Nova Esquerra de l'Eixample",
           2133,
           2.25
          ],
          [
           "L'Eixample",
           "la Nova Esquerra de l'Eixample",
           2134,
           2.34
          ],
          [
           "L'Eixample",
           "la Nova Esquerra de l'Eixample",
           2135,
           2.28
          ],
          [
           "L'Eixample",
           "la Nova Esquerra de l'Eixample",
           2136,
           2.33
          ],
          [
           "L'Eixample",
           "la Nova Esquerra de l'Eixample",
           2137,
           2.41
          ],
          [
           "L'Eixample",
           "la Nova Esquerra de l'Eixample",
           2138,
           2.45
          ],
          [
           "L'Eixample",
           "la Nova Esquerra de l'Eixample",
           2139,
           2.21
          ],
          [
           "L'Eixample",
           "la Nova Esquerra de l'Eixample",
           2140,
           2.29
          ],
          [
           "L'Eixample",
           "la Nova Esquerra de l'Eixample",
           2141,
           2.41
          ],
          [
           "L'Eixample",
           "la Nova Esquerra de l'Eixample",
           2142,
           2.41
          ],
          [
           "L'Eixample",
           "la Nova Esquerra de l'Eixample",
           2143,
           2.38
          ],
          [
           "L'Eixample",
           "la Nova Esquerra de l'Eixample",
           2144,
           2.5
          ],
          [
           "L'Eixample",
           "la Nova Esquerra de l'Eixample",
           2145,
           2.48
          ],
          [
           "L'Eixample",
           "la Nova Esquerra de l'Eixample",
           2146,
           2.47
          ],
          [
           "L'Eixample",
           "la Nova Esquerra de l'Eixample",
           2147,
           2.37
          ],
          [
           "L'Eixample",
           "la Nova Esquerra de l'Eixample",
           2148,
           2.25
          ],
          [
           "L'Eixample",
           "la Nova Esquerra de l'Eixample",
           2149,
           2.44
          ],
          [
           "L'Eixample",
           "la Sagrada Família",
           2021,
           2.27
          ],
          [
           "L'Eixample",
           "la Sagrada Família",
           2022,
           2.57
          ],
          [
           "L'Eixample",
           "la Sagrada Família",
           2023,
           2.23
          ],
          [
           "L'Eixample",
           "la Sagrada Família",
           2024,
           2.38
          ],
          [
           "L'Eixample",
           "la Sagrada Família",
           2025,
           2.29
          ],
          [
           "L'Eixample",
           "la Sagrada Família",
           2026,
           2.45
          ],
          [
           "L'Eixample",
           "la Sagrada Família",
           2027,
           2.46
          ],
          [
           "L'Eixample",
           "la Sagrada Família",
           2028,
           2.37
          ],
          [
           "L'Eixample",
           "la Sagrada Família",
           2029,
           2.42
          ],
          [
           "L'Eixample",
           "la Sagrada Família",
           2030,
           2.48
          ],
          [
           "L'Eixample",
           "la Sagrada Família",
           2031,
           2.43
          ],
          [
           "L'Eixample",
           "la Sagrada Família",
           2032,
           2.34
          ],
          [
           "L'Eixample",
           "la Sagrada Família",
           2033,
           2.32
          ],
          [
           "L'Eixample",
           "la Sagrada Família",
           2034,
           2.27
          ],
          [
           "L'Eixample",
           "la Sagrada Família",
           2035,
           2.27
          ],
          [
           "L'Eixample",
           "la Sagrada Família",
           2036,
           2.42
          ],
          [
           "L'Eixample",
           "la Sagrada Família",
           2037,
           2.46
          ],
          [
           "L'Eixample",
           "la Sagrada Família",
           2038,
           2.39
          ],
          [
           "L'Eixample",
           "la Sagrada Família",
           2039,
           2.32
          ],
          [
           "L'Eixample",
           "la Sagrada Família",
           2040,
           2.32
          ],
          [
           "L'Eixample",
           "la Sagrada Família",
           2041,
           2.31
          ],
          [
           "L'Eixample",
           "la Sagrada Família",
           2042,
           2.27
          ],
          [
           "L'Eixample",
           "la Sagrada Família",
           2043,
           2.51
          ],
          [
           "L'Eixample",
           "la Sagrada Família",
           2044,
           2.53
          ],
          [
           "L'Eixample",
           "la Sagrada Família",
           2045,
           2.43
          ],
          [
           "L'Eixample",
           "la Sagrada Família",
           2046,
           2.46
          ],
          [
           "L'Eixample",
           "la Sagrada Família",
           2047,
           2.49
          ],
          [
           "L'Eixample",
           "la Sagrada Família",
           2048,
           2.5
          ],
          [
           "L'Eixample",
           "la Sagrada Família",
           2049,
           2.25
          ],
          [
           "L'Eixample",
           "la Sagrada Família",
           2050,
           2.29
          ],
          [
           "L'Eixample",
           "la Sagrada Família",
           2051,
           2.33
          ],
          [
           "L'Eixample",
           "la Sagrada Família",
           2052,
           2.35
          ],
          [
           "L'Eixample",
           "la Sagrada Família",
           2053,
           2.19
          ],
          [
           "L'Eixample",
           "la Sagrada Família",
           2054,
           2.41
          ]
         ],
         "fillcolor": "#D5C2FF",
         "hoveron": "points",
         "hovertemplate": "<br><b>District: %{customdata[0]}</b></br><b>Neighborhood: %{customdata[1]}</b><br><b>Census section: %{customdata[2]}</b></br><b>People per household: %{customdata[3]}</b><extra></extra>",
         "jitter": 1,
         "line": {
          "color": "#8F76D7"
         },
         "marker": {
          "color": "#8F76D7",
          "line": {
           "color": "#D5C2FF",
           "width": 1
          },
          "size": 8
         },
         "name": "L'Eixample",
         "pointpos": 0,
         "points": "all",
         "showlegend": false,
         "type": "violin",
         "y": [
          2.5,
          2.42,
          2.42,
          2.36,
          2.55,
          2.44,
          2.32,
          2.43,
          2.39,
          2.54,
          2.34,
          2.48,
          2.35,
          2.34,
          2.28,
          2.38,
          2.32,
          2.45,
          2.31,
          2.24,
          2.39,
          2.38,
          2.35,
          2.29,
          2.47,
          2.37,
          2.43,
          2.73,
          2.42,
          2.42,
          2.33,
          2.56,
          2.58,
          2.66,
          2.37,
          2.58,
          2.35,
          2.4,
          2.4,
          2.38,
          2.49,
          2.46,
          2.4,
          2.31,
          2.29,
          2.23,
          2.44,
          2.37,
          2.25,
          2.24,
          2.33,
          2.34,
          2.23,
          2.42,
          2.45,
          2.39,
          2.31,
          2.27,
          2.28,
          2.57,
          2.24,
          2.45,
          2.28,
          2.16,
          2.37,
          2.33,
          2.32,
          2.38,
          2.36,
          2.33,
          2.34,
          2.28,
          2.43,
          2.25,
          2.44,
          2.44,
          2.31,
          2.37,
          2.52,
          2.46,
          2.36,
          2.34,
          2.31,
          2.38,
          2.41,
          2.41,
          2.46,
          2.39,
          2.45,
          2.46,
          2.48,
          2.48,
          2.38,
          2.27,
          2.29,
          2.39,
          2.29,
          2.19,
          2.21,
          2.31,
          2.28,
          2.35,
          2.47,
          2.28,
          2.34,
          2.43,
          2.43,
          2.45,
          2.35,
          2.31,
          2.24,
          2.44,
          2.13,
          2.31,
          2.39,
          2.4,
          2.2,
          2.3,
          2.37,
          2.5,
          2.28,
          2.33,
          2.25,
          2.34,
          2.28,
          2.33,
          2.41,
          2.45,
          2.21,
          2.29,
          2.41,
          2.41,
          2.38,
          2.5,
          2.48,
          2.47,
          2.37,
          2.25,
          2.44,
          2.27,
          2.57,
          2.23,
          2.38,
          2.29,
          2.45,
          2.46,
          2.37,
          2.42,
          2.48,
          2.43,
          2.34,
          2.32,
          2.27,
          2.27,
          2.42,
          2.46,
          2.39,
          2.32,
          2.32,
          2.31,
          2.27,
          2.51,
          2.53,
          2.43,
          2.46,
          2.49,
          2.5,
          2.25,
          2.29,
          2.33,
          2.35,
          2.19,
          2.41
         ]
        },
        {
         "box": {
          "visible": false
         },
         "customdata": [
          [
           "Sants-Montjuïc",
           "Hostafrancs",
           3047,
           2.31
          ],
          [
           "Sants-Montjuïc",
           "Hostafrancs",
           3048,
           2.28
          ],
          [
           "Sants-Montjuïc",
           "Hostafrancs",
           3049,
           2.4
          ],
          [
           "Sants-Montjuïc",
           "Hostafrancs",
           3050,
           2.31
          ],
          [
           "Sants-Montjuïc",
           "Hostafrancs",
           3051,
           2.53
          ],
          [
           "Sants-Montjuïc",
           "Hostafrancs",
           3052,
           2.44
          ],
          [
           "Sants-Montjuïc",
           "Hostafrancs",
           3053,
           2.47
          ],
          [
           "Sants-Montjuïc",
           "Hostafrancs",
           3054,
           2.42
          ],
          [
           "Sants-Montjuïc",
           "Hostafrancs",
           3055,
           2.36
          ],
          [
           "Sants-Montjuïc",
           "Hostafrancs",
           3056,
           2.37
          ],
          [
           "Sants-Montjuïc",
           "Sants",
           3086,
           2.35
          ],
          [
           "Sants-Montjuïc",
           "Sants",
           3087,
           2.42
          ],
          [
           "Sants-Montjuïc",
           "Sants",
           3088,
           2.4
          ],
          [
           "Sants-Montjuïc",
           "Sants",
           3089,
           2.37
          ],
          [
           "Sants-Montjuïc",
           "Sants",
           3090,
           2.38
          ],
          [
           "Sants-Montjuïc",
           "Sants",
           3091,
           2.54
          ],
          [
           "Sants-Montjuïc",
           "Sants",
           3092,
           2.35
          ],
          [
           "Sants-Montjuïc",
           "Sants",
           3093,
           2.4
          ],
          [
           "Sants-Montjuïc",
           "Sants",
           3094,
           2.29
          ],
          [
           "Sants-Montjuïc",
           "Sants",
           3095,
           2.33
          ],
          [
           "Sants-Montjuïc",
           "Sants",
           3096,
           2.46
          ],
          [
           "Sants-Montjuïc",
           "Sants",
           3097,
           2.44
          ],
          [
           "Sants-Montjuïc",
           "Sants",
           3098,
           2.52
          ],
          [
           "Sants-Montjuïc",
           "Sants",
           3099,
           2.21
          ],
          [
           "Sants-Montjuïc",
           "Sants",
           3100,
           2.3
          ],
          [
           "Sants-Montjuïc",
           "Sants",
           3101,
           2.25
          ],
          [
           "Sants-Montjuïc",
           "Sants",
           3102,
           2.33
          ],
          [
           "Sants-Montjuïc",
           "Sants",
           3103,
           2.25
          ],
          [
           "Sants-Montjuïc",
           "Sants",
           3104,
           2.32
          ],
          [
           "Sants-Montjuïc",
           "Sants",
           3105,
           2.33
          ],
          [
           "Sants-Montjuïc",
           "Sants",
           3106,
           2.27
          ],
          [
           "Sants-Montjuïc",
           "Sants",
           3107,
           2.41
          ],
          [
           "Sants-Montjuïc",
           "Sants",
           3108,
           2.48
          ],
          [
           "Sants-Montjuïc",
           "Sants",
           3109,
           2.36
          ],
          [
           "Sants-Montjuïc",
           "Sants",
           3110,
           2.27
          ],
          [
           "Sants-Montjuïc",
           "Sants",
           3111,
           2.3
          ],
          [
           "Sants-Montjuïc",
           "Sants",
           3112,
           2.39
          ],
          [
           "Sants-Montjuïc",
           "Sants",
           3113,
           2.33
          ],
          [
           "Sants-Montjuïc",
           "Sants",
           3114,
           2.44
          ],
          [
           "Sants-Montjuïc",
           "Sants - Badal",
           3070,
           2.6
          ],
          [
           "Sants-Montjuïc",
           "Sants - Badal",
           3071,
           2.38
          ],
          [
           "Sants-Montjuïc",
           "Sants - Badal",
           3072,
           2.42
          ],
          [
           "Sants-Montjuïc",
           "Sants - Badal",
           3073,
           2.36
          ],
          [
           "Sants-Montjuïc",
           "Sants - Badal",
           3074,
           2.43
          ],
          [
           "Sants-Montjuïc",
           "Sants - Badal",
           3075,
           2.57
          ],
          [
           "Sants-Montjuïc",
           "Sants - Badal",
           3076,
           2.42
          ],
          [
           "Sants-Montjuïc",
           "Sants - Badal",
           3077,
           2.45
          ],
          [
           "Sants-Montjuïc",
           "Sants - Badal",
           3078,
           2.53
          ],
          [
           "Sants-Montjuïc",
           "Sants - Badal",
           3079,
           2.55
          ],
          [
           "Sants-Montjuïc",
           "Sants - Badal",
           3080,
           2.46
          ],
          [
           "Sants-Montjuïc",
           "Sants - Badal",
           3081,
           2.55
          ],
          [
           "Sants-Montjuïc",
           "Sants - Badal",
           3082,
           2.44
          ],
          [
           "Sants-Montjuïc",
           "Sants - Badal",
           3083,
           2.42
          ],
          [
           "Sants-Montjuïc",
           "Sants - Badal",
           3084,
           2.4
          ],
          [
           "Sants-Montjuïc",
           "Sants - Badal",
           3085,
           2.34
          ],
          [
           "Sants-Montjuïc",
           "el Poble-sec",
           3001,
           2.42
          ],
          [
           "Sants-Montjuïc",
           "el Poble-sec",
           3002,
           2.32
          ],
          [
           "Sants-Montjuïc",
           "el Poble-sec",
           3003,
           2.52
          ],
          [
           "Sants-Montjuïc",
           "el Poble-sec",
           3004,
           2.39
          ],
          [
           "Sants-Montjuïc",
           "el Poble-sec",
           3005,
           2.24
          ],
          [
           "Sants-Montjuïc",
           "el Poble-sec",
           3006,
           2.54
          ],
          [
           "Sants-Montjuïc",
           "el Poble-sec",
           3007,
           2.49
          ],
          [
           "Sants-Montjuïc",
           "el Poble-sec",
           3008,
           2.3
          ],
          [
           "Sants-Montjuïc",
           "el Poble-sec",
           3009,
           2.44
          ],
          [
           "Sants-Montjuïc",
           "el Poble-sec",
           3010,
           2.68
          ],
          [
           "Sants-Montjuïc",
           "el Poble-sec",
           3011,
           2.45
          ],
          [
           "Sants-Montjuïc",
           "el Poble-sec",
           3012,
           2.48
          ],
          [
           "Sants-Montjuïc",
           "el Poble-sec",
           3013,
           2.37
          ],
          [
           "Sants-Montjuïc",
           "el Poble-sec",
           3014,
           2.48
          ],
          [
           "Sants-Montjuïc",
           "el Poble-sec",
           3015,
           2.53
          ],
          [
           "Sants-Montjuïc",
           "el Poble-sec",
           3016,
           2.69
          ],
          [
           "Sants-Montjuïc",
           "el Poble-sec",
           3017,
           2.51
          ],
          [
           "Sants-Montjuïc",
           "el Poble-sec",
           3018,
           2.69
          ],
          [
           "Sants-Montjuïc",
           "el Poble-sec",
           3019,
           2.61
          ],
          [
           "Sants-Montjuïc",
           "el Poble-sec",
           3020,
           2.49
          ],
          [
           "Sants-Montjuïc",
           "el Poble-sec",
           3021,
           2.43
          ],
          [
           "Sants-Montjuïc",
           "el Poble-sec",
           3022,
           2.4
          ],
          [
           "Sants-Montjuïc",
           "el Poble-sec",
           3023,
           2.59
          ],
          [
           "Sants-Montjuïc",
           "el Poble-sec",
           3024,
           2.53
          ],
          [
           "Sants-Montjuïc",
           "la Bordeta",
           3057,
           2.29
          ],
          [
           "Sants-Montjuïc",
           "la Bordeta",
           3058,
           2.53
          ],
          [
           "Sants-Montjuïc",
           "la Bordeta",
           3059,
           2.34
          ],
          [
           "Sants-Montjuïc",
           "la Bordeta",
           3060,
           2.46
          ],
          [
           "Sants-Montjuïc",
           "la Bordeta",
           3061,
           2.22
          ],
          [
           "Sants-Montjuïc",
           "la Bordeta",
           3062,
           2.21
          ],
          [
           "Sants-Montjuïc",
           "la Bordeta",
           3063,
           2.62
          ],
          [
           "Sants-Montjuïc",
           "la Bordeta",
           3064,
           2.56
          ],
          [
           "Sants-Montjuïc",
           "la Bordeta",
           3065,
           2.59
          ],
          [
           "Sants-Montjuïc",
           "la Bordeta",
           3066,
           2.59
          ],
          [
           "Sants-Montjuïc",
           "la Bordeta",
           3067,
           2.56
          ],
          [
           "Sants-Montjuïc",
           "la Bordeta",
           3068,
           2.3
          ],
          [
           "Sants-Montjuïc",
           "la Bordeta",
           3069,
           2.52
          ],
          [
           "Sants-Montjuïc",
           "la Font de la Guatlla",
           3040,
           2.25
          ],
          [
           "Sants-Montjuïc",
           "la Font de la Guatlla",
           3041,
           2.47
          ],
          [
           "Sants-Montjuïc",
           "la Font de la Guatlla",
           3042,
           2.42
          ],
          [
           "Sants-Montjuïc",
           "la Font de la Guatlla",
           3043,
           2.4
          ],
          [
           "Sants-Montjuïc",
           "la Font de la Guatlla",
           3044,
           2.45
          ],
          [
           "Sants-Montjuïc",
           "la Font de la Guatlla",
           3045,
           2.22
          ],
          [
           "Sants-Montjuïc",
           "la Font de la Guatlla",
           3046,
           2.43
          ],
          [
           "Sants-Montjuïc",
           "la Marina de Port",
           3026,
           2.33
          ],
          [
           "Sants-Montjuïc",
           "la Marina de Port",
           3027,
           2.32
          ],
          [
           "Sants-Montjuïc",
           "la Marina de Port",
           3028,
           2.57
          ],
          [
           "Sants-Montjuïc",
           "la Marina de Port",
           3029,
           2.57
          ],
          [
           "Sants-Montjuïc",
           "la Marina de Port",
           3030,
           2.44
          ],
          [
           "Sants-Montjuïc",
           "la Marina de Port",
           3031,
           2.6
          ],
          [
           "Sants-Montjuïc",
           "la Marina de Port",
           3032,
           2.45
          ],
          [
           "Sants-Montjuïc",
           "la Marina de Port",
           3033,
           2.66
          ],
          [
           "Sants-Montjuïc",
           "la Marina de Port",
           3034,
           2.61
          ],
          [
           "Sants-Montjuïc",
           "la Marina de Port",
           3035,
           2.62
          ],
          [
           "Sants-Montjuïc",
           "la Marina de Port",
           3036,
           2.47
          ],
          [
           "Sants-Montjuïc",
           "la Marina de Port",
           3037,
           2.61
          ],
          [
           "Sants-Montjuïc",
           "la Marina de Port",
           3038,
           2.69
          ],
          [
           "Sants-Montjuïc",
           "la Marina de Port",
           3039,
           2.65
          ],
          [
           "Sants-Montjuïc",
           "la Marina de Port",
           3211,
           2.94
          ],
          [
           "Sants-Montjuïc",
           "la Marina de Port",
           3212,
           2.56
          ],
          [
           "Sants-Montjuïc",
           "la Marina de Port",
           3213,
           2.85
          ],
          [
           "Sants-Montjuïc",
           "la Marina del Prat Vermell",
           3025,
           2.39
          ]
         ],
         "fillcolor": "#FFE07F",
         "hoveron": "points",
         "hovertemplate": "<br><b>District: %{customdata[0]}</b></br><b>Neighborhood: %{customdata[1]}</b><br><b>Census section: %{customdata[2]}</b></br><b>People per household: %{customdata[3]}</b><extra></extra>",
         "jitter": 1,
         "line": {
          "color": "#FF9500"
         },
         "marker": {
          "color": "#FF9500",
          "line": {
           "color": "#FFE07F",
           "width": 1
          },
          "size": 8
         },
         "name": "Sants-Montjuïc",
         "pointpos": 0,
         "points": "all",
         "showlegend": false,
         "type": "violin",
         "y": [
          2.31,
          2.28,
          2.4,
          2.31,
          2.53,
          2.44,
          2.47,
          2.42,
          2.36,
          2.37,
          2.35,
          2.42,
          2.4,
          2.37,
          2.38,
          2.54,
          2.35,
          2.4,
          2.29,
          2.33,
          2.46,
          2.44,
          2.52,
          2.21,
          2.3,
          2.25,
          2.33,
          2.25,
          2.32,
          2.33,
          2.27,
          2.41,
          2.48,
          2.36,
          2.27,
          2.3,
          2.39,
          2.33,
          2.44,
          2.6,
          2.38,
          2.42,
          2.36,
          2.43,
          2.57,
          2.42,
          2.45,
          2.53,
          2.55,
          2.46,
          2.55,
          2.44,
          2.42,
          2.4,
          2.34,
          2.42,
          2.32,
          2.52,
          2.39,
          2.24,
          2.54,
          2.49,
          2.3,
          2.44,
          2.68,
          2.45,
          2.48,
          2.37,
          2.48,
          2.53,
          2.69,
          2.51,
          2.69,
          2.61,
          2.49,
          2.43,
          2.4,
          2.59,
          2.53,
          2.29,
          2.53,
          2.34,
          2.46,
          2.22,
          2.21,
          2.62,
          2.56,
          2.59,
          2.59,
          2.56,
          2.3,
          2.52,
          2.25,
          2.47,
          2.42,
          2.4,
          2.45,
          2.22,
          2.43,
          2.33,
          2.32,
          2.57,
          2.57,
          2.44,
          2.6,
          2.45,
          2.66,
          2.61,
          2.62,
          2.47,
          2.61,
          2.69,
          2.65,
          2.94,
          2.56,
          2.85,
          2.39
         ]
        },
        {
         "box": {
          "visible": false
         },
         "customdata": [
          [
           "Les Corts",
           "Pedralbes",
           4050,
           2.63
          ],
          [
           "Les Corts",
           "Pedralbes",
           4051,
           2.44
          ],
          [
           "Les Corts",
           "Pedralbes",
           4052,
           2.74
          ],
          [
           "Les Corts",
           "Pedralbes",
           4053,
           2.62
          ],
          [
           "Les Corts",
           "Pedralbes",
           4054,
           2.59
          ],
          [
           "Les Corts",
           "Pedralbes",
           4055,
           2.95
          ],
          [
           "Les Corts",
           "Pedralbes",
           4056,
           2.94
          ],
          [
           "Les Corts",
           "la Maternitat i Sant Ramon",
           4036,
           2.45
          ],
          [
           "Les Corts",
           "la Maternitat i Sant Ramon",
           4037,
           2.45
          ],
          [
           "Les Corts",
           "la Maternitat i Sant Ramon",
           4038,
           2.43
          ],
          [
           "Les Corts",
           "la Maternitat i Sant Ramon",
           4039,
           2.31
          ],
          [
           "Les Corts",
           "la Maternitat i Sant Ramon",
           4040,
           2.46
          ],
          [
           "Les Corts",
           "la Maternitat i Sant Ramon",
           4041,
           2.35
          ],
          [
           "Les Corts",
           "la Maternitat i Sant Ramon",
           4042,
           2.32
          ],
          [
           "Les Corts",
           "la Maternitat i Sant Ramon",
           4043,
           2.42
          ],
          [
           "Les Corts",
           "la Maternitat i Sant Ramon",
           4044,
           2.42
          ],
          [
           "Les Corts",
           "la Maternitat i Sant Ramon",
           4045,
           2.45
          ],
          [
           "Les Corts",
           "la Maternitat i Sant Ramon",
           4046,
           2.58
          ],
          [
           "Les Corts",
           "la Maternitat i Sant Ramon",
           4047,
           2.61
          ],
          [
           "Les Corts",
           "la Maternitat i Sant Ramon",
           4048,
           2.46
          ],
          [
           "Les Corts",
           "la Maternitat i Sant Ramon",
           4049,
           2.67
          ],
          [
           "Les Corts",
           "la Maternitat i Sant Ramon",
           4084,
           2.43
          ],
          [
           "Les Corts",
           "les Corts",
           4001,
           2.46
          ],
          [
           "Les Corts",
           "les Corts",
           4002,
           2.5
          ],
          [
           "Les Corts",
           "les Corts",
           4003,
           2.37
          ],
          [
           "Les Corts",
           "les Corts",
           4004,
           2.32
          ],
          [
           "Les Corts",
           "les Corts",
           4005,
           2.38
          ],
          [
           "Les Corts",
           "les Corts",
           4006,
           2.34
          ],
          [
           "Les Corts",
           "les Corts",
           4007,
           2.35
          ],
          [
           "Les Corts",
           "les Corts",
           4008,
           2.21
          ],
          [
           "Les Corts",
           "les Corts",
           4009,
           2.29
          ],
          [
           "Les Corts",
           "les Corts",
           4010,
           2.48
          ],
          [
           "Les Corts",
           "les Corts",
           4011,
           2.45
          ],
          [
           "Les Corts",
           "les Corts",
           4012,
           2.34
          ],
          [
           "Les Corts",
           "les Corts",
           4013,
           2.4
          ],
          [
           "Les Corts",
           "les Corts",
           4014,
           2.38
          ],
          [
           "Les Corts",
           "les Corts",
           4015,
           2.4
          ],
          [
           "Les Corts",
           "les Corts",
           4016,
           2.4
          ],
          [
           "Les Corts",
           "les Corts",
           4017,
           2.32
          ],
          [
           "Les Corts",
           "les Corts",
           4018,
           2.36
          ],
          [
           "Les Corts",
           "les Corts",
           4019,
           2.61
          ],
          [
           "Les Corts",
           "les Corts",
           4020,
           2.57
          ],
          [
           "Les Corts",
           "les Corts",
           4021,
           2.29
          ],
          [
           "Les Corts",
           "les Corts",
           4022,
           2.18
          ],
          [
           "Les Corts",
           "les Corts",
           4023,
           2.64
          ],
          [
           "Les Corts",
           "les Corts",
           4024,
           2.77
          ],
          [
           "Les Corts",
           "les Corts",
           4025,
           2.32
          ],
          [
           "Les Corts",
           "les Corts",
           4026,
           2.29
          ],
          [
           "Les Corts",
           "les Corts",
           4027,
           2.29
          ],
          [
           "Les Corts",
           "les Corts",
           4028,
           2.23
          ],
          [
           "Les Corts",
           "les Corts",
           4029,
           2.35
          ],
          [
           "Les Corts",
           "les Corts",
           4030,
           2.52
          ],
          [
           "Les Corts",
           "les Corts",
           4031,
           2.35
          ],
          [
           "Les Corts",
           "les Corts",
           4032,
           2.38
          ],
          [
           "Les Corts",
           "les Corts",
           4033,
           2.29
          ],
          [
           "Les Corts",
           "les Corts",
           4034,
           2.51
          ],
          [
           "Les Corts",
           "les Corts",
           4035,
           2.27
          ]
         ],
         "fillcolor": "#49B3FF",
         "hoveron": "points",
         "hovertemplate": "<br><b>District: %{customdata[0]}</b></br><b>Neighborhood: %{customdata[1]}</b><br><b>Census section: %{customdata[2]}</b></br><b>People per household: %{customdata[3]}</b><extra></extra>",
         "jitter": 1,
         "line": {
          "color": "#019BBF"
         },
         "marker": {
          "color": "#019BBF",
          "line": {
           "color": "#49B3FF",
           "width": 1
          },
          "size": 8
         },
         "name": "Les Corts",
         "pointpos": 0,
         "points": "all",
         "showlegend": false,
         "type": "violin",
         "y": [
          2.63,
          2.44,
          2.74,
          2.62,
          2.59,
          2.95,
          2.94,
          2.45,
          2.45,
          2.43,
          2.31,
          2.46,
          2.35,
          2.32,
          2.42,
          2.42,
          2.45,
          2.58,
          2.61,
          2.46,
          2.67,
          2.43,
          2.46,
          2.5,
          2.37,
          2.32,
          2.38,
          2.34,
          2.35,
          2.21,
          2.29,
          2.48,
          2.45,
          2.34,
          2.4,
          2.38,
          2.4,
          2.4,
          2.32,
          2.36,
          2.61,
          2.57,
          2.29,
          2.18,
          2.64,
          2.77,
          2.32,
          2.29,
          2.29,
          2.23,
          2.35,
          2.52,
          2.35,
          2.38,
          2.29,
          2.51,
          2.27
         ]
        },
        {
         "box": {
          "visible": false
         },
         "customdata": [
          [
           "Sarrià-Sant Gervasi",
           "Sant Gervasi - Galvany",
           5049,
           2.89
          ],
          [
           "Sarrià-Sant Gervasi",
           "Sant Gervasi - Galvany",
           5050,
           2.43
          ],
          [
           "Sarrià-Sant Gervasi",
           "Sant Gervasi - Galvany",
           5051,
           2.77
          ],
          [
           "Sarrià-Sant Gervasi",
           "Sant Gervasi - Galvany",
           5052,
           2.95
          ],
          [
           "Sarrià-Sant Gervasi",
           "Sant Gervasi - Galvany",
           5053,
           2.96
          ],
          [
           "Sarrià-Sant Gervasi",
           "Sant Gervasi - Galvany",
           5054,
           2.88
          ],
          [
           "Sarrià-Sant Gervasi",
           "Sant Gervasi - Galvany",
           5055,
           2.89
          ],
          [
           "Sarrià-Sant Gervasi",
           "Sant Gervasi - Galvany",
           5056,
           2.43
          ],
          [
           "Sarrià-Sant Gervasi",
           "Sant Gervasi - Galvany",
           5057,
           2.71
          ],
          [
           "Sarrià-Sant Gervasi",
           "Sant Gervasi - Galvany",
           5058,
           2.62
          ],
          [
           "Sarrià-Sant Gervasi",
           "Sant Gervasi - Galvany",
           5059,
           2.39
          ],
          [
           "Sarrià-Sant Gervasi",
           "Sant Gervasi - Galvany",
           5060,
           2.72
          ],
          [
           "Sarrià-Sant Gervasi",
           "Sant Gervasi - Galvany",
           5061,
           2.11
          ],
          [
           "Sarrià-Sant Gervasi",
           "Sant Gervasi - Galvany",
           5062,
           2.47
          ],
          [
           "Sarrià-Sant Gervasi",
           "Sant Gervasi - Galvany",
           5063,
           2.52
          ],
          [
           "Sarrià-Sant Gervasi",
           "Sant Gervasi - Galvany",
           5064,
           2.3
          ],
          [
           "Sarrià-Sant Gervasi",
           "Sant Gervasi - Galvany",
           5065,
           2.47
          ],
          [
           "Sarrià-Sant Gervasi",
           "Sant Gervasi - Galvany",
           5066,
           2.49
          ],
          [
           "Sarrià-Sant Gervasi",
           "Sant Gervasi - Galvany",
           5067,
           2.44
          ],
          [
           "Sarrià-Sant Gervasi",
           "Sant Gervasi - Galvany",
           5068,
           2.26
          ],
          [
           "Sarrià-Sant Gervasi",
           "Sant Gervasi - Galvany",
           5069,
           2.49
          ],
          [
           "Sarrià-Sant Gervasi",
           "Sant Gervasi - Galvany",
           5070,
           2.45
          ],
          [
           "Sarrià-Sant Gervasi",
           "Sant Gervasi - Galvany",
           5071,
           2.35
          ],
          [
           "Sarrià-Sant Gervasi",
           "Sant Gervasi - Galvany",
           5072,
           2.46
          ],
          [
           "Sarrià-Sant Gervasi",
           "Sant Gervasi - Galvany",
           5073,
           2.31
          ],
          [
           "Sarrià-Sant Gervasi",
           "Sant Gervasi - Galvany",
           5074,
           2.48
          ],
          [
           "Sarrià-Sant Gervasi",
           "Sant Gervasi - Galvany",
           5075,
           2.35
          ],
          [
           "Sarrià-Sant Gervasi",
           "Sant Gervasi - Galvany",
           5076,
           2.42
          ],
          [
           "Sarrià-Sant Gervasi",
           "Sant Gervasi - Galvany",
           5077,
           2.76
          ],
          [
           "Sarrià-Sant Gervasi",
           "Sant Gervasi - Galvany",
           5078,
           2.76
          ],
          [
           "Sarrià-Sant Gervasi",
           "Sant Gervasi - Galvany",
           5079,
           2.69
          ],
          [
           "Sarrià-Sant Gervasi",
           "Sant Gervasi - la Bonanova",
           5031,
           3.08
          ],
          [
           "Sarrià-Sant Gervasi",
           "Sant Gervasi - la Bonanova",
           5032,
           2.92
          ],
          [
           "Sarrià-Sant Gervasi",
           "Sant Gervasi - la Bonanova",
           5033,
           2.8
          ],
          [
           "Sarrià-Sant Gervasi",
           "Sant Gervasi - la Bonanova",
           5034,
           2.63
          ],
          [
           "Sarrià-Sant Gervasi",
           "Sant Gervasi - la Bonanova",
           5035,
           2.62
          ],
          [
           "Sarrià-Sant Gervasi",
           "Sant Gervasi - la Bonanova",
           5036,
           2.86
          ],
          [
           "Sarrià-Sant Gervasi",
           "Sant Gervasi - la Bonanova",
           5037,
           2.59
          ],
          [
           "Sarrià-Sant Gervasi",
           "Sant Gervasi - la Bonanova",
           5038,
           2.32
          ],
          [
           "Sarrià-Sant Gervasi",
           "Sant Gervasi - la Bonanova",
           5039,
           2.87
          ],
          [
           "Sarrià-Sant Gervasi",
           "Sant Gervasi - la Bonanova",
           5040,
           2.4
          ],
          [
           "Sarrià-Sant Gervasi",
           "Sant Gervasi - la Bonanova",
           5041,
           2.42
          ],
          [
           "Sarrià-Sant Gervasi",
           "Sant Gervasi - la Bonanova",
           5042,
           2.45
          ],
          [
           "Sarrià-Sant Gervasi",
           "Sant Gervasi - la Bonanova",
           5043,
           2.38
          ],
          [
           "Sarrià-Sant Gervasi",
           "Sant Gervasi - la Bonanova",
           5044,
           2.52
          ],
          [
           "Sarrià-Sant Gervasi",
           "Sant Gervasi - la Bonanova",
           5045,
           2.83
          ],
          [
           "Sarrià-Sant Gervasi",
           "Sant Gervasi - la Bonanova",
           5046,
           2.67
          ],
          [
           "Sarrià-Sant Gervasi",
           "Sant Gervasi - la Bonanova",
           5047,
           2.82
          ],
          [
           "Sarrià-Sant Gervasi",
           "Sant Gervasi - la Bonanova",
           5048,
           2.66
          ],
          [
           "Sarrià-Sant Gervasi",
           "Sarrià",
           5004,
           3.28
          ],
          [
           "Sarrià-Sant Gervasi",
           "Sarrià",
           5005,
           3.18
          ],
          [
           "Sarrià-Sant Gervasi",
           "Sarrià",
           5006,
           3.17
          ],
          [
           "Sarrià-Sant Gervasi",
           "Sarrià",
           5007,
           2.83
          ],
          [
           "Sarrià-Sant Gervasi",
           "Sarrià",
           5008,
           2.85
          ],
          [
           "Sarrià-Sant Gervasi",
           "Sarrià",
           5009,
           2.64
          ],
          [
           "Sarrià-Sant Gervasi",
           "Sarrià",
           5010,
           2.63
          ],
          [
           "Sarrià-Sant Gervasi",
           "Sarrià",
           5011,
           2.55
          ],
          [
           "Sarrià-Sant Gervasi",
           "Sarrià",
           5012,
           2.43
          ],
          [
           "Sarrià-Sant Gervasi",
           "Sarrià",
           5013,
           2.5
          ],
          [
           "Sarrià-Sant Gervasi",
           "Sarrià",
           5014,
           2.6
          ],
          [
           "Sarrià-Sant Gervasi",
           "Sarrià",
           5015,
           2.7
          ],
          [
           "Sarrià-Sant Gervasi",
           "Sarrià",
           5016,
           2.58
          ],
          [
           "Sarrià-Sant Gervasi",
           "Sarrià",
           5017,
           2.87
          ],
          [
           "Sarrià-Sant Gervasi",
           "Sarrià",
           5018,
           2.51
          ],
          [
           "Sarrià-Sant Gervasi",
           "Sarrià",
           5019,
           2.85
          ],
          [
           "Sarrià-Sant Gervasi",
           "Vallvidrera, el Tibidabo i les Planes",
           5001,
           2.84
          ],
          [
           "Sarrià-Sant Gervasi",
           "Vallvidrera, el Tibidabo i les Planes",
           5002,
           2.91
          ],
          [
           "Sarrià-Sant Gervasi",
           "Vallvidrera, el Tibidabo i les Planes",
           5003,
           2.88
          ],
          [
           "Sarrià-Sant Gervasi",
           "el Putxet i el Farró",
           5080,
           2.32
          ],
          [
           "Sarrià-Sant Gervasi",
           "el Putxet i el Farró",
           5081,
           2.43
          ],
          [
           "Sarrià-Sant Gervasi",
           "el Putxet i el Farró",
           5082,
           2.34
          ],
          [
           "Sarrià-Sant Gervasi",
           "el Putxet i el Farró",
           5083,
           2.34
          ],
          [
           "Sarrià-Sant Gervasi",
           "el Putxet i el Farró",
           5084,
           2.4
          ],
          [
           "Sarrià-Sant Gervasi",
           "el Putxet i el Farró",
           5085,
           2.36
          ],
          [
           "Sarrià-Sant Gervasi",
           "el Putxet i el Farró",
           5086,
           2.31
          ],
          [
           "Sarrià-Sant Gervasi",
           "el Putxet i el Farró",
           5087,
           2.35
          ],
          [
           "Sarrià-Sant Gervasi",
           "el Putxet i el Farró",
           5088,
           2.56
          ],
          [
           "Sarrià-Sant Gervasi",
           "el Putxet i el Farró",
           5089,
           2.53
          ],
          [
           "Sarrià-Sant Gervasi",
           "el Putxet i el Farró",
           5090,
           2.33
          ],
          [
           "Sarrià-Sant Gervasi",
           "el Putxet i el Farró",
           5091,
           2.44
          ],
          [
           "Sarrià-Sant Gervasi",
           "el Putxet i el Farró",
           5092,
           2.72
          ],
          [
           "Sarrià-Sant Gervasi",
           "el Putxet i el Farró",
           5093,
           2.33
          ],
          [
           "Sarrià-Sant Gervasi",
           "el Putxet i el Farró",
           5094,
           2.61
          ],
          [
           "Sarrià-Sant Gervasi",
           "el Putxet i el Farró",
           5095,
           2.45
          ],
          [
           "Sarrià-Sant Gervasi",
           "el Putxet i el Farró",
           5096,
           2.33
          ],
          [
           "Sarrià-Sant Gervasi",
           "el Putxet i el Farró",
           5097,
           2.51
          ],
          [
           "Sarrià-Sant Gervasi",
           "el Putxet i el Farró",
           5098,
           2.39
          ],
          [
           "Sarrià-Sant Gervasi",
           "les Tres Torres",
           5020,
           2.42
          ],
          [
           "Sarrià-Sant Gervasi",
           "les Tres Torres",
           5021,
           2.59
          ],
          [
           "Sarrià-Sant Gervasi",
           "les Tres Torres",
           5022,
           2.79
          ],
          [
           "Sarrià-Sant Gervasi",
           "les Tres Torres",
           5023,
           2.52
          ],
          [
           "Sarrià-Sant Gervasi",
           "les Tres Torres",
           5024,
           2.88
          ],
          [
           "Sarrià-Sant Gervasi",
           "les Tres Torres",
           5025,
           3.08
          ],
          [
           "Sarrià-Sant Gervasi",
           "les Tres Torres",
           5026,
           3.04
          ],
          [
           "Sarrià-Sant Gervasi",
           "les Tres Torres",
           5027,
           3.02
          ],
          [
           "Sarrià-Sant Gervasi",
           "les Tres Torres",
           5028,
           3.03
          ],
          [
           "Sarrià-Sant Gervasi",
           "les Tres Torres",
           5029,
           3.2
          ],
          [
           "Sarrià-Sant Gervasi",
           "les Tres Torres",
           5030,
           3.17
          ]
         ],
         "fillcolor": "#FF8B8F",
         "hoveron": "points",
         "hovertemplate": "<br><b>District: %{customdata[0]}</b></br><b>Neighborhood: %{customdata[1]}</b><br><b>Census section: %{customdata[2]}</b></br><b>People per household: %{customdata[3]}</b><extra></extra>",
         "jitter": 1,
         "line": {
          "color": "#F62F36"
         },
         "marker": {
          "color": "#F62F36",
          "line": {
           "color": "#FF8B8F",
           "width": 1
          },
          "size": 8
         },
         "name": "Sarrià-Sant Gervasi",
         "pointpos": 0,
         "points": "all",
         "showlegend": false,
         "type": "violin",
         "y": [
          2.89,
          2.43,
          2.77,
          2.95,
          2.96,
          2.88,
          2.89,
          2.43,
          2.71,
          2.62,
          2.39,
          2.72,
          2.11,
          2.47,
          2.52,
          2.3,
          2.47,
          2.49,
          2.44,
          2.26,
          2.49,
          2.45,
          2.35,
          2.46,
          2.31,
          2.48,
          2.35,
          2.42,
          2.76,
          2.76,
          2.69,
          3.08,
          2.92,
          2.8,
          2.63,
          2.62,
          2.86,
          2.59,
          2.32,
          2.87,
          2.4,
          2.42,
          2.45,
          2.38,
          2.52,
          2.83,
          2.67,
          2.82,
          2.66,
          3.28,
          3.18,
          3.17,
          2.83,
          2.85,
          2.64,
          2.63,
          2.55,
          2.43,
          2.5,
          2.6,
          2.7,
          2.58,
          2.87,
          2.51,
          2.85,
          2.84,
          2.91,
          2.88,
          2.32,
          2.43,
          2.34,
          2.34,
          2.4,
          2.36,
          2.31,
          2.35,
          2.56,
          2.53,
          2.33,
          2.44,
          2.72,
          2.33,
          2.61,
          2.45,
          2.33,
          2.51,
          2.39,
          2.42,
          2.59,
          2.79,
          2.52,
          2.88,
          3.08,
          3.04,
          3.02,
          3.03,
          3.2,
          3.17
         ]
        },
        {
         "box": {
          "visible": false
         },
         "customdata": [
          [
           "Gràcia",
           "Vallcarca i els Penitents",
           6001,
           2.43
          ],
          [
           "Gràcia",
           "Vallcarca i els Penitents",
           6002,
           2.26
          ],
          [
           "Gràcia",
           "Vallcarca i els Penitents",
           6003,
           2.39
          ],
          [
           "Gràcia",
           "Vallcarca i els Penitents",
           6004,
           2.34
          ],
          [
           "Gràcia",
           "Vallcarca i els Penitents",
           6006,
           2.51
          ],
          [
           "Gràcia",
           "Vallcarca i els Penitents",
           6007,
           2.44
          ],
          [
           "Gràcia",
           "Vallcarca i els Penitents",
           6008,
           2.37
          ],
          [
           "Gràcia",
           "Vallcarca i els Penitents",
           6009,
           2.61
          ],
          [
           "Gràcia",
           "Vallcarca i els Penitents",
           6010,
           2.56
          ],
          [
           "Gràcia",
           "Vallcarca i els Penitents",
           6011,
           2.52
          ],
          [
           "Gràcia",
           "Vallcarca i els Penitents",
           6012,
           2.57
          ],
          [
           "Gràcia",
           "el Camp d'en Grassot i Gràcia Nova",
           6064,
           2.35
          ],
          [
           "Gràcia",
           "el Camp d'en Grassot i Gràcia Nova",
           6065,
           2.38
          ],
          [
           "Gràcia",
           "el Camp d'en Grassot i Gràcia Nova",
           6066,
           2.17
          ],
          [
           "Gràcia",
           "el Camp d'en Grassot i Gràcia Nova",
           6067,
           2.17
          ],
          [
           "Gràcia",
           "el Camp d'en Grassot i Gràcia Nova",
           6068,
           2.3
          ],
          [
           "Gràcia",
           "el Camp d'en Grassot i Gràcia Nova",
           6069,
           2.3
          ],
          [
           "Gràcia",
           "el Camp d'en Grassot i Gràcia Nova",
           6070,
           2.25
          ],
          [
           "Gràcia",
           "el Camp d'en Grassot i Gràcia Nova",
           6071,
           2.47
          ],
          [
           "Gràcia",
           "el Camp d'en Grassot i Gràcia Nova",
           6072,
           2.32
          ],
          [
           "Gràcia",
           "el Camp d'en Grassot i Gràcia Nova",
           6073,
           2.3
          ],
          [
           "Gràcia",
           "el Camp d'en Grassot i Gràcia Nova",
           6074,
           2.47
          ],
          [
           "Gràcia",
           "el Camp d'en Grassot i Gràcia Nova",
           6075,
           2.51
          ],
          [
           "Gràcia",
           "el Camp d'en Grassot i Gràcia Nova",
           6076,
           2.41
          ],
          [
           "Gràcia",
           "el Camp d'en Grassot i Gràcia Nova",
           6077,
           2.29
          ],
          [
           "Gràcia",
           "el Camp d'en Grassot i Gràcia Nova",
           6078,
           2.2
          ],
          [
           "Gràcia",
           "el Camp d'en Grassot i Gràcia Nova",
           6079,
           2.19
          ],
          [
           "Gràcia",
           "el Camp d'en Grassot i Gràcia Nova",
           6080,
           2.31
          ],
          [
           "Gràcia",
           "el Camp d'en Grassot i Gràcia Nova",
           6081,
           2.25
          ],
          [
           "Gràcia",
           "el Camp d'en Grassot i Gràcia Nova",
           6082,
           2.39
          ],
          [
           "Gràcia",
           "el Camp d'en Grassot i Gràcia Nova",
           6083,
           2.33
          ],
          [
           "Gràcia",
           "el Camp d'en Grassot i Gràcia Nova",
           6084,
           2.24
          ],
          [
           "Gràcia",
           "el Camp d'en Grassot i Gràcia Nova",
           6085,
           2.32
          ],
          [
           "Gràcia",
           "el Camp d'en Grassot i Gràcia Nova",
           6086,
           2.37
          ],
          [
           "Gràcia",
           "el Camp d'en Grassot i Gràcia Nova",
           6087,
           2.34
          ],
          [
           "Gràcia",
           "el Camp d'en Grassot i Gràcia Nova",
           6088,
           2.38
          ],
          [
           "Gràcia",
           "el Coll",
           6013,
           2.42
          ],
          [
           "Gràcia",
           "el Coll",
           6014,
           2.52
          ],
          [
           "Gràcia",
           "el Coll",
           6015,
           2.36
          ],
          [
           "Gràcia",
           "el Coll",
           6016,
           2.41
          ],
          [
           "Gràcia",
           "el Coll",
           6017,
           2.4
          ],
          [
           "Gràcia",
           "la Salut",
           6018,
           2.34
          ],
          [
           "Gràcia",
           "la Salut",
           6019,
           2.38
          ],
          [
           "Gràcia",
           "la Salut",
           6020,
           2.25
          ],
          [
           "Gràcia",
           "la Salut",
           6021,
           2.49
          ],
          [
           "Gràcia",
           "la Salut",
           6022,
           2.42
          ],
          [
           "Gràcia",
           "la Salut",
           6023,
           2.58
          ],
          [
           "Gràcia",
           "la Salut",
           6024,
           2.41
          ],
          [
           "Gràcia",
           "la Salut",
           6025,
           2.38
          ],
          [
           "Gràcia",
           "la Salut",
           6026,
           2.22
          ],
          [
           "Gràcia",
           "la Salut",
           6027,
           2.41
          ],
          [
           "Gràcia",
           "la Vila de Gràcia",
           6028,
           2.32
          ],
          [
           "Gràcia",
           "la Vila de Gràcia",
           6029,
           2.18
          ],
          [
           "Gràcia",
           "la Vila de Gràcia",
           6030,
           2.22
          ],
          [
           "Gràcia",
           "la Vila de Gràcia",
           6031,
           2.08
          ],
          [
           "Gràcia",
           "la Vila de Gràcia",
           6032,
           2.34
          ],
          [
           "Gràcia",
           "la Vila de Gràcia",
           6033,
           2.12
          ],
          [
           "Gràcia",
           "la Vila de Gràcia",
           6034,
           2.24
          ],
          [
           "Gràcia",
           "la Vila de Gràcia",
           6035,
           2.39
          ],
          [
           "Gràcia",
           "la Vila de Gràcia",
           6036,
           2.34
          ],
          [
           "Gràcia",
           "la Vila de Gràcia",
           6037,
           2.46
          ],
          [
           "Gràcia",
           "la Vila de Gràcia",
           6038,
           2.23
          ],
          [
           "Gràcia",
           "la Vila de Gràcia",
           6039,
           2.11
          ],
          [
           "Gràcia",
           "la Vila de Gràcia",
           6040,
           2.4
          ],
          [
           "Gràcia",
           "la Vila de Gràcia",
           6041,
           2.35
          ],
          [
           "Gràcia",
           "la Vila de Gràcia",
           6042,
           2.26
          ],
          [
           "Gràcia",
           "la Vila de Gràcia",
           6043,
           2.25
          ],
          [
           "Gràcia",
           "la Vila de Gràcia",
           6044,
           2.26
          ],
          [
           "Gràcia",
           "la Vila de Gràcia",
           6045,
           2.14
          ],
          [
           "Gràcia",
           "la Vila de Gràcia",
           6046,
           2.25
          ],
          [
           "Gràcia",
           "la Vila de Gràcia",
           6047,
           2.03
          ],
          [
           "Gràcia",
           "la Vila de Gràcia",
           6048,
           2.21
          ],
          [
           "Gràcia",
           "la Vila de Gràcia",
           6049,
           2.29
          ],
          [
           "Gràcia",
           "la Vila de Gràcia",
           6050,
           2.19
          ],
          [
           "Gràcia",
           "la Vila de Gràcia",
           6051,
           2.22
          ],
          [
           "Gràcia",
           "la Vila de Gràcia",
           6052,
           2.17
          ],
          [
           "Gràcia",
           "la Vila de Gràcia",
           6053,
           2.24
          ],
          [
           "Gràcia",
           "la Vila de Gràcia",
           6054,
           2.2
          ],
          [
           "Gràcia",
           "la Vila de Gràcia",
           6055,
           2.26
          ],
          [
           "Gràcia",
           "la Vila de Gràcia",
           6056,
           2.06
          ],
          [
           "Gràcia",
           "la Vila de Gràcia",
           6057,
           2.02
          ],
          [
           "Gràcia",
           "la Vila de Gràcia",
           6058,
           2.09
          ],
          [
           "Gràcia",
           "la Vila de Gràcia",
           6059,
           2.06
          ],
          [
           "Gràcia",
           "la Vila de Gràcia",
           6060,
           2.26
          ],
          [
           "Gràcia",
           "la Vila de Gràcia",
           6061,
           2.22
          ],
          [
           "Gràcia",
           "la Vila de Gràcia",
           6062,
           2.24
          ],
          [
           "Gràcia",
           "la Vila de Gràcia",
           6063,
           2.16
          ]
         ],
         "fillcolor": "#E9BEA8",
         "hoveron": "points",
         "hovertemplate": "<br><b>District: %{customdata[0]}</b></br><b>Neighborhood: %{customdata[1]}</b><br><b>Census section: %{customdata[2]}</b></br><b>People per household: %{customdata[3]}</b><extra></extra>",
         "jitter": 1,
         "line": {
          "color": "#9D5E31"
         },
         "marker": {
          "color": "#9D5E31",
          "line": {
           "color": "#E9BEA8",
           "width": 1
          },
          "size": 8
         },
         "name": "Gràcia",
         "pointpos": 0,
         "points": "all",
         "showlegend": false,
         "type": "violin",
         "y": [
          2.43,
          2.26,
          2.39,
          2.34,
          2.51,
          2.44,
          2.37,
          2.61,
          2.56,
          2.52,
          2.57,
          2.35,
          2.38,
          2.17,
          2.17,
          2.3,
          2.3,
          2.25,
          2.47,
          2.32,
          2.3,
          2.47,
          2.51,
          2.41,
          2.29,
          2.2,
          2.19,
          2.31,
          2.25,
          2.39,
          2.33,
          2.24,
          2.32,
          2.37,
          2.34,
          2.38,
          2.42,
          2.52,
          2.36,
          2.41,
          2.4,
          2.34,
          2.38,
          2.25,
          2.49,
          2.42,
          2.58,
          2.41,
          2.38,
          2.22,
          2.41,
          2.32,
          2.18,
          2.22,
          2.08,
          2.34,
          2.12,
          2.24,
          2.39,
          2.34,
          2.46,
          2.23,
          2.11,
          2.4,
          2.35,
          2.26,
          2.25,
          2.26,
          2.14,
          2.25,
          2.03,
          2.21,
          2.29,
          2.19,
          2.22,
          2.17,
          2.24,
          2.2,
          2.26,
          2.06,
          2.02,
          2.09,
          2.06,
          2.26,
          2.22,
          2.24,
          2.16
         ]
        },
        {
         "box": {
          "visible": false
         },
         "customdata": [
          [
           "Horta-Guinardó",
           "Can Baró",
           7020,
           2.43
          ],
          [
           "Horta-Guinardó",
           "Can Baró",
           7021,
           2.5
          ],
          [
           "Horta-Guinardó",
           "Can Baró",
           7022,
           2.51
          ],
          [
           "Horta-Guinardó",
           "Can Baró",
           7023,
           2.35
          ],
          [
           "Horta-Guinardó",
           "Can Baró",
           7024,
           2.25
          ],
          [
           "Horta-Guinardó",
           "Can Baró",
           7025,
           2.41
          ],
          [
           "Horta-Guinardó",
           "Can Baró",
           7026,
           2.32
          ],
          [
           "Horta-Guinardó",
           "Horta",
           7103,
           2.52
          ],
          [
           "Horta-Guinardó",
           "Horta",
           7104,
           2.36
          ],
          [
           "Horta-Guinardó",
           "Horta",
           7105,
           2.36
          ],
          [
           "Horta-Guinardó",
           "Horta",
           7106,
           2.5
          ],
          [
           "Horta-Guinardó",
           "Horta",
           7107,
           2.51
          ],
          [
           "Horta-Guinardó",
           "Horta",
           7108,
           2.49
          ],
          [
           "Horta-Guinardó",
           "Horta",
           7109,
           2.26
          ],
          [
           "Horta-Guinardó",
           "Horta",
           7110,
           2.54
          ],
          [
           "Horta-Guinardó",
           "Horta",
           7111,
           2.37
          ],
          [
           "Horta-Guinardó",
           "Horta",
           7112,
           2.55
          ],
          [
           "Horta-Guinardó",
           "Horta",
           7113,
           2.43
          ],
          [
           "Horta-Guinardó",
           "Horta",
           7114,
           2.4
          ],
          [
           "Horta-Guinardó",
           "Horta",
           7115,
           2.37
          ],
          [
           "Horta-Guinardó",
           "Horta",
           7116,
           2.46
          ],
          [
           "Horta-Guinardó",
           "Horta",
           7117,
           2.4
          ],
          [
           "Horta-Guinardó",
           "Horta",
           7118,
           2.46
          ],
          [
           "Horta-Guinardó",
           "Horta",
           7119,
           2.5
          ],
          [
           "Horta-Guinardó",
           "Horta",
           7120,
           2.47
          ],
          [
           "Horta-Guinardó",
           "Horta",
           7121,
           2.43
          ],
          [
           "Horta-Guinardó",
           "Horta",
           7122,
           2.38
          ],
          [
           "Horta-Guinardó",
           "Horta",
           7123,
           2.41
          ],
          [
           "Horta-Guinardó",
           "Montbau",
           7094,
           2.41
          ],
          [
           "Horta-Guinardó",
           "Montbau",
           7095,
           2.38
          ],
          [
           "Horta-Guinardó",
           "Montbau",
           7096,
           2.33
          ],
          [
           "Horta-Guinardó",
           "Montbau",
           7097,
           2.36
          ],
          [
           "Horta-Guinardó",
           "Sant Genís dels Agudells",
           7089,
           2.43
          ],
          [
           "Horta-Guinardó",
           "Sant Genís dels Agudells",
           7090,
           2.65
          ],
          [
           "Horta-Guinardó",
           "Sant Genís dels Agudells",
           7091,
           2.39
          ],
          [
           "Horta-Guinardó",
           "Sant Genís dels Agudells",
           7092,
           2.44
          ],
          [
           "Horta-Guinardó",
           "Sant Genís dels Agudells",
           7093,
           2.41
          ],
          [
           "Horta-Guinardó",
           "el Baix Guinardó",
           7001,
           2.38
          ],
          [
           "Horta-Guinardó",
           "el Baix Guinardó",
           7002,
           2.01
          ],
          [
           "Horta-Guinardó",
           "el Baix Guinardó",
           7003,
           2.47
          ],
          [
           "Horta-Guinardó",
           "el Baix Guinardó",
           7004,
           2.36
          ],
          [
           "Horta-Guinardó",
           "el Baix Guinardó",
           7005,
           2.2
          ],
          [
           "Horta-Guinardó",
           "el Baix Guinardó",
           7006,
           2.37
          ],
          [
           "Horta-Guinardó",
           "el Baix Guinardó",
           7007,
           2.38
          ],
          [
           "Horta-Guinardó",
           "el Baix Guinardó",
           7008,
           2.58
          ],
          [
           "Horta-Guinardó",
           "el Baix Guinardó",
           7009,
           2.26
          ],
          [
           "Horta-Guinardó",
           "el Baix Guinardó",
           7010,
           2.51
          ],
          [
           "Horta-Guinardó",
           "el Baix Guinardó",
           7011,
           2.18
          ],
          [
           "Horta-Guinardó",
           "el Baix Guinardó",
           7012,
           2.29
          ],
          [
           "Horta-Guinardó",
           "el Baix Guinardó",
           7013,
           2.45
          ],
          [
           "Horta-Guinardó",
           "el Baix Guinardó",
           7014,
           2.22
          ],
          [
           "Horta-Guinardó",
           "el Baix Guinardó",
           7015,
           2.53
          ],
          [
           "Horta-Guinardó",
           "el Baix Guinardó",
           7016,
           2.6
          ],
          [
           "Horta-Guinardó",
           "el Baix Guinardó",
           7017,
           2.36
          ],
          [
           "Horta-Guinardó",
           "el Baix Guinardó",
           7018,
           2.54
          ],
          [
           "Horta-Guinardó",
           "el Baix Guinardó",
           7019,
           2.44
          ],
          [
           "Horta-Guinardó",
           "el Carmel",
           7059,
           2.4
          ],
          [
           "Horta-Guinardó",
           "el Carmel",
           7060,
           2.39
          ],
          [
           "Horta-Guinardó",
           "el Carmel",
           7061,
           2.52
          ],
          [
           "Horta-Guinardó",
           "el Carmel",
           7062,
           2.49
          ],
          [
           "Horta-Guinardó",
           "el Carmel",
           7063,
           2.54
          ],
          [
           "Horta-Guinardó",
           "el Carmel",
           7064,
           2.57
          ],
          [
           "Horta-Guinardó",
           "el Carmel",
           7065,
           2.53
          ],
          [
           "Horta-Guinardó",
           "el Carmel",
           7066,
           2.54
          ],
          [
           "Horta-Guinardó",
           "el Carmel",
           7067,
           2.48
          ],
          [
           "Horta-Guinardó",
           "el Carmel",
           7068,
           2.71
          ],
          [
           "Horta-Guinardó",
           "el Carmel",
           7069,
           2.5
          ],
          [
           "Horta-Guinardó",
           "el Carmel",
           7070,
           2.62
          ],
          [
           "Horta-Guinardó",
           "el Carmel",
           7071,
           2.53
          ],
          [
           "Horta-Guinardó",
           "el Carmel",
           7072,
           2.54
          ],
          [
           "Horta-Guinardó",
           "el Carmel",
           7073,
           2.39
          ],
          [
           "Horta-Guinardó",
           "el Carmel",
           7074,
           2.47
          ],
          [
           "Horta-Guinardó",
           "el Carmel",
           7075,
           2.61
          ],
          [
           "Horta-Guinardó",
           "el Carmel",
           7076,
           2.54
          ],
          [
           "Horta-Guinardó",
           "el Carmel",
           7077,
           2.53
          ],
          [
           "Horta-Guinardó",
           "el Carmel",
           7078,
           2.51
          ],
          [
           "Horta-Guinardó",
           "el Carmel",
           7079,
           2.48
          ],
          [
           "Horta-Guinardó",
           "el Carmel",
           7080,
           2.62
          ],
          [
           "Horta-Guinardó",
           "el Guinardó",
           7027,
           2.62
          ],
          [
           "Horta-Guinardó",
           "el Guinardó",
           7028,
           2.43
          ],
          [
           "Horta-Guinardó",
           "el Guinardó",
           7029,
           2.36
          ],
          [
           "Horta-Guinardó",
           "el Guinardó",
           7030,
           2.38
          ],
          [
           "Horta-Guinardó",
           "el Guinardó",
           7031,
           2.49
          ],
          [
           "Horta-Guinardó",
           "el Guinardó",
           7032,
           2.43
          ],
          [
           "Horta-Guinardó",
           "el Guinardó",
           7033,
           2.5
          ],
          [
           "Horta-Guinardó",
           "el Guinardó",
           7034,
           2.49
          ],
          [
           "Horta-Guinardó",
           "el Guinardó",
           7035,
           2.5
          ],
          [
           "Horta-Guinardó",
           "el Guinardó",
           7036,
           2.34
          ],
          [
           "Horta-Guinardó",
           "el Guinardó",
           7037,
           2.43
          ],
          [
           "Horta-Guinardó",
           "el Guinardó",
           7038,
           2.35
          ],
          [
           "Horta-Guinardó",
           "el Guinardó",
           7039,
           2.42
          ],
          [
           "Horta-Guinardó",
           "el Guinardó",
           7040,
           2.21
          ],
          [
           "Horta-Guinardó",
           "el Guinardó",
           7041,
           2.29
          ],
          [
           "Horta-Guinardó",
           "el Guinardó",
           7042,
           2.24
          ],
          [
           "Horta-Guinardó",
           "el Guinardó",
           7043,
           2.38
          ],
          [
           "Horta-Guinardó",
           "el Guinardó",
           7044,
           2.41
          ],
          [
           "Horta-Guinardó",
           "el Guinardó",
           7045,
           2.4
          ],
          [
           "Horta-Guinardó",
           "el Guinardó",
           7046,
           2.33
          ],
          [
           "Horta-Guinardó",
           "el Guinardó",
           7047,
           2.42
          ],
          [
           "Horta-Guinardó",
           "el Guinardó",
           7048,
           2.37
          ],
          [
           "Horta-Guinardó",
           "el Guinardó",
           7049,
           2.36
          ],
          [
           "Horta-Guinardó",
           "el Guinardó",
           7050,
           2.39
          ],
          [
           "Horta-Guinardó",
           "el Guinardó",
           7051,
           2.45
          ],
          [
           "Horta-Guinardó",
           "la Clota",
           7102,
           2.45
          ],
          [
           "Horta-Guinardó",
           "la Font d'en Fargues",
           7052,
           2.53
          ],
          [
           "Horta-Guinardó",
           "la Font d'en Fargues",
           7053,
           2.46
          ],
          [
           "Horta-Guinardó",
           "la Font d'en Fargues",
           7054,
           2.56
          ],
          [
           "Horta-Guinardó",
           "la Font d'en Fargues",
           7055,
           2.58
          ],
          [
           "Horta-Guinardó",
           "la Font d'en Fargues",
           7056,
           2.48
          ],
          [
           "Horta-Guinardó",
           "la Font d'en Fargues",
           7057,
           2.52
          ],
          [
           "Horta-Guinardó",
           "la Font d'en Fargues",
           7058,
           2.41
          ],
          [
           "Horta-Guinardó",
           "la Teixonera",
           7081,
           2.52
          ],
          [
           "Horta-Guinardó",
           "la Teixonera",
           7082,
           2.41
          ],
          [
           "Horta-Guinardó",
           "la Teixonera",
           7083,
           2.39
          ],
          [
           "Horta-Guinardó",
           "la Teixonera",
           7084,
           2.42
          ],
          [
           "Horta-Guinardó",
           "la Teixonera",
           7085,
           2.5
          ],
          [
           "Horta-Guinardó",
           "la Teixonera",
           7086,
           2.44
          ],
          [
           "Horta-Guinardó",
           "la Teixonera",
           7087,
           2.35
          ],
          [
           "Horta-Guinardó",
           "la Teixonera",
           7088,
           2.57
          ],
          [
           "Horta-Guinardó",
           "la Vall d'Hebron",
           7098,
           2.56
          ],
          [
           "Horta-Guinardó",
           "la Vall d'Hebron",
           7099,
           2.41
          ],
          [
           "Horta-Guinardó",
           "la Vall d'Hebron",
           7100,
           2.32
          ],
          [
           "Horta-Guinardó",
           "la Vall d'Hebron",
           7101,
           2.37
          ]
         ],
         "fillcolor": "#FFA4D3",
         "hoveron": "points",
         "hovertemplate": "<br><b>District: %{customdata[0]}</b></br><b>Neighborhood: %{customdata[1]}</b><br><b>Census section: %{customdata[2]}</b></br><b>People per household: %{customdata[3]}</b><extra></extra>",
         "jitter": 1,
         "line": {
          "color": "#E65898"
         },
         "marker": {
          "color": "#E65898",
          "line": {
           "color": "#FFA4D3",
           "width": 1
          },
          "size": 8
         },
         "name": "Horta-Guinardó",
         "pointpos": 0,
         "points": "all",
         "showlegend": false,
         "type": "violin",
         "y": [
          2.43,
          2.5,
          2.51,
          2.35,
          2.25,
          2.41,
          2.32,
          2.52,
          2.36,
          2.36,
          2.5,
          2.51,
          2.49,
          2.26,
          2.54,
          2.37,
          2.55,
          2.43,
          2.4,
          2.37,
          2.46,
          2.4,
          2.46,
          2.5,
          2.47,
          2.43,
          2.38,
          2.41,
          2.41,
          2.38,
          2.33,
          2.36,
          2.43,
          2.65,
          2.39,
          2.44,
          2.41,
          2.38,
          2.01,
          2.47,
          2.36,
          2.2,
          2.37,
          2.38,
          2.58,
          2.26,
          2.51,
          2.18,
          2.29,
          2.45,
          2.22,
          2.53,
          2.6,
          2.36,
          2.54,
          2.44,
          2.4,
          2.39,
          2.52,
          2.49,
          2.54,
          2.57,
          2.53,
          2.54,
          2.48,
          2.71,
          2.5,
          2.62,
          2.53,
          2.54,
          2.39,
          2.47,
          2.61,
          2.54,
          2.53,
          2.51,
          2.48,
          2.62,
          2.62,
          2.43,
          2.36,
          2.38,
          2.49,
          2.43,
          2.5,
          2.49,
          2.5,
          2.34,
          2.43,
          2.35,
          2.42,
          2.21,
          2.29,
          2.24,
          2.38,
          2.41,
          2.4,
          2.33,
          2.42,
          2.37,
          2.36,
          2.39,
          2.45,
          2.45,
          2.53,
          2.46,
          2.56,
          2.58,
          2.48,
          2.52,
          2.41,
          2.52,
          2.41,
          2.39,
          2.42,
          2.5,
          2.44,
          2.35,
          2.57,
          2.56,
          2.41,
          2.32,
          2.37
         ]
        },
        {
         "box": {
          "visible": false
         },
         "customdata": [
          [
           "Nou Barris",
           "Can Peguera",
           8048,
           2.4
          ],
          [
           "Nou Barris",
           "Can Peguera",
           8049,
           2.3
          ],
          [
           "Nou Barris",
           "Canyelles",
           8060,
           2.36
          ],
          [
           "Nou Barris",
           "Canyelles",
           8061,
           2.36
          ],
          [
           "Nou Barris",
           "Canyelles",
           8062,
           2.47
          ],
          [
           "Nou Barris",
           "Canyelles",
           8063,
           2.36
          ],
          [
           "Nou Barris",
           "Canyelles",
           8064,
           2.55
          ],
          [
           "Nou Barris",
           "Ciutat Meridiana",
           8110,
           2.98
          ],
          [
           "Nou Barris",
           "Ciutat Meridiana",
           8111,
           3.02
          ],
          [
           "Nou Barris",
           "Ciutat Meridiana",
           8112,
           2.99
          ],
          [
           "Nou Barris",
           "Ciutat Meridiana",
           8113,
           2.92
          ],
          [
           "Nou Barris",
           "Ciutat Meridiana",
           8114,
           2.99
          ],
          [
           "Nou Barris",
           "Ciutat Meridiana",
           8115,
           2.89
          ],
          [
           "Nou Barris",
           "Porta",
           8020,
           2.38
          ],
          [
           "Nou Barris",
           "Porta",
           8021,
           2.43
          ],
          [
           "Nou Barris",
           "Porta",
           8022,
           2.58
          ],
          [
           "Nou Barris",
           "Porta",
           8023,
           2.42
          ],
          [
           "Nou Barris",
           "Porta",
           8024,
           2.36
          ],
          [
           "Nou Barris",
           "Porta",
           8025,
           2.37
          ],
          [
           "Nou Barris",
           "Porta",
           8026,
           2.5
          ],
          [
           "Nou Barris",
           "Porta",
           8027,
           2.37
          ],
          [
           "Nou Barris",
           "Porta",
           8028,
           2.4
          ],
          [
           "Nou Barris",
           "Porta",
           8029,
           2.31
          ],
          [
           "Nou Barris",
           "Porta",
           8030,
           2.61
          ],
          [
           "Nou Barris",
           "Porta",
           8031,
           2.43
          ],
          [
           "Nou Barris",
           "Porta",
           8032,
           2.52
          ],
          [
           "Nou Barris",
           "Porta",
           8033,
           2.5
          ],
          [
           "Nou Barris",
           "Porta",
           8034,
           2.4
          ],
          [
           "Nou Barris",
           "Porta",
           8035,
           2.13
          ],
          [
           "Nou Barris",
           "Porta",
           8036,
           2.46
          ],
          [
           "Nou Barris",
           "Porta",
           8037,
           2.45
          ],
          [
           "Nou Barris",
           "Torre Baró",
           8108,
           2.93
          ],
          [
           "Nou Barris",
           "Torre Baró",
           8109,
           2.94
          ],
          [
           "Nou Barris",
           "Vallbona",
           8116,
           2.79
          ],
          [
           "Nou Barris",
           "Verdun",
           8075,
           2.48
          ],
          [
           "Nou Barris",
           "Verdun",
           8076,
           2.37
          ],
          [
           "Nou Barris",
           "Verdun",
           8077,
           2.54
          ],
          [
           "Nou Barris",
           "Verdun",
           8078,
           2.31
          ],
          [
           "Nou Barris",
           "Verdun",
           8079,
           2.47
          ],
          [
           "Nou Barris",
           "Verdun",
           8080,
           2.58
          ],
          [
           "Nou Barris",
           "Verdun",
           8081,
           2.77
          ],
          [
           "Nou Barris",
           "Verdun",
           8082,
           2.43
          ],
          [
           "Nou Barris",
           "Vilapicina i la Torre Llobeta",
           8001,
           2.35
          ],
          [
           "Nou Barris",
           "Vilapicina i la Torre Llobeta",
           8002,
           2.34
          ],
          [
           "Nou Barris",
           "Vilapicina i la Torre Llobeta",
           8003,
           2.4
          ],
          [
           "Nou Barris",
           "Vilapicina i la Torre Llobeta",
           8004,
           2.48
          ],
          [
           "Nou Barris",
           "Vilapicina i la Torre Llobeta",
           8005,
           2.39
          ],
          [
           "Nou Barris",
           "Vilapicina i la Torre Llobeta",
           8006,
           2.55
          ],
          [
           "Nou Barris",
           "Vilapicina i la Torre Llobeta",
           8007,
           2.51
          ],
          [
           "Nou Barris",
           "Vilapicina i la Torre Llobeta",
           8008,
           2.45
          ],
          [
           "Nou Barris",
           "Vilapicina i la Torre Llobeta",
           8009,
           2.52
          ],
          [
           "Nou Barris",
           "Vilapicina i la Torre Llobeta",
           8010,
           2.45
          ],
          [
           "Nou Barris",
           "Vilapicina i la Torre Llobeta",
           8011,
           2.58
          ],
          [
           "Nou Barris",
           "Vilapicina i la Torre Llobeta",
           8012,
           2.34
          ],
          [
           "Nou Barris",
           "Vilapicina i la Torre Llobeta",
           8013,
           2.38
          ],
          [
           "Nou Barris",
           "Vilapicina i la Torre Llobeta",
           8014,
           2.52
          ],
          [
           "Nou Barris",
           "Vilapicina i la Torre Llobeta",
           8015,
           2.45
          ],
          [
           "Nou Barris",
           "Vilapicina i la Torre Llobeta",
           8016,
           2.4
          ],
          [
           "Nou Barris",
           "Vilapicina i la Torre Llobeta",
           8017,
           2.42
          ],
          [
           "Nou Barris",
           "Vilapicina i la Torre Llobeta",
           8018,
           2.44
          ],
          [
           "Nou Barris",
           "Vilapicina i la Torre Llobeta",
           8019,
           2.53
          ],
          [
           "Nou Barris",
           "el Turó de la Peira",
           8038,
           2.56
          ],
          [
           "Nou Barris",
           "el Turó de la Peira",
           8039,
           2.42
          ],
          [
           "Nou Barris",
           "el Turó de la Peira",
           8040,
           2.51
          ],
          [
           "Nou Barris",
           "el Turó de la Peira",
           8041,
           2.97
          ],
          [
           "Nou Barris",
           "el Turó de la Peira",
           8042,
           2.43
          ],
          [
           "Nou Barris",
           "el Turó de la Peira",
           8043,
           2.29
          ],
          [
           "Nou Barris",
           "el Turó de la Peira",
           8044,
           2.48
          ],
          [
           "Nou Barris",
           "el Turó de la Peira",
           8045,
           2.69
          ],
          [
           "Nou Barris",
           "el Turó de la Peira",
           8046,
           2.32
          ],
          [
           "Nou Barris",
           "el Turó de la Peira",
           8047,
           2.7
          ],
          [
           "Nou Barris",
           "la Guineueta",
           8050,
           2.48
          ],
          [
           "Nou Barris",
           "la Guineueta",
           8051,
           2.6
          ],
          [
           "Nou Barris",
           "la Guineueta",
           8052,
           2.4
          ],
          [
           "Nou Barris",
           "la Guineueta",
           8053,
           2.47
          ],
          [
           "Nou Barris",
           "la Guineueta",
           8054,
           2.3
          ],
          [
           "Nou Barris",
           "la Guineueta",
           8055,
           2.48
          ],
          [
           "Nou Barris",
           "la Guineueta",
           8056,
           2.36
          ],
          [
           "Nou Barris",
           "la Guineueta",
           8057,
           2.47
          ],
          [
           "Nou Barris",
           "la Guineueta",
           8058,
           2.39
          ],
          [
           "Nou Barris",
           "la Guineueta",
           8059,
           2.37
          ],
          [
           "Nou Barris",
           "la Guineueta",
           8215,
           2.48
          ],
          [
           "Nou Barris",
           "la Prosperitat",
           8083,
           2.52
          ],
          [
           "Nou Barris",
           "la Prosperitat",
           8084,
           2.46
          ],
          [
           "Nou Barris",
           "la Prosperitat",
           8085,
           2.52
          ],
          [
           "Nou Barris",
           "la Prosperitat",
           8086,
           2.5
          ],
          [
           "Nou Barris",
           "la Prosperitat",
           8087,
           2.41
          ],
          [
           "Nou Barris",
           "la Prosperitat",
           8088,
           2.5
          ],
          [
           "Nou Barris",
           "la Prosperitat",
           8089,
           2.49
          ],
          [
           "Nou Barris",
           "la Prosperitat",
           8090,
           2.44
          ],
          [
           "Nou Barris",
           "la Prosperitat",
           8091,
           2.51
          ],
          [
           "Nou Barris",
           "la Prosperitat",
           8092,
           2.49
          ],
          [
           "Nou Barris",
           "la Prosperitat",
           8093,
           2.46
          ],
          [
           "Nou Barris",
           "la Prosperitat",
           8094,
           2.38
          ],
          [
           "Nou Barris",
           "la Prosperitat",
           8095,
           2.42
          ],
          [
           "Nou Barris",
           "la Prosperitat",
           8096,
           2.63
          ],
          [
           "Nou Barris",
           "la Prosperitat",
           8097,
           2.53
          ],
          [
           "Nou Barris",
           "la Prosperitat",
           8098,
           2.54
          ],
          [
           "Nou Barris",
           "la Prosperitat",
           8099,
           2.56
          ],
          [
           "Nou Barris",
           "la Prosperitat",
           8100,
           2.43
          ],
          [
           "Nou Barris",
           "la Prosperitat",
           8101,
           2.49
          ],
          [
           "Nou Barris",
           "la Prosperitat",
           8102,
           2.44
          ],
          [
           "Nou Barris",
           "la Trinitat Nova",
           8103,
           2.5
          ],
          [
           "Nou Barris",
           "la Trinitat Nova",
           8104,
           2.43
          ],
          [
           "Nou Barris",
           "la Trinitat Nova",
           8105,
           2.64
          ],
          [
           "Nou Barris",
           "la Trinitat Nova",
           8106,
           2.83
          ],
          [
           "Nou Barris",
           "la Trinitat Nova",
           8107,
           2.53
          ],
          [
           "Nou Barris",
           "les Roquetes",
           8065,
           2.91
          ],
          [
           "Nou Barris",
           "les Roquetes",
           8066,
           2.81
          ],
          [
           "Nou Barris",
           "les Roquetes",
           8067,
           2.74
          ],
          [
           "Nou Barris",
           "les Roquetes",
           8068,
           2.92
          ],
          [
           "Nou Barris",
           "les Roquetes",
           8069,
           2.77
          ],
          [
           "Nou Barris",
           "les Roquetes",
           8070,
           2.69
          ],
          [
           "Nou Barris",
           "les Roquetes",
           8071,
           2.72
          ],
          [
           "Nou Barris",
           "les Roquetes",
           8072,
           2.67
          ],
          [
           "Nou Barris",
           "les Roquetes",
           8073,
           2.42
          ],
          [
           "Nou Barris",
           "les Roquetes",
           8074,
           2.67
          ]
         ],
         "fillcolor": "#E5F075",
         "hoveron": "points",
         "hovertemplate": "<br><b>District: %{customdata[0]}</b></br><b>Neighborhood: %{customdata[1]}</b><br><b>Census section: %{customdata[2]}</b></br><b>People per household: %{customdata[3]}</b><extra></extra>",
         "jitter": 1,
         "line": {
          "color": "#B1C019"
         },
         "marker": {
          "color": "#B1C019",
          "line": {
           "color": "#E5F075",
           "width": 1
          },
          "size": 8
         },
         "name": "Nou Barris",
         "pointpos": 0,
         "points": "all",
         "showlegend": false,
         "type": "violin",
         "y": [
          2.4,
          2.3,
          2.36,
          2.36,
          2.47,
          2.36,
          2.55,
          2.98,
          3.02,
          2.99,
          2.92,
          2.99,
          2.89,
          2.38,
          2.43,
          2.58,
          2.42,
          2.36,
          2.37,
          2.5,
          2.37,
          2.4,
          2.31,
          2.61,
          2.43,
          2.52,
          2.5,
          2.4,
          2.13,
          2.46,
          2.45,
          2.93,
          2.94,
          2.79,
          2.48,
          2.37,
          2.54,
          2.31,
          2.47,
          2.58,
          2.77,
          2.43,
          2.35,
          2.34,
          2.4,
          2.48,
          2.39,
          2.55,
          2.51,
          2.45,
          2.52,
          2.45,
          2.58,
          2.34,
          2.38,
          2.52,
          2.45,
          2.4,
          2.42,
          2.44,
          2.53,
          2.56,
          2.42,
          2.51,
          2.97,
          2.43,
          2.29,
          2.48,
          2.69,
          2.32,
          2.7,
          2.48,
          2.6,
          2.4,
          2.47,
          2.3,
          2.48,
          2.36,
          2.47,
          2.39,
          2.37,
          2.48,
          2.52,
          2.46,
          2.52,
          2.5,
          2.41,
          2.5,
          2.49,
          2.44,
          2.51,
          2.49,
          2.46,
          2.38,
          2.42,
          2.63,
          2.53,
          2.54,
          2.56,
          2.43,
          2.49,
          2.44,
          2.5,
          2.43,
          2.64,
          2.83,
          2.53,
          2.91,
          2.81,
          2.74,
          2.92,
          2.77,
          2.69,
          2.72,
          2.67,
          2.42,
          2.67
         ]
        },
        {
         "box": {
          "visible": false
         },
         "customdata": [
          [
           "Sant Andreu",
           "Baró de Viver",
           9006,
           2.71
          ],
          [
           "Sant Andreu",
           "Baró de Viver",
           9007,
           2.56
          ],
          [
           "Sant Andreu",
           "Navas",
           9083,
           2.42
          ],
          [
           "Sant Andreu",
           "Navas",
           9084,
           2.45
          ],
          [
           "Sant Andreu",
           "Navas",
           9085,
           2.52
          ],
          [
           "Sant Andreu",
           "Navas",
           9086,
           2.48
          ],
          [
           "Sant Andreu",
           "Navas",
           9087,
           2.49
          ],
          [
           "Sant Andreu",
           "Navas",
           9088,
           2.31
          ],
          [
           "Sant Andreu",
           "Navas",
           9089,
           2.32
          ],
          [
           "Sant Andreu",
           "Navas",
           9090,
           2.47
          ],
          [
           "Sant Andreu",
           "Navas",
           9091,
           2.58
          ],
          [
           "Sant Andreu",
           "Navas",
           9092,
           2.55
          ],
          [
           "Sant Andreu",
           "Navas",
           9093,
           2.39
          ],
          [
           "Sant Andreu",
           "Navas",
           9094,
           2.47
          ],
          [
           "Sant Andreu",
           "Navas",
           9095,
           2.53
          ],
          [
           "Sant Andreu",
           "Sant Andreu",
           9016,
           2.51
          ],
          [
           "Sant Andreu",
           "Sant Andreu",
           9017,
           2.51
          ],
          [
           "Sant Andreu",
           "Sant Andreu",
           9018,
           2.52
          ],
          [
           "Sant Andreu",
           "Sant Andreu",
           9019,
           2.72
          ],
          [
           "Sant Andreu",
           "Sant Andreu",
           9020,
           2.4
          ],
          [
           "Sant Andreu",
           "Sant Andreu",
           9021,
           2.43
          ],
          [
           "Sant Andreu",
           "Sant Andreu",
           9022,
           2.49
          ],
          [
           "Sant Andreu",
           "Sant Andreu",
           9023,
           2.57
          ],
          [
           "Sant Andreu",
           "Sant Andreu",
           9024,
           2.33
          ],
          [
           "Sant Andreu",
           "Sant Andreu",
           9025,
           2.26
          ],
          [
           "Sant Andreu",
           "Sant Andreu",
           9026,
           2.45
          ],
          [
           "Sant Andreu",
           "Sant Andreu",
           9027,
           2.45
          ],
          [
           "Sant Andreu",
           "Sant Andreu",
           9028,
           2.74
          ],
          [
           "Sant Andreu",
           "Sant Andreu",
           9029,
           2.37
          ],
          [
           "Sant Andreu",
           "Sant Andreu",
           9030,
           2.44
          ],
          [
           "Sant Andreu",
           "Sant Andreu",
           9031,
           2.54
          ],
          [
           "Sant Andreu",
           "Sant Andreu",
           9032,
           2.56
          ],
          [
           "Sant Andreu",
           "Sant Andreu",
           9033,
           2.33
          ],
          [
           "Sant Andreu",
           "Sant Andreu",
           9034,
           2.32
          ],
          [
           "Sant Andreu",
           "Sant Andreu",
           9035,
           2.41
          ],
          [
           "Sant Andreu",
           "Sant Andreu",
           9036,
           2.48
          ],
          [
           "Sant Andreu",
           "Sant Andreu",
           9037,
           2.63
          ],
          [
           "Sant Andreu",
           "Sant Andreu",
           9038,
           2.5
          ],
          [
           "Sant Andreu",
           "Sant Andreu",
           9039,
           2.32
          ],
          [
           "Sant Andreu",
           "Sant Andreu",
           9040,
           2.51
          ],
          [
           "Sant Andreu",
           "Sant Andreu",
           9041,
           2.31
          ],
          [
           "Sant Andreu",
           "Sant Andreu",
           9042,
           2.25
          ],
          [
           "Sant Andreu",
           "Sant Andreu",
           9043,
           2.28
          ],
          [
           "Sant Andreu",
           "Sant Andreu",
           9044,
           2.35
          ],
          [
           "Sant Andreu",
           "Sant Andreu",
           9045,
           2.35
          ],
          [
           "Sant Andreu",
           "Sant Andreu",
           9046,
           2.35
          ],
          [
           "Sant Andreu",
           "Sant Andreu",
           9047,
           2.32
          ],
          [
           "Sant Andreu",
           "Sant Andreu",
           9048,
           2.32
          ],
          [
           "Sant Andreu",
           "Sant Andreu",
           9049,
           2.63
          ],
          [
           "Sant Andreu",
           "Sant Andreu",
           9050,
           2.34
          ],
          [
           "Sant Andreu",
           "Sant Andreu",
           9051,
           2.27
          ],
          [
           "Sant Andreu",
           "Sant Andreu",
           9052,
           2.42
          ],
          [
           "Sant Andreu",
           "Sant Andreu",
           9053,
           2.31
          ],
          [
           "Sant Andreu",
           "Sant Andreu",
           9054,
           2.41
          ],
          [
           "Sant Andreu",
           "el Bon Pastor",
           9008,
           2.96
          ],
          [
           "Sant Andreu",
           "el Bon Pastor",
           9009,
           2.75
          ],
          [
           "Sant Andreu",
           "el Bon Pastor",
           9010,
           2.47
          ],
          [
           "Sant Andreu",
           "el Bon Pastor",
           9011,
           2.65
          ],
          [
           "Sant Andreu",
           "el Bon Pastor",
           9013,
           2.77
          ],
          [
           "Sant Andreu",
           "el Bon Pastor",
           9014,
           2.73
          ],
          [
           "Sant Andreu",
           "el Bon Pastor",
           9015,
           2.6
          ],
          [
           "Sant Andreu",
           "el Congrés i els Indians",
           9074,
           2.4
          ],
          [
           "Sant Andreu",
           "el Congrés i els Indians",
           9075,
           2.64
          ],
          [
           "Sant Andreu",
           "el Congrés i els Indians",
           9076,
           2.29
          ],
          [
           "Sant Andreu",
           "el Congrés i els Indians",
           9077,
           2.31
          ],
          [
           "Sant Andreu",
           "el Congrés i els Indians",
           9078,
           2.51
          ],
          [
           "Sant Andreu",
           "el Congrés i els Indians",
           9079,
           2.44
          ],
          [
           "Sant Andreu",
           "el Congrés i els Indians",
           9080,
           2.49
          ],
          [
           "Sant Andreu",
           "el Congrés i els Indians",
           9081,
           2.43
          ],
          [
           "Sant Andreu",
           "el Congrés i els Indians",
           9082,
           2.52
          ],
          [
           "Sant Andreu",
           "la Sagrera",
           9055,
           2.79
          ],
          [
           "Sant Andreu",
           "la Sagrera",
           9056,
           2.43
          ],
          [
           "Sant Andreu",
           "la Sagrera",
           9057,
           2.54
          ],
          [
           "Sant Andreu",
           "la Sagrera",
           9058,
           2.52
          ],
          [
           "Sant Andreu",
           "la Sagrera",
           9059,
           2.43
          ],
          [
           "Sant Andreu",
           "la Sagrera",
           9060,
           2.39
          ],
          [
           "Sant Andreu",
           "la Sagrera",
           9061,
           2.47
          ],
          [
           "Sant Andreu",
           "la Sagrera",
           9062,
           2.39
          ],
          [
           "Sant Andreu",
           "la Sagrera",
           9063,
           2.37
          ],
          [
           "Sant Andreu",
           "la Sagrera",
           9064,
           2.56
          ],
          [
           "Sant Andreu",
           "la Sagrera",
           9065,
           2.56
          ],
          [
           "Sant Andreu",
           "la Sagrera",
           9066,
           2.33
          ],
          [
           "Sant Andreu",
           "la Sagrera",
           9067,
           2.53
          ],
          [
           "Sant Andreu",
           "la Sagrera",
           9068,
           2.44
          ],
          [
           "Sant Andreu",
           "la Sagrera",
           9069,
           2.33
          ],
          [
           "Sant Andreu",
           "la Sagrera",
           9070,
           2.36
          ],
          [
           "Sant Andreu",
           "la Sagrera",
           9071,
           2.53
          ],
          [
           "Sant Andreu",
           "la Sagrera",
           9072,
           2.39
          ],
          [
           "Sant Andreu",
           "la Sagrera",
           9073,
           2.51
          ],
          [
           "Sant Andreu",
           "la Sagrera",
           9156,
           2.51
          ],
          [
           "Sant Andreu",
           "la Trinitat Vella",
           9001,
           3.16
          ],
          [
           "Sant Andreu",
           "la Trinitat Vella",
           9002,
           2.9
          ],
          [
           "Sant Andreu",
           "la Trinitat Vella",
           9003,
           2.9
          ],
          [
           "Sant Andreu",
           "la Trinitat Vella",
           9004,
           2.83
          ],
          [
           "Sant Andreu",
           "la Trinitat Vella",
           9005,
           2.75
          ]
         ],
         "fillcolor": "#FFE947",
         "hoveron": "points",
         "hovertemplate": "<br><b>District: %{customdata[0]}</b></br><b>Neighborhood: %{customdata[1]}</b><br><b>Census section: %{customdata[2]}</b></br><b>People per household: %{customdata[3]}</b><extra></extra>",
         "jitter": 1,
         "line": {
          "color": "#FDC903"
         },
         "marker": {
          "color": "#FDC903",
          "line": {
           "color": "#FFE947",
           "width": 1
          },
          "size": 8
         },
         "name": "Sant Andreu",
         "pointpos": 0,
         "points": "all",
         "showlegend": false,
         "type": "violin",
         "y": [
          2.71,
          2.56,
          2.42,
          2.45,
          2.52,
          2.48,
          2.49,
          2.31,
          2.32,
          2.47,
          2.58,
          2.55,
          2.39,
          2.47,
          2.53,
          2.51,
          2.51,
          2.52,
          2.72,
          2.4,
          2.43,
          2.49,
          2.57,
          2.33,
          2.26,
          2.45,
          2.45,
          2.74,
          2.37,
          2.44,
          2.54,
          2.56,
          2.33,
          2.32,
          2.41,
          2.48,
          2.63,
          2.5,
          2.32,
          2.51,
          2.31,
          2.25,
          2.28,
          2.35,
          2.35,
          2.35,
          2.32,
          2.32,
          2.63,
          2.34,
          2.27,
          2.42,
          2.31,
          2.41,
          2.96,
          2.75,
          2.47,
          2.65,
          2.77,
          2.73,
          2.6,
          2.4,
          2.64,
          2.29,
          2.31,
          2.51,
          2.44,
          2.49,
          2.43,
          2.52,
          2.79,
          2.43,
          2.54,
          2.52,
          2.43,
          2.39,
          2.47,
          2.39,
          2.37,
          2.56,
          2.56,
          2.33,
          2.53,
          2.44,
          2.33,
          2.36,
          2.53,
          2.39,
          2.51,
          2.51,
          3.16,
          2.9,
          2.9,
          2.83,
          2.75
         ]
        },
        {
         "box": {
          "visible": false
         },
         "customdata": [
          [
           "Sant Martí",
           "Diagonal Mar i el Front Marítim del Poblenou",
           10076,
           2.17
          ],
          [
           "Sant Martí",
           "Diagonal Mar i el Front Marítim del Poblenou",
           10077,
           2.76
          ],
          [
           "Sant Martí",
           "Diagonal Mar i el Front Marítim del Poblenou",
           10078,
           2.71
          ],
          [
           "Sant Martí",
           "Diagonal Mar i el Front Marítim del Poblenou",
           10079,
           2.64
          ],
          [
           "Sant Martí",
           "Diagonal Mar i el Front Marítim del Poblenou",
           10080,
           2.77
          ],
          [
           "Sant Martí",
           "Diagonal Mar i el Front Marítim del Poblenou",
           10235,
           2.16
          ],
          [
           "Sant Martí",
           "Diagonal Mar i el Front Marítim del Poblenou",
           10236,
           2.28
          ],
          [
           "Sant Martí",
           "Provençals del Poblenou",
           10094,
           2.44
          ],
          [
           "Sant Martí",
           "Provençals del Poblenou",
           10095,
           2.44
          ],
          [
           "Sant Martí",
           "Provençals del Poblenou",
           10096,
           2.62
          ],
          [
           "Sant Martí",
           "Provençals del Poblenou",
           10097,
           2.45
          ],
          [
           "Sant Martí",
           "Provençals del Poblenou",
           10098,
           2.71
          ],
          [
           "Sant Martí",
           "Provençals del Poblenou",
           10099,
           2.72
          ],
          [
           "Sant Martí",
           "Provençals del Poblenou",
           10100,
           2.49
          ],
          [
           "Sant Martí",
           "Provençals del Poblenou",
           10101,
           2.7
          ],
          [
           "Sant Martí",
           "Provençals del Poblenou",
           10102,
           2.54
          ],
          [
           "Sant Martí",
           "Provençals del Poblenou",
           10103,
           2.49
          ],
          [
           "Sant Martí",
           "Provençals del Poblenou",
           10104,
           2.63
          ],
          [
           "Sant Martí",
           "Provençals del Poblenou",
           10237,
           2.25
          ],
          [
           "Sant Martí",
           "Sant Martí de Provençals",
           10105,
           2.53
          ],
          [
           "Sant Martí",
           "Sant Martí de Provençals",
           10106,
           2.41
          ],
          [
           "Sant Martí",
           "Sant Martí de Provençals",
           10107,
           2.53
          ],
          [
           "Sant Martí",
           "Sant Martí de Provençals",
           10108,
           2.32
          ],
          [
           "Sant Martí",
           "Sant Martí de Provençals",
           10109,
           2.48
          ],
          [
           "Sant Martí",
           "Sant Martí de Provençals",
           10110,
           2.39
          ],
          [
           "Sant Martí",
           "Sant Martí de Provençals",
           10111,
           2.46
          ],
          [
           "Sant Martí",
           "Sant Martí de Provençals",
           10112,
           2.56
          ],
          [
           "Sant Martí",
           "Sant Martí de Provençals",
           10113,
           2.5
          ],
          [
           "Sant Martí",
           "Sant Martí de Provençals",
           10114,
           2.55
          ],
          [
           "Sant Martí",
           "Sant Martí de Provençals",
           10115,
           2.4
          ],
          [
           "Sant Martí",
           "Sant Martí de Provençals",
           10116,
           2.43
          ],
          [
           "Sant Martí",
           "Sant Martí de Provençals",
           10117,
           2.38
          ],
          [
           "Sant Martí",
           "Sant Martí de Provençals",
           10118,
           2.59
          ],
          [
           "Sant Martí",
           "Sant Martí de Provençals",
           10119,
           2.28
          ],
          [
           "Sant Martí",
           "Sant Martí de Provençals",
           10120,
           2.37
          ],
          [
           "Sant Martí",
           "Sant Martí de Provençals",
           10121,
           2.46
          ],
          [
           "Sant Martí",
           "Sant Martí de Provençals",
           10122,
           2.55
          ],
          [
           "Sant Martí",
           "el Besòs i el Maresme",
           10081,
           2.6
          ],
          [
           "Sant Martí",
           "el Besòs i el Maresme",
           10082,
           3
          ],
          [
           "Sant Martí",
           "el Besòs i el Maresme",
           10083,
           3.26
          ],
          [
           "Sant Martí",
           "el Besòs i el Maresme",
           10084,
           2.73
          ],
          [
           "Sant Martí",
           "el Besòs i el Maresme",
           10085,
           2.83
          ],
          [
           "Sant Martí",
           "el Besòs i el Maresme",
           10086,
           2.71
          ],
          [
           "Sant Martí",
           "el Besòs i el Maresme",
           10087,
           2.61
          ],
          [
           "Sant Martí",
           "el Besòs i el Maresme",
           10088,
           2.67
          ],
          [
           "Sant Martí",
           "el Besòs i el Maresme",
           10089,
           2.56
          ],
          [
           "Sant Martí",
           "el Besòs i el Maresme",
           10090,
           2.77
          ],
          [
           "Sant Martí",
           "el Besòs i el Maresme",
           10091,
           2.61
          ],
          [
           "Sant Martí",
           "el Besòs i el Maresme",
           10092,
           2.53
          ],
          [
           "Sant Martí",
           "el Besòs i el Maresme",
           10093,
           2.51
          ],
          [
           "Sant Martí",
           "el Camp de l'Arpa del Clot",
           10001,
           2.37
          ],
          [
           "Sant Martí",
           "el Camp de l'Arpa del Clot",
           10002,
           2.3
          ],
          [
           "Sant Martí",
           "el Camp de l'Arpa del Clot",
           10003,
           2.34
          ],
          [
           "Sant Martí",
           "el Camp de l'Arpa del Clot",
           10004,
           2.39
          ],
          [
           "Sant Martí",
           "el Camp de l'Arpa del Clot",
           10005,
           2.47
          ],
          [
           "Sant Martí",
           "el Camp de l'Arpa del Clot",
           10006,
           2.37
          ],
          [
           "Sant Martí",
           "el Camp de l'Arpa del Clot",
           10007,
           2.35
          ],
          [
           "Sant Martí",
           "el Camp de l'Arpa del Clot",
           10008,
           2.22
          ],
          [
           "Sant Martí",
           "el Camp de l'Arpa del Clot",
           10009,
           2.22
          ],
          [
           "Sant Martí",
           "el Camp de l'Arpa del Clot",
           10010,
           2.25
          ],
          [
           "Sant Martí",
           "el Camp de l'Arpa del Clot",
           10011,
           2.29
          ],
          [
           "Sant Martí",
           "el Camp de l'Arpa del Clot",
           10012,
           2.42
          ],
          [
           "Sant Martí",
           "el Camp de l'Arpa del Clot",
           10013,
           2.34
          ],
          [
           "Sant Martí",
           "el Camp de l'Arpa del Clot",
           10014,
           2.41
          ],
          [
           "Sant Martí",
           "el Camp de l'Arpa del Clot",
           10015,
           2.32
          ],
          [
           "Sant Martí",
           "el Camp de l'Arpa del Clot",
           10016,
           2.42
          ],
          [
           "Sant Martí",
           "el Camp de l'Arpa del Clot",
           10017,
           2.43
          ],
          [
           "Sant Martí",
           "el Camp de l'Arpa del Clot",
           10018,
           2.4
          ],
          [
           "Sant Martí",
           "el Camp de l'Arpa del Clot",
           10019,
           2.35
          ],
          [
           "Sant Martí",
           "el Camp de l'Arpa del Clot",
           10020,
           2.4
          ],
          [
           "Sant Martí",
           "el Camp de l'Arpa del Clot",
           10021,
           2.48
          ],
          [
           "Sant Martí",
           "el Camp de l'Arpa del Clot",
           10022,
           2.35
          ],
          [
           "Sant Martí",
           "el Camp de l'Arpa del Clot",
           10023,
           2.38
          ],
          [
           "Sant Martí",
           "el Camp de l'Arpa del Clot",
           10024,
           2.44
          ],
          [
           "Sant Martí",
           "el Camp de l'Arpa del Clot",
           10025,
           2.38
          ],
          [
           "Sant Martí",
           "el Clot",
           10026,
           2.5
          ],
          [
           "Sant Martí",
           "el Clot",
           10027,
           2.35
          ],
          [
           "Sant Martí",
           "el Clot",
           10028,
           2.61
          ],
          [
           "Sant Martí",
           "el Clot",
           10029,
           2.52
          ],
          [
           "Sant Martí",
           "el Clot",
           10030,
           2.48
          ],
          [
           "Sant Martí",
           "el Clot",
           10031,
           2.24
          ],
          [
           "Sant Martí",
           "el Clot",
           10032,
           2.58
          ],
          [
           "Sant Martí",
           "el Clot",
           10033,
           2.23
          ],
          [
           "Sant Martí",
           "el Clot",
           10034,
           2.49
          ],
          [
           "Sant Martí",
           "el Clot",
           10035,
           2.69
          ],
          [
           "Sant Martí",
           "el Clot",
           10036,
           2.67
          ],
          [
           "Sant Martí",
           "el Clot",
           10037,
           2.57
          ],
          [
           "Sant Martí",
           "el Clot",
           10038,
           2.41
          ],
          [
           "Sant Martí",
           "el Clot",
           10039,
           2.57
          ],
          [
           "Sant Martí",
           "el Clot",
           10040,
           2.41
          ],
          [
           "Sant Martí",
           "el Clot",
           10041,
           2.39
          ],
          [
           "Sant Martí",
           "el Clot",
           10234,
           2.5
          ],
          [
           "Sant Martí",
           "el Parc i la Llacuna del Poblenou",
           10042,
           2.4
          ],
          [
           "Sant Martí",
           "el Parc i la Llacuna del Poblenou",
           10043,
           2.41
          ],
          [
           "Sant Martí",
           "el Parc i la Llacuna del Poblenou",
           10044,
           2.36
          ],
          [
           "Sant Martí",
           "el Parc i la Llacuna del Poblenou",
           10045,
           2.55
          ],
          [
           "Sant Martí",
           "el Parc i la Llacuna del Poblenou",
           10046,
           2.23
          ],
          [
           "Sant Martí",
           "el Parc i la Llacuna del Poblenou",
           10047,
           2.38
          ],
          [
           "Sant Martí",
           "el Parc i la Llacuna del Poblenou",
           10048,
           2.38
          ],
          [
           "Sant Martí",
           "el Parc i la Llacuna del Poblenou",
           10049,
           2.48
          ],
          [
           "Sant Martí",
           "el Parc i la Llacuna del Poblenou",
           10050,
           2.46
          ],
          [
           "Sant Martí",
           "el Poblenou",
           10056,
           2.42
          ],
          [
           "Sant Martí",
           "el Poblenou",
           10057,
           2.29
          ],
          [
           "Sant Martí",
           "el Poblenou",
           10058,
           2.26
          ],
          [
           "Sant Martí",
           "el Poblenou",
           10059,
           2.32
          ],
          [
           "Sant Martí",
           "el Poblenou",
           10060,
           2.45
          ],
          [
           "Sant Martí",
           "el Poblenou",
           10061,
           2.42
          ],
          [
           "Sant Martí",
           "el Poblenou",
           10062,
           2.56
          ],
          [
           "Sant Martí",
           "el Poblenou",
           10063,
           2.52
          ],
          [
           "Sant Martí",
           "el Poblenou",
           10064,
           2.44
          ],
          [
           "Sant Martí",
           "el Poblenou",
           10065,
           2.47
          ],
          [
           "Sant Martí",
           "el Poblenou",
           10066,
           2.57
          ],
          [
           "Sant Martí",
           "el Poblenou",
           10067,
           2.8
          ],
          [
           "Sant Martí",
           "el Poblenou",
           10068,
           2.74
          ],
          [
           "Sant Martí",
           "el Poblenou",
           10069,
           2.55
          ],
          [
           "Sant Martí",
           "el Poblenou",
           10070,
           2.33
          ],
          [
           "Sant Martí",
           "el Poblenou",
           10071,
           2.59
          ],
          [
           "Sant Martí",
           "el Poblenou",
           10072,
           2.57
          ],
          [
           "Sant Martí",
           "el Poblenou",
           10073,
           2.45
          ],
          [
           "Sant Martí",
           "el Poblenou",
           10074,
           2.38
          ],
          [
           "Sant Martí",
           "el Poblenou",
           10075,
           2.63
          ],
          [
           "Sant Martí",
           "la Verneda i la Pau",
           10123,
           2.42
          ],
          [
           "Sant Martí",
           "la Verneda i la Pau",
           10124,
           2.62
          ],
          [
           "Sant Martí",
           "la Verneda i la Pau",
           10125,
           2.43
          ],
          [
           "Sant Martí",
           "la Verneda i la Pau",
           10126,
           2.58
          ],
          [
           "Sant Martí",
           "la Verneda i la Pau",
           10127,
           2.56
          ],
          [
           "Sant Martí",
           "la Verneda i la Pau",
           10128,
           2.34
          ],
          [
           "Sant Martí",
           "la Verneda i la Pau",
           10129,
           2.66
          ],
          [
           "Sant Martí",
           "la Verneda i la Pau",
           10130,
           2.29
          ],
          [
           "Sant Martí",
           "la Verneda i la Pau",
           10131,
           2.64
          ],
          [
           "Sant Martí",
           "la Verneda i la Pau",
           10132,
           2.54
          ],
          [
           "Sant Martí",
           "la Verneda i la Pau",
           10133,
           2.44
          ],
          [
           "Sant Martí",
           "la Verneda i la Pau",
           10134,
           2.26
          ],
          [
           "Sant Martí",
           "la Verneda i la Pau",
           10135,
           2.5
          ],
          [
           "Sant Martí",
           "la Verneda i la Pau",
           10136,
           2.5
          ],
          [
           "Sant Martí",
           "la Verneda i la Pau",
           10137,
           2.55
          ],
          [
           "Sant Martí",
           "la Verneda i la Pau",
           10138,
           2.52
          ],
          [
           "Sant Martí",
           "la Verneda i la Pau",
           10139,
           2.54
          ],
          [
           "Sant Martí",
           "la Verneda i la Pau",
           10140,
           2.63
          ],
          [
           "Sant Martí",
           "la Verneda i la Pau",
           10141,
           2.52
          ],
          [
           "Sant Martí",
           "la Verneda i la Pau",
           10142,
           2.61
          ],
          [
           "Sant Martí",
           "la Verneda i la Pau",
           10143,
           2.64
          ],
          [
           "Sant Martí",
           "la Vila Olímpica del Poblenou",
           10051,
           2.54
          ],
          [
           "Sant Martí",
           "la Vila Olímpica del Poblenou",
           10052,
           2.61
          ],
          [
           "Sant Martí",
           "la Vila Olímpica del Poblenou",
           10053,
           2.71
          ],
          [
           "Sant Martí",
           "la Vila Olímpica del Poblenou",
           10054,
           2.61
          ],
          [
           "Sant Martí",
           "la Vila Olímpica del Poblenou",
           10055,
           2.75
          ]
         ],
         "fillcolor": "#F4DDAD",
         "hoveron": "points",
         "hovertemplate": "<br><b>District: %{customdata[0]}</b></br><b>Neighborhood: %{customdata[1]}</b><br><b>Census section: %{customdata[2]}</b></br><b>People per household: %{customdata[3]}</b><extra></extra>",
         "jitter": 1,
         "line": {
          "color": "#C1A471"
         },
         "marker": {
          "color": "#C1A471",
          "line": {
           "color": "#F4DDAD",
           "width": 1
          },
          "size": 8
         },
         "name": "Sant Martí",
         "pointpos": 0,
         "points": "all",
         "showlegend": false,
         "type": "violin",
         "y": [
          2.17,
          2.76,
          2.71,
          2.64,
          2.77,
          2.16,
          2.28,
          2.44,
          2.44,
          2.62,
          2.45,
          2.71,
          2.72,
          2.49,
          2.7,
          2.54,
          2.49,
          2.63,
          2.25,
          2.53,
          2.41,
          2.53,
          2.32,
          2.48,
          2.39,
          2.46,
          2.56,
          2.5,
          2.55,
          2.4,
          2.43,
          2.38,
          2.59,
          2.28,
          2.37,
          2.46,
          2.55,
          2.6,
          3,
          3.26,
          2.73,
          2.83,
          2.71,
          2.61,
          2.67,
          2.56,
          2.77,
          2.61,
          2.53,
          2.51,
          2.37,
          2.3,
          2.34,
          2.39,
          2.47,
          2.37,
          2.35,
          2.22,
          2.22,
          2.25,
          2.29,
          2.42,
          2.34,
          2.41,
          2.32,
          2.42,
          2.43,
          2.4,
          2.35,
          2.4,
          2.48,
          2.35,
          2.38,
          2.44,
          2.38,
          2.5,
          2.35,
          2.61,
          2.52,
          2.48,
          2.24,
          2.58,
          2.23,
          2.49,
          2.69,
          2.67,
          2.57,
          2.41,
          2.57,
          2.41,
          2.39,
          2.5,
          2.4,
          2.41,
          2.36,
          2.55,
          2.23,
          2.38,
          2.38,
          2.48,
          2.46,
          2.42,
          2.29,
          2.26,
          2.32,
          2.45,
          2.42,
          2.56,
          2.52,
          2.44,
          2.47,
          2.57,
          2.8,
          2.74,
          2.55,
          2.33,
          2.59,
          2.57,
          2.45,
          2.38,
          2.63,
          2.42,
          2.62,
          2.43,
          2.58,
          2.56,
          2.34,
          2.66,
          2.29,
          2.64,
          2.54,
          2.44,
          2.26,
          2.5,
          2.5,
          2.55,
          2.52,
          2.54,
          2.63,
          2.52,
          2.61,
          2.64,
          2.54,
          2.61,
          2.71,
          2.61,
          2.75
         ]
        }
       ],
       "layout": {
        "margin": {
         "b": 50,
         "l": 100,
         "r": 25,
         "t": 25
        },
        "paper_bgcolor": "white",
        "plot_bgcolor": "white",
        "showlegend": false,
        "template": {
         "data": {
          "bar": [
           {
            "error_x": {
             "color": "#2a3f5f"
            },
            "error_y": {
             "color": "#2a3f5f"
            },
            "marker": {
             "line": {
              "color": "#E5ECF6",
              "width": 0.5
             },
             "pattern": {
              "fillmode": "overlay",
              "size": 10,
              "solidity": 0.2
             }
            },
            "type": "bar"
           }
          ],
          "barpolar": [
           {
            "marker": {
             "line": {
              "color": "#E5ECF6",
              "width": 0.5
             },
             "pattern": {
              "fillmode": "overlay",
              "size": 10,
              "solidity": 0.2
             }
            },
            "type": "barpolar"
           }
          ],
          "carpet": [
           {
            "aaxis": {
             "endlinecolor": "#2a3f5f",
             "gridcolor": "white",
             "linecolor": "white",
             "minorgridcolor": "white",
             "startlinecolor": "#2a3f5f"
            },
            "baxis": {
             "endlinecolor": "#2a3f5f",
             "gridcolor": "white",
             "linecolor": "white",
             "minorgridcolor": "white",
             "startlinecolor": "#2a3f5f"
            },
            "type": "carpet"
           }
          ],
          "choropleth": [
           {
            "colorbar": {
             "outlinewidth": 0,
             "ticks": ""
            },
            "type": "choropleth"
           }
          ],
          "contour": [
           {
            "colorbar": {
             "outlinewidth": 0,
             "ticks": ""
            },
            "colorscale": [
             [
              0,
              "#0d0887"
             ],
             [
              0.1111111111111111,
              "#46039f"
             ],
             [
              0.2222222222222222,
              "#7201a8"
             ],
             [
              0.3333333333333333,
              "#9c179e"
             ],
             [
              0.4444444444444444,
              "#bd3786"
             ],
             [
              0.5555555555555556,
              "#d8576b"
             ],
             [
              0.6666666666666666,
              "#ed7953"
             ],
             [
              0.7777777777777778,
              "#fb9f3a"
             ],
             [
              0.8888888888888888,
              "#fdca26"
             ],
             [
              1,
              "#f0f921"
             ]
            ],
            "type": "contour"
           }
          ],
          "contourcarpet": [
           {
            "colorbar": {
             "outlinewidth": 0,
             "ticks": ""
            },
            "type": "contourcarpet"
           }
          ],
          "heatmap": [
           {
            "colorbar": {
             "outlinewidth": 0,
             "ticks": ""
            },
            "colorscale": [
             [
              0,
              "#0d0887"
             ],
             [
              0.1111111111111111,
              "#46039f"
             ],
             [
              0.2222222222222222,
              "#7201a8"
             ],
             [
              0.3333333333333333,
              "#9c179e"
             ],
             [
              0.4444444444444444,
              "#bd3786"
             ],
             [
              0.5555555555555556,
              "#d8576b"
             ],
             [
              0.6666666666666666,
              "#ed7953"
             ],
             [
              0.7777777777777778,
              "#fb9f3a"
             ],
             [
              0.8888888888888888,
              "#fdca26"
             ],
             [
              1,
              "#f0f921"
             ]
            ],
            "type": "heatmap"
           }
          ],
          "heatmapgl": [
           {
            "colorbar": {
             "outlinewidth": 0,
             "ticks": ""
            },
            "colorscale": [
             [
              0,
              "#0d0887"
             ],
             [
              0.1111111111111111,
              "#46039f"
             ],
             [
              0.2222222222222222,
              "#7201a8"
             ],
             [
              0.3333333333333333,
              "#9c179e"
             ],
             [
              0.4444444444444444,
              "#bd3786"
             ],
             [
              0.5555555555555556,
              "#d8576b"
             ],
             [
              0.6666666666666666,
              "#ed7953"
             ],
             [
              0.7777777777777778,
              "#fb9f3a"
             ],
             [
              0.8888888888888888,
              "#fdca26"
             ],
             [
              1,
              "#f0f921"
             ]
            ],
            "type": "heatmapgl"
           }
          ],
          "histogram": [
           {
            "marker": {
             "pattern": {
              "fillmode": "overlay",
              "size": 10,
              "solidity": 0.2
             }
            },
            "type": "histogram"
           }
          ],
          "histogram2d": [
           {
            "colorbar": {
             "outlinewidth": 0,
             "ticks": ""
            },
            "colorscale": [
             [
              0,
              "#0d0887"
             ],
             [
              0.1111111111111111,
              "#46039f"
             ],
             [
              0.2222222222222222,
              "#7201a8"
             ],
             [
              0.3333333333333333,
              "#9c179e"
             ],
             [
              0.4444444444444444,
              "#bd3786"
             ],
             [
              0.5555555555555556,
              "#d8576b"
             ],
             [
              0.6666666666666666,
              "#ed7953"
             ],
             [
              0.7777777777777778,
              "#fb9f3a"
             ],
             [
              0.8888888888888888,
              "#fdca26"
             ],
             [
              1,
              "#f0f921"
             ]
            ],
            "type": "histogram2d"
           }
          ],
          "histogram2dcontour": [
           {
            "colorbar": {
             "outlinewidth": 0,
             "ticks": ""
            },
            "colorscale": [
             [
              0,
              "#0d0887"
             ],
             [
              0.1111111111111111,
              "#46039f"
             ],
             [
              0.2222222222222222,
              "#7201a8"
             ],
             [
              0.3333333333333333,
              "#9c179e"
             ],
             [
              0.4444444444444444,
              "#bd3786"
             ],
             [
              0.5555555555555556,
              "#d8576b"
             ],
             [
              0.6666666666666666,
              "#ed7953"
             ],
             [
              0.7777777777777778,
              "#fb9f3a"
             ],
             [
              0.8888888888888888,
              "#fdca26"
             ],
             [
              1,
              "#f0f921"
             ]
            ],
            "type": "histogram2dcontour"
           }
          ],
          "mesh3d": [
           {
            "colorbar": {
             "outlinewidth": 0,
             "ticks": ""
            },
            "type": "mesh3d"
           }
          ],
          "parcoords": [
           {
            "line": {
             "colorbar": {
              "outlinewidth": 0,
              "ticks": ""
             }
            },
            "type": "parcoords"
           }
          ],
          "pie": [
           {
            "automargin": true,
            "type": "pie"
           }
          ],
          "scatter": [
           {
            "fillpattern": {
             "fillmode": "overlay",
             "size": 10,
             "solidity": 0.2
            },
            "type": "scatter"
           }
          ],
          "scatter3d": [
           {
            "line": {
             "colorbar": {
              "outlinewidth": 0,
              "ticks": ""
             }
            },
            "marker": {
             "colorbar": {
              "outlinewidth": 0,
              "ticks": ""
             }
            },
            "type": "scatter3d"
           }
          ],
          "scattercarpet": [
           {
            "marker": {
             "colorbar": {
              "outlinewidth": 0,
              "ticks": ""
             }
            },
            "type": "scattercarpet"
           }
          ],
          "scattergeo": [
           {
            "marker": {
             "colorbar": {
              "outlinewidth": 0,
              "ticks": ""
             }
            },
            "type": "scattergeo"
           }
          ],
          "scattergl": [
           {
            "marker": {
             "colorbar": {
              "outlinewidth": 0,
              "ticks": ""
             }
            },
            "type": "scattergl"
           }
          ],
          "scattermapbox": [
           {
            "marker": {
             "colorbar": {
              "outlinewidth": 0,
              "ticks": ""
             }
            },
            "type": "scattermapbox"
           }
          ],
          "scatterpolar": [
           {
            "marker": {
             "colorbar": {
              "outlinewidth": 0,
              "ticks": ""
             }
            },
            "type": "scatterpolar"
           }
          ],
          "scatterpolargl": [
           {
            "marker": {
             "colorbar": {
              "outlinewidth": 0,
              "ticks": ""
             }
            },
            "type": "scatterpolargl"
           }
          ],
          "scatterternary": [
           {
            "marker": {
             "colorbar": {
              "outlinewidth": 0,
              "ticks": ""
             }
            },
            "type": "scatterternary"
           }
          ],
          "surface": [
           {
            "colorbar": {
             "outlinewidth": 0,
             "ticks": ""
            },
            "colorscale": [
             [
              0,
              "#0d0887"
             ],
             [
              0.1111111111111111,
              "#46039f"
             ],
             [
              0.2222222222222222,
              "#7201a8"
             ],
             [
              0.3333333333333333,
              "#9c179e"
             ],
             [
              0.4444444444444444,
              "#bd3786"
             ],
             [
              0.5555555555555556,
              "#d8576b"
             ],
             [
              0.6666666666666666,
              "#ed7953"
             ],
             [
              0.7777777777777778,
              "#fb9f3a"
             ],
             [
              0.8888888888888888,
              "#fdca26"
             ],
             [
              1,
              "#f0f921"
             ]
            ],
            "type": "surface"
           }
          ],
          "table": [
           {
            "cells": {
             "fill": {
              "color": "#EBF0F8"
             },
             "line": {
              "color": "white"
             }
            },
            "header": {
             "fill": {
              "color": "#C8D4E3"
             },
             "line": {
              "color": "white"
             }
            },
            "type": "table"
           }
          ]
         },
         "layout": {
          "annotationdefaults": {
           "arrowcolor": "#2a3f5f",
           "arrowhead": 0,
           "arrowwidth": 1
          },
          "autotypenumbers": "strict",
          "coloraxis": {
           "colorbar": {
            "outlinewidth": 0,
            "ticks": ""
           }
          },
          "colorscale": {
           "diverging": [
            [
             0,
             "#8e0152"
            ],
            [
             0.1,
             "#c51b7d"
            ],
            [
             0.2,
             "#de77ae"
            ],
            [
             0.3,
             "#f1b6da"
            ],
            [
             0.4,
             "#fde0ef"
            ],
            [
             0.5,
             "#f7f7f7"
            ],
            [
             0.6,
             "#e6f5d0"
            ],
            [
             0.7,
             "#b8e186"
            ],
            [
             0.8,
             "#7fbc41"
            ],
            [
             0.9,
             "#4d9221"
            ],
            [
             1,
             "#276419"
            ]
           ],
           "sequential": [
            [
             0,
             "#0d0887"
            ],
            [
             0.1111111111111111,
             "#46039f"
            ],
            [
             0.2222222222222222,
             "#7201a8"
            ],
            [
             0.3333333333333333,
             "#9c179e"
            ],
            [
             0.4444444444444444,
             "#bd3786"
            ],
            [
             0.5555555555555556,
             "#d8576b"
            ],
            [
             0.6666666666666666,
             "#ed7953"
            ],
            [
             0.7777777777777778,
             "#fb9f3a"
            ],
            [
             0.8888888888888888,
             "#fdca26"
            ],
            [
             1,
             "#f0f921"
            ]
           ],
           "sequentialminus": [
            [
             0,
             "#0d0887"
            ],
            [
             0.1111111111111111,
             "#46039f"
            ],
            [
             0.2222222222222222,
             "#7201a8"
            ],
            [
             0.3333333333333333,
             "#9c179e"
            ],
            [
             0.4444444444444444,
             "#bd3786"
            ],
            [
             0.5555555555555556,
             "#d8576b"
            ],
            [
             0.6666666666666666,
             "#ed7953"
            ],
            [
             0.7777777777777778,
             "#fb9f3a"
            ],
            [
             0.8888888888888888,
             "#fdca26"
            ],
            [
             1,
             "#f0f921"
            ]
           ]
          },
          "colorway": [
           "#636efa",
           "#EF553B",
           "#00cc96",
           "#ab63fa",
           "#FFA15A",
           "#19d3f3",
           "#FF6692",
           "#B6E880",
           "#FF97FF",
           "#FECB52"
          ],
          "font": {
           "color": "#2a3f5f"
          },
          "geo": {
           "bgcolor": "white",
           "lakecolor": "white",
           "landcolor": "#E5ECF6",
           "showlakes": true,
           "showland": true,
           "subunitcolor": "white"
          },
          "hoverlabel": {
           "align": "left"
          },
          "hovermode": "closest",
          "mapbox": {
           "style": "light"
          },
          "paper_bgcolor": "white",
          "plot_bgcolor": "#E5ECF6",
          "polar": {
           "angularaxis": {
            "gridcolor": "white",
            "linecolor": "white",
            "ticks": ""
           },
           "bgcolor": "#E5ECF6",
           "radialaxis": {
            "gridcolor": "white",
            "linecolor": "white",
            "ticks": ""
           }
          },
          "scene": {
           "xaxis": {
            "backgroundcolor": "#E5ECF6",
            "gridcolor": "white",
            "gridwidth": 2,
            "linecolor": "white",
            "showbackground": true,
            "ticks": "",
            "zerolinecolor": "white"
           },
           "yaxis": {
            "backgroundcolor": "#E5ECF6",
            "gridcolor": "white",
            "gridwidth": 2,
            "linecolor": "white",
            "showbackground": true,
            "ticks": "",
            "zerolinecolor": "white"
           },
           "zaxis": {
            "backgroundcolor": "#E5ECF6",
            "gridcolor": "white",
            "gridwidth": 2,
            "linecolor": "white",
            "showbackground": true,
            "ticks": "",
            "zerolinecolor": "white"
           }
          },
          "shapedefaults": {
           "line": {
            "color": "#2a3f5f"
           }
          },
          "ternary": {
           "aaxis": {
            "gridcolor": "white",
            "linecolor": "white",
            "ticks": ""
           },
           "baxis": {
            "gridcolor": "white",
            "linecolor": "white",
            "ticks": ""
           },
           "bgcolor": "#E5ECF6",
           "caxis": {
            "gridcolor": "white",
            "linecolor": "white",
            "ticks": ""
           }
          },
          "title": {
           "x": 0.05
          },
          "xaxis": {
           "automargin": true,
           "gridcolor": "white",
           "linecolor": "white",
           "ticks": "",
           "title": {
            "standoff": 15
           },
           "zerolinecolor": "white",
           "zerolinewidth": 2
          },
          "yaxis": {
           "automargin": true,
           "gridcolor": "white",
           "linecolor": "white",
           "ticks": "",
           "title": {
            "standoff": 15
           },
           "zerolinecolor": "white",
           "zerolinewidth": 2
          }
         }
        },
        "xaxis": {
         "gridcolor": "lightgrey",
         "linecolor": "black",
         "title": {
          "text": "District"
         }
        },
        "yaxis": {
         "gridcolor": "lightgrey",
         "linecolor": "black",
         "title": {
          "text": "Number of tenants per household"
         }
        }
       }
      }
     },
     "metadata": {},
     "output_type": "display_data"
    }
   ],
   "source": [
    "\n",
    "#create the list of violin objects with different colors\n",
    "\n",
    "violins = [] #create an empty list\n",
    "\n",
    "for i, district_name in enumerate(district_names): #loop over all districts\n",
    "    district_data = df_numtenants.loc[df_numtenants['district_name'] == district_name, 'mean_people_household']\n",
    "\n",
    "    violin = go.Violin( #defining parameters for the plot\n",
    "        y=district_data,\n",
    "        box_visible=False,\n",
    "        line_color=palcolors[i],\n",
    "        fillcolor=palcolors_light[i],\n",
    "        points='all',\n",
    "        pointpos=0,\n",
    "        jitter=1,\n",
    "        marker=dict(color=palcolors[i], size=8, line=dict(color=palcolors_light[i], width=1)),\n",
    "        hoveron='points',\n",
    "        name=district_name,\n",
    "        showlegend=False,\n",
    "        customdata=np.column_stack(( #choosing the columns to display information when hovering with the mouse on the data points\n",
    "            df_numtenants.loc[df_numtenants['district_name'] == district_name, 'district_name'],\n",
    "            df_numtenants.loc[df_numtenants['district_name'] == district_name, 'neighborhood_name'],\n",
    "            df_numtenants.loc[df_numtenants['district_name'] == district_name, 'census_section'],\n",
    "            district_data\n",
    "        )),\n",
    "        hovertemplate=( #assigning a template to structure and label the aforementioned information\n",
    "            '<br><b>District: %{customdata[0]}</b></br>'\n",
    "            '<b>Neighborhood: %{customdata[1]}</b>'\n",
    "            '<br><b>Census section: %{customdata[2]}</b></br>'\n",
    "            '<b>People per household: %{customdata[3]}</b><extra></extra>'\n",
    "        )\n",
    "    )\n",
    "    violins.append(violin) #append current violin to the list\n",
    "\n",
    "#create the figure\n",
    "fig2 = go.Figure(data=violins, layout=mylayout)\n",
    "\n",
    "#update my custom layout with some elements specific to this figure\n",
    "fig2.update_layout(\n",
    "    xaxis=dict(title='District'),\n",
    "    yaxis=dict(title='Number of tenants per household'),\n",
    "    margin=dict(l=100, r=25, b=50, t=25),#customizing margins\n",
    "    showlegend=False #no legends\n",
    ")\n",
    "\n",
    "#show the figure\n",
    "fig2.show()"
   ]
  },
  {
   "cell_type": "markdown",
   "metadata": {},
   "source": [
    "What do we see here? Well, some sections of wealthy districts, like Sarrià-Sant Gervasi, seem to have more people living in the same household. But we also see quite a lot of disparity for districts like Ciutat Vella."
   ]
  },
  {
   "cell_type": "markdown",
   "metadata": {},
   "source": [
    "## 5. Final, combined dataset\n",
    "The best way to discover how our two variables of interest intersect is to visualize them together, so let's get down to it. We'll need to merge both datasets and then choose an appropriate plot type."
   ]
  },
  {
   "cell_type": "markdown",
   "metadata": {},
   "source": [
    "### 5.1. Merging both datasets\n",
    "In order to combine the income and the tenants data frames, we'll use `merge`, taking the former dataset as a reference. We'll simplify the latter in order to have only one common column, `census_section`, by which to merge both."
   ]
  },
  {
   "cell_type": "code",
   "execution_count": 81,
   "metadata": {},
   "outputs": [
    {
     "data": {
      "text/html": [
       "<div>\n",
       "<style scoped>\n",
       "    .dataframe tbody tr th:only-of-type {\n",
       "        vertical-align: middle;\n",
       "    }\n",
       "\n",
       "    .dataframe tbody tr th {\n",
       "        vertical-align: top;\n",
       "    }\n",
       "\n",
       "    .dataframe thead th {\n",
       "        text-align: right;\n",
       "    }\n",
       "</style>\n",
       "<table border=\"1\" class=\"dataframe\">\n",
       "  <thead>\n",
       "    <tr style=\"text-align: right;\">\n",
       "      <th></th>\n",
       "      <th>district_code</th>\n",
       "      <th>district_name</th>\n",
       "      <th>neighborhood_code</th>\n",
       "      <th>neighborhood_name</th>\n",
       "      <th>census_section</th>\n",
       "      <th>income_per_person</th>\n",
       "      <th>mean_people_household</th>\n",
       "    </tr>\n",
       "  </thead>\n",
       "  <tbody>\n",
       "    <tr>\n",
       "      <th>0</th>\n",
       "      <td>1</td>\n",
       "      <td>Ciutat Vella</td>\n",
       "      <td>1</td>\n",
       "      <td>el Raval</td>\n",
       "      <td>1001</td>\n",
       "      <td>11166</td>\n",
       "      <td>2.50</td>\n",
       "    </tr>\n",
       "    <tr>\n",
       "      <th>1</th>\n",
       "      <td>1</td>\n",
       "      <td>Ciutat Vella</td>\n",
       "      <td>1</td>\n",
       "      <td>el Raval</td>\n",
       "      <td>1002</td>\n",
       "      <td>9115</td>\n",
       "      <td>2.63</td>\n",
       "    </tr>\n",
       "    <tr>\n",
       "      <th>2</th>\n",
       "      <td>1</td>\n",
       "      <td>Ciutat Vella</td>\n",
       "      <td>1</td>\n",
       "      <td>el Raval</td>\n",
       "      <td>1003</td>\n",
       "      <td>9431</td>\n",
       "      <td>2.91</td>\n",
       "    </tr>\n",
       "    <tr>\n",
       "      <th>3</th>\n",
       "      <td>1</td>\n",
       "      <td>Ciutat Vella</td>\n",
       "      <td>1</td>\n",
       "      <td>el Raval</td>\n",
       "      <td>1004</td>\n",
       "      <td>10898</td>\n",
       "      <td>2.63</td>\n",
       "    </tr>\n",
       "    <tr>\n",
       "      <th>4</th>\n",
       "      <td>1</td>\n",
       "      <td>Ciutat Vella</td>\n",
       "      <td>1</td>\n",
       "      <td>el Raval</td>\n",
       "      <td>1005</td>\n",
       "      <td>9717</td>\n",
       "      <td>2.51</td>\n",
       "    </tr>\n",
       "    <tr>\n",
       "      <th>...</th>\n",
       "      <td>...</td>\n",
       "      <td>...</td>\n",
       "      <td>...</td>\n",
       "      <td>...</td>\n",
       "      <td>...</td>\n",
       "      <td>...</td>\n",
       "      <td>...</td>\n",
       "    </tr>\n",
       "    <tr>\n",
       "      <th>1063</th>\n",
       "      <td>10</td>\n",
       "      <td>Sant Martí</td>\n",
       "      <td>73</td>\n",
       "      <td>la Verneda i la Pau</td>\n",
       "      <td>10143</td>\n",
       "      <td>12705</td>\n",
       "      <td>2.64</td>\n",
       "    </tr>\n",
       "    <tr>\n",
       "      <th>1064</th>\n",
       "      <td>10</td>\n",
       "      <td>Sant Martí</td>\n",
       "      <td>65</td>\n",
       "      <td>el Clot</td>\n",
       "      <td>10234</td>\n",
       "      <td>16081</td>\n",
       "      <td>2.50</td>\n",
       "    </tr>\n",
       "    <tr>\n",
       "      <th>1065</th>\n",
       "      <td>10</td>\n",
       "      <td>Sant Martí</td>\n",
       "      <td>69</td>\n",
       "      <td>Diagonal Mar i el Front Marítim del Poblenou</td>\n",
       "      <td>10235</td>\n",
       "      <td>14455</td>\n",
       "      <td>2.16</td>\n",
       "    </tr>\n",
       "    <tr>\n",
       "      <th>1066</th>\n",
       "      <td>10</td>\n",
       "      <td>Sant Martí</td>\n",
       "      <td>69</td>\n",
       "      <td>Diagonal Mar i el Front Marítim del Poblenou</td>\n",
       "      <td>10236</td>\n",
       "      <td>14844</td>\n",
       "      <td>2.28</td>\n",
       "    </tr>\n",
       "    <tr>\n",
       "      <th>1067</th>\n",
       "      <td>10</td>\n",
       "      <td>Sant Martí</td>\n",
       "      <td>71</td>\n",
       "      <td>Provençals del Poblenou</td>\n",
       "      <td>10237</td>\n",
       "      <td>13443</td>\n",
       "      <td>2.25</td>\n",
       "    </tr>\n",
       "  </tbody>\n",
       "</table>\n",
       "<p>1068 rows × 7 columns</p>\n",
       "</div>"
      ],
      "text/plain": [
       "      district_code district_name  neighborhood_code  \\\n",
       "0                 1  Ciutat Vella                  1   \n",
       "1                 1  Ciutat Vella                  1   \n",
       "2                 1  Ciutat Vella                  1   \n",
       "3                 1  Ciutat Vella                  1   \n",
       "4                 1  Ciutat Vella                  1   \n",
       "...             ...           ...                ...   \n",
       "1063             10    Sant Martí                 73   \n",
       "1064             10    Sant Martí                 65   \n",
       "1065             10    Sant Martí                 69   \n",
       "1066             10    Sant Martí                 69   \n",
       "1067             10    Sant Martí                 71   \n",
       "\n",
       "                                 neighborhood_name census_section  \\\n",
       "0                                         el Raval           1001   \n",
       "1                                         el Raval           1002   \n",
       "2                                         el Raval           1003   \n",
       "3                                         el Raval           1004   \n",
       "4                                         el Raval           1005   \n",
       "...                                            ...            ...   \n",
       "1063                           la Verneda i la Pau          10143   \n",
       "1064                                       el Clot          10234   \n",
       "1065  Diagonal Mar i el Front Marítim del Poblenou          10235   \n",
       "1066  Diagonal Mar i el Front Marítim del Poblenou          10236   \n",
       "1067                       Provençals del Poblenou          10237   \n",
       "\n",
       "      income_per_person  mean_people_household  \n",
       "0                 11166                   2.50  \n",
       "1                  9115                   2.63  \n",
       "2                  9431                   2.91  \n",
       "3                 10898                   2.63  \n",
       "4                  9717                   2.51  \n",
       "...                 ...                    ...  \n",
       "1063              12705                   2.64  \n",
       "1064              16081                   2.50  \n",
       "1065              14455                   2.16  \n",
       "1066              14844                   2.28  \n",
       "1067              13443                   2.25  \n",
       "\n",
       "[1068 rows x 7 columns]"
      ]
     },
     "metadata": {},
     "output_type": "display_data"
    }
   ],
   "source": [
    "#create a only variable of interest and a unique identifier that is common with the other dataframe\n",
    "df_numtenants_short = df_numtenants.filter(items=['census_section', 'mean_people_household'])\n",
    "df_numtenants_short['census_section'] = df_numtenants_short['census_section'].astype(str) #convert census_section to string it matches type of the same variable for the other DataFrame\n",
    "\n",
    "final_df = pd.merge(df_indivincome,df_numtenants_short, how='left', on= ['census_section'])\n",
    "\n",
    "#display the DataFrame\n",
    "display(final_df)"
   ]
  },
  {
   "cell_type": "markdown",
   "metadata": {},
   "source": [
    "### 5.2. Visualizing data\n",
    "Showtime! To see how income and household size are related, we'll just plot one variable against the other. We'll stick to a simple scatterplot, but we'll color each datapoint, representing a census section, according to the district it belongs to. This will help us identify whether the data clusters as a function of that variable. We'll also add a LOWESS (locally weighted scatterplot smoothing) line, which is a model-agnostic way to visualize the trend of the data better."
   ]
  },
  {
   "cell_type": "code",
   "execution_count": 82,
   "metadata": {},
   "outputs": [
    {
     "data": {
      "application/vnd.plotly.v1+json": {
       "config": {
        "plotlyServerURL": "https://plot.ly"
       },
       "data": [
        {
         "customdata": [
          [
           "Ciutat Vella",
           "el Raval",
           "1001",
           11166,
           2.5
          ],
          [
           "Ciutat Vella",
           "el Raval",
           "1002",
           9115,
           2.63
          ],
          [
           "Ciutat Vella",
           "el Raval",
           "1003",
           9431,
           2.91
          ],
          [
           "Ciutat Vella",
           "el Raval",
           "1004",
           10898,
           2.63
          ],
          [
           "Ciutat Vella",
           "el Raval",
           "1005",
           9717,
           2.51
          ],
          [
           "Ciutat Vella",
           "el Raval",
           "1006",
           10214,
           2.6
          ],
          [
           "Ciutat Vella",
           "el Raval",
           "1007",
           9880,
           2.82
          ],
          [
           "Ciutat Vella",
           "el Raval",
           "1008",
           7755,
           3.04
          ],
          [
           "Ciutat Vella",
           "el Raval",
           "1009",
           10011,
           2.63
          ],
          [
           "Ciutat Vella",
           "el Raval",
           "1010",
           8936,
           2.95
          ],
          [
           "Ciutat Vella",
           "el Raval",
           "1011",
           8137,
           2.84
          ],
          [
           "Ciutat Vella",
           "el Raval",
           "1012",
           10578,
           2.59
          ],
          [
           "Ciutat Vella",
           "el Raval",
           "1013",
           10757,
           2.87
          ],
          [
           "Ciutat Vella",
           "el Raval",
           "1014",
           10052,
           2.84
          ],
          [
           "Ciutat Vella",
           "el Raval",
           "1015",
           10444,
           2.74
          ],
          [
           "Ciutat Vella",
           "el Raval",
           "1016",
           9623,
           2.89
          ],
          [
           "Ciutat Vella",
           "el Raval",
           "1017",
           9048,
           2.88
          ],
          [
           "Ciutat Vella",
           "el Raval",
           "1018",
           9854,
           2.77
          ],
          [
           "Ciutat Vella",
           "el Raval",
           "1019",
           9665,
           2.64
          ],
          [
           "Ciutat Vella",
           "el Raval",
           "1020",
           14725,
           2.38
          ],
          [
           "Ciutat Vella",
           "el Raval",
           "1021",
           14304,
           2.18
          ],
          [
           "Ciutat Vella",
           "el Barri Gòtic",
           "1022",
           15141,
           2.25
          ],
          [
           "Ciutat Vella",
           "el Barri Gòtic",
           "1023",
           15038,
           2.26
          ],
          [
           "Ciutat Vella",
           "el Barri Gòtic",
           "1025",
           14081,
           2.23
          ],
          [
           "Ciutat Vella",
           "el Barri Gòtic",
           "1026",
           14859,
           2.3
          ],
          [
           "Ciutat Vella",
           "el Barri Gòtic",
           "1027",
           13379,
           2.28
          ],
          [
           "Ciutat Vella",
           "el Barri Gòtic",
           "1028",
           12429,
           2.28
          ],
          [
           "Ciutat Vella",
           "el Barri Gòtic",
           "1029",
           11413,
           2.4
          ],
          [
           "Ciutat Vella",
           "el Barri Gòtic",
           "1030",
           11300,
           2.48
          ],
          [
           "Ciutat Vella",
           "el Barri Gòtic",
           "1031",
           11604,
           2.39
          ],
          [
           "Ciutat Vella",
           "la Barceloneta",
           "1032",
           15133,
           2.04
          ],
          [
           "Ciutat Vella",
           "la Barceloneta",
           "1033",
           12890,
           2.1
          ],
          [
           "Ciutat Vella",
           "la Barceloneta",
           "1034",
           13175,
           1.95
          ],
          [
           "Ciutat Vella",
           "la Barceloneta",
           "1035",
           12947,
           2.12
          ],
          [
           "Ciutat Vella",
           "la Barceloneta",
           "1036",
           13476,
           2.34
          ],
          [
           "Ciutat Vella",
           "la Barceloneta",
           "1037",
           13402,
           2.38
          ],
          [
           "Ciutat Vella",
           "la Barceloneta",
           "1038",
           12033,
           2.07
          ],
          [
           "Ciutat Vella",
           "la Barceloneta",
           "1039",
           13289,
           2.28
          ],
          [
           "Ciutat Vella",
           "la Barceloneta",
           "1040",
           13332,
           2.04
          ],
          [
           "Ciutat Vella",
           "la Barceloneta",
           "1041",
           11903,
           2.1
          ],
          [
           "Ciutat Vella",
           "la Barceloneta",
           "1042",
           13567,
           2.34
          ],
          [
           "Ciutat Vella",
           "Sant Pere, Santa Caterina i la Ribera",
           "1043",
           17964,
           2.12
          ],
          [
           "Ciutat Vella",
           "Sant Pere, Santa Caterina i la Ribera",
           "1044",
           16272,
           2.12
          ],
          [
           "Ciutat Vella",
           "Sant Pere, Santa Caterina i la Ribera",
           "1045",
           14198,
           2.05
          ],
          [
           "Ciutat Vella",
           "Sant Pere, Santa Caterina i la Ribera",
           "1046",
           12601,
           2.22
          ],
          [
           "Ciutat Vella",
           "Sant Pere, Santa Caterina i la Ribera",
           "1047",
           13294,
           2.15
          ],
          [
           "Ciutat Vella",
           "Sant Pere, Santa Caterina i la Ribera",
           "1048",
           10784,
           2.31
          ],
          [
           "Ciutat Vella",
           "Sant Pere, Santa Caterina i la Ribera",
           "1049",
           13097,
           2.45
          ],
          [
           "Ciutat Vella",
           "Sant Pere, Santa Caterina i la Ribera",
           "1050",
           13589,
           2.28
          ],
          [
           "Ciutat Vella",
           "Sant Pere, Santa Caterina i la Ribera",
           "1051",
           11908,
           2.26
          ],
          [
           "Ciutat Vella",
           "Sant Pere, Santa Caterina i la Ribera",
           "1052",
           17727,
           2.5
          ],
          [
           "Ciutat Vella",
           "Sant Pere, Santa Caterina i la Ribera",
           "1053",
           12487,
           2.02
          ],
          [
           "Ciutat Vella",
           "Sant Pere, Santa Caterina i la Ribera",
           "1054",
           13563,
           2.05
          ],
          [
           "Ciutat Vella",
           "Sant Pere, Santa Caterina i la Ribera",
           "1055",
           17342,
           2.34
          ],
          [
           "L'Eixample",
           "el Fort Pienc",
           "2001",
           17360,
           2.47
          ],
          [
           "L'Eixample",
           "el Fort Pienc",
           "2002",
           18298,
           2.37
          ],
          [
           "L'Eixample",
           "el Fort Pienc",
           "2003",
           20487,
           2.43
          ],
          [
           "L'Eixample",
           "el Fort Pienc",
           "2004",
           14770,
           2.73
          ],
          [
           "L'Eixample",
           "el Fort Pienc",
           "2005",
           19933,
           2.42
          ],
          [
           "L'Eixample",
           "el Fort Pienc",
           "2006",
           20119,
           2.42
          ],
          [
           "L'Eixample",
           "el Fort Pienc",
           "2007",
           20950,
           2.33
          ],
          [
           "L'Eixample",
           "el Fort Pienc",
           "2008",
           19176,
           2.56
          ],
          [
           "L'Eixample",
           "el Fort Pienc",
           "2009",
           18832,
           2.58
          ],
          [
           "L'Eixample",
           "el Fort Pienc",
           "2010",
           17709,
           2.66
          ],
          [
           "L'Eixample",
           "el Fort Pienc",
           "2011",
           18661,
           2.37
          ],
          [
           "L'Eixample",
           "el Fort Pienc",
           "2012",
           15460,
           2.58
          ],
          [
           "L'Eixample",
           "el Fort Pienc",
           "2013",
           16269,
           2.35
          ],
          [
           "L'Eixample",
           "el Fort Pienc",
           "2014",
           14867,
           2.4
          ],
          [
           "L'Eixample",
           "el Fort Pienc",
           "2015",
           15300,
           2.4
          ],
          [
           "L'Eixample",
           "el Fort Pienc",
           "2016",
           19727,
           2.38
          ],
          [
           "L'Eixample",
           "el Fort Pienc",
           "2017",
           19271,
           2.49
          ],
          [
           "L'Eixample",
           "el Fort Pienc",
           "2018",
           19442,
           2.46
          ],
          [
           "L'Eixample",
           "el Fort Pienc",
           "2019",
           18071,
           2.4
          ],
          [
           "L'Eixample",
           "el Fort Pienc",
           "2020",
           16179,
           2.31
          ],
          [
           "L'Eixample",
           "la Sagrada Família",
           "2021",
           17317,
           2.27
          ],
          [
           "L'Eixample",
           "la Sagrada Família",
           "2022",
           17604,
           2.57
          ],
          [
           "L'Eixample",
           "la Sagrada Família",
           "2023",
           18726,
           2.23
          ],
          [
           "L'Eixample",
           "la Sagrada Família",
           "2024",
           16799,
           2.38
          ],
          [
           "L'Eixample",
           "la Sagrada Família",
           "2025",
           17109,
           2.29
          ],
          [
           "L'Eixample",
           "la Sagrada Família",
           "2026",
           18083,
           2.45
          ],
          [
           "L'Eixample",
           "la Sagrada Família",
           "2027",
           17722,
           2.46
          ],
          [
           "L'Eixample",
           "la Sagrada Família",
           "2028",
           17634,
           2.37
          ],
          [
           "L'Eixample",
           "la Sagrada Família",
           "2029",
           18484,
           2.42
          ],
          [
           "L'Eixample",
           "la Sagrada Família",
           "2030",
           14734,
           2.48
          ],
          [
           "L'Eixample",
           "la Sagrada Família",
           "2031",
           18904,
           2.43
          ],
          [
           "L'Eixample",
           "la Sagrada Família",
           "2032",
           18104,
           2.34
          ],
          [
           "L'Eixample",
           "la Sagrada Família",
           "2033",
           17289,
           2.32
          ],
          [
           "L'Eixample",
           "la Sagrada Família",
           "2034",
           15736,
           2.27
          ],
          [
           "L'Eixample",
           "la Sagrada Família",
           "2035",
           18096,
           2.27
          ],
          [
           "L'Eixample",
           "la Sagrada Família",
           "2036",
           19667,
           2.42
          ],
          [
           "L'Eixample",
           "la Sagrada Família",
           "2037",
           19484,
           2.46
          ],
          [
           "L'Eixample",
           "la Sagrada Família",
           "2038",
           19996,
           2.39
          ],
          [
           "L'Eixample",
           "la Sagrada Família",
           "2039",
           17259,
           2.32
          ],
          [
           "L'Eixample",
           "la Sagrada Família",
           "2040",
           15952,
           2.32
          ],
          [
           "L'Eixample",
           "la Sagrada Família",
           "2041",
           17755,
           2.31
          ],
          [
           "L'Eixample",
           "la Sagrada Família",
           "2042",
           20134,
           2.27
          ],
          [
           "L'Eixample",
           "la Sagrada Família",
           "2043",
           18660,
           2.51
          ],
          [
           "L'Eixample",
           "la Sagrada Família",
           "2044",
           15721,
           2.53
          ],
          [
           "L'Eixample",
           "la Sagrada Família",
           "2045",
           18535,
           2.43
          ],
          [
           "L'Eixample",
           "la Sagrada Família",
           "2046",
           16440,
           2.46
          ],
          [
           "L'Eixample",
           "la Sagrada Família",
           "2047",
           17138,
           2.49
          ],
          [
           "L'Eixample",
           "la Sagrada Família",
           "2048",
           16423,
           2.5
          ],
          [
           "L'Eixample",
           "la Sagrada Família",
           "2049",
           16513,
           2.25
          ],
          [
           "L'Eixample",
           "la Sagrada Família",
           "2050",
           17613,
           2.29
          ],
          [
           "L'Eixample",
           "la Sagrada Família",
           "2051",
           15763,
           2.33
          ],
          [
           "L'Eixample",
           "la Sagrada Família",
           "2052",
           18709,
           2.35
          ],
          [
           "L'Eixample",
           "la Sagrada Família",
           "2053",
           19165,
           2.19
          ],
          [
           "L'Eixample",
           "la Sagrada Família",
           "2054",
           18069,
           2.41
          ],
          [
           "L'Eixample",
           "la Dreta de l'Eixample",
           "2055",
           18909,
           2.34
          ],
          [
           "L'Eixample",
           "la Dreta de l'Eixample",
           "2056",
           19330,
           2.28
          ],
          [
           "L'Eixample",
           "la Dreta de l'Eixample",
           "2057",
           21523,
           2.43
          ],
          [
           "L'Eixample",
           "la Dreta de l'Eixample",
           "2058",
           21830,
           2.25
          ],
          [
           "L'Eixample",
           "la Dreta de l'Eixample",
           "2059",
           20727,
           2.44
          ],
          [
           "L'Eixample",
           "la Dreta de l'Eixample",
           "2060",
           20529,
           2.44
          ],
          [
           "L'Eixample",
           "la Dreta de l'Eixample",
           "2061",
           19310,
           2.31
          ],
          [
           "L'Eixample",
           "la Dreta de l'Eixample",
           "2062",
           22087,
           2.37
          ],
          [
           "L'Eixample",
           "la Dreta de l'Eixample",
           "2063",
           26639,
           2.52
          ],
          [
           "L'Eixample",
           "la Dreta de l'Eixample",
           "2064",
           24745,
           2.46
          ],
          [
           "L'Eixample",
           "la Dreta de l'Eixample",
           "2065",
           20403,
           2.36
          ],
          [
           "L'Eixample",
           "la Dreta de l'Eixample",
           "2066",
           19980,
           2.34
          ],
          [
           "L'Eixample",
           "la Dreta de l'Eixample",
           "2067",
           17865,
           2.31
          ],
          [
           "L'Eixample",
           "la Dreta de l'Eixample",
           "2068",
           18113,
           2.38
          ],
          [
           "L'Eixample",
           "la Dreta de l'Eixample",
           "2069",
           21546,
           2.41
          ],
          [
           "L'Eixample",
           "la Dreta de l'Eixample",
           "2070",
           23478,
           2.41
          ],
          [
           "L'Eixample",
           "la Dreta de l'Eixample",
           "2071",
           23431,
           2.46
          ],
          [
           "L'Eixample",
           "la Dreta de l'Eixample",
           "2072",
           25710,
           2.39
          ],
          [
           "L'Eixample",
           "la Dreta de l'Eixample",
           "2073",
           22981,
           2.45
          ],
          [
           "L'Eixample",
           "la Dreta de l'Eixample",
           "2074",
           22346,
           2.46
          ],
          [
           "L'Eixample",
           "la Dreta de l'Eixample",
           "2075",
           21690,
           2.48
          ],
          [
           "L'Eixample",
           "la Dreta de l'Eixample",
           "2076",
           23065,
           2.48
          ],
          [
           "L'Eixample",
           "la Dreta de l'Eixample",
           "2077",
           20255,
           2.38
          ],
          [
           "L'Eixample",
           "la Dreta de l'Eixample",
           "2078",
           22793,
           2.27
          ],
          [
           "L'Eixample",
           "la Dreta de l'Eixample",
           "2079",
           25585,
           2.29
          ],
          [
           "L'Eixample",
           "la Dreta de l'Eixample",
           "2080",
           23579,
           2.39
          ],
          [
           "L'Eixample",
           "la Dreta de l'Eixample",
           "2081",
           23739,
           2.29
          ],
          [
           "L'Eixample",
           "la Dreta de l'Eixample",
           "2082",
           23306,
           2.19
          ],
          [
           "L'Eixample",
           "la Dreta de l'Eixample",
           "2083",
           24587,
           2.21
          ],
          [
           "L'Eixample",
           "l'Antiga Esquerra de l'Eixample",
           "2084",
           21309,
           2.29
          ],
          [
           "L'Eixample",
           "l'Antiga Esquerra de l'Eixample",
           "2085",
           22742,
           2.23
          ],
          [
           "L'Eixample",
           "l'Antiga Esquerra de l'Eixample",
           "2086",
           23534,
           2.44
          ],
          [
           "L'Eixample",
           "l'Antiga Esquerra de l'Eixample",
           "2087",
           21878,
           2.37
          ],
          [
           "L'Eixample",
           "l'Antiga Esquerra de l'Eixample",
           "2088",
           23664,
           2.25
          ],
          [
           "L'Eixample",
           "l'Antiga Esquerra de l'Eixample",
           "2089",
           22208,
           2.24
          ],
          [
           "L'Eixample",
           "l'Antiga Esquerra de l'Eixample",
           "2090",
           18827,
           2.33
          ],
          [
           "L'Eixample",
           "l'Antiga Esquerra de l'Eixample",
           "2091",
           20757,
           2.34
          ],
          [
           "L'Eixample",
           "l'Antiga Esquerra de l'Eixample",
           "2092",
           18926,
           2.23
          ],
          [
           "L'Eixample",
           "l'Antiga Esquerra de l'Eixample",
           "2093",
           20906,
           2.42
          ],
          [
           "L'Eixample",
           "l'Antiga Esquerra de l'Eixample",
           "2094",
           20610,
           2.45
          ],
          [
           "L'Eixample",
           "l'Antiga Esquerra de l'Eixample",
           "2095",
           19778,
           2.39
          ],
          [
           "L'Eixample",
           "l'Antiga Esquerra de l'Eixample",
           "2096",
           19220,
           2.31
          ],
          [
           "L'Eixample",
           "l'Antiga Esquerra de l'Eixample",
           "2097",
           18395,
           2.27
          ],
          [
           "L'Eixample",
           "l'Antiga Esquerra de l'Eixample",
           "2098",
           19540,
           2.28
          ],
          [
           "L'Eixample",
           "l'Antiga Esquerra de l'Eixample",
           "2099",
           21069,
           2.57
          ],
          [
           "L'Eixample",
           "l'Antiga Esquerra de l'Eixample",
           "2100",
           20966,
           2.24
          ],
          [
           "L'Eixample",
           "l'Antiga Esquerra de l'Eixample",
           "2101",
           19595,
           2.45
          ],
          [
           "L'Eixample",
           "l'Antiga Esquerra de l'Eixample",
           "2102",
           22918,
           2.28
          ],
          [
           "L'Eixample",
           "l'Antiga Esquerra de l'Eixample",
           "2103",
           18186,
           2.16
          ],
          [
           "L'Eixample",
           "l'Antiga Esquerra de l'Eixample",
           "2104",
           21982,
           2.37
          ],
          [
           "L'Eixample",
           "l'Antiga Esquerra de l'Eixample",
           "2105",
           18362,
           2.33
          ],
          [
           "L'Eixample",
           "l'Antiga Esquerra de l'Eixample",
           "2106",
           22833,
           2.32
          ],
          [
           "L'Eixample",
           "l'Antiga Esquerra de l'Eixample",
           "2107",
           22415,
           2.38
          ],
          [
           "L'Eixample",
           "l'Antiga Esquerra de l'Eixample",
           "2108",
           23588,
           2.36
          ],
          [
           "L'Eixample",
           "l'Antiga Esquerra de l'Eixample",
           "2109",
           25041,
           2.33
          ],
          [
           "L'Eixample",
           "la Nova Esquerra de l'Eixample",
           "2110",
           19807,
           2.31
          ],
          [
           "L'Eixample",
           "la Nova Esquerra de l'Eixample",
           "2111",
           20187,
           2.28
          ],
          [
           "L'Eixample",
           "la Nova Esquerra de l'Eixample",
           "2112",
           25168,
           2.35
          ],
          [
           "L'Eixample",
           "la Nova Esquerra de l'Eixample",
           "2113",
           22820,
           2.47
          ],
          [
           "L'Eixample",
           "la Nova Esquerra de l'Eixample",
           "2114",
           19902,
           2.28
          ],
          [
           "L'Eixample",
           "la Nova Esquerra de l'Eixample",
           "2115",
           19295,
           2.34
          ],
          [
           "L'Eixample",
           "la Nova Esquerra de l'Eixample",
           "2116",
           23599,
           2.43
          ],
          [
           "L'Eixample",
           "la Nova Esquerra de l'Eixample",
           "2117",
           19934,
           2.43
          ],
          [
           "L'Eixample",
           "la Nova Esquerra de l'Eixample",
           "2118",
           22115,
           2.45
          ],
          [
           "L'Eixample",
           "la Nova Esquerra de l'Eixample",
           "2119",
           21194,
           2.35
          ],
          [
           "L'Eixample",
           "la Nova Esquerra de l'Eixample",
           "2120",
           20539,
           2.31
          ],
          [
           "L'Eixample",
           "la Nova Esquerra de l'Eixample",
           "2121",
           21153,
           2.24
          ],
          [
           "L'Eixample",
           "la Nova Esquerra de l'Eixample",
           "2122",
           22307,
           2.44
          ],
          [
           "L'Eixample",
           "la Nova Esquerra de l'Eixample",
           "2123",
           20294,
           2.13
          ],
          [
           "L'Eixample",
           "la Nova Esquerra de l'Eixample",
           "2124",
           21550,
           2.31
          ],
          [
           "L'Eixample",
           "la Nova Esquerra de l'Eixample",
           "2125",
           19386,
           2.39
          ],
          [
           "L'Eixample",
           "la Nova Esquerra de l'Eixample",
           "2126",
           20203,
           2.4
          ],
          [
           "L'Eixample",
           "la Nova Esquerra de l'Eixample",
           "2127",
           19190,
           2.2
          ],
          [
           "L'Eixample",
           "la Nova Esquerra de l'Eixample",
           "2128",
           17733,
           2.3
          ],
          [
           "L'Eixample",
           "la Nova Esquerra de l'Eixample",
           "2129",
           19347,
           2.37
          ],
          [
           "L'Eixample",
           "la Nova Esquerra de l'Eixample",
           "2130",
           27558,
           2.5
          ],
          [
           "L'Eixample",
           "la Nova Esquerra de l'Eixample",
           "2131",
           19073,
           2.28
          ],
          [
           "L'Eixample",
           "la Nova Esquerra de l'Eixample",
           "2132",
           20403,
           2.33
          ],
          [
           "L'Eixample",
           "la Nova Esquerra de l'Eixample",
           "2133",
           21245,
           2.25
          ],
          [
           "L'Eixample",
           "la Nova Esquerra de l'Eixample",
           "2134",
           18761,
           2.34
          ],
          [
           "L'Eixample",
           "la Nova Esquerra de l'Eixample",
           "2135",
           17714,
           2.28
          ],
          [
           "L'Eixample",
           "la Nova Esquerra de l'Eixample",
           "2136",
           20442,
           2.33
          ],
          [
           "L'Eixample",
           "la Nova Esquerra de l'Eixample",
           "2137",
           17649,
           2.41
          ],
          [
           "L'Eixample",
           "la Nova Esquerra de l'Eixample",
           "2138",
           19523,
           2.45
          ],
          [
           "L'Eixample",
           "la Nova Esquerra de l'Eixample",
           "2139",
           18339,
           2.21
          ],
          [
           "L'Eixample",
           "la Nova Esquerra de l'Eixample",
           "2140",
           19163,
           2.29
          ],
          [
           "L'Eixample",
           "la Nova Esquerra de l'Eixample",
           "2141",
           17975,
           2.41
          ],
          [
           "L'Eixample",
           "la Nova Esquerra de l'Eixample",
           "2142",
           16885,
           2.41
          ],
          [
           "L'Eixample",
           "la Nova Esquerra de l'Eixample",
           "2143",
           18211,
           2.38
          ],
          [
           "L'Eixample",
           "la Nova Esquerra de l'Eixample",
           "2144",
           20931,
           2.5
          ],
          [
           "L'Eixample",
           "la Nova Esquerra de l'Eixample",
           "2145",
           17652,
           2.48
          ],
          [
           "L'Eixample",
           "la Nova Esquerra de l'Eixample",
           "2146",
           18025,
           2.47
          ],
          [
           "L'Eixample",
           "la Nova Esquerra de l'Eixample",
           "2147",
           17981,
           2.37
          ],
          [
           "L'Eixample",
           "la Nova Esquerra de l'Eixample",
           "2148",
           20238,
           2.25
          ],
          [
           "L'Eixample",
           "la Nova Esquerra de l'Eixample",
           "2149",
           17709,
           2.44
          ],
          [
           "L'Eixample",
           "Sant Antoni",
           "2150",
           16410,
           2.5
          ],
          [
           "L'Eixample",
           "Sant Antoni",
           "2151",
           18345,
           2.42
          ],
          [
           "L'Eixample",
           "Sant Antoni",
           "2152",
           19827,
           2.42
          ],
          [
           "L'Eixample",
           "Sant Antoni",
           "2153",
           19322,
           2.36
          ],
          [
           "L'Eixample",
           "Sant Antoni",
           "2154",
           15599,
           2.55
          ],
          [
           "L'Eixample",
           "Sant Antoni",
           "2155",
           16523,
           2.44
          ],
          [
           "L'Eixample",
           "Sant Antoni",
           "2156",
           18283,
           2.32
          ],
          [
           "L'Eixample",
           "Sant Antoni",
           "2157",
           17057,
           2.43
          ],
          [
           "L'Eixample",
           "Sant Antoni",
           "2158",
           17976,
           2.39
          ],
          [
           "L'Eixample",
           "Sant Antoni",
           "2159",
           17571,
           2.54
          ],
          [
           "L'Eixample",
           "Sant Antoni",
           "2160",
           19971,
           2.34
          ],
          [
           "L'Eixample",
           "Sant Antoni",
           "2161",
           17628,
           2.48
          ],
          [
           "L'Eixample",
           "Sant Antoni",
           "2162",
           16864,
           2.35
          ],
          [
           "L'Eixample",
           "Sant Antoni",
           "2163",
           19768,
           2.34
          ],
          [
           "L'Eixample",
           "Sant Antoni",
           "2164",
           18527,
           2.28
          ],
          [
           "L'Eixample",
           "Sant Antoni",
           "2165",
           18275,
           2.38
          ],
          [
           "L'Eixample",
           "Sant Antoni",
           "2166",
           17215,
           2.32
          ],
          [
           "L'Eixample",
           "Sant Antoni",
           "2167",
           17274,
           2.45
          ],
          [
           "L'Eixample",
           "Sant Antoni",
           "2168",
           17738,
           2.31
          ],
          [
           "L'Eixample",
           "Sant Antoni",
           "2169",
           17432,
           2.24
          ],
          [
           "L'Eixample",
           "Sant Antoni",
           "2170",
           17008,
           2.39
          ],
          [
           "L'Eixample",
           "Sant Antoni",
           "2171",
           15879,
           2.38
          ],
          [
           "L'Eixample",
           "Sant Antoni",
           "2172",
           16511,
           2.35
          ],
          [
           "L'Eixample",
           "Sant Antoni",
           "2173",
           17459,
           2.29
          ],
          [
           "Sants-Montjuïc",
           "el Poble Sec",
           "3001",
           14247,
           2.42
          ],
          [
           "Sants-Montjuïc",
           "el Poble Sec",
           "3002",
           13238,
           2.32
          ],
          [
           "Sants-Montjuïc",
           "el Poble Sec",
           "3003",
           12578,
           2.52
          ],
          [
           "Sants-Montjuïc",
           "el Poble Sec",
           "3004",
           15018,
           2.39
          ],
          [
           "Sants-Montjuïc",
           "el Poble Sec",
           "3005",
           13965,
           2.24
          ],
          [
           "Sants-Montjuïc",
           "el Poble Sec",
           "3006",
           13622,
           2.54
          ],
          [
           "Sants-Montjuïc",
           "el Poble Sec",
           "3007",
           14036,
           2.49
          ],
          [
           "Sants-Montjuïc",
           "el Poble Sec",
           "3008",
           13008,
           2.3
          ],
          [
           "Sants-Montjuïc",
           "el Poble Sec",
           "3009",
           14594,
           2.44
          ],
          [
           "Sants-Montjuïc",
           "el Poble Sec",
           "3010",
           12625,
           2.68
          ],
          [
           "Sants-Montjuïc",
           "el Poble Sec",
           "3011",
           11481,
           2.45
          ],
          [
           "Sants-Montjuïc",
           "el Poble Sec",
           "3012",
           13185,
           2.48
          ],
          [
           "Sants-Montjuïc",
           "el Poble Sec",
           "3013",
           12518,
           2.37
          ],
          [
           "Sants-Montjuïc",
           "el Poble Sec",
           "3014",
           12020,
           2.48
          ],
          [
           "Sants-Montjuïc",
           "el Poble Sec",
           "3015",
           12854,
           2.53
          ],
          [
           "Sants-Montjuïc",
           "el Poble Sec",
           "3016",
           11779,
           2.69
          ],
          [
           "Sants-Montjuïc",
           "el Poble Sec",
           "3017",
           11728,
           2.51
          ],
          [
           "Sants-Montjuïc",
           "el Poble Sec",
           "3018",
           13871,
           2.69
          ],
          [
           "Sants-Montjuïc",
           "el Poble Sec",
           "3019",
           12919,
           2.61
          ],
          [
           "Sants-Montjuïc",
           "el Poble Sec",
           "3020",
           15696,
           2.49
          ],
          [
           "Sants-Montjuïc",
           "el Poble Sec",
           "3021",
           15268,
           2.43
          ],
          [
           "Sants-Montjuïc",
           "el Poble Sec",
           "3022",
           14977,
           2.4
          ],
          [
           "Sants-Montjuïc",
           "el Poble Sec",
           "3023",
           12823,
           2.59
          ],
          [
           "Sants-Montjuïc",
           "el Poble Sec",
           "3024",
           13386,
           2.53
          ],
          [
           "Sants-Montjuïc",
           "la Marina del Prat Vermell",
           "3025",
           11802,
           2.39
          ],
          [
           "Sants-Montjuïc",
           "la Marina de Port",
           "3026",
           13981,
           2.33
          ],
          [
           "Sants-Montjuïc",
           "la Marina de Port",
           "3027",
           15254,
           2.32
          ],
          [
           "Sants-Montjuïc",
           "la Marina de Port",
           "3028",
           16508,
           2.57
          ],
          [
           "Sants-Montjuïc",
           "la Marina de Port",
           "3029",
           13058,
           2.57
          ],
          [
           "Sants-Montjuïc",
           "la Marina de Port",
           "3030",
           14732,
           2.44
          ],
          [
           "Sants-Montjuïc",
           "la Marina de Port",
           "3031",
           13753,
           2.6
          ],
          [
           "Sants-Montjuïc",
           "la Marina de Port",
           "3032",
           12628,
           2.45
          ],
          [
           "Sants-Montjuïc",
           "la Marina de Port",
           "3033",
           10569,
           2.66
          ],
          [
           "Sants-Montjuïc",
           "la Marina de Port",
           "3034",
           13542,
           2.61
          ],
          [
           "Sants-Montjuïc",
           "la Marina de Port",
           "3035",
           15149,
           2.62
          ],
          [
           "Sants-Montjuïc",
           "la Marina de Port",
           "3036",
           16205,
           2.47
          ],
          [
           "Sants-Montjuïc",
           "la Marina de Port",
           "3037",
           16201,
           2.61
          ],
          [
           "Sants-Montjuïc",
           "la Marina de Port",
           "3038",
           10862,
           2.69
          ],
          [
           "Sants-Montjuïc",
           "la Marina de Port",
           "3039",
           10253,
           2.65
          ],
          [
           "Sants-Montjuïc",
           "la Font de la Guatlla",
           "3040",
           18097,
           2.25
          ],
          [
           "Sants-Montjuïc",
           "la Font de la Guatlla",
           "3041",
           15260,
           2.47
          ],
          [
           "Sants-Montjuïc",
           "la Font de la Guatlla",
           "3042",
           15009,
           2.42
          ],
          [
           "Sants-Montjuïc",
           "la Font de la Guatlla",
           "3043",
           16679,
           2.4
          ],
          [
           "Sants-Montjuïc",
           "la Font de la Guatlla",
           "3044",
           14226,
           2.45
          ],
          [
           "Sants-Montjuïc",
           "la Font de la Guatlla",
           "3045",
           16342,
           2.22
          ],
          [
           "Sants-Montjuïc",
           "la Font de la Guatlla",
           "3046",
           18791,
           2.43
          ],
          [
           "Sants-Montjuïc",
           "Hostafrancs",
           "3047",
           15222,
           2.31
          ],
          [
           "Sants-Montjuïc",
           "Hostafrancs",
           "3048",
           18503,
           2.28
          ],
          [
           "Sants-Montjuïc",
           "Hostafrancs",
           "3049",
           16166,
           2.4
          ],
          [
           "Sants-Montjuïc",
           "Hostafrancs",
           "3050",
           16854,
           2.31
          ],
          [
           "Sants-Montjuïc",
           "Hostafrancs",
           "3051",
           13296,
           2.53
          ],
          [
           "Sants-Montjuïc",
           "Hostafrancs",
           "3052",
           15113,
           2.44
          ],
          [
           "Sants-Montjuïc",
           "Hostafrancs",
           "3053",
           14259,
           2.47
          ],
          [
           "Sants-Montjuïc",
           "Hostafrancs",
           "3054",
           16441,
           2.42
          ],
          [
           "Sants-Montjuïc",
           "Hostafrancs",
           "3055",
           15814,
           2.36
          ],
          [
           "Sants-Montjuïc",
           "Hostafrancs",
           "3056",
           15558,
           2.37
          ],
          [
           "Sants-Montjuïc",
           "la Bordeta",
           "3057",
           15600,
           2.29
          ],
          [
           "Sants-Montjuïc",
           "la Bordeta",
           "3058",
           19114,
           2.53
          ],
          [
           "Sants-Montjuïc",
           "la Bordeta",
           "3059",
           14638,
           2.34
          ],
          [
           "Sants-Montjuïc",
           "la Bordeta",
           "3060",
           17070,
           2.46
          ],
          [
           "Sants-Montjuïc",
           "la Bordeta",
           "3061",
           15119,
           2.22
          ],
          [
           "Sants-Montjuïc",
           "la Bordeta",
           "3062",
           15918,
           2.21
          ],
          [
           "Sants-Montjuïc",
           "la Bordeta",
           "3063",
           15062,
           2.62
          ],
          [
           "Sants-Montjuïc",
           "la Bordeta",
           "3064",
           16876,
           2.56
          ],
          [
           "Sants-Montjuïc",
           "la Bordeta",
           "3065",
           16261,
           2.59
          ],
          [
           "Sants-Montjuïc",
           "la Bordeta",
           "3066",
           14794,
           2.59
          ],
          [
           "Sants-Montjuïc",
           "la Bordeta",
           "3067",
           16197,
           2.56
          ],
          [
           "Sants-Montjuïc",
           "la Bordeta",
           "3068",
           14292,
           2.3
          ],
          [
           "Sants-Montjuïc",
           "la Bordeta",
           "3069",
           17274,
           2.52
          ],
          [
           "Sants-Montjuïc",
           "Sants-Badal",
           "3070",
           13649,
           2.6
          ],
          [
           "Sants-Montjuïc",
           "Sants-Badal",
           "3071",
           13716,
           2.38
          ],
          [
           "Sants-Montjuïc",
           "Sants-Badal",
           "3072",
           14094,
           2.42
          ],
          [
           "Sants-Montjuïc",
           "Sants-Badal",
           "3073",
           16840,
           2.36
          ],
          [
           "Sants-Montjuïc",
           "Sants-Badal",
           "3074",
           16459,
           2.43
          ],
          [
           "Sants-Montjuïc",
           "Sants-Badal",
           "3075",
           14718,
           2.57
          ],
          [
           "Sants-Montjuïc",
           "Sants-Badal",
           "3076",
           14766,
           2.42
          ],
          [
           "Sants-Montjuïc",
           "Sants-Badal",
           "3077",
           14471,
           2.45
          ],
          [
           "Sants-Montjuïc",
           "Sants-Badal",
           "3078",
           14565,
           2.53
          ],
          [
           "Sants-Montjuïc",
           "Sants-Badal",
           "3079",
           13347,
           2.55
          ],
          [
           "Sants-Montjuïc",
           "Sants-Badal",
           "3080",
           15269,
           2.46
          ],
          [
           "Sants-Montjuïc",
           "Sants-Badal",
           "3081",
           15983,
           2.55
          ],
          [
           "Sants-Montjuïc",
           "Sants-Badal",
           "3082",
           17703,
           2.44
          ],
          [
           "Sants-Montjuïc",
           "Sants-Badal",
           "3083",
           17592,
           2.42
          ],
          [
           "Sants-Montjuïc",
           "Sants-Badal",
           "3084",
           17681,
           2.4
          ],
          [
           "Sants-Montjuïc",
           "Sants-Badal",
           "3085",
           17565,
           2.34
          ],
          [
           "Sants-Montjuïc",
           "Sants",
           "3086",
           20636,
           2.35
          ],
          [
           "Sants-Montjuïc",
           "Sants",
           "3087",
           18744,
           2.42
          ],
          [
           "Sants-Montjuïc",
           "Sants",
           "3088",
           15939,
           2.4
          ],
          [
           "Sants-Montjuïc",
           "Sants",
           "3089",
           18315,
           2.37
          ],
          [
           "Sants-Montjuïc",
           "Sants",
           "3090",
           20224,
           2.38
          ],
          [
           "Sants-Montjuïc",
           "Sants",
           "3091",
           17221,
           2.54
          ],
          [
           "Sants-Montjuïc",
           "Sants",
           "3092",
           17178,
           2.35
          ],
          [
           "Sants-Montjuïc",
           "Sants",
           "3093",
           17620,
           2.4
          ],
          [
           "Sants-Montjuïc",
           "Sants",
           "3094",
           18401,
           2.29
          ],
          [
           "Sants-Montjuïc",
           "Sants",
           "3095",
           16746,
           2.33
          ],
          [
           "Sants-Montjuïc",
           "Sants",
           "3096",
           15753,
           2.46
          ],
          [
           "Sants-Montjuïc",
           "Sants",
           "3097",
           12301,
           2.44
          ],
          [
           "Sants-Montjuïc",
           "Sants",
           "3098",
           13798,
           2.52
          ],
          [
           "Sants-Montjuïc",
           "Sants",
           "3099",
           16691,
           2.21
          ],
          [
           "Sants-Montjuïc",
           "Sants",
           "3100",
           15773,
           2.3
          ],
          [
           "Sants-Montjuïc",
           "Sants",
           "3101",
           16558,
           2.25
          ],
          [
           "Sants-Montjuïc",
           "Sants",
           "3102",
           15895,
           2.33
          ],
          [
           "Sants-Montjuïc",
           "Sants",
           "3103",
           16400,
           2.25
          ],
          [
           "Sants-Montjuïc",
           "Sants",
           "3104",
           15703,
           2.32
          ],
          [
           "Sants-Montjuïc",
           "Sants",
           "3105",
           15724,
           2.33
          ],
          [
           "Sants-Montjuïc",
           "Sants",
           "3106",
           16349,
           2.27
          ],
          [
           "Sants-Montjuïc",
           "Sants",
           "3107",
           16925,
           2.41
          ],
          [
           "Sants-Montjuïc",
           "Sants",
           "3108",
           16315,
           2.48
          ],
          [
           "Sants-Montjuïc",
           "Sants",
           "3109",
           17220,
           2.36
          ],
          [
           "Sants-Montjuïc",
           "Sants",
           "3110",
           17987,
           2.27
          ],
          [
           "Sants-Montjuïc",
           "Sants",
           "3111",
           18035,
           2.3
          ],
          [
           "Sants-Montjuïc",
           "Sants",
           "3112",
           19022,
           2.39
          ],
          [
           "Sants-Montjuïc",
           "Sants",
           "3113",
           21563,
           2.33
          ],
          [
           "Sants-Montjuïc",
           "Sants",
           "3114",
           20519,
           2.44
          ],
          [
           "Sants-Montjuïc",
           "la Marina de Port",
           "3211",
           14303,
           2.94
          ],
          [
           "Sants-Montjuïc",
           "la Marina de Port",
           "3212",
           13518,
           2.56
          ],
          [
           "Sants-Montjuïc",
           "la Marina de Port",
           "3213",
           11370,
           2.85
          ],
          [
           "Les Corts",
           "les Corts",
           "4001",
           19560,
           2.46
          ],
          [
           "Les Corts",
           "les Corts",
           "4002",
           21553,
           2.5
          ],
          [
           "Les Corts",
           "les Corts",
           "4003",
           21399,
           2.37
          ],
          [
           "Les Corts",
           "les Corts",
           "4004",
           19655,
           2.32
          ],
          [
           "Les Corts",
           "les Corts",
           "4005",
           19197,
           2.38
          ],
          [
           "Les Corts",
           "les Corts",
           "4006",
           19820,
           2.34
          ],
          [
           "Les Corts",
           "les Corts",
           "4007",
           16869,
           2.35
          ],
          [
           "Les Corts",
           "les Corts",
           "4008",
           17678,
           2.21
          ],
          [
           "Les Corts",
           "les Corts",
           "4009",
           19377,
           2.29
          ],
          [
           "Les Corts",
           "les Corts",
           "4010",
           21245,
           2.48
          ],
          [
           "Les Corts",
           "les Corts",
           "4011",
           23153,
           2.45
          ],
          [
           "Les Corts",
           "les Corts",
           "4012",
           21353,
           2.34
          ],
          [
           "Les Corts",
           "les Corts",
           "4013",
           22913,
           2.4
          ],
          [
           "Les Corts",
           "les Corts",
           "4014",
           24480,
           2.38
          ],
          [
           "Les Corts",
           "les Corts",
           "4015",
           21460,
           2.4
          ],
          [
           "Les Corts",
           "les Corts",
           "4016",
           23031,
           2.4
          ],
          [
           "Les Corts",
           "les Corts",
           "4017",
           21899,
           2.32
          ],
          [
           "Les Corts",
           "les Corts",
           "4018",
           23356,
           2.36
          ],
          [
           "Les Corts",
           "les Corts",
           "4019",
           27099,
           2.61
          ],
          [
           "Les Corts",
           "les Corts",
           "4020",
           22922,
           2.57
          ],
          [
           "Les Corts",
           "les Corts",
           "4021",
           25576,
           2.29
          ],
          [
           "Les Corts",
           "les Corts",
           "4022",
           21986,
           2.18
          ],
          [
           "Les Corts",
           "les Corts",
           "4023",
           32039,
           2.64
          ],
          [
           "Les Corts",
           "les Corts",
           "4024",
           30055,
           2.77
          ],
          [
           "Les Corts",
           "les Corts",
           "4025",
           20994,
           2.32
          ],
          [
           "Les Corts",
           "les Corts",
           "4026",
           22198,
           2.29
          ],
          [
           "Les Corts",
           "les Corts",
           "4027",
           23982,
           2.29
          ],
          [
           "Les Corts",
           "les Corts",
           "4028",
           21620,
           2.23
          ],
          [
           "Les Corts",
           "les Corts",
           "4029",
           24135,
           2.35
          ],
          [
           "Les Corts",
           "les Corts",
           "4030",
           22883,
           2.52
          ],
          [
           "Les Corts",
           "les Corts",
           "4031",
           19907,
           2.35
          ],
          [
           "Les Corts",
           "les Corts",
           "4032",
           18983,
           2.38
          ],
          [
           "Les Corts",
           "les Corts",
           "4033",
           19120,
           2.29
          ],
          [
           "Les Corts",
           "les Corts",
           "4034",
           23629,
           2.51
          ],
          [
           "Les Corts",
           "les Corts",
           "4035",
           22479,
           2.27
          ],
          [
           "Les Corts",
           "la Maternitat i Sant Ramon",
           "4036",
           18061,
           2.45
          ],
          [
           "Les Corts",
           "la Maternitat i Sant Ramon",
           "4037",
           19682,
           2.45
          ],
          [
           "Les Corts",
           "la Maternitat i Sant Ramon",
           "4038",
           19857,
           2.43
          ],
          [
           "Les Corts",
           "la Maternitat i Sant Ramon",
           "4039",
           18164,
           2.31
          ],
          [
           "Les Corts",
           "la Maternitat i Sant Ramon",
           "4040",
           14924,
           2.46
          ],
          [
           "Les Corts",
           "la Maternitat i Sant Ramon",
           "4041",
           16471,
           2.35
          ],
          [
           "Les Corts",
           "la Maternitat i Sant Ramon",
           "4042",
           15808,
           2.32
          ],
          [
           "Les Corts",
           "la Maternitat i Sant Ramon",
           "4043",
           22614,
           2.42
          ],
          [
           "Les Corts",
           "la Maternitat i Sant Ramon",
           "4044",
           17519,
           2.42
          ],
          [
           "Les Corts",
           "la Maternitat i Sant Ramon",
           "4045",
           17251,
           2.45
          ],
          [
           "Les Corts",
           "la Maternitat i Sant Ramon",
           "4046",
           25831,
           2.58
          ],
          [
           "Les Corts",
           "la Maternitat i Sant Ramon",
           "4047",
           20835,
           2.61
          ],
          [
           "Les Corts",
           "la Maternitat i Sant Ramon",
           "4048",
           22687,
           2.46
          ],
          [
           "Les Corts",
           "la Maternitat i Sant Ramon",
           "4049",
           27584,
           2.67
          ],
          [
           "Les Corts",
           "Pedralbes",
           "4050",
           32039,
           2.63
          ],
          [
           "Les Corts",
           "Pedralbes",
           "4051",
           23882,
           2.44
          ],
          [
           "Les Corts",
           "Pedralbes",
           "4052",
           32039,
           2.74
          ],
          [
           "Les Corts",
           "Pedralbes",
           "4053",
           20738,
           2.62
          ],
          [
           "Les Corts",
           "Pedralbes",
           "4054",
           29408,
           2.59
          ],
          [
           "Les Corts",
           "Pedralbes",
           "4055",
           32039,
           2.95
          ],
          [
           "Les Corts",
           "Pedralbes",
           "4056",
           28091,
           2.94
          ],
          [
           "Les Corts",
           "la Maternitat i Sant Ramon",
           "4084",
           23741,
           2.43
          ],
          [
           "Sarrià-Sant Gervasi",
           "Vallvidrera, el Tibidabo i les Planes",
           "5001",
           15609,
           2.84
          ],
          [
           "Sarrià-Sant Gervasi",
           "Vallvidrera, el Tibidabo i les Planes",
           "5002",
           24298,
           2.91
          ],
          [
           "Sarrià-Sant Gervasi",
           "Vallvidrera, el Tibidabo i les Planes",
           "5003",
           25067,
           2.88
          ],
          [
           "Sarrià-Sant Gervasi",
           "Sarrià",
           "5004",
           29020,
           3.28
          ],
          [
           "Sarrià-Sant Gervasi",
           "Sarrià",
           "5005",
           28881,
           3.18
          ],
          [
           "Sarrià-Sant Gervasi",
           "Sarrià",
           "5006",
           32039,
           3.17
          ],
          [
           "Sarrià-Sant Gervasi",
           "Sarrià",
           "5007",
           26450,
           2.83
          ],
          [
           "Sarrià-Sant Gervasi",
           "Sarrià",
           "5008",
           28510,
           2.85
          ],
          [
           "Sarrià-Sant Gervasi",
           "Sarrià",
           "5009",
           24433,
           2.64
          ],
          [
           "Sarrià-Sant Gervasi",
           "Sarrià",
           "5010",
           22590,
           2.63
          ],
          [
           "Sarrià-Sant Gervasi",
           "Sarrià",
           "5011",
           26954,
           2.55
          ],
          [
           "Sarrià-Sant Gervasi",
           "Sarrià",
           "5012",
           22557,
           2.43
          ],
          [
           "Sarrià-Sant Gervasi",
           "Sarrià",
           "5013",
           24361,
           2.5
          ],
          [
           "Sarrià-Sant Gervasi",
           "Sarrià",
           "5014",
           26875,
           2.6
          ],
          [
           "Sarrià-Sant Gervasi",
           "Sarrià",
           "5015",
           24606,
           2.7
          ],
          [
           "Sarrià-Sant Gervasi",
           "Sarrià",
           "5016",
           20831,
           2.58
          ],
          [
           "Sarrià-Sant Gervasi",
           "Sarrià",
           "5017",
           32039,
           2.87
          ],
          [
           "Sarrià-Sant Gervasi",
           "Sarrià",
           "5018",
           24121,
           2.51
          ],
          [
           "Sarrià-Sant Gervasi",
           "Sarrià",
           "5019",
           28882,
           2.85
          ],
          [
           "Sarrià-Sant Gervasi",
           "les Tres Torres",
           "5020",
           28365,
           2.42
          ],
          [
           "Sarrià-Sant Gervasi",
           "les Tres Torres",
           "5021",
           32039,
           2.59
          ],
          [
           "Sarrià-Sant Gervasi",
           "les Tres Torres",
           "5022",
           31459,
           2.79
          ],
          [
           "Sarrià-Sant Gervasi",
           "les Tres Torres",
           "5023",
           21564,
           2.52
          ],
          [
           "Sarrià-Sant Gervasi",
           "les Tres Torres",
           "5024",
           30766,
           2.88
          ],
          [
           "Sarrià-Sant Gervasi",
           "les Tres Torres",
           "5025",
           32039,
           3.08
          ],
          [
           "Sarrià-Sant Gervasi",
           "les Tres Torres",
           "5026",
           32039,
           3.04
          ],
          [
           "Sarrià-Sant Gervasi",
           "les Tres Torres",
           "5027",
           32039,
           3.02
          ],
          [
           "Sarrià-Sant Gervasi",
           "les Tres Torres",
           "5028",
           28626,
           3.03
          ],
          [
           "Sarrià-Sant Gervasi",
           "les Tres Torres",
           "5029",
           31998,
           3.2
          ],
          [
           "Sarrià-Sant Gervasi",
           "les Tres Torres",
           "5030",
           32039,
           3.17
          ],
          [
           "Sarrià-Sant Gervasi",
           "Sant Gervasi- la Bonanova",
           "5031",
           32039,
           3.08
          ],
          [
           "Sarrià-Sant Gervasi",
           "Sant Gervasi- la Bonanova",
           "5032",
           32039,
           2.92
          ],
          [
           "Sarrià-Sant Gervasi",
           "Sant Gervasi- la Bonanova",
           "5033",
           28111,
           2.8
          ],
          [
           "Sarrià-Sant Gervasi",
           "Sant Gervasi- la Bonanova",
           "5034",
           11363,
           2.63
          ],
          [
           "Sarrià-Sant Gervasi",
           "Sant Gervasi- la Bonanova",
           "5035",
           32039,
           2.62
          ],
          [
           "Sarrià-Sant Gervasi",
           "Sant Gervasi- la Bonanova",
           "5036",
           29621,
           2.86
          ],
          [
           "Sarrià-Sant Gervasi",
           "Sant Gervasi- la Bonanova",
           "5037",
           22303,
           2.59
          ],
          [
           "Sarrià-Sant Gervasi",
           "Sant Gervasi- la Bonanova",
           "5038",
           23592,
           2.32
          ],
          [
           "Sarrià-Sant Gervasi",
           "Sant Gervasi- la Bonanova",
           "5039",
           29997,
           2.87
          ],
          [
           "Sarrià-Sant Gervasi",
           "Sant Gervasi- la Bonanova",
           "5040",
           22151,
           2.4
          ],
          [
           "Sarrià-Sant Gervasi",
           "Sant Gervasi- la Bonanova",
           "5041",
           25302,
           2.42
          ],
          [
           "Sarrià-Sant Gervasi",
           "Sant Gervasi- la Bonanova",
           "5042",
           23455,
           2.45
          ],
          [
           "Sarrià-Sant Gervasi",
           "Sant Gervasi- la Bonanova",
           "5043",
           22791,
           2.38
          ],
          [
           "Sarrià-Sant Gervasi",
           "Sant Gervasi- la Bonanova",
           "5044",
           25508,
           2.52
          ],
          [
           "Sarrià-Sant Gervasi",
           "Sant Gervasi- la Bonanova",
           "5045",
           26567,
           2.83
          ],
          [
           "Sarrià-Sant Gervasi",
           "Sant Gervasi- la Bonanova",
           "5046",
           31896,
           2.67
          ],
          [
           "Sarrià-Sant Gervasi",
           "Sant Gervasi- la Bonanova",
           "5047",
           28010,
           2.82
          ],
          [
           "Sarrià-Sant Gervasi",
           "Sant Gervasi- la Bonanova",
           "5048",
           28998,
           2.66
          ],
          [
           "Sarrià-Sant Gervasi",
           "Sant Gervasi- Galvany",
           "5049",
           30910,
           2.89
          ],
          [
           "Sarrià-Sant Gervasi",
           "Sant Gervasi- Galvany",
           "5050",
           25096,
           2.43
          ],
          [
           "Sarrià-Sant Gervasi",
           "Sant Gervasi- Galvany",
           "5051",
           29638,
           2.77
          ],
          [
           "Sarrià-Sant Gervasi",
           "Sant Gervasi- Galvany",
           "5052",
           32039,
           2.95
          ],
          [
           "Sarrià-Sant Gervasi",
           "Sant Gervasi- Galvany",
           "5053",
           32039,
           2.96
          ],
          [
           "Sarrià-Sant Gervasi",
           "Sant Gervasi- Galvany",
           "5054",
           32039,
           2.88
          ],
          [
           "Sarrià-Sant Gervasi",
           "Sant Gervasi- Galvany",
           "5055",
           32039,
           2.89
          ],
          [
           "Sarrià-Sant Gervasi",
           "Sant Gervasi- Galvany",
           "5056",
           28645,
           2.43
          ],
          [
           "Sarrià-Sant Gervasi",
           "Sant Gervasi- Galvany",
           "5057",
           32039,
           2.71
          ],
          [
           "Sarrià-Sant Gervasi",
           "Sant Gervasi- Galvany",
           "5058",
           31425,
           2.62
          ],
          [
           "Sarrià-Sant Gervasi",
           "Sant Gervasi- Galvany",
           "5059",
           27290,
           2.39
          ],
          [
           "Sarrià-Sant Gervasi",
           "Sant Gervasi- Galvany",
           "5060",
           30049,
           2.72
          ],
          [
           "Sarrià-Sant Gervasi",
           "Sant Gervasi- Galvany",
           "5061",
           24283,
           2.11
          ],
          [
           "Sarrià-Sant Gervasi",
           "Sant Gervasi- Galvany",
           "5062",
           27750,
           2.47
          ],
          [
           "Sarrià-Sant Gervasi",
           "Sant Gervasi- Galvany",
           "5063",
           28264,
           2.52
          ],
          [
           "Sarrià-Sant Gervasi",
           "Sant Gervasi- Galvany",
           "5064",
           25613,
           2.3
          ],
          [
           "Sarrià-Sant Gervasi",
           "Sant Gervasi- Galvany",
           "5065",
           23322,
           2.47
          ],
          [
           "Sarrià-Sant Gervasi",
           "Sant Gervasi- Galvany",
           "5066",
           27942,
           2.49
          ],
          [
           "Sarrià-Sant Gervasi",
           "Sant Gervasi- Galvany",
           "5067",
           27237,
           2.44
          ],
          [
           "Sarrià-Sant Gervasi",
           "Sant Gervasi- Galvany",
           "5068",
           25340,
           2.26
          ],
          [
           "Sarrià-Sant Gervasi",
           "Sant Gervasi- Galvany",
           "5069",
           23900,
           2.49
          ],
          [
           "Sarrià-Sant Gervasi",
           "Sant Gervasi- Galvany",
           "5070",
           24230,
           2.45
          ],
          [
           "Sarrià-Sant Gervasi",
           "Sant Gervasi- Galvany",
           "5071",
           22919,
           2.35
          ],
          [
           "Sarrià-Sant Gervasi",
           "Sant Gervasi- Galvany",
           "5072",
           26494,
           2.46
          ],
          [
           "Sarrià-Sant Gervasi",
           "Sant Gervasi- Galvany",
           "5073",
           23972,
           2.31
          ],
          [
           "Sarrià-Sant Gervasi",
           "Sant Gervasi- Galvany",
           "5074",
           26419,
           2.48
          ],
          [
           "Sarrià-Sant Gervasi",
           "Sant Gervasi- Galvany",
           "5075",
           22459,
           2.35
          ],
          [
           "Sarrià-Sant Gervasi",
           "Sant Gervasi- Galvany",
           "5076",
           25714,
           2.42
          ],
          [
           "Sarrià-Sant Gervasi",
           "Sant Gervasi- Galvany",
           "5077",
           26513,
           2.76
          ],
          [
           "Sarrià-Sant Gervasi",
           "Sant Gervasi- Galvany",
           "5078",
           25536,
           2.76
          ],
          [
           "Sarrià-Sant Gervasi",
           "Sant Gervasi- Galvany",
           "5079",
           24694,
           2.69
          ],
          [
           "Sarrià-Sant Gervasi",
           "el Putxet i el Farró",
           "5080",
           22807,
           2.32
          ],
          [
           "Sarrià-Sant Gervasi",
           "el Putxet i el Farró",
           "5081",
           22614,
           2.43
          ],
          [
           "Sarrià-Sant Gervasi",
           "el Putxet i el Farró",
           "5082",
           21454,
           2.34
          ],
          [
           "Sarrià-Sant Gervasi",
           "el Putxet i el Farró",
           "5083",
           21253,
           2.34
          ],
          [
           "Sarrià-Sant Gervasi",
           "el Putxet i el Farró",
           "5084",
           20950,
           2.4
          ],
          [
           "Sarrià-Sant Gervasi",
           "el Putxet i el Farró",
           "5085",
           20052,
           2.36
          ],
          [
           "Sarrià-Sant Gervasi",
           "el Putxet i el Farró",
           "5086",
           21320,
           2.31
          ],
          [
           "Sarrià-Sant Gervasi",
           "el Putxet i el Farró",
           "5087",
           23403,
           2.35
          ],
          [
           "Sarrià-Sant Gervasi",
           "el Putxet i el Farró",
           "5088",
           23219,
           2.56
          ],
          [
           "Sarrià-Sant Gervasi",
           "el Putxet i el Farró",
           "5089",
           23237,
           2.53
          ],
          [
           "Sarrià-Sant Gervasi",
           "el Putxet i el Farró",
           "5090",
           21497,
           2.33
          ],
          [
           "Sarrià-Sant Gervasi",
           "el Putxet i el Farró",
           "5091",
           22069,
           2.44
          ],
          [
           "Sarrià-Sant Gervasi",
           "el Putxet i el Farró",
           "5092",
           29232,
           2.72
          ],
          [
           "Sarrià-Sant Gervasi",
           "el Putxet i el Farró",
           "5093",
           25458,
           2.33
          ],
          [
           "Sarrià-Sant Gervasi",
           "el Putxet i el Farró",
           "5094",
           26953,
           2.61
          ],
          [
           "Sarrià-Sant Gervasi",
           "el Putxet i el Farró",
           "5095",
           19762,
           2.45
          ],
          [
           "Sarrià-Sant Gervasi",
           "el Putxet i el Farró",
           "5096",
           19615,
           2.33
          ],
          [
           "Sarrià-Sant Gervasi",
           "el Putxet i el Farró",
           "5097",
           23283,
           2.51
          ],
          [
           "Sarrià-Sant Gervasi",
           "el Putxet i el Farró",
           "5098",
           20828,
           2.39
          ],
          [
           "Gràcia",
           "Vallcarca i els Penitents",
           "6001",
           16744,
           2.43
          ],
          [
           "Gràcia",
           "Vallcarca i els Penitents",
           "6002",
           18046,
           2.26
          ],
          [
           "Gràcia",
           "Vallcarca i els Penitents",
           "6003",
           17007,
           2.39
          ],
          [
           "Gràcia",
           "Vallcarca i els Penitents",
           "6004",
           18961,
           2.34
          ],
          [
           "Gràcia",
           "Vallcarca i els Penitents",
           "6006",
           24534,
           2.51
          ],
          [
           "Gràcia",
           "Vallcarca i els Penitents",
           "6007",
           19814,
           2.44
          ],
          [
           "Gràcia",
           "Vallcarca i els Penitents",
           "6008",
           19288,
           2.37
          ],
          [
           "Gràcia",
           "Vallcarca i els Penitents",
           "6009",
           24101,
           2.61
          ],
          [
           "Gràcia",
           "Vallcarca i els Penitents",
           "6010",
           21130,
           2.56
          ],
          [
           "Gràcia",
           "Vallcarca i els Penitents",
           "6011",
           20529,
           2.52
          ],
          [
           "Gràcia",
           "Vallcarca i els Penitents",
           "6012",
           23459,
           2.57
          ],
          [
           "Gràcia",
           "el Coll",
           "6013",
           17306,
           2.42
          ],
          [
           "Gràcia",
           "el Coll",
           "6014",
           16861,
           2.52
          ],
          [
           "Gràcia",
           "el Coll",
           "6015",
           15364,
           2.36
          ],
          [
           "Gràcia",
           "el Coll",
           "6016",
           14819,
           2.41
          ],
          [
           "Gràcia",
           "el Coll",
           "6017",
           15734,
           2.4
          ],
          [
           "Gràcia",
           "la Salut",
           "6018",
           17816,
           2.34
          ],
          [
           "Gràcia",
           "la Salut",
           "6019",
           18217,
           2.38
          ],
          [
           "Gràcia",
           "la Salut",
           "6020",
           18867,
           2.25
          ],
          [
           "Gràcia",
           "la Salut",
           "6021",
           20212,
           2.49
          ],
          [
           "Gràcia",
           "la Salut",
           "6022",
           18754,
           2.42
          ],
          [
           "Gràcia",
           "la Salut",
           "6023",
           24168,
           2.58
          ],
          [
           "Gràcia",
           "la Salut",
           "6024",
           19352,
           2.41
          ],
          [
           "Gràcia",
           "la Salut",
           "6025",
           20472,
           2.38
          ],
          [
           "Gràcia",
           "la Salut",
           "6026",
           19276,
           2.22
          ],
          [
           "Gràcia",
           "la Salut",
           "6027",
           20478,
           2.41
          ],
          [
           "Gràcia",
           "la Vila de Gràcia",
           "6028",
           17324,
           2.32
          ],
          [
           "Gràcia",
           "la Vila de Gràcia",
           "6029",
           19759,
           2.18
          ],
          [
           "Gràcia",
           "la Vila de Gràcia",
           "6030",
           17593,
           2.22
          ],
          [
           "Gràcia",
           "la Vila de Gràcia",
           "6031",
           19342,
           2.08
          ],
          [
           "Gràcia",
           "la Vila de Gràcia",
           "6032",
           17669,
           2.34
          ],
          [
           "Gràcia",
           "la Vila de Gràcia",
           "6033",
           18613,
           2.12
          ],
          [
           "Gràcia",
           "la Vila de Gràcia",
           "6034",
           17646,
           2.24
          ],
          [
           "Gràcia",
           "la Vila de Gràcia",
           "6035",
           21464,
           2.39
          ],
          [
           "Gràcia",
           "la Vila de Gràcia",
           "6036",
           19797,
           2.34
          ],
          [
           "Gràcia",
           "la Vila de Gràcia",
           "6037",
           19395,
           2.46
          ],
          [
           "Gràcia",
           "la Vila de Gràcia",
           "6038",
           18425,
           2.23
          ],
          [
           "Gràcia",
           "la Vila de Gràcia",
           "6039",
           17396,
           2.11
          ],
          [
           "Gràcia",
           "la Vila de Gràcia",
           "6040",
           20084,
           2.4
          ],
          [
           "Gràcia",
           "la Vila de Gràcia",
           "6041",
           20306,
           2.35
          ],
          [
           "Gràcia",
           "la Vila de Gràcia",
           "6042",
           21965,
           2.26
          ],
          [
           "Gràcia",
           "la Vila de Gràcia",
           "6043",
           19377,
           2.25
          ],
          [
           "Gràcia",
           "la Vila de Gràcia",
           "6044",
           23333,
           2.26
          ],
          [
           "Gràcia",
           "la Vila de Gràcia",
           "6045",
           19421,
           2.14
          ],
          [
           "Gràcia",
           "la Vila de Gràcia",
           "6046",
           18867,
           2.25
          ],
          [
           "Gràcia",
           "la Vila de Gràcia",
           "6047",
           16688,
           2.03
          ],
          [
           "Gràcia",
           "la Vila de Gràcia",
           "6048",
           17686,
           2.21
          ],
          [
           "Gràcia",
           "la Vila de Gràcia",
           "6049",
           18821,
           2.29
          ],
          [
           "Gràcia",
           "la Vila de Gràcia",
           "6050",
           16394,
           2.19
          ],
          [
           "Gràcia",
           "la Vila de Gràcia",
           "6051",
           19246,
           2.22
          ],
          [
           "Gràcia",
           "la Vila de Gràcia",
           "6052",
           17901,
           2.17
          ],
          [
           "Gràcia",
           "la Vila de Gràcia",
           "6053",
           17941,
           2.24
          ],
          [
           "Gràcia",
           "la Vila de Gràcia",
           "6054",
           16566,
           2.2
          ],
          [
           "Gràcia",
           "la Vila de Gràcia",
           "6055",
           17975,
           2.26
          ],
          [
           "Gràcia",
           "la Vila de Gràcia",
           "6056",
           17411,
           2.06
          ],
          [
           "Gràcia",
           "la Vila de Gràcia",
           "6057",
           16791,
           2.02
          ],
          [
           "Gràcia",
           "la Vila de Gràcia",
           "6058",
           19116,
           2.09
          ],
          [
           "Gràcia",
           "la Vila de Gràcia",
           "6059",
           18461,
           2.06
          ],
          [
           "Gràcia",
           "la Vila de Gràcia",
           "6060",
           17350,
           2.26
          ],
          [
           "Gràcia",
           "la Vila de Gràcia",
           "6061",
           17818,
           2.22
          ],
          [
           "Gràcia",
           "la Vila de Gràcia",
           "6062",
           16421,
           2.24
          ],
          [
           "Gràcia",
           "la Vila de Gràcia",
           "6063",
           17066,
           2.16
          ],
          [
           "Gràcia",
           "el Camp d'en Grassot i Gràcia Nova",
           "6064",
           19579,
           2.35
          ],
          [
           "Gràcia",
           "el Camp d'en Grassot i Gràcia Nova",
           "6065",
           21031,
           2.38
          ],
          [
           "Gràcia",
           "el Camp d'en Grassot i Gràcia Nova",
           "6066",
           17346,
           2.17
          ],
          [
           "Gràcia",
           "el Camp d'en Grassot i Gràcia Nova",
           "6067",
           19065,
           2.17
          ],
          [
           "Gràcia",
           "el Camp d'en Grassot i Gràcia Nova",
           "6068",
           21024,
           2.3
          ],
          [
           "Gràcia",
           "el Camp d'en Grassot i Gràcia Nova",
           "6069",
           19712,
           2.3
          ],
          [
           "Gràcia",
           "el Camp d'en Grassot i Gràcia Nova",
           "6070",
           17973,
           2.25
          ],
          [
           "Gràcia",
           "el Camp d'en Grassot i Gràcia Nova",
           "6071",
           19609,
           2.47
          ],
          [
           "Gràcia",
           "el Camp d'en Grassot i Gràcia Nova",
           "6072",
           20424,
           2.32
          ],
          [
           "Gràcia",
           "el Camp d'en Grassot i Gràcia Nova",
           "6073",
           18795,
           2.3
          ],
          [
           "Gràcia",
           "el Camp d'en Grassot i Gràcia Nova",
           "6074",
           18192,
           2.47
          ],
          [
           "Gràcia",
           "el Camp d'en Grassot i Gràcia Nova",
           "6075",
           21193,
           2.51
          ],
          [
           "Gràcia",
           "el Camp d'en Grassot i Gràcia Nova",
           "6076",
           19652,
           2.41
          ],
          [
           "Gràcia",
           "el Camp d'en Grassot i Gràcia Nova",
           "6077",
           16947,
           2.29
          ],
          [
           "Gràcia",
           "el Camp d'en Grassot i Gràcia Nova",
           "6078",
           17585,
           2.2
          ],
          [
           "Gràcia",
           "el Camp d'en Grassot i Gràcia Nova",
           "6079",
           19397,
           2.19
          ],
          [
           "Gràcia",
           "el Camp d'en Grassot i Gràcia Nova",
           "6080",
           18582,
           2.31
          ],
          [
           "Gràcia",
           "el Camp d'en Grassot i Gràcia Nova",
           "6081",
           18257,
           2.25
          ],
          [
           "Gràcia",
           "el Camp d'en Grassot i Gràcia Nova",
           "6082",
           19173,
           2.39
          ],
          [
           "Gràcia",
           "el Camp d'en Grassot i Gràcia Nova",
           "6083",
           20791,
           2.33
          ],
          [
           "Gràcia",
           "el Camp d'en Grassot i Gràcia Nova",
           "6084",
           18391,
           2.24
          ],
          [
           "Gràcia",
           "el Camp d'en Grassot i Gràcia Nova",
           "6085",
           19828,
           2.32
          ],
          [
           "Gràcia",
           "el Camp d'en Grassot i Gràcia Nova",
           "6086",
           22988,
           2.37
          ],
          [
           "Gràcia",
           "el Camp d'en Grassot i Gràcia Nova",
           "6087",
           21830,
           2.34
          ],
          [
           "Gràcia",
           "el Camp d'en Grassot i Gràcia Nova",
           "6088",
           19455,
           2.38
          ],
          [
           "Horta-Guinardó",
           "el Baix Guinardó",
           "7001",
           19208,
           2.38
          ],
          [
           "Horta-Guinardó",
           "el Baix Guinardó",
           "7002",
           16633,
           2.01
          ],
          [
           "Horta-Guinardó",
           "el Baix Guinardó",
           "7003",
           17451,
           2.47
          ],
          [
           "Horta-Guinardó",
           "el Baix Guinardó",
           "7004",
           16429,
           2.36
          ],
          [
           "Horta-Guinardó",
           "el Baix Guinardó",
           "7005",
           16394,
           2.2
          ],
          [
           "Horta-Guinardó",
           "el Baix Guinardó",
           "7006",
           18604,
           2.37
          ],
          [
           "Horta-Guinardó",
           "el Baix Guinardó",
           "7007",
           16434,
           2.38
          ],
          [
           "Horta-Guinardó",
           "el Baix Guinardó",
           "7008",
           18031,
           2.58
          ],
          [
           "Horta-Guinardó",
           "el Baix Guinardó",
           "7009",
           16108,
           2.26
          ],
          [
           "Horta-Guinardó",
           "el Baix Guinardó",
           "7010",
           17481,
           2.51
          ],
          [
           "Horta-Guinardó",
           "el Baix Guinardó",
           "7011",
           16741,
           2.18
          ],
          [
           "Horta-Guinardó",
           "el Baix Guinardó",
           "7012",
           15818,
           2.29
          ],
          [
           "Horta-Guinardó",
           "el Baix Guinardó",
           "7013",
           19440,
           2.45
          ],
          [
           "Horta-Guinardó",
           "el Baix Guinardó",
           "7014",
           14800,
           2.22
          ],
          [
           "Horta-Guinardó",
           "el Baix Guinardó",
           "7015",
           16744,
           2.53
          ],
          [
           "Horta-Guinardó",
           "el Baix Guinardó",
           "7016",
           18381,
           2.6
          ],
          [
           "Horta-Guinardó",
           "el Baix Guinardó",
           "7017",
           16861,
           2.36
          ],
          [
           "Horta-Guinardó",
           "el Baix Guinardó",
           "7018",
           16242,
           2.54
          ],
          [
           "Horta-Guinardó",
           "el Baix Guinardó",
           "7019",
           16938,
           2.44
          ],
          [
           "Horta-Guinardó",
           "Can Baró",
           "7020",
           16536,
           2.43
          ],
          [
           "Horta-Guinardó",
           "Can Baró",
           "7021",
           18322,
           2.5
          ],
          [
           "Horta-Guinardó",
           "Can Baró",
           "7022",
           15317,
           2.51
          ],
          [
           "Horta-Guinardó",
           "Can Baró",
           "7023",
           13840,
           2.35
          ],
          [
           "Horta-Guinardó",
           "Can Baró",
           "7024",
           16576,
           2.25
          ],
          [
           "Horta-Guinardó",
           "Can Baró",
           "7025",
           15155,
           2.41
          ],
          [
           "Horta-Guinardó",
           "Can Baró",
           "7026",
           15971,
           2.32
          ],
          [
           "Horta-Guinardó",
           "el Guinardó",
           "7027",
           14938,
           2.62
          ],
          [
           "Horta-Guinardó",
           "el Guinardó",
           "7028",
           15635,
           2.43
          ],
          [
           "Horta-Guinardó",
           "el Guinardó",
           "7029",
           17566,
           2.36
          ],
          [
           "Horta-Guinardó",
           "el Guinardó",
           "7030",
           14408,
           2.38
          ],
          [
           "Horta-Guinardó",
           "el Guinardó",
           "7031",
           14553,
           2.49
          ],
          [
           "Horta-Guinardó",
           "el Guinardó",
           "7032",
           16522,
           2.43
          ],
          [
           "Horta-Guinardó",
           "el Guinardó",
           "7033",
           17178,
           2.5
          ],
          [
           "Horta-Guinardó",
           "el Guinardó",
           "7034",
           18246,
           2.49
          ],
          [
           "Horta-Guinardó",
           "el Guinardó",
           "7035",
           18748,
           2.5
          ],
          [
           "Horta-Guinardó",
           "el Guinardó",
           "7036",
           19037,
           2.34
          ],
          [
           "Horta-Guinardó",
           "el Guinardó",
           "7037",
           16625,
           2.43
          ],
          [
           "Horta-Guinardó",
           "el Guinardó",
           "7038",
           16592,
           2.35
          ],
          [
           "Horta-Guinardó",
           "el Guinardó",
           "7039",
           17108,
           2.42
          ],
          [
           "Horta-Guinardó",
           "el Guinardó",
           "7040",
           17070,
           2.21
          ],
          [
           "Horta-Guinardó",
           "el Guinardó",
           "7041",
           15601,
           2.29
          ],
          [
           "Horta-Guinardó",
           "el Guinardó",
           "7042",
           17249,
           2.24
          ],
          [
           "Horta-Guinardó",
           "el Guinardó",
           "7043",
           16664,
           2.38
          ],
          [
           "Horta-Guinardó",
           "el Guinardó",
           "7044",
           17946,
           2.41
          ],
          [
           "Horta-Guinardó",
           "el Guinardó",
           "7045",
           15824,
           2.4
          ],
          [
           "Horta-Guinardó",
           "el Guinardó",
           "7046",
           15587,
           2.33
          ],
          [
           "Horta-Guinardó",
           "el Guinardó",
           "7047",
           16158,
           2.42
          ],
          [
           "Horta-Guinardó",
           "el Guinardó",
           "7048",
           16896,
           2.37
          ],
          [
           "Horta-Guinardó",
           "el Guinardó",
           "7049",
           16494,
           2.36
          ],
          [
           "Horta-Guinardó",
           "el Guinardó",
           "7050",
           15464,
           2.39
          ],
          [
           "Horta-Guinardó",
           "el Guinardó",
           "7051",
           15631,
           2.45
          ],
          [
           "Horta-Guinardó",
           "la Font d'en Fargues",
           "7052",
           19908,
           2.53
          ],
          [
           "Horta-Guinardó",
           "la Font d'en Fargues",
           "7053",
           18014,
           2.46
          ],
          [
           "Horta-Guinardó",
           "la Font d'en Fargues",
           "7054",
           22473,
           2.56
          ],
          [
           "Horta-Guinardó",
           "la Font d'en Fargues",
           "7055",
           22552,
           2.58
          ],
          [
           "Horta-Guinardó",
           "la Font d'en Fargues",
           "7056",
           18031,
           2.48
          ],
          [
           "Horta-Guinardó",
           "la Font d'en Fargues",
           "7057",
           18559,
           2.52
          ],
          [
           "Horta-Guinardó",
           "la Font d'en Fargues",
           "7058",
           17727,
           2.41
          ],
          [
           "Horta-Guinardó",
           "el Carmel",
           "7059",
           13195,
           2.4
          ],
          [
           "Horta-Guinardó",
           "el Carmel",
           "7060",
           12739,
           2.39
          ],
          [
           "Horta-Guinardó",
           "el Carmel",
           "7061",
           13428,
           2.52
          ],
          [
           "Horta-Guinardó",
           "el Carmel",
           "7062",
           13312,
           2.49
          ],
          [
           "Horta-Guinardó",
           "el Carmel",
           "7063",
           11462,
           2.54
          ],
          [
           "Horta-Guinardó",
           "el Carmel",
           "7064",
           11937,
           2.57
          ],
          [
           "Horta-Guinardó",
           "el Carmel",
           "7065",
           10979,
           2.53
          ],
          [
           "Horta-Guinardó",
           "el Carmel",
           "7066",
           11682,
           2.54
          ],
          [
           "Horta-Guinardó",
           "el Carmel",
           "7067",
           11574,
           2.48
          ],
          [
           "Horta-Guinardó",
           "el Carmel",
           "7068",
           11194,
           2.71
          ],
          [
           "Horta-Guinardó",
           "el Carmel",
           "7069",
           11844,
           2.5
          ],
          [
           "Horta-Guinardó",
           "el Carmel",
           "7070",
           11813,
           2.62
          ],
          [
           "Horta-Guinardó",
           "el Carmel",
           "7071",
           14311,
           2.53
          ],
          [
           "Horta-Guinardó",
           "el Carmel",
           "7072",
           13445,
           2.54
          ],
          [
           "Horta-Guinardó",
           "el Carmel",
           "7073",
           12227,
           2.39
          ],
          [
           "Horta-Guinardó",
           "el Carmel",
           "7074",
           12874,
           2.47
          ],
          [
           "Horta-Guinardó",
           "el Carmel",
           "7075",
           12171,
           2.61
          ],
          [
           "Horta-Guinardó",
           "el Carmel",
           "7076",
           12372,
           2.54
          ],
          [
           "Horta-Guinardó",
           "el Carmel",
           "7077",
           12425,
           2.53
          ],
          [
           "Horta-Guinardó",
           "el Carmel",
           "7078",
           11999,
           2.51
          ],
          [
           "Horta-Guinardó",
           "el Carmel",
           "7079",
           12393,
           2.48
          ],
          [
           "Horta-Guinardó",
           "el Carmel",
           "7080",
           13184,
           2.62
          ],
          [
           "Horta-Guinardó",
           "la Teixonera",
           "7081",
           14233,
           2.52
          ],
          [
           "Horta-Guinardó",
           "la Teixonera",
           "7082",
           13129,
           2.41
          ],
          [
           "Horta-Guinardó",
           "la Teixonera",
           "7083",
           13044,
           2.39
          ],
          [
           "Horta-Guinardó",
           "la Teixonera",
           "7084",
           13343,
           2.42
          ],
          [
           "Horta-Guinardó",
           "la Teixonera",
           "7085",
           13598,
           2.5
          ],
          [
           "Horta-Guinardó",
           "la Teixonera",
           "7086",
           13087,
           2.44
          ],
          [
           "Horta-Guinardó",
           "la Teixonera",
           "7087",
           13899,
           2.35
          ],
          [
           "Horta-Guinardó",
           "la Teixonera",
           "7088",
           13561,
           2.57
          ],
          [
           "Horta-Guinardó",
           "Sant Genís dels Agudells",
           "7089",
           16489,
           2.43
          ],
          [
           "Horta-Guinardó",
           "Sant Genís dels Agudells",
           "7090",
           14200,
           2.65
          ],
          [
           "Horta-Guinardó",
           "Sant Genís dels Agudells",
           "7091",
           14228,
           2.39
          ],
          [
           "Horta-Guinardó",
           "Sant Genís dels Agudells",
           "7092",
           11962,
           2.44
          ],
          [
           "Horta-Guinardó",
           "Sant Genís dels Agudells",
           "7093",
           14348,
           2.41
          ],
          [
           "Horta-Guinardó",
           "Montbau",
           "7094",
           15406,
           2.41
          ],
          [
           "Horta-Guinardó",
           "Montbau",
           "7095",
           15847,
           2.38
          ],
          [
           "Horta-Guinardó",
           "Montbau",
           "7096",
           14643,
           2.33
          ],
          [
           "Horta-Guinardó",
           "Montbau",
           "7097",
           17325,
           2.36
          ],
          [
           "Horta-Guinardó",
           "la Vall d'Hebron",
           "7098",
           19254,
           2.56
          ],
          [
           "Horta-Guinardó",
           "la Vall d'Hebron",
           "7099",
           18827,
           2.41
          ],
          [
           "Horta-Guinardó",
           "la Vall d'Hebron",
           "7100",
           16795,
           2.32
          ],
          [
           "Horta-Guinardó",
           "la Vall d'Hebron",
           "7101",
           16524,
           2.37
          ],
          [
           "Horta-Guinardó",
           "la Clota",
           "7102",
           15605,
           2.45
          ],
          [
           "Horta-Guinardó",
           "Horta",
           "7103",
           14592,
           2.52
          ],
          [
           "Horta-Guinardó",
           "Horta",
           "7104",
           14097,
           2.36
          ],
          [
           "Horta-Guinardó",
           "Horta",
           "7105",
           17329,
           2.36
          ],
          [
           "Horta-Guinardó",
           "Horta",
           "7106",
           16279,
           2.5
          ],
          [
           "Horta-Guinardó",
           "Horta",
           "7107",
           18725,
           2.51
          ],
          [
           "Horta-Guinardó",
           "Horta",
           "7108",
           16483,
           2.49
          ],
          [
           "Horta-Guinardó",
           "Horta",
           "7109",
           13882,
           2.26
          ],
          [
           "Horta-Guinardó",
           "Horta",
           "7110",
           17117,
           2.54
          ],
          [
           "Horta-Guinardó",
           "Horta",
           "7111",
           19268,
           2.37
          ],
          [
           "Horta-Guinardó",
           "Horta",
           "7112",
           16977,
           2.55
          ],
          [
           "Horta-Guinardó",
           "Horta",
           "7113",
           15161,
           2.43
          ],
          [
           "Horta-Guinardó",
           "Horta",
           "7114",
           18151,
           2.4
          ],
          [
           "Horta-Guinardó",
           "Horta",
           "7115",
           19383,
           2.37
          ],
          [
           "Horta-Guinardó",
           "Horta",
           "7116",
           16443,
           2.46
          ],
          [
           "Horta-Guinardó",
           "Horta",
           "7117",
           16944,
           2.4
          ],
          [
           "Horta-Guinardó",
           "Horta",
           "7118",
           16462,
           2.46
          ],
          [
           "Horta-Guinardó",
           "Horta",
           "7119",
           14319,
           2.5
          ],
          [
           "Horta-Guinardó",
           "Horta",
           "7120",
           14915,
           2.47
          ],
          [
           "Horta-Guinardó",
           "Horta",
           "7121",
           14003,
           2.43
          ],
          [
           "Horta-Guinardó",
           "Horta",
           "7122",
           15397,
           2.38
          ],
          [
           "Horta-Guinardó",
           "Horta",
           "7123",
           17253,
           2.41
          ],
          [
           "Nou Barris",
           "Vilapicina i la Torre Llobeta",
           "8001",
           15386,
           2.35
          ],
          [
           "Nou Barris",
           "Vilapicina i la Torre Llobeta",
           "8002",
           16809,
           2.34
          ],
          [
           "Nou Barris",
           "Vilapicina i la Torre Llobeta",
           "8003",
           15308,
           2.4
          ],
          [
           "Nou Barris",
           "Vilapicina i la Torre Llobeta",
           "8004",
           14070,
           2.48
          ],
          [
           "Nou Barris",
           "Vilapicina i la Torre Llobeta",
           "8005",
           15919,
           2.39
          ],
          [
           "Nou Barris",
           "Vilapicina i la Torre Llobeta",
           "8006",
           15265,
           2.55
          ],
          [
           "Nou Barris",
           "Vilapicina i la Torre Llobeta",
           "8007",
           16418,
           2.51
          ],
          [
           "Nou Barris",
           "Vilapicina i la Torre Llobeta",
           "8008",
           15842,
           2.45
          ],
          [
           "Nou Barris",
           "Vilapicina i la Torre Llobeta",
           "8009",
           14604,
           2.52
          ],
          [
           "Nou Barris",
           "Vilapicina i la Torre Llobeta",
           "8010",
           17266,
           2.45
          ],
          [
           "Nou Barris",
           "Vilapicina i la Torre Llobeta",
           "8011",
           16946,
           2.58
          ],
          [
           "Nou Barris",
           "Vilapicina i la Torre Llobeta",
           "8012",
           15876,
           2.34
          ],
          [
           "Nou Barris",
           "Vilapicina i la Torre Llobeta",
           "8013",
           15114,
           2.38
          ],
          [
           "Nou Barris",
           "Vilapicina i la Torre Llobeta",
           "8014",
           15113,
           2.52
          ],
          [
           "Nou Barris",
           "Vilapicina i la Torre Llobeta",
           "8015",
           13679,
           2.45
          ],
          [
           "Nou Barris",
           "Vilapicina i la Torre Llobeta",
           "8016",
           14632,
           2.4
          ],
          [
           "Nou Barris",
           "Vilapicina i la Torre Llobeta",
           "8017",
           16752,
           2.42
          ],
          [
           "Nou Barris",
           "Vilapicina i la Torre Llobeta",
           "8018",
           15734,
           2.44
          ],
          [
           "Nou Barris",
           "Vilapicina i la Torre Llobeta",
           "8019",
           14003,
           2.53
          ],
          [
           "Nou Barris",
           "Porta",
           "8020",
           14694,
           2.38
          ],
          [
           "Nou Barris",
           "Porta",
           "8021",
           15295,
           2.43
          ],
          [
           "Nou Barris",
           "Porta",
           "8022",
           15180,
           2.58
          ],
          [
           "Nou Barris",
           "Porta",
           "8023",
           13684,
           2.42
          ],
          [
           "Nou Barris",
           "Porta",
           "8024",
           12015,
           2.36
          ],
          [
           "Nou Barris",
           "Porta",
           "8025",
           13163,
           2.37
          ],
          [
           "Nou Barris",
           "Porta",
           "8026",
           15064,
           2.5
          ],
          [
           "Nou Barris",
           "Porta",
           "8027",
           16107,
           2.37
          ],
          [
           "Nou Barris",
           "Porta",
           "8028",
           14007,
           2.4
          ],
          [
           "Nou Barris",
           "Porta",
           "8029",
           12429,
           2.31
          ],
          [
           "Nou Barris",
           "Porta",
           "8030",
           13479,
           2.61
          ],
          [
           "Nou Barris",
           "Porta",
           "8031",
           14613,
           2.43
          ],
          [
           "Nou Barris",
           "Porta",
           "8032",
           14389,
           2.52
          ],
          [
           "Nou Barris",
           "Porta",
           "8033",
           10184,
           2.5
          ],
          [
           "Nou Barris",
           "Porta",
           "8034",
           11637,
           2.4
          ],
          [
           "Nou Barris",
           "Porta",
           "8035",
           14199,
           2.13
          ],
          [
           "Nou Barris",
           "Porta",
           "8036",
           11491,
           2.46
          ],
          [
           "Nou Barris",
           "Porta",
           "8037",
           13194,
           2.45
          ],
          [
           "Nou Barris",
           "el Turó de la Peira",
           "8038",
           12044,
           2.56
          ],
          [
           "Nou Barris",
           "el Turó de la Peira",
           "8039",
           12919,
           2.42
          ],
          [
           "Nou Barris",
           "el Turó de la Peira",
           "8040",
           11011,
           2.51
          ],
          [
           "Nou Barris",
           "el Turó de la Peira",
           "8041",
           9086,
           2.97
          ],
          [
           "Nou Barris",
           "el Turó de la Peira",
           "8042",
           14914,
           2.43
          ],
          [
           "Nou Barris",
           "el Turó de la Peira",
           "8043",
           13414,
           2.29
          ],
          [
           "Nou Barris",
           "el Turó de la Peira",
           "8044",
           11169,
           2.48
          ],
          [
           "Nou Barris",
           "el Turó de la Peira",
           "8045",
           11120,
           2.69
          ],
          [
           "Nou Barris",
           "el Turó de la Peira",
           "8046",
           12117,
           2.32
          ],
          [
           "Nou Barris",
           "el Turó de la Peira",
           "8047",
           10145,
           2.7
          ],
          [
           "Nou Barris",
           "Can Peguera",
           "8048",
           9577,
           2.4
          ],
          [
           "Nou Barris",
           "Can Peguera",
           "8049",
           12127,
           2.3
          ],
          [
           "Nou Barris",
           "la Guineueta",
           "8050",
           16905,
           2.48
          ],
          [
           "Nou Barris",
           "la Guineueta",
           "8051",
           16226,
           2.6
          ],
          [
           "Nou Barris",
           "la Guineueta",
           "8052",
           14816,
           2.4
          ],
          [
           "Nou Barris",
           "la Guineueta",
           "8053",
           16179,
           2.47
          ],
          [
           "Nou Barris",
           "la Guineueta",
           "8054",
           15399,
           2.3
          ],
          [
           "Nou Barris",
           "la Guineueta",
           "8055",
           18999,
           2.48
          ],
          [
           "Nou Barris",
           "la Guineueta",
           "8056",
           13830,
           2.36
          ],
          [
           "Nou Barris",
           "la Guineueta",
           "8057",
           14088,
           2.47
          ],
          [
           "Nou Barris",
           "la Guineueta",
           "8058",
           13170,
           2.39
          ],
          [
           "Nou Barris",
           "la Guineueta",
           "8059",
           14544,
           2.37
          ],
          [
           "Nou Barris",
           "Canyelles",
           "8060",
           15352,
           2.36
          ],
          [
           "Nou Barris",
           "Canyelles",
           "8061",
           13675,
           2.36
          ],
          [
           "Nou Barris",
           "Canyelles",
           "8062",
           15154,
           2.47
          ],
          [
           "Nou Barris",
           "Canyelles",
           "8063",
           17439,
           2.36
          ],
          [
           "Nou Barris",
           "Canyelles",
           "8064",
           13092,
           2.55
          ],
          [
           "Nou Barris",
           "les Roquetes",
           "8065",
           10161,
           2.91
          ],
          [
           "Nou Barris",
           "les Roquetes",
           "8066",
           9500,
           2.81
          ],
          [
           "Nou Barris",
           "les Roquetes",
           "8067",
           11556,
           2.74
          ],
          [
           "Nou Barris",
           "les Roquetes",
           "8068",
           10217,
           2.92
          ],
          [
           "Nou Barris",
           "les Roquetes",
           "8069",
           10670,
           2.77
          ],
          [
           "Nou Barris",
           "les Roquetes",
           "8070",
           10383,
           2.69
          ],
          [
           "Nou Barris",
           "les Roquetes",
           "8071",
           11106,
           2.72
          ],
          [
           "Nou Barris",
           "les Roquetes",
           "8072",
           12439,
           2.67
          ],
          [
           "Nou Barris",
           "les Roquetes",
           "8073",
           10246,
           2.42
          ],
          [
           "Nou Barris",
           "les Roquetes",
           "8074",
           10309,
           2.67
          ],
          [
           "Nou Barris",
           "Verdun",
           "8075",
           12291,
           2.48
          ],
          [
           "Nou Barris",
           "Verdun",
           "8076",
           12561,
           2.37
          ],
          [
           "Nou Barris",
           "Verdun",
           "8077",
           10397,
           2.54
          ],
          [
           "Nou Barris",
           "Verdun",
           "8078",
           11079,
           2.31
          ],
          [
           "Nou Barris",
           "Verdun",
           "8079",
           10734,
           2.47
          ],
          [
           "Nou Barris",
           "Verdun",
           "8080",
           11764,
           2.58
          ],
          [
           "Nou Barris",
           "Verdun",
           "8081",
           10476,
           2.77
          ],
          [
           "Nou Barris",
           "Verdun",
           "8082",
           12256,
           2.43
          ],
          [
           "Nou Barris",
           "la Prosperitat",
           "8083",
           12459,
           2.52
          ],
          [
           "Nou Barris",
           "la Prosperitat",
           "8084",
           13389,
           2.46
          ],
          [
           "Nou Barris",
           "la Prosperitat",
           "8085",
           11912,
           2.52
          ],
          [
           "Nou Barris",
           "la Prosperitat",
           "8086",
           12881,
           2.5
          ],
          [
           "Nou Barris",
           "la Prosperitat",
           "8087",
           12615,
           2.41
          ],
          [
           "Nou Barris",
           "la Prosperitat",
           "8088",
           12945,
           2.5
          ],
          [
           "Nou Barris",
           "la Prosperitat",
           "8089",
           12480,
           2.49
          ],
          [
           "Nou Barris",
           "la Prosperitat",
           "8090",
           13267,
           2.44
          ],
          [
           "Nou Barris",
           "la Prosperitat",
           "8091",
           12975,
           2.51
          ],
          [
           "Nou Barris",
           "la Prosperitat",
           "8092",
           13743,
           2.49
          ],
          [
           "Nou Barris",
           "la Prosperitat",
           "8093",
           12805,
           2.46
          ],
          [
           "Nou Barris",
           "la Prosperitat",
           "8094",
           13747,
           2.38
          ],
          [
           "Nou Barris",
           "la Prosperitat",
           "8095",
           15693,
           2.42
          ],
          [
           "Nou Barris",
           "la Prosperitat",
           "8096",
           13009,
           2.63
          ],
          [
           "Nou Barris",
           "la Prosperitat",
           "8097",
           12450,
           2.53
          ],
          [
           "Nou Barris",
           "la Prosperitat",
           "8098",
           11981,
           2.54
          ],
          [
           "Nou Barris",
           "la Prosperitat",
           "8099",
           12306,
           2.56
          ],
          [
           "Nou Barris",
           "la Prosperitat",
           "8100",
           12619,
           2.43
          ],
          [
           "Nou Barris",
           "la Prosperitat",
           "8101",
           13323,
           2.49
          ],
          [
           "Nou Barris",
           "la Prosperitat",
           "8102",
           10875,
           2.44
          ],
          [
           "Nou Barris",
           "la Trinitat Nova",
           "8103",
           9398,
           2.5
          ],
          [
           "Nou Barris",
           "la Trinitat Nova",
           "8104",
           10546,
           2.43
          ],
          [
           "Nou Barris",
           "la Trinitat Nova",
           "8105",
           10663,
           2.64
          ],
          [
           "Nou Barris",
           "la Trinitat Nova",
           "8106",
           9940,
           2.83
          ],
          [
           "Nou Barris",
           "la Trinitat Nova",
           "8107",
           10796,
           2.53
          ],
          [
           "Nou Barris",
           "Torre Baró",
           "8108",
           10066,
           2.93
          ],
          [
           "Nou Barris",
           "Torre Baró",
           "8109",
           9561,
           2.94
          ],
          [
           "Nou Barris",
           "Ciutat Meridiana",
           "8110",
           7957,
           2.98
          ],
          [
           "Nou Barris",
           "Ciutat Meridiana",
           "8111",
           8813,
           3.02
          ],
          [
           "Nou Barris",
           "Ciutat Meridiana",
           "8112",
           8926,
           2.99
          ],
          [
           "Nou Barris",
           "Ciutat Meridiana",
           "8113",
           9011,
           2.92
          ],
          [
           "Nou Barris",
           "Ciutat Meridiana",
           "8114",
           9494,
           2.99
          ],
          [
           "Nou Barris",
           "Ciutat Meridiana",
           "8115",
           9328,
           2.89
          ],
          [
           "Nou Barris",
           "Vallbona",
           "8116",
           10132,
           2.79
          ],
          [
           "Nou Barris",
           "la Guineueta",
           "8215",
           16248,
           2.48
          ],
          [
           "Sant Andreu",
           "la Trinitat Vella",
           "9001",
           8337,
           3.16
          ],
          [
           "Sant Andreu",
           "la Trinitat Vella",
           "9002",
           9565,
           2.9
          ],
          [
           "Sant Andreu",
           "la Trinitat Vella",
           "9003",
           9676,
           2.9
          ],
          [
           "Sant Andreu",
           "la Trinitat Vella",
           "9004",
           10317,
           2.83
          ],
          [
           "Sant Andreu",
           "la Trinitat Vella",
           "9005",
           13149,
           2.75
          ],
          [
           "Sant Andreu",
           "Baró de Viver",
           "9006",
           10638,
           2.71
          ],
          [
           "Sant Andreu",
           "Baró de Viver",
           "9007",
           9671,
           2.56
          ],
          [
           "Sant Andreu",
           "el Bon Pastor",
           "9008",
           19225,
           2.96
          ],
          [
           "Sant Andreu",
           "el Bon Pastor",
           "9009",
           14670,
           2.75
          ],
          [
           "Sant Andreu",
           "el Bon Pastor",
           "9010",
           12999,
           2.47
          ],
          [
           "Sant Andreu",
           "el Bon Pastor",
           "9011",
           11087,
           2.65
          ],
          [
           "Sant Andreu",
           "el Bon Pastor",
           "9013",
           9572,
           2.77
          ],
          [
           "Sant Andreu",
           "el Bon Pastor",
           "9014",
           11139,
           2.73
          ],
          [
           "Sant Andreu",
           "el Bon Pastor",
           "9015",
           10989,
           2.6
          ],
          [
           "Sant Andreu",
           "Sant Andreu",
           "9016",
           16364,
           2.51
          ],
          [
           "Sant Andreu",
           "Sant Andreu",
           "9017",
           16187,
           2.51
          ],
          [
           "Sant Andreu",
           "Sant Andreu",
           "9018",
           16269,
           2.52
          ],
          [
           "Sant Andreu",
           "Sant Andreu",
           "9019",
           17558,
           2.72
          ],
          [
           "Sant Andreu",
           "Sant Andreu",
           "9020",
           17593,
           2.4
          ],
          [
           "Sant Andreu",
           "Sant Andreu",
           "9021",
           17726,
           2.43
          ],
          [
           "Sant Andreu",
           "Sant Andreu",
           "9022",
           18272,
           2.49
          ],
          [
           "Sant Andreu",
           "Sant Andreu",
           "9023",
           17896,
           2.57
          ],
          [
           "Sant Andreu",
           "Sant Andreu",
           "9024",
           17241,
           2.33
          ],
          [
           "Sant Andreu",
           "Sant Andreu",
           "9025",
           18041,
           2.26
          ],
          [
           "Sant Andreu",
           "Sant Andreu",
           "9026",
           18254,
           2.45
          ],
          [
           "Sant Andreu",
           "Sant Andreu",
           "9027",
           17987,
           2.45
          ],
          [
           "Sant Andreu",
           "Sant Andreu",
           "9028",
           19339,
           2.74
          ],
          [
           "Sant Andreu",
           "Sant Andreu",
           "9029",
           15969,
           2.37
          ],
          [
           "Sant Andreu",
           "Sant Andreu",
           "9030",
           17826,
           2.44
          ],
          [
           "Sant Andreu",
           "Sant Andreu",
           "9031",
           17776,
           2.54
          ],
          [
           "Sant Andreu",
           "Sant Andreu",
           "9032",
           13645,
           2.56
          ],
          [
           "Sant Andreu",
           "Sant Andreu",
           "9033",
           15799,
           2.33
          ],
          [
           "Sant Andreu",
           "Sant Andreu",
           "9034",
           14364,
           2.32
          ],
          [
           "Sant Andreu",
           "Sant Andreu",
           "9035",
           15911,
           2.41
          ],
          [
           "Sant Andreu",
           "Sant Andreu",
           "9036",
           17129,
           2.48
          ],
          [
           "Sant Andreu",
           "Sant Andreu",
           "9037",
           13677,
           2.63
          ],
          [
           "Sant Andreu",
           "Sant Andreu",
           "9038",
           17492,
           2.5
          ],
          [
           "Sant Andreu",
           "Sant Andreu",
           "9039",
           16853,
           2.32
          ],
          [
           "Sant Andreu",
           "Sant Andreu",
           "9040",
           17812,
           2.51
          ],
          [
           "Sant Andreu",
           "Sant Andreu",
           "9041",
           16135,
           2.31
          ],
          [
           "Sant Andreu",
           "Sant Andreu",
           "9042",
           18375,
           2.25
          ],
          [
           "Sant Andreu",
           "Sant Andreu",
           "9043",
           15506,
           2.28
          ],
          [
           "Sant Andreu",
           "Sant Andreu",
           "9044",
           16988,
           2.35
          ],
          [
           "Sant Andreu",
           "Sant Andreu",
           "9045",
           17245,
           2.35
          ],
          [
           "Sant Andreu",
           "Sant Andreu",
           "9046",
           18308,
           2.35
          ],
          [
           "Sant Andreu",
           "Sant Andreu",
           "9047",
           18227,
           2.32
          ],
          [
           "Sant Andreu",
           "Sant Andreu",
           "9048",
           16582,
           2.32
          ],
          [
           "Sant Andreu",
           "Sant Andreu",
           "9049",
           15688,
           2.63
          ],
          [
           "Sant Andreu",
           "Sant Andreu",
           "9050",
           17883,
           2.34
          ],
          [
           "Sant Andreu",
           "Sant Andreu",
           "9051",
           17686,
           2.27
          ],
          [
           "Sant Andreu",
           "Sant Andreu",
           "9052",
           16678,
           2.42
          ],
          [
           "Sant Andreu",
           "Sant Andreu",
           "9053",
           18243,
           2.31
          ],
          [
           "Sant Andreu",
           "Sant Andreu",
           "9054",
           17824,
           2.41
          ],
          [
           "Sant Andreu",
           "la Sagrera",
           "9055",
           13809,
           2.79
          ],
          [
           "Sant Andreu",
           "la Sagrera",
           "9056",
           16945,
           2.43
          ],
          [
           "Sant Andreu",
           "la Sagrera",
           "9057",
           14733,
           2.54
          ],
          [
           "Sant Andreu",
           "la Sagrera",
           "9058",
           16714,
           2.52
          ],
          [
           "Sant Andreu",
           "la Sagrera",
           "9059",
           15977,
           2.43
          ],
          [
           "Sant Andreu",
           "la Sagrera",
           "9060",
           15781,
           2.39
          ],
          [
           "Sant Andreu",
           "la Sagrera",
           "9061",
           18307,
           2.47
          ],
          [
           "Sant Andreu",
           "la Sagrera",
           "9062",
           16406,
           2.39
          ],
          [
           "Sant Andreu",
           "la Sagrera",
           "9063",
           18082,
           2.37
          ],
          [
           "Sant Andreu",
           "la Sagrera",
           "9064",
           17207,
           2.56
          ],
          [
           "Sant Andreu",
           "la Sagrera",
           "9065",
           15430,
           2.56
          ],
          [
           "Sant Andreu",
           "la Sagrera",
           "9066",
           17764,
           2.33
          ],
          [
           "Sant Andreu",
           "la Sagrera",
           "9067",
           14608,
           2.53
          ],
          [
           "Sant Andreu",
           "la Sagrera",
           "9068",
           16871,
           2.44
          ],
          [
           "Sant Andreu",
           "la Sagrera",
           "9069",
           16092,
           2.33
          ],
          [
           "Sant Andreu",
           "la Sagrera",
           "9070",
           12138,
           2.36
          ],
          [
           "Sant Andreu",
           "la Sagrera",
           "9071",
           14705,
           2.53
          ],
          [
           "Sant Andreu",
           "la Sagrera",
           "9072",
           13082,
           2.39
          ],
          [
           "Sant Andreu",
           "la Sagrera",
           "9073",
           16848,
           2.51
          ],
          [
           "Sant Andreu",
           "el Congrés i els Indians",
           "9074",
           15272,
           2.4
          ],
          [
           "Sant Andreu",
           "el Congrés i els Indians",
           "9075",
           15110,
           2.64
          ],
          [
           "Sant Andreu",
           "el Congrés i els Indians",
           "9076",
           15138,
           2.29
          ],
          [
           "Sant Andreu",
           "el Congrés i els Indians",
           "9077",
           15977,
           2.31
          ],
          [
           "Sant Andreu",
           "el Congrés i els Indians",
           "9078",
           15733,
           2.51
          ],
          [
           "Sant Andreu",
           "el Congrés i els Indians",
           "9079",
           17000,
           2.44
          ],
          [
           "Sant Andreu",
           "el Congrés i els Indians",
           "9080",
           16154,
           2.49
          ],
          [
           "Sant Andreu",
           "el Congrés i els Indians",
           "9081",
           16030,
           2.43
          ],
          [
           "Sant Andreu",
           "el Congrés i els Indians",
           "9082",
           16260,
           2.52
          ],
          [
           "Sant Andreu",
           "Navas",
           "9083",
           16654,
           2.42
          ],
          [
           "Sant Andreu",
           "Navas",
           "9084",
           17776,
           2.45
          ],
          [
           "Sant Andreu",
           "Navas",
           "9085",
           16484,
           2.52
          ],
          [
           "Sant Andreu",
           "Navas",
           "9086",
           16143,
           2.48
          ],
          [
           "Sant Andreu",
           "Navas",
           "9087",
           16934,
           2.49
          ],
          [
           "Sant Andreu",
           "Navas",
           "9088",
           14762,
           2.31
          ],
          [
           "Sant Andreu",
           "Navas",
           "9089",
           15410,
           2.32
          ],
          [
           "Sant Andreu",
           "Navas",
           "9090",
           15227,
           2.47
          ],
          [
           "Sant Andreu",
           "Navas",
           "9091",
           16236,
           2.58
          ],
          [
           "Sant Andreu",
           "Navas",
           "9092",
           16506,
           2.55
          ],
          [
           "Sant Andreu",
           "Navas",
           "9093",
           16219,
           2.39
          ],
          [
           "Sant Andreu",
           "Navas",
           "9094",
           16594,
           2.47
          ],
          [
           "Sant Andreu",
           "Navas",
           "9095",
           16517,
           2.53
          ],
          [
           "Sant Andreu",
           "la Sagrera",
           "9156",
           15472,
           2.51
          ],
          [
           "Sant Martí",
           "el Camp de l'Arpa del Clot",
           "10001",
           14863,
           2.37
          ],
          [
           "Sant Martí",
           "el Camp de l'Arpa del Clot",
           "10002",
           15795,
           2.3
          ],
          [
           "Sant Martí",
           "el Camp de l'Arpa del Clot",
           "10003",
           15884,
           2.34
          ],
          [
           "Sant Martí",
           "el Camp de l'Arpa del Clot",
           "10004",
           16234,
           2.39
          ],
          [
           "Sant Martí",
           "el Camp de l'Arpa del Clot",
           "10005",
           16789,
           2.47
          ],
          [
           "Sant Martí",
           "el Camp de l'Arpa del Clot",
           "10006",
           17559,
           2.37
          ],
          [
           "Sant Martí",
           "el Camp de l'Arpa del Clot",
           "10007",
           21636,
           2.35
          ],
          [
           "Sant Martí",
           "el Camp de l'Arpa del Clot",
           "10008",
           17000,
           2.22
          ],
          [
           "Sant Martí",
           "el Camp de l'Arpa del Clot",
           "10009",
           17258,
           2.22
          ],
          [
           "Sant Martí",
           "el Camp de l'Arpa del Clot",
           "10010",
           15931,
           2.25
          ],
          [
           "Sant Martí",
           "el Camp de l'Arpa del Clot",
           "10011",
           18141,
           2.29
          ],
          [
           "Sant Martí",
           "el Camp de l'Arpa del Clot",
           "10012",
           17869,
           2.42
          ],
          [
           "Sant Martí",
           "el Camp de l'Arpa del Clot",
           "10013",
           16523,
           2.34
          ],
          [
           "Sant Martí",
           "el Camp de l'Arpa del Clot",
           "10014",
           15688,
           2.41
          ],
          [
           "Sant Martí",
           "el Camp de l'Arpa del Clot",
           "10015",
           16447,
           2.32
          ],
          [
           "Sant Martí",
           "el Camp de l'Arpa del Clot",
           "10016",
           17829,
           2.42
          ],
          [
           "Sant Martí",
           "el Camp de l'Arpa del Clot",
           "10017",
           16646,
           2.43
          ],
          [
           "Sant Martí",
           "el Camp de l'Arpa del Clot",
           "10018",
           16085,
           2.4
          ],
          [
           "Sant Martí",
           "el Camp de l'Arpa del Clot",
           "10019",
           16948,
           2.35
          ],
          [
           "Sant Martí",
           "el Camp de l'Arpa del Clot",
           "10020",
           15038,
           2.4
          ],
          [
           "Sant Martí",
           "el Camp de l'Arpa del Clot",
           "10021",
           15345,
           2.48
          ],
          [
           "Sant Martí",
           "el Camp de l'Arpa del Clot",
           "10022",
           16333,
           2.35
          ],
          [
           "Sant Martí",
           "el Camp de l'Arpa del Clot",
           "10023",
           15455,
           2.38
          ],
          [
           "Sant Martí",
           "el Camp de l'Arpa del Clot",
           "10024",
           17040,
           2.44
          ],
          [
           "Sant Martí",
           "el Camp de l'Arpa del Clot",
           "10025",
           15683,
           2.38
          ],
          [
           "Sant Martí",
           "el Clot",
           "10026",
           17299,
           2.5
          ],
          [
           "Sant Martí",
           "el Clot",
           "10027",
           17284,
           2.35
          ],
          [
           "Sant Martí",
           "el Clot",
           "10028",
           16207,
           2.61
          ],
          [
           "Sant Martí",
           "el Clot",
           "10029",
           15399,
           2.52
          ],
          [
           "Sant Martí",
           "el Clot",
           "10030",
           16210,
           2.48
          ],
          [
           "Sant Martí",
           "el Clot",
           "10031",
           16619,
           2.24
          ],
          [
           "Sant Martí",
           "el Clot",
           "10032",
           16940,
           2.58
          ],
          [
           "Sant Martí",
           "el Clot",
           "10033",
           19430,
           2.23
          ],
          [
           "Sant Martí",
           "el Clot",
           "10034",
           15820,
           2.49
          ],
          [
           "Sant Martí",
           "el Clot",
           "10035",
           18018,
           2.69
          ],
          [
           "Sant Martí",
           "el Clot",
           "10036",
           18566,
           2.67
          ],
          [
           "Sant Martí",
           "el Clot",
           "10037",
           12606,
           2.57
          ],
          [
           "Sant Martí",
           "el Clot",
           "10038",
           18328,
           2.41
          ],
          [
           "Sant Martí",
           "el Clot",
           "10039",
           15391,
           2.57
          ],
          [
           "Sant Martí",
           "el Clot",
           "10040",
           16004,
           2.41
          ],
          [
           "Sant Martí",
           "el Clot",
           "10041",
           16736,
           2.39
          ],
          [
           "Sant Martí",
           "el Parc i la Llacuna del Poblenou",
           "10042",
           14942,
           2.4
          ],
          [
           "Sant Martí",
           "el Parc i la Llacuna del Poblenou",
           "10043",
           15112,
           2.41
          ],
          [
           "Sant Martí",
           "el Parc i la Llacuna del Poblenou",
           "10044",
           17470,
           2.36
          ],
          [
           "Sant Martí",
           "el Parc i la Llacuna del Poblenou",
           "10045",
           18553,
           2.55
          ],
          [
           "Sant Martí",
           "el Parc i la Llacuna del Poblenou",
           "10046",
           18860,
           2.23
          ],
          [
           "Sant Martí",
           "el Parc i la Llacuna del Poblenou",
           "10047",
           18334,
           2.38
          ],
          [
           "Sant Martí",
           "el Parc i la Llacuna del Poblenou",
           "10048",
           18851,
           2.38
          ],
          [
           "Sant Martí",
           "el Parc i la Llacuna del Poblenou",
           "10049",
           17719,
           2.48
          ],
          [
           "Sant Martí",
           "el Parc i la Llacuna del Poblenou",
           "10050",
           18438,
           2.46
          ],
          [
           "Sant Martí",
           "la Vila Olímpica del Poblenou",
           "10051",
           18720,
           2.54
          ],
          [
           "Sant Martí",
           "la Vila Olímpica del Poblenou",
           "10052",
           23591,
           2.61
          ],
          [
           "Sant Martí",
           "la Vila Olímpica del Poblenou",
           "10053",
           27126,
           2.71
          ],
          [
           "Sant Martí",
           "la Vila Olímpica del Poblenou",
           "10054",
           22887,
           2.61
          ],
          [
           "Sant Martí",
           "la Vila Olímpica del Poblenou",
           "10055",
           25476,
           2.75
          ],
          [
           "Sant Martí",
           "el Poblenou",
           "10056",
           13934,
           2.42
          ],
          [
           "Sant Martí",
           "el Poblenou",
           "10057",
           16064,
           2.29
          ],
          [
           "Sant Martí",
           "el Poblenou",
           "10058",
           15709,
           2.26
          ],
          [
           "Sant Martí",
           "el Poblenou",
           "10059",
           17963,
           2.32
          ],
          [
           "Sant Martí",
           "el Poblenou",
           "10060",
           16031,
           2.45
          ],
          [
           "Sant Martí",
           "el Poblenou",
           "10061",
           18324,
           2.42
          ],
          [
           "Sant Martí",
           "el Poblenou",
           "10062",
           17784,
           2.56
          ],
          [
           "Sant Martí",
           "el Poblenou",
           "10063",
           17745,
           2.52
          ],
          [
           "Sant Martí",
           "el Poblenou",
           "10064",
           18318,
           2.44
          ],
          [
           "Sant Martí",
           "el Poblenou",
           "10065",
           18573,
           2.47
          ],
          [
           "Sant Martí",
           "el Poblenou",
           "10066",
           17961,
           2.57
          ],
          [
           "Sant Martí",
           "el Poblenou",
           "10067",
           22433,
           2.8
          ],
          [
           "Sant Martí",
           "el Poblenou",
           "10068",
           19439,
           2.74
          ],
          [
           "Sant Martí",
           "el Poblenou",
           "10069",
           19826,
           2.55
          ],
          [
           "Sant Martí",
           "el Poblenou",
           "10070",
           16648,
           2.33
          ],
          [
           "Sant Martí",
           "el Poblenou",
           "10071",
           18961,
           2.59
          ],
          [
           "Sant Martí",
           "el Poblenou",
           "10072",
           16945,
           2.57
          ],
          [
           "Sant Martí",
           "el Poblenou",
           "10073",
           15797,
           2.45
          ],
          [
           "Sant Martí",
           "el Poblenou",
           "10074",
           16183,
           2.38
          ],
          [
           "Sant Martí",
           "el Poblenou",
           "10075",
           15995,
           2.63
          ],
          [
           "Sant Martí",
           "Diagonal Mar i el Front Marítim del Poblenou",
           "10076",
           18981,
           2.17
          ],
          [
           "Sant Martí",
           "Diagonal Mar i el Front Marítim del Poblenou",
           "10077",
           20587,
           2.76
          ],
          [
           "Sant Martí",
           "Diagonal Mar i el Front Marítim del Poblenou",
           "10078",
           21121,
           2.71
          ],
          [
           "Sant Martí",
           "Diagonal Mar i el Front Marítim del Poblenou",
           "10079",
           18273,
           2.64
          ],
          [
           "Sant Martí",
           "Diagonal Mar i el Front Marítim del Poblenou",
           "10080",
           23029,
           2.77
          ],
          [
           "Sant Martí",
           "el Besòs i el Maresme",
           "10081",
           12800,
           2.6
          ],
          [
           "Sant Martí",
           "el Besòs i el Maresme",
           "10082",
           7725,
           3
          ],
          [
           "Sant Martí",
           "el Besòs i el Maresme",
           "10083",
           7028,
           3.26
          ],
          [
           "Sant Martí",
           "el Besòs i el Maresme",
           "10084",
           9686,
           2.73
          ],
          [
           "Sant Martí",
           "el Besòs i el Maresme",
           "10085",
           8762,
           2.83
          ],
          [
           "Sant Martí",
           "el Besòs i el Maresme",
           "10086",
           10179,
           2.71
          ],
          [
           "Sant Martí",
           "el Besòs i el Maresme",
           "10087",
           10322,
           2.61
          ],
          [
           "Sant Martí",
           "el Besòs i el Maresme",
           "10088",
           13982,
           2.67
          ],
          [
           "Sant Martí",
           "el Besòs i el Maresme",
           "10089",
           10406,
           2.56
          ],
          [
           "Sant Martí",
           "el Besòs i el Maresme",
           "10090",
           11685,
           2.77
          ],
          [
           "Sant Martí",
           "el Besòs i el Maresme",
           "10091",
           13133,
           2.61
          ],
          [
           "Sant Martí",
           "el Besòs i el Maresme",
           "10092",
           15481,
           2.53
          ],
          [
           "Sant Martí",
           "el Besòs i el Maresme",
           "10093",
           16435,
           2.51
          ],
          [
           "Sant Martí",
           "Provençals del Poblenou",
           "10094",
           17189,
           2.44
          ],
          [
           "Sant Martí",
           "Provençals del Poblenou",
           "10095",
           14059,
           2.44
          ],
          [
           "Sant Martí",
           "Provençals del Poblenou",
           "10096",
           18118,
           2.62
          ],
          [
           "Sant Martí",
           "Provençals del Poblenou",
           "10097",
           18451,
           2.45
          ],
          [
           "Sant Martí",
           "Provençals del Poblenou",
           "10098",
           17264,
           2.71
          ],
          [
           "Sant Martí",
           "Provençals del Poblenou",
           "10099",
           11929,
           2.72
          ],
          [
           "Sant Martí",
           "Provençals del Poblenou",
           "10100",
           14102,
           2.49
          ],
          [
           "Sant Martí",
           "Provençals del Poblenou",
           "10101",
           13639,
           2.7
          ],
          [
           "Sant Martí",
           "Provençals del Poblenou",
           "10102",
           13789,
           2.54
          ],
          [
           "Sant Martí",
           "Provençals del Poblenou",
           "10103",
           15310,
           2.49
          ],
          [
           "Sant Martí",
           "Provençals del Poblenou",
           "10104",
           17837,
           2.63
          ],
          [
           "Sant Martí",
           "Sant Martí de Provençals",
           "10105",
           16029,
           2.53
          ],
          [
           "Sant Martí",
           "Sant Martí de Provençals",
           "10106",
           15270,
           2.41
          ],
          [
           "Sant Martí",
           "Sant Martí de Provençals",
           "10107",
           18763,
           2.53
          ],
          [
           "Sant Martí",
           "Sant Martí de Provençals",
           "10108",
           15241,
           2.32
          ],
          [
           "Sant Martí",
           "Sant Martí de Provençals",
           "10109",
           14108,
           2.48
          ],
          [
           "Sant Martí",
           "Sant Martí de Provençals",
           "10110",
           14008,
           2.39
          ],
          [
           "Sant Martí",
           "Sant Martí de Provençals",
           "10111",
           14520,
           2.46
          ],
          [
           "Sant Martí",
           "Sant Martí de Provençals",
           "10112",
           18028,
           2.56
          ],
          [
           "Sant Martí",
           "Sant Martí de Provençals",
           "10113",
           14290,
           2.5
          ],
          [
           "Sant Martí",
           "Sant Martí de Provençals",
           "10114",
           12535,
           2.55
          ],
          [
           "Sant Martí",
           "Sant Martí de Provençals",
           "10115",
           13576,
           2.4
          ],
          [
           "Sant Martí",
           "Sant Martí de Provençals",
           "10116",
           13033,
           2.43
          ],
          [
           "Sant Martí",
           "Sant Martí de Provençals",
           "10117",
           14233,
           2.38
          ],
          [
           "Sant Martí",
           "Sant Martí de Provençals",
           "10118",
           17949,
           2.59
          ],
          [
           "Sant Martí",
           "Sant Martí de Provençals",
           "10119",
           13146,
           2.28
          ],
          [
           "Sant Martí",
           "Sant Martí de Provençals",
           "10120",
           14033,
           2.37
          ],
          [
           "Sant Martí",
           "Sant Martí de Provençals",
           "10121",
           13427,
           2.46
          ],
          [
           "Sant Martí",
           "Sant Martí de Provençals",
           "10122",
           16878,
           2.55
          ],
          [
           "Sant Martí",
           "la Verneda i la Pau",
           "10123",
           14930,
           2.42
          ],
          [
           "Sant Martí",
           "la Verneda i la Pau",
           "10124",
           15673,
           2.62
          ],
          [
           "Sant Martí",
           "la Verneda i la Pau",
           "10125",
           14109,
           2.43
          ],
          [
           "Sant Martí",
           "la Verneda i la Pau",
           "10126",
           15232,
           2.58
          ],
          [
           "Sant Martí",
           "la Verneda i la Pau",
           "10127",
           15853,
           2.56
          ],
          [
           "Sant Martí",
           "la Verneda i la Pau",
           "10128",
           16095,
           2.34
          ],
          [
           "Sant Martí",
           "la Verneda i la Pau",
           "10129",
           16115,
           2.66
          ],
          [
           "Sant Martí",
           "la Verneda i la Pau",
           "10130",
           15287,
           2.29
          ],
          [
           "Sant Martí",
           "la Verneda i la Pau",
           "10131",
           17885,
           2.64
          ],
          [
           "Sant Martí",
           "la Verneda i la Pau",
           "10132",
           13730,
           2.54
          ],
          [
           "Sant Martí",
           "la Verneda i la Pau",
           "10133",
           12910,
           2.44
          ],
          [
           "Sant Martí",
           "la Verneda i la Pau",
           "10134",
           13274,
           2.26
          ],
          [
           "Sant Martí",
           "la Verneda i la Pau",
           "10135",
           13663,
           2.5
          ],
          [
           "Sant Martí",
           "la Verneda i la Pau",
           "10136",
           13701,
           2.5
          ],
          [
           "Sant Martí",
           "la Verneda i la Pau",
           "10137",
           12252,
           2.55
          ],
          [
           "Sant Martí",
           "la Verneda i la Pau",
           "10138",
           10903,
           2.52
          ],
          [
           "Sant Martí",
           "la Verneda i la Pau",
           "10139",
           11579,
           2.54
          ],
          [
           "Sant Martí",
           "la Verneda i la Pau",
           "10140",
           11746,
           2.63
          ],
          [
           "Sant Martí",
           "la Verneda i la Pau",
           "10141",
           12213,
           2.52
          ],
          [
           "Sant Martí",
           "la Verneda i la Pau",
           "10142",
           11400,
           2.61
          ],
          [
           "Sant Martí",
           "la Verneda i la Pau",
           "10143",
           12705,
           2.64
          ],
          [
           "Sant Martí",
           "el Clot",
           "10234",
           16081,
           2.5
          ],
          [
           "Sant Martí",
           "Diagonal Mar i el Front Marítim del Poblenou",
           "10235",
           14455,
           2.16
          ],
          [
           "Sant Martí",
           "Diagonal Mar i el Front Marítim del Poblenou",
           "10236",
           14844,
           2.28
          ],
          [
           "Sant Martí",
           "Provençals del Poblenou",
           "10237",
           13443,
           2.25
          ]
         ],
         "hovertemplate": "<br><b>District: %{customdata[0]}</b></br><b>Neighborhood: %{customdata[1]}</b><br><b>Census section: %{customdata[2]}</b></br><b>Income per person/year: %{customdata[3]}</b><br><b>People per household: %{customdata[4]}</b><extra></extra></br>",
         "marker": {
          "color": [
           "#04BB85",
           "#04BB85",
           "#04BB85",
           "#04BB85",
           "#04BB85",
           "#04BB85",
           "#04BB85",
           "#04BB85",
           "#04BB85",
           "#04BB85",
           "#04BB85",
           "#04BB85",
           "#04BB85",
           "#04BB85",
           "#04BB85",
           "#04BB85",
           "#04BB85",
           "#04BB85",
           "#04BB85",
           "#04BB85",
           "#04BB85",
           "#04BB85",
           "#04BB85",
           "#04BB85",
           "#04BB85",
           "#04BB85",
           "#04BB85",
           "#04BB85",
           "#04BB85",
           "#04BB85",
           "#04BB85",
           "#04BB85",
           "#04BB85",
           "#04BB85",
           "#04BB85",
           "#04BB85",
           "#04BB85",
           "#04BB85",
           "#04BB85",
           "#04BB85",
           "#04BB85",
           "#04BB85",
           "#04BB85",
           "#04BB85",
           "#04BB85",
           "#04BB85",
           "#04BB85",
           "#04BB85",
           "#04BB85",
           "#04BB85",
           "#04BB85",
           "#04BB85",
           "#04BB85",
           "#04BB85",
           "#8F76D7",
           "#8F76D7",
           "#8F76D7",
           "#8F76D7",
           "#8F76D7",
           "#8F76D7",
           "#8F76D7",
           "#8F76D7",
           "#8F76D7",
           "#8F76D7",
           "#8F76D7",
           "#8F76D7",
           "#8F76D7",
           "#8F76D7",
           "#8F76D7",
           "#8F76D7",
           "#8F76D7",
           "#8F76D7",
           "#8F76D7",
           "#8F76D7",
           "#8F76D7",
           "#8F76D7",
           "#8F76D7",
           "#8F76D7",
           "#8F76D7",
           "#8F76D7",
           "#8F76D7",
           "#8F76D7",
           "#8F76D7",
           "#8F76D7",
           "#8F76D7",
           "#8F76D7",
           "#8F76D7",
           "#8F76D7",
           "#8F76D7",
           "#8F76D7",
           "#8F76D7",
           "#8F76D7",
           "#8F76D7",
           "#8F76D7",
           "#8F76D7",
           "#8F76D7",
           "#8F76D7",
           "#8F76D7",
           "#8F76D7",
           "#8F76D7",
           "#8F76D7",
           "#8F76D7",
           "#8F76D7",
           "#8F76D7",
           "#8F76D7",
           "#8F76D7",
           "#8F76D7",
           "#8F76D7",
           "#8F76D7",
           "#8F76D7",
           "#8F76D7",
           "#8F76D7",
           "#8F76D7",
           "#8F76D7",
           "#8F76D7",
           "#8F76D7",
           "#8F76D7",
           "#8F76D7",
           "#8F76D7",
           "#8F76D7",
           "#8F76D7",
           "#8F76D7",
           "#8F76D7",
           "#8F76D7",
           "#8F76D7",
           "#8F76D7",
           "#8F76D7",
           "#8F76D7",
           "#8F76D7",
           "#8F76D7",
           "#8F76D7",
           "#8F76D7",
           "#8F76D7",
           "#8F76D7",
           "#8F76D7",
           "#8F76D7",
           "#8F76D7",
           "#8F76D7",
           "#8F76D7",
           "#8F76D7",
           "#8F76D7",
           "#8F76D7",
           "#8F76D7",
           "#8F76D7",
           "#8F76D7",
           "#8F76D7",
           "#8F76D7",
           "#8F76D7",
           "#8F76D7",
           "#8F76D7",
           "#8F76D7",
           "#8F76D7",
           "#8F76D7",
           "#8F76D7",
           "#8F76D7",
           "#8F76D7",
           "#8F76D7",
           "#8F76D7",
           "#8F76D7",
           "#8F76D7",
           "#8F76D7",
           "#8F76D7",
           "#8F76D7",
           "#8F76D7",
           "#8F76D7",
           "#8F76D7",
           "#8F76D7",
           "#8F76D7",
           "#8F76D7",
           "#8F76D7",
           "#8F76D7",
           "#8F76D7",
           "#8F76D7",
           "#8F76D7",
           "#8F76D7",
           "#8F76D7",
           "#8F76D7",
           "#8F76D7",
           "#8F76D7",
           "#8F76D7",
           "#8F76D7",
           "#8F76D7",
           "#8F76D7",
           "#8F76D7",
           "#8F76D7",
           "#8F76D7",
           "#8F76D7",
           "#8F76D7",
           "#8F76D7",
           "#8F76D7",
           "#8F76D7",
           "#8F76D7",
           "#8F76D7",
           "#8F76D7",
           "#8F76D7",
           "#8F76D7",
           "#8F76D7",
           "#8F76D7",
           "#8F76D7",
           "#8F76D7",
           "#8F76D7",
           "#8F76D7",
           "#8F76D7",
           "#8F76D7",
           "#8F76D7",
           "#8F76D7",
           "#8F76D7",
           "#8F76D7",
           "#8F76D7",
           "#8F76D7",
           "#8F76D7",
           "#8F76D7",
           "#8F76D7",
           "#8F76D7",
           "#8F76D7",
           "#8F76D7",
           "#8F76D7",
           "#8F76D7",
           "#8F76D7",
           "#8F76D7",
           "#8F76D7",
           "#8F76D7",
           "#8F76D7",
           "#8F76D7",
           "#8F76D7",
           "#8F76D7",
           "#8F76D7",
           "#FF9500",
           "#FF9500",
           "#FF9500",
           "#FF9500",
           "#FF9500",
           "#FF9500",
           "#FF9500",
           "#FF9500",
           "#FF9500",
           "#FF9500",
           "#FF9500",
           "#FF9500",
           "#FF9500",
           "#FF9500",
           "#FF9500",
           "#FF9500",
           "#FF9500",
           "#FF9500",
           "#FF9500",
           "#FF9500",
           "#FF9500",
           "#FF9500",
           "#FF9500",
           "#FF9500",
           "#FF9500",
           "#FF9500",
           "#FF9500",
           "#FF9500",
           "#FF9500",
           "#FF9500",
           "#FF9500",
           "#FF9500",
           "#FF9500",
           "#FF9500",
           "#FF9500",
           "#FF9500",
           "#FF9500",
           "#FF9500",
           "#FF9500",
           "#FF9500",
           "#FF9500",
           "#FF9500",
           "#FF9500",
           "#FF9500",
           "#FF9500",
           "#FF9500",
           "#FF9500",
           "#FF9500",
           "#FF9500",
           "#FF9500",
           "#FF9500",
           "#FF9500",
           "#FF9500",
           "#FF9500",
           "#FF9500",
           "#FF9500",
           "#FF9500",
           "#FF9500",
           "#FF9500",
           "#FF9500",
           "#FF9500",
           "#FF9500",
           "#FF9500",
           "#FF9500",
           "#FF9500",
           "#FF9500",
           "#FF9500",
           "#FF9500",
           "#FF9500",
           "#FF9500",
           "#FF9500",
           "#FF9500",
           "#FF9500",
           "#FF9500",
           "#FF9500",
           "#FF9500",
           "#FF9500",
           "#FF9500",
           "#FF9500",
           "#FF9500",
           "#FF9500",
           "#FF9500",
           "#FF9500",
           "#FF9500",
           "#FF9500",
           "#FF9500",
           "#FF9500",
           "#FF9500",
           "#FF9500",
           "#FF9500",
           "#FF9500",
           "#FF9500",
           "#FF9500",
           "#FF9500",
           "#FF9500",
           "#FF9500",
           "#FF9500",
           "#FF9500",
           "#FF9500",
           "#FF9500",
           "#FF9500",
           "#FF9500",
           "#FF9500",
           "#FF9500",
           "#FF9500",
           "#FF9500",
           "#FF9500",
           "#FF9500",
           "#FF9500",
           "#FF9500",
           "#FF9500",
           "#FF9500",
           "#FF9500",
           "#FF9500",
           "#FF9500",
           "#FF9500",
           "#FF9500",
           "#019BBF",
           "#019BBF",
           "#019BBF",
           "#019BBF",
           "#019BBF",
           "#019BBF",
           "#019BBF",
           "#019BBF",
           "#019BBF",
           "#019BBF",
           "#019BBF",
           "#019BBF",
           "#019BBF",
           "#019BBF",
           "#019BBF",
           "#019BBF",
           "#019BBF",
           "#019BBF",
           "#019BBF",
           "#019BBF",
           "#019BBF",
           "#019BBF",
           "#019BBF",
           "#019BBF",
           "#019BBF",
           "#019BBF",
           "#019BBF",
           "#019BBF",
           "#019BBF",
           "#019BBF",
           "#019BBF",
           "#019BBF",
           "#019BBF",
           "#019BBF",
           "#019BBF",
           "#019BBF",
           "#019BBF",
           "#019BBF",
           "#019BBF",
           "#019BBF",
           "#019BBF",
           "#019BBF",
           "#019BBF",
           "#019BBF",
           "#019BBF",
           "#019BBF",
           "#019BBF",
           "#019BBF",
           "#019BBF",
           "#019BBF",
           "#019BBF",
           "#019BBF",
           "#019BBF",
           "#019BBF",
           "#019BBF",
           "#019BBF",
           "#019BBF",
           "#F62F36",
           "#F62F36",
           "#F62F36",
           "#F62F36",
           "#F62F36",
           "#F62F36",
           "#F62F36",
           "#F62F36",
           "#F62F36",
           "#F62F36",
           "#F62F36",
           "#F62F36",
           "#F62F36",
           "#F62F36",
           "#F62F36",
           "#F62F36",
           "#F62F36",
           "#F62F36",
           "#F62F36",
           "#F62F36",
           "#F62F36",
           "#F62F36",
           "#F62F36",
           "#F62F36",
           "#F62F36",
           "#F62F36",
           "#F62F36",
           "#F62F36",
           "#F62F36",
           "#F62F36",
           "#F62F36",
           "#F62F36",
           "#F62F36",
           "#F62F36",
           "#F62F36",
           "#F62F36",
           "#F62F36",
           "#F62F36",
           "#F62F36",
           "#F62F36",
           "#F62F36",
           "#F62F36",
           "#F62F36",
           "#F62F36",
           "#F62F36",
           "#F62F36",
           "#F62F36",
           "#F62F36",
           "#F62F36",
           "#F62F36",
           "#F62F36",
           "#F62F36",
           "#F62F36",
           "#F62F36",
           "#F62F36",
           "#F62F36",
           "#F62F36",
           "#F62F36",
           "#F62F36",
           "#F62F36",
           "#F62F36",
           "#F62F36",
           "#F62F36",
           "#F62F36",
           "#F62F36",
           "#F62F36",
           "#F62F36",
           "#F62F36",
           "#F62F36",
           "#F62F36",
           "#F62F36",
           "#F62F36",
           "#F62F36",
           "#F62F36",
           "#F62F36",
           "#F62F36",
           "#F62F36",
           "#F62F36",
           "#F62F36",
           "#F62F36",
           "#F62F36",
           "#F62F36",
           "#F62F36",
           "#F62F36",
           "#F62F36",
           "#F62F36",
           "#F62F36",
           "#F62F36",
           "#F62F36",
           "#F62F36",
           "#F62F36",
           "#F62F36",
           "#F62F36",
           "#F62F36",
           "#F62F36",
           "#F62F36",
           "#F62F36",
           "#F62F36",
           "#9D5E31",
           "#9D5E31",
           "#9D5E31",
           "#9D5E31",
           "#9D5E31",
           "#9D5E31",
           "#9D5E31",
           "#9D5E31",
           "#9D5E31",
           "#9D5E31",
           "#9D5E31",
           "#9D5E31",
           "#9D5E31",
           "#9D5E31",
           "#9D5E31",
           "#9D5E31",
           "#9D5E31",
           "#9D5E31",
           "#9D5E31",
           "#9D5E31",
           "#9D5E31",
           "#9D5E31",
           "#9D5E31",
           "#9D5E31",
           "#9D5E31",
           "#9D5E31",
           "#9D5E31",
           "#9D5E31",
           "#9D5E31",
           "#9D5E31",
           "#9D5E31",
           "#9D5E31",
           "#9D5E31",
           "#9D5E31",
           "#9D5E31",
           "#9D5E31",
           "#9D5E31",
           "#9D5E31",
           "#9D5E31",
           "#9D5E31",
           "#9D5E31",
           "#9D5E31",
           "#9D5E31",
           "#9D5E31",
           "#9D5E31",
           "#9D5E31",
           "#9D5E31",
           "#9D5E31",
           "#9D5E31",
           "#9D5E31",
           "#9D5E31",
           "#9D5E31",
           "#9D5E31",
           "#9D5E31",
           "#9D5E31",
           "#9D5E31",
           "#9D5E31",
           "#9D5E31",
           "#9D5E31",
           "#9D5E31",
           "#9D5E31",
           "#9D5E31",
           "#9D5E31",
           "#9D5E31",
           "#9D5E31",
           "#9D5E31",
           "#9D5E31",
           "#9D5E31",
           "#9D5E31",
           "#9D5E31",
           "#9D5E31",
           "#9D5E31",
           "#9D5E31",
           "#9D5E31",
           "#9D5E31",
           "#9D5E31",
           "#9D5E31",
           "#9D5E31",
           "#9D5E31",
           "#9D5E31",
           "#9D5E31",
           "#9D5E31",
           "#9D5E31",
           "#9D5E31",
           "#9D5E31",
           "#9D5E31",
           "#9D5E31",
           "#E65898",
           "#E65898",
           "#E65898",
           "#E65898",
           "#E65898",
           "#E65898",
           "#E65898",
           "#E65898",
           "#E65898",
           "#E65898",
           "#E65898",
           "#E65898",
           "#E65898",
           "#E65898",
           "#E65898",
           "#E65898",
           "#E65898",
           "#E65898",
           "#E65898",
           "#E65898",
           "#E65898",
           "#E65898",
           "#E65898",
           "#E65898",
           "#E65898",
           "#E65898",
           "#E65898",
           "#E65898",
           "#E65898",
           "#E65898",
           "#E65898",
           "#E65898",
           "#E65898",
           "#E65898",
           "#E65898",
           "#E65898",
           "#E65898",
           "#E65898",
           "#E65898",
           "#E65898",
           "#E65898",
           "#E65898",
           "#E65898",
           "#E65898",
           "#E65898",
           "#E65898",
           "#E65898",
           "#E65898",
           "#E65898",
           "#E65898",
           "#E65898",
           "#E65898",
           "#E65898",
           "#E65898",
           "#E65898",
           "#E65898",
           "#E65898",
           "#E65898",
           "#E65898",
           "#E65898",
           "#E65898",
           "#E65898",
           "#E65898",
           "#E65898",
           "#E65898",
           "#E65898",
           "#E65898",
           "#E65898",
           "#E65898",
           "#E65898",
           "#E65898",
           "#E65898",
           "#E65898",
           "#E65898",
           "#E65898",
           "#E65898",
           "#E65898",
           "#E65898",
           "#E65898",
           "#E65898",
           "#E65898",
           "#E65898",
           "#E65898",
           "#E65898",
           "#E65898",
           "#E65898",
           "#E65898",
           "#E65898",
           "#E65898",
           "#E65898",
           "#E65898",
           "#E65898",
           "#E65898",
           "#E65898",
           "#E65898",
           "#E65898",
           "#E65898",
           "#E65898",
           "#E65898",
           "#E65898",
           "#E65898",
           "#E65898",
           "#E65898",
           "#E65898",
           "#E65898",
           "#E65898",
           "#E65898",
           "#E65898",
           "#E65898",
           "#E65898",
           "#E65898",
           "#E65898",
           "#E65898",
           "#E65898",
           "#E65898",
           "#E65898",
           "#E65898",
           "#E65898",
           "#E65898",
           "#E65898",
           "#E65898",
           "#E65898",
           "#E65898",
           "#B1C019",
           "#B1C019",
           "#B1C019",
           "#B1C019",
           "#B1C019",
           "#B1C019",
           "#B1C019",
           "#B1C019",
           "#B1C019",
           "#B1C019",
           "#B1C019",
           "#B1C019",
           "#B1C019",
           "#B1C019",
           "#B1C019",
           "#B1C019",
           "#B1C019",
           "#B1C019",
           "#B1C019",
           "#B1C019",
           "#B1C019",
           "#B1C019",
           "#B1C019",
           "#B1C019",
           "#B1C019",
           "#B1C019",
           "#B1C019",
           "#B1C019",
           "#B1C019",
           "#B1C019",
           "#B1C019",
           "#B1C019",
           "#B1C019",
           "#B1C019",
           "#B1C019",
           "#B1C019",
           "#B1C019",
           "#B1C019",
           "#B1C019",
           "#B1C019",
           "#B1C019",
           "#B1C019",
           "#B1C019",
           "#B1C019",
           "#B1C019",
           "#B1C019",
           "#B1C019",
           "#B1C019",
           "#B1C019",
           "#B1C019",
           "#B1C019",
           "#B1C019",
           "#B1C019",
           "#B1C019",
           "#B1C019",
           "#B1C019",
           "#B1C019",
           "#B1C019",
           "#B1C019",
           "#B1C019",
           "#B1C019",
           "#B1C019",
           "#B1C019",
           "#B1C019",
           "#B1C019",
           "#B1C019",
           "#B1C019",
           "#B1C019",
           "#B1C019",
           "#B1C019",
           "#B1C019",
           "#B1C019",
           "#B1C019",
           "#B1C019",
           "#B1C019",
           "#B1C019",
           "#B1C019",
           "#B1C019",
           "#B1C019",
           "#B1C019",
           "#B1C019",
           "#B1C019",
           "#B1C019",
           "#B1C019",
           "#B1C019",
           "#B1C019",
           "#B1C019",
           "#B1C019",
           "#B1C019",
           "#B1C019",
           "#B1C019",
           "#B1C019",
           "#B1C019",
           "#B1C019",
           "#B1C019",
           "#B1C019",
           "#B1C019",
           "#B1C019",
           "#B1C019",
           "#B1C019",
           "#B1C019",
           "#B1C019",
           "#B1C019",
           "#B1C019",
           "#B1C019",
           "#B1C019",
           "#B1C019",
           "#B1C019",
           "#B1C019",
           "#B1C019",
           "#B1C019",
           "#B1C019",
           "#B1C019",
           "#B1C019",
           "#B1C019",
           "#B1C019",
           "#B1C019",
           "#FDC903",
           "#FDC903",
           "#FDC903",
           "#FDC903",
           "#FDC903",
           "#FDC903",
           "#FDC903",
           "#FDC903",
           "#FDC903",
           "#FDC903",
           "#FDC903",
           "#FDC903",
           "#FDC903",
           "#FDC903",
           "#FDC903",
           "#FDC903",
           "#FDC903",
           "#FDC903",
           "#FDC903",
           "#FDC903",
           "#FDC903",
           "#FDC903",
           "#FDC903",
           "#FDC903",
           "#FDC903",
           "#FDC903",
           "#FDC903",
           "#FDC903",
           "#FDC903",
           "#FDC903",
           "#FDC903",
           "#FDC903",
           "#FDC903",
           "#FDC903",
           "#FDC903",
           "#FDC903",
           "#FDC903",
           "#FDC903",
           "#FDC903",
           "#FDC903",
           "#FDC903",
           "#FDC903",
           "#FDC903",
           "#FDC903",
           "#FDC903",
           "#FDC903",
           "#FDC903",
           "#FDC903",
           "#FDC903",
           "#FDC903",
           "#FDC903",
           "#FDC903",
           "#FDC903",
           "#FDC903",
           "#FDC903",
           "#FDC903",
           "#FDC903",
           "#FDC903",
           "#FDC903",
           "#FDC903",
           "#FDC903",
           "#FDC903",
           "#FDC903",
           "#FDC903",
           "#FDC903",
           "#FDC903",
           "#FDC903",
           "#FDC903",
           "#FDC903",
           "#FDC903",
           "#FDC903",
           "#FDC903",
           "#FDC903",
           "#FDC903",
           "#FDC903",
           "#FDC903",
           "#FDC903",
           "#FDC903",
           "#FDC903",
           "#FDC903",
           "#FDC903",
           "#FDC903",
           "#FDC903",
           "#FDC903",
           "#FDC903",
           "#FDC903",
           "#FDC903",
           "#FDC903",
           "#FDC903",
           "#FDC903",
           "#FDC903",
           "#FDC903",
           "#FDC903",
           "#FDC903",
           "#FDC903",
           "#C1A471",
           "#C1A471",
           "#C1A471",
           "#C1A471",
           "#C1A471",
           "#C1A471",
           "#C1A471",
           "#C1A471",
           "#C1A471",
           "#C1A471",
           "#C1A471",
           "#C1A471",
           "#C1A471",
           "#C1A471",
           "#C1A471",
           "#C1A471",
           "#C1A471",
           "#C1A471",
           "#C1A471",
           "#C1A471",
           "#C1A471",
           "#C1A471",
           "#C1A471",
           "#C1A471",
           "#C1A471",
           "#C1A471",
           "#C1A471",
           "#C1A471",
           "#C1A471",
           "#C1A471",
           "#C1A471",
           "#C1A471",
           "#C1A471",
           "#C1A471",
           "#C1A471",
           "#C1A471",
           "#C1A471",
           "#C1A471",
           "#C1A471",
           "#C1A471",
           "#C1A471",
           "#C1A471",
           "#C1A471",
           "#C1A471",
           "#C1A471",
           "#C1A471",
           "#C1A471",
           "#C1A471",
           "#C1A471",
           "#C1A471",
           "#C1A471",
           "#C1A471",
           "#C1A471",
           "#C1A471",
           "#C1A471",
           "#C1A471",
           "#C1A471",
           "#C1A471",
           "#C1A471",
           "#C1A471",
           "#C1A471",
           "#C1A471",
           "#C1A471",
           "#C1A471",
           "#C1A471",
           "#C1A471",
           "#C1A471",
           "#C1A471",
           "#C1A471",
           "#C1A471",
           "#C1A471",
           "#C1A471",
           "#C1A471",
           "#C1A471",
           "#C1A471",
           "#C1A471",
           "#C1A471",
           "#C1A471",
           "#C1A471",
           "#C1A471",
           "#C1A471",
           "#C1A471",
           "#C1A471",
           "#C1A471",
           "#C1A471",
           "#C1A471",
           "#C1A471",
           "#C1A471",
           "#C1A471",
           "#C1A471",
           "#C1A471",
           "#C1A471",
           "#C1A471",
           "#C1A471",
           "#C1A471",
           "#C1A471",
           "#C1A471",
           "#C1A471",
           "#C1A471",
           "#C1A471",
           "#C1A471",
           "#C1A471",
           "#C1A471",
           "#C1A471",
           "#C1A471",
           "#C1A471",
           "#C1A471",
           "#C1A471",
           "#C1A471",
           "#C1A471",
           "#C1A471",
           "#C1A471",
           "#C1A471",
           "#C1A471",
           "#C1A471",
           "#C1A471",
           "#C1A471",
           "#C1A471",
           "#C1A471",
           "#C1A471",
           "#C1A471",
           "#C1A471",
           "#C1A471",
           "#C1A471",
           "#C1A471",
           "#C1A471",
           "#C1A471",
           "#C1A471",
           "#C1A471",
           "#C1A471",
           "#C1A471",
           "#C1A471",
           "#C1A471",
           "#C1A471",
           "#C1A471",
           "#C1A471",
           "#C1A471",
           "#C1A471",
           "#C1A471",
           "#C1A471",
           "#C1A471",
           "#C1A471",
           "#C1A471",
           "#C1A471",
           "#C1A471",
           "#C1A471",
           "#C1A471"
          ]
         },
         "mode": "markers",
         "text": [
          "el Raval",
          "el Raval",
          "el Raval",
          "el Raval",
          "el Raval",
          "el Raval",
          "el Raval",
          "el Raval",
          "el Raval",
          "el Raval",
          "el Raval",
          "el Raval",
          "el Raval",
          "el Raval",
          "el Raval",
          "el Raval",
          "el Raval",
          "el Raval",
          "el Raval",
          "el Raval",
          "el Raval",
          "el Barri Gòtic",
          "el Barri Gòtic",
          "el Barri Gòtic",
          "el Barri Gòtic",
          "el Barri Gòtic",
          "el Barri Gòtic",
          "el Barri Gòtic",
          "el Barri Gòtic",
          "el Barri Gòtic",
          "la Barceloneta",
          "la Barceloneta",
          "la Barceloneta",
          "la Barceloneta",
          "la Barceloneta",
          "la Barceloneta",
          "la Barceloneta",
          "la Barceloneta",
          "la Barceloneta",
          "la Barceloneta",
          "la Barceloneta",
          "Sant Pere, Santa Caterina i la Ribera",
          "Sant Pere, Santa Caterina i la Ribera",
          "Sant Pere, Santa Caterina i la Ribera",
          "Sant Pere, Santa Caterina i la Ribera",
          "Sant Pere, Santa Caterina i la Ribera",
          "Sant Pere, Santa Caterina i la Ribera",
          "Sant Pere, Santa Caterina i la Ribera",
          "Sant Pere, Santa Caterina i la Ribera",
          "Sant Pere, Santa Caterina i la Ribera",
          "Sant Pere, Santa Caterina i la Ribera",
          "Sant Pere, Santa Caterina i la Ribera",
          "Sant Pere, Santa Caterina i la Ribera",
          "Sant Pere, Santa Caterina i la Ribera",
          "el Fort Pienc",
          "el Fort Pienc",
          "el Fort Pienc",
          "el Fort Pienc",
          "el Fort Pienc",
          "el Fort Pienc",
          "el Fort Pienc",
          "el Fort Pienc",
          "el Fort Pienc",
          "el Fort Pienc",
          "el Fort Pienc",
          "el Fort Pienc",
          "el Fort Pienc",
          "el Fort Pienc",
          "el Fort Pienc",
          "el Fort Pienc",
          "el Fort Pienc",
          "el Fort Pienc",
          "el Fort Pienc",
          "el Fort Pienc",
          "la Sagrada Família",
          "la Sagrada Família",
          "la Sagrada Família",
          "la Sagrada Família",
          "la Sagrada Família",
          "la Sagrada Família",
          "la Sagrada Família",
          "la Sagrada Família",
          "la Sagrada Família",
          "la Sagrada Família",
          "la Sagrada Família",
          "la Sagrada Família",
          "la Sagrada Família",
          "la Sagrada Família",
          "la Sagrada Família",
          "la Sagrada Família",
          "la Sagrada Família",
          "la Sagrada Família",
          "la Sagrada Família",
          "la Sagrada Família",
          "la Sagrada Família",
          "la Sagrada Família",
          "la Sagrada Família",
          "la Sagrada Família",
          "la Sagrada Família",
          "la Sagrada Família",
          "la Sagrada Família",
          "la Sagrada Família",
          "la Sagrada Família",
          "la Sagrada Família",
          "la Sagrada Família",
          "la Sagrada Família",
          "la Sagrada Família",
          "la Sagrada Família",
          "la Dreta de l'Eixample",
          "la Dreta de l'Eixample",
          "la Dreta de l'Eixample",
          "la Dreta de l'Eixample",
          "la Dreta de l'Eixample",
          "la Dreta de l'Eixample",
          "la Dreta de l'Eixample",
          "la Dreta de l'Eixample",
          "la Dreta de l'Eixample",
          "la Dreta de l'Eixample",
          "la Dreta de l'Eixample",
          "la Dreta de l'Eixample",
          "la Dreta de l'Eixample",
          "la Dreta de l'Eixample",
          "la Dreta de l'Eixample",
          "la Dreta de l'Eixample",
          "la Dreta de l'Eixample",
          "la Dreta de l'Eixample",
          "la Dreta de l'Eixample",
          "la Dreta de l'Eixample",
          "la Dreta de l'Eixample",
          "la Dreta de l'Eixample",
          "la Dreta de l'Eixample",
          "la Dreta de l'Eixample",
          "la Dreta de l'Eixample",
          "la Dreta de l'Eixample",
          "la Dreta de l'Eixample",
          "la Dreta de l'Eixample",
          "la Dreta de l'Eixample",
          "l'Antiga Esquerra de l'Eixample",
          "l'Antiga Esquerra de l'Eixample",
          "l'Antiga Esquerra de l'Eixample",
          "l'Antiga Esquerra de l'Eixample",
          "l'Antiga Esquerra de l'Eixample",
          "l'Antiga Esquerra de l'Eixample",
          "l'Antiga Esquerra de l'Eixample",
          "l'Antiga Esquerra de l'Eixample",
          "l'Antiga Esquerra de l'Eixample",
          "l'Antiga Esquerra de l'Eixample",
          "l'Antiga Esquerra de l'Eixample",
          "l'Antiga Esquerra de l'Eixample",
          "l'Antiga Esquerra de l'Eixample",
          "l'Antiga Esquerra de l'Eixample",
          "l'Antiga Esquerra de l'Eixample",
          "l'Antiga Esquerra de l'Eixample",
          "l'Antiga Esquerra de l'Eixample",
          "l'Antiga Esquerra de l'Eixample",
          "l'Antiga Esquerra de l'Eixample",
          "l'Antiga Esquerra de l'Eixample",
          "l'Antiga Esquerra de l'Eixample",
          "l'Antiga Esquerra de l'Eixample",
          "l'Antiga Esquerra de l'Eixample",
          "l'Antiga Esquerra de l'Eixample",
          "l'Antiga Esquerra de l'Eixample",
          "l'Antiga Esquerra de l'Eixample",
          "la Nova Esquerra de l'Eixample",
          "la Nova Esquerra de l'Eixample",
          "la Nova Esquerra de l'Eixample",
          "la Nova Esquerra de l'Eixample",
          "la Nova Esquerra de l'Eixample",
          "la Nova Esquerra de l'Eixample",
          "la Nova Esquerra de l'Eixample",
          "la Nova Esquerra de l'Eixample",
          "la Nova Esquerra de l'Eixample",
          "la Nova Esquerra de l'Eixample",
          "la Nova Esquerra de l'Eixample",
          "la Nova Esquerra de l'Eixample",
          "la Nova Esquerra de l'Eixample",
          "la Nova Esquerra de l'Eixample",
          "la Nova Esquerra de l'Eixample",
          "la Nova Esquerra de l'Eixample",
          "la Nova Esquerra de l'Eixample",
          "la Nova Esquerra de l'Eixample",
          "la Nova Esquerra de l'Eixample",
          "la Nova Esquerra de l'Eixample",
          "la Nova Esquerra de l'Eixample",
          "la Nova Esquerra de l'Eixample",
          "la Nova Esquerra de l'Eixample",
          "la Nova Esquerra de l'Eixample",
          "la Nova Esquerra de l'Eixample",
          "la Nova Esquerra de l'Eixample",
          "la Nova Esquerra de l'Eixample",
          "la Nova Esquerra de l'Eixample",
          "la Nova Esquerra de l'Eixample",
          "la Nova Esquerra de l'Eixample",
          "la Nova Esquerra de l'Eixample",
          "la Nova Esquerra de l'Eixample",
          "la Nova Esquerra de l'Eixample",
          "la Nova Esquerra de l'Eixample",
          "la Nova Esquerra de l'Eixample",
          "la Nova Esquerra de l'Eixample",
          "la Nova Esquerra de l'Eixample",
          "la Nova Esquerra de l'Eixample",
          "la Nova Esquerra de l'Eixample",
          "la Nova Esquerra de l'Eixample",
          "Sant Antoni",
          "Sant Antoni",
          "Sant Antoni",
          "Sant Antoni",
          "Sant Antoni",
          "Sant Antoni",
          "Sant Antoni",
          "Sant Antoni",
          "Sant Antoni",
          "Sant Antoni",
          "Sant Antoni",
          "Sant Antoni",
          "Sant Antoni",
          "Sant Antoni",
          "Sant Antoni",
          "Sant Antoni",
          "Sant Antoni",
          "Sant Antoni",
          "Sant Antoni",
          "Sant Antoni",
          "Sant Antoni",
          "Sant Antoni",
          "Sant Antoni",
          "Sant Antoni",
          "el Poble Sec",
          "el Poble Sec",
          "el Poble Sec",
          "el Poble Sec",
          "el Poble Sec",
          "el Poble Sec",
          "el Poble Sec",
          "el Poble Sec",
          "el Poble Sec",
          "el Poble Sec",
          "el Poble Sec",
          "el Poble Sec",
          "el Poble Sec",
          "el Poble Sec",
          "el Poble Sec",
          "el Poble Sec",
          "el Poble Sec",
          "el Poble Sec",
          "el Poble Sec",
          "el Poble Sec",
          "el Poble Sec",
          "el Poble Sec",
          "el Poble Sec",
          "el Poble Sec",
          "la Marina del Prat Vermell",
          "la Marina de Port",
          "la Marina de Port",
          "la Marina de Port",
          "la Marina de Port",
          "la Marina de Port",
          "la Marina de Port",
          "la Marina de Port",
          "la Marina de Port",
          "la Marina de Port",
          "la Marina de Port",
          "la Marina de Port",
          "la Marina de Port",
          "la Marina de Port",
          "la Marina de Port",
          "la Font de la Guatlla",
          "la Font de la Guatlla",
          "la Font de la Guatlla",
          "la Font de la Guatlla",
          "la Font de la Guatlla",
          "la Font de la Guatlla",
          "la Font de la Guatlla",
          "Hostafrancs",
          "Hostafrancs",
          "Hostafrancs",
          "Hostafrancs",
          "Hostafrancs",
          "Hostafrancs",
          "Hostafrancs",
          "Hostafrancs",
          "Hostafrancs",
          "Hostafrancs",
          "la Bordeta",
          "la Bordeta",
          "la Bordeta",
          "la Bordeta",
          "la Bordeta",
          "la Bordeta",
          "la Bordeta",
          "la Bordeta",
          "la Bordeta",
          "la Bordeta",
          "la Bordeta",
          "la Bordeta",
          "la Bordeta",
          "Sants-Badal",
          "Sants-Badal",
          "Sants-Badal",
          "Sants-Badal",
          "Sants-Badal",
          "Sants-Badal",
          "Sants-Badal",
          "Sants-Badal",
          "Sants-Badal",
          "Sants-Badal",
          "Sants-Badal",
          "Sants-Badal",
          "Sants-Badal",
          "Sants-Badal",
          "Sants-Badal",
          "Sants-Badal",
          "Sants",
          "Sants",
          "Sants",
          "Sants",
          "Sants",
          "Sants",
          "Sants",
          "Sants",
          "Sants",
          "Sants",
          "Sants",
          "Sants",
          "Sants",
          "Sants",
          "Sants",
          "Sants",
          "Sants",
          "Sants",
          "Sants",
          "Sants",
          "Sants",
          "Sants",
          "Sants",
          "Sants",
          "Sants",
          "Sants",
          "Sants",
          "Sants",
          "Sants",
          "la Marina de Port",
          "la Marina de Port",
          "la Marina de Port",
          "les Corts",
          "les Corts",
          "les Corts",
          "les Corts",
          "les Corts",
          "les Corts",
          "les Corts",
          "les Corts",
          "les Corts",
          "les Corts",
          "les Corts",
          "les Corts",
          "les Corts",
          "les Corts",
          "les Corts",
          "les Corts",
          "les Corts",
          "les Corts",
          "les Corts",
          "les Corts",
          "les Corts",
          "les Corts",
          "les Corts",
          "les Corts",
          "les Corts",
          "les Corts",
          "les Corts",
          "les Corts",
          "les Corts",
          "les Corts",
          "les Corts",
          "les Corts",
          "les Corts",
          "les Corts",
          "les Corts",
          "la Maternitat i Sant Ramon",
          "la Maternitat i Sant Ramon",
          "la Maternitat i Sant Ramon",
          "la Maternitat i Sant Ramon",
          "la Maternitat i Sant Ramon",
          "la Maternitat i Sant Ramon",
          "la Maternitat i Sant Ramon",
          "la Maternitat i Sant Ramon",
          "la Maternitat i Sant Ramon",
          "la Maternitat i Sant Ramon",
          "la Maternitat i Sant Ramon",
          "la Maternitat i Sant Ramon",
          "la Maternitat i Sant Ramon",
          "la Maternitat i Sant Ramon",
          "Pedralbes",
          "Pedralbes",
          "Pedralbes",
          "Pedralbes",
          "Pedralbes",
          "Pedralbes",
          "Pedralbes",
          "la Maternitat i Sant Ramon",
          "Vallvidrera, el Tibidabo i les Planes",
          "Vallvidrera, el Tibidabo i les Planes",
          "Vallvidrera, el Tibidabo i les Planes",
          "Sarrià",
          "Sarrià",
          "Sarrià",
          "Sarrià",
          "Sarrià",
          "Sarrià",
          "Sarrià",
          "Sarrià",
          "Sarrià",
          "Sarrià",
          "Sarrià",
          "Sarrià",
          "Sarrià",
          "Sarrià",
          "Sarrià",
          "Sarrià",
          "les Tres Torres",
          "les Tres Torres",
          "les Tres Torres",
          "les Tres Torres",
          "les Tres Torres",
          "les Tres Torres",
          "les Tres Torres",
          "les Tres Torres",
          "les Tres Torres",
          "les Tres Torres",
          "les Tres Torres",
          "Sant Gervasi- la Bonanova",
          "Sant Gervasi- la Bonanova",
          "Sant Gervasi- la Bonanova",
          "Sant Gervasi- la Bonanova",
          "Sant Gervasi- la Bonanova",
          "Sant Gervasi- la Bonanova",
          "Sant Gervasi- la Bonanova",
          "Sant Gervasi- la Bonanova",
          "Sant Gervasi- la Bonanova",
          "Sant Gervasi- la Bonanova",
          "Sant Gervasi- la Bonanova",
          "Sant Gervasi- la Bonanova",
          "Sant Gervasi- la Bonanova",
          "Sant Gervasi- la Bonanova",
          "Sant Gervasi- la Bonanova",
          "Sant Gervasi- la Bonanova",
          "Sant Gervasi- la Bonanova",
          "Sant Gervasi- la Bonanova",
          "Sant Gervasi- Galvany",
          "Sant Gervasi- Galvany",
          "Sant Gervasi- Galvany",
          "Sant Gervasi- Galvany",
          "Sant Gervasi- Galvany",
          "Sant Gervasi- Galvany",
          "Sant Gervasi- Galvany",
          "Sant Gervasi- Galvany",
          "Sant Gervasi- Galvany",
          "Sant Gervasi- Galvany",
          "Sant Gervasi- Galvany",
          "Sant Gervasi- Galvany",
          "Sant Gervasi- Galvany",
          "Sant Gervasi- Galvany",
          "Sant Gervasi- Galvany",
          "Sant Gervasi- Galvany",
          "Sant Gervasi- Galvany",
          "Sant Gervasi- Galvany",
          "Sant Gervasi- Galvany",
          "Sant Gervasi- Galvany",
          "Sant Gervasi- Galvany",
          "Sant Gervasi- Galvany",
          "Sant Gervasi- Galvany",
          "Sant Gervasi- Galvany",
          "Sant Gervasi- Galvany",
          "Sant Gervasi- Galvany",
          "Sant Gervasi- Galvany",
          "Sant Gervasi- Galvany",
          "Sant Gervasi- Galvany",
          "Sant Gervasi- Galvany",
          "Sant Gervasi- Galvany",
          "el Putxet i el Farró",
          "el Putxet i el Farró",
          "el Putxet i el Farró",
          "el Putxet i el Farró",
          "el Putxet i el Farró",
          "el Putxet i el Farró",
          "el Putxet i el Farró",
          "el Putxet i el Farró",
          "el Putxet i el Farró",
          "el Putxet i el Farró",
          "el Putxet i el Farró",
          "el Putxet i el Farró",
          "el Putxet i el Farró",
          "el Putxet i el Farró",
          "el Putxet i el Farró",
          "el Putxet i el Farró",
          "el Putxet i el Farró",
          "el Putxet i el Farró",
          "el Putxet i el Farró",
          "Vallcarca i els Penitents",
          "Vallcarca i els Penitents",
          "Vallcarca i els Penitents",
          "Vallcarca i els Penitents",
          "Vallcarca i els Penitents",
          "Vallcarca i els Penitents",
          "Vallcarca i els Penitents",
          "Vallcarca i els Penitents",
          "Vallcarca i els Penitents",
          "Vallcarca i els Penitents",
          "Vallcarca i els Penitents",
          "el Coll",
          "el Coll",
          "el Coll",
          "el Coll",
          "el Coll",
          "la Salut",
          "la Salut",
          "la Salut",
          "la Salut",
          "la Salut",
          "la Salut",
          "la Salut",
          "la Salut",
          "la Salut",
          "la Salut",
          "la Vila de Gràcia",
          "la Vila de Gràcia",
          "la Vila de Gràcia",
          "la Vila de Gràcia",
          "la Vila de Gràcia",
          "la Vila de Gràcia",
          "la Vila de Gràcia",
          "la Vila de Gràcia",
          "la Vila de Gràcia",
          "la Vila de Gràcia",
          "la Vila de Gràcia",
          "la Vila de Gràcia",
          "la Vila de Gràcia",
          "la Vila de Gràcia",
          "la Vila de Gràcia",
          "la Vila de Gràcia",
          "la Vila de Gràcia",
          "la Vila de Gràcia",
          "la Vila de Gràcia",
          "la Vila de Gràcia",
          "la Vila de Gràcia",
          "la Vila de Gràcia",
          "la Vila de Gràcia",
          "la Vila de Gràcia",
          "la Vila de Gràcia",
          "la Vila de Gràcia",
          "la Vila de Gràcia",
          "la Vila de Gràcia",
          "la Vila de Gràcia",
          "la Vila de Gràcia",
          "la Vila de Gràcia",
          "la Vila de Gràcia",
          "la Vila de Gràcia",
          "la Vila de Gràcia",
          "la Vila de Gràcia",
          "la Vila de Gràcia",
          "el Camp d'en Grassot i Gràcia Nova",
          "el Camp d'en Grassot i Gràcia Nova",
          "el Camp d'en Grassot i Gràcia Nova",
          "el Camp d'en Grassot i Gràcia Nova",
          "el Camp d'en Grassot i Gràcia Nova",
          "el Camp d'en Grassot i Gràcia Nova",
          "el Camp d'en Grassot i Gràcia Nova",
          "el Camp d'en Grassot i Gràcia Nova",
          "el Camp d'en Grassot i Gràcia Nova",
          "el Camp d'en Grassot i Gràcia Nova",
          "el Camp d'en Grassot i Gràcia Nova",
          "el Camp d'en Grassot i Gràcia Nova",
          "el Camp d'en Grassot i Gràcia Nova",
          "el Camp d'en Grassot i Gràcia Nova",
          "el Camp d'en Grassot i Gràcia Nova",
          "el Camp d'en Grassot i Gràcia Nova",
          "el Camp d'en Grassot i Gràcia Nova",
          "el Camp d'en Grassot i Gràcia Nova",
          "el Camp d'en Grassot i Gràcia Nova",
          "el Camp d'en Grassot i Gràcia Nova",
          "el Camp d'en Grassot i Gràcia Nova",
          "el Camp d'en Grassot i Gràcia Nova",
          "el Camp d'en Grassot i Gràcia Nova",
          "el Camp d'en Grassot i Gràcia Nova",
          "el Camp d'en Grassot i Gràcia Nova",
          "el Baix Guinardó",
          "el Baix Guinardó",
          "el Baix Guinardó",
          "el Baix Guinardó",
          "el Baix Guinardó",
          "el Baix Guinardó",
          "el Baix Guinardó",
          "el Baix Guinardó",
          "el Baix Guinardó",
          "el Baix Guinardó",
          "el Baix Guinardó",
          "el Baix Guinardó",
          "el Baix Guinardó",
          "el Baix Guinardó",
          "el Baix Guinardó",
          "el Baix Guinardó",
          "el Baix Guinardó",
          "el Baix Guinardó",
          "el Baix Guinardó",
          "Can Baró",
          "Can Baró",
          "Can Baró",
          "Can Baró",
          "Can Baró",
          "Can Baró",
          "Can Baró",
          "el Guinardó",
          "el Guinardó",
          "el Guinardó",
          "el Guinardó",
          "el Guinardó",
          "el Guinardó",
          "el Guinardó",
          "el Guinardó",
          "el Guinardó",
          "el Guinardó",
          "el Guinardó",
          "el Guinardó",
          "el Guinardó",
          "el Guinardó",
          "el Guinardó",
          "el Guinardó",
          "el Guinardó",
          "el Guinardó",
          "el Guinardó",
          "el Guinardó",
          "el Guinardó",
          "el Guinardó",
          "el Guinardó",
          "el Guinardó",
          "el Guinardó",
          "la Font d'en Fargues",
          "la Font d'en Fargues",
          "la Font d'en Fargues",
          "la Font d'en Fargues",
          "la Font d'en Fargues",
          "la Font d'en Fargues",
          "la Font d'en Fargues",
          "el Carmel",
          "el Carmel",
          "el Carmel",
          "el Carmel",
          "el Carmel",
          "el Carmel",
          "el Carmel",
          "el Carmel",
          "el Carmel",
          "el Carmel",
          "el Carmel",
          "el Carmel",
          "el Carmel",
          "el Carmel",
          "el Carmel",
          "el Carmel",
          "el Carmel",
          "el Carmel",
          "el Carmel",
          "el Carmel",
          "el Carmel",
          "el Carmel",
          "la Teixonera",
          "la Teixonera",
          "la Teixonera",
          "la Teixonera",
          "la Teixonera",
          "la Teixonera",
          "la Teixonera",
          "la Teixonera",
          "Sant Genís dels Agudells",
          "Sant Genís dels Agudells",
          "Sant Genís dels Agudells",
          "Sant Genís dels Agudells",
          "Sant Genís dels Agudells",
          "Montbau",
          "Montbau",
          "Montbau",
          "Montbau",
          "la Vall d'Hebron",
          "la Vall d'Hebron",
          "la Vall d'Hebron",
          "la Vall d'Hebron",
          "la Clota",
          "Horta",
          "Horta",
          "Horta",
          "Horta",
          "Horta",
          "Horta",
          "Horta",
          "Horta",
          "Horta",
          "Horta",
          "Horta",
          "Horta",
          "Horta",
          "Horta",
          "Horta",
          "Horta",
          "Horta",
          "Horta",
          "Horta",
          "Horta",
          "Horta",
          "Vilapicina i la Torre Llobeta",
          "Vilapicina i la Torre Llobeta",
          "Vilapicina i la Torre Llobeta",
          "Vilapicina i la Torre Llobeta",
          "Vilapicina i la Torre Llobeta",
          "Vilapicina i la Torre Llobeta",
          "Vilapicina i la Torre Llobeta",
          "Vilapicina i la Torre Llobeta",
          "Vilapicina i la Torre Llobeta",
          "Vilapicina i la Torre Llobeta",
          "Vilapicina i la Torre Llobeta",
          "Vilapicina i la Torre Llobeta",
          "Vilapicina i la Torre Llobeta",
          "Vilapicina i la Torre Llobeta",
          "Vilapicina i la Torre Llobeta",
          "Vilapicina i la Torre Llobeta",
          "Vilapicina i la Torre Llobeta",
          "Vilapicina i la Torre Llobeta",
          "Vilapicina i la Torre Llobeta",
          "Porta",
          "Porta",
          "Porta",
          "Porta",
          "Porta",
          "Porta",
          "Porta",
          "Porta",
          "Porta",
          "Porta",
          "Porta",
          "Porta",
          "Porta",
          "Porta",
          "Porta",
          "Porta",
          "Porta",
          "Porta",
          "el Turó de la Peira",
          "el Turó de la Peira",
          "el Turó de la Peira",
          "el Turó de la Peira",
          "el Turó de la Peira",
          "el Turó de la Peira",
          "el Turó de la Peira",
          "el Turó de la Peira",
          "el Turó de la Peira",
          "el Turó de la Peira",
          "Can Peguera",
          "Can Peguera",
          "la Guineueta",
          "la Guineueta",
          "la Guineueta",
          "la Guineueta",
          "la Guineueta",
          "la Guineueta",
          "la Guineueta",
          "la Guineueta",
          "la Guineueta",
          "la Guineueta",
          "Canyelles",
          "Canyelles",
          "Canyelles",
          "Canyelles",
          "Canyelles",
          "les Roquetes",
          "les Roquetes",
          "les Roquetes",
          "les Roquetes",
          "les Roquetes",
          "les Roquetes",
          "les Roquetes",
          "les Roquetes",
          "les Roquetes",
          "les Roquetes",
          "Verdun",
          "Verdun",
          "Verdun",
          "Verdun",
          "Verdun",
          "Verdun",
          "Verdun",
          "Verdun",
          "la Prosperitat",
          "la Prosperitat",
          "la Prosperitat",
          "la Prosperitat",
          "la Prosperitat",
          "la Prosperitat",
          "la Prosperitat",
          "la Prosperitat",
          "la Prosperitat",
          "la Prosperitat",
          "la Prosperitat",
          "la Prosperitat",
          "la Prosperitat",
          "la Prosperitat",
          "la Prosperitat",
          "la Prosperitat",
          "la Prosperitat",
          "la Prosperitat",
          "la Prosperitat",
          "la Prosperitat",
          "la Trinitat Nova",
          "la Trinitat Nova",
          "la Trinitat Nova",
          "la Trinitat Nova",
          "la Trinitat Nova",
          "Torre Baró",
          "Torre Baró",
          "Ciutat Meridiana",
          "Ciutat Meridiana",
          "Ciutat Meridiana",
          "Ciutat Meridiana",
          "Ciutat Meridiana",
          "Ciutat Meridiana",
          "Vallbona",
          "la Guineueta",
          "la Trinitat Vella",
          "la Trinitat Vella",
          "la Trinitat Vella",
          "la Trinitat Vella",
          "la Trinitat Vella",
          "Baró de Viver",
          "Baró de Viver",
          "el Bon Pastor",
          "el Bon Pastor",
          "el Bon Pastor",
          "el Bon Pastor",
          "el Bon Pastor",
          "el Bon Pastor",
          "el Bon Pastor",
          "Sant Andreu",
          "Sant Andreu",
          "Sant Andreu",
          "Sant Andreu",
          "Sant Andreu",
          "Sant Andreu",
          "Sant Andreu",
          "Sant Andreu",
          "Sant Andreu",
          "Sant Andreu",
          "Sant Andreu",
          "Sant Andreu",
          "Sant Andreu",
          "Sant Andreu",
          "Sant Andreu",
          "Sant Andreu",
          "Sant Andreu",
          "Sant Andreu",
          "Sant Andreu",
          "Sant Andreu",
          "Sant Andreu",
          "Sant Andreu",
          "Sant Andreu",
          "Sant Andreu",
          "Sant Andreu",
          "Sant Andreu",
          "Sant Andreu",
          "Sant Andreu",
          "Sant Andreu",
          "Sant Andreu",
          "Sant Andreu",
          "Sant Andreu",
          "Sant Andreu",
          "Sant Andreu",
          "Sant Andreu",
          "Sant Andreu",
          "Sant Andreu",
          "Sant Andreu",
          "Sant Andreu",
          "la Sagrera",
          "la Sagrera",
          "la Sagrera",
          "la Sagrera",
          "la Sagrera",
          "la Sagrera",
          "la Sagrera",
          "la Sagrera",
          "la Sagrera",
          "la Sagrera",
          "la Sagrera",
          "la Sagrera",
          "la Sagrera",
          "la Sagrera",
          "la Sagrera",
          "la Sagrera",
          "la Sagrera",
          "la Sagrera",
          "la Sagrera",
          "el Congrés i els Indians",
          "el Congrés i els Indians",
          "el Congrés i els Indians",
          "el Congrés i els Indians",
          "el Congrés i els Indians",
          "el Congrés i els Indians",
          "el Congrés i els Indians",
          "el Congrés i els Indians",
          "el Congrés i els Indians",
          "Navas",
          "Navas",
          "Navas",
          "Navas",
          "Navas",
          "Navas",
          "Navas",
          "Navas",
          "Navas",
          "Navas",
          "Navas",
          "Navas",
          "Navas",
          "la Sagrera",
          "el Camp de l'Arpa del Clot",
          "el Camp de l'Arpa del Clot",
          "el Camp de l'Arpa del Clot",
          "el Camp de l'Arpa del Clot",
          "el Camp de l'Arpa del Clot",
          "el Camp de l'Arpa del Clot",
          "el Camp de l'Arpa del Clot",
          "el Camp de l'Arpa del Clot",
          "el Camp de l'Arpa del Clot",
          "el Camp de l'Arpa del Clot",
          "el Camp de l'Arpa del Clot",
          "el Camp de l'Arpa del Clot",
          "el Camp de l'Arpa del Clot",
          "el Camp de l'Arpa del Clot",
          "el Camp de l'Arpa del Clot",
          "el Camp de l'Arpa del Clot",
          "el Camp de l'Arpa del Clot",
          "el Camp de l'Arpa del Clot",
          "el Camp de l'Arpa del Clot",
          "el Camp de l'Arpa del Clot",
          "el Camp de l'Arpa del Clot",
          "el Camp de l'Arpa del Clot",
          "el Camp de l'Arpa del Clot",
          "el Camp de l'Arpa del Clot",
          "el Camp de l'Arpa del Clot",
          "el Clot",
          "el Clot",
          "el Clot",
          "el Clot",
          "el Clot",
          "el Clot",
          "el Clot",
          "el Clot",
          "el Clot",
          "el Clot",
          "el Clot",
          "el Clot",
          "el Clot",
          "el Clot",
          "el Clot",
          "el Clot",
          "el Parc i la Llacuna del Poblenou",
          "el Parc i la Llacuna del Poblenou",
          "el Parc i la Llacuna del Poblenou",
          "el Parc i la Llacuna del Poblenou",
          "el Parc i la Llacuna del Poblenou",
          "el Parc i la Llacuna del Poblenou",
          "el Parc i la Llacuna del Poblenou",
          "el Parc i la Llacuna del Poblenou",
          "el Parc i la Llacuna del Poblenou",
          "la Vila Olímpica del Poblenou",
          "la Vila Olímpica del Poblenou",
          "la Vila Olímpica del Poblenou",
          "la Vila Olímpica del Poblenou",
          "la Vila Olímpica del Poblenou",
          "el Poblenou",
          "el Poblenou",
          "el Poblenou",
          "el Poblenou",
          "el Poblenou",
          "el Poblenou",
          "el Poblenou",
          "el Poblenou",
          "el Poblenou",
          "el Poblenou",
          "el Poblenou",
          "el Poblenou",
          "el Poblenou",
          "el Poblenou",
          "el Poblenou",
          "el Poblenou",
          "el Poblenou",
          "el Poblenou",
          "el Poblenou",
          "el Poblenou",
          "Diagonal Mar i el Front Marítim del Poblenou",
          "Diagonal Mar i el Front Marítim del Poblenou",
          "Diagonal Mar i el Front Marítim del Poblenou",
          "Diagonal Mar i el Front Marítim del Poblenou",
          "Diagonal Mar i el Front Marítim del Poblenou",
          "el Besòs i el Maresme",
          "el Besòs i el Maresme",
          "el Besòs i el Maresme",
          "el Besòs i el Maresme",
          "el Besòs i el Maresme",
          "el Besòs i el Maresme",
          "el Besòs i el Maresme",
          "el Besòs i el Maresme",
          "el Besòs i el Maresme",
          "el Besòs i el Maresme",
          "el Besòs i el Maresme",
          "el Besòs i el Maresme",
          "el Besòs i el Maresme",
          "Provençals del Poblenou",
          "Provençals del Poblenou",
          "Provençals del Poblenou",
          "Provençals del Poblenou",
          "Provençals del Poblenou",
          "Provençals del Poblenou",
          "Provençals del Poblenou",
          "Provençals del Poblenou",
          "Provençals del Poblenou",
          "Provençals del Poblenou",
          "Provençals del Poblenou",
          "Sant Martí de Provençals",
          "Sant Martí de Provençals",
          "Sant Martí de Provençals",
          "Sant Martí de Provençals",
          "Sant Martí de Provençals",
          "Sant Martí de Provençals",
          "Sant Martí de Provençals",
          "Sant Martí de Provençals",
          "Sant Martí de Provençals",
          "Sant Martí de Provençals",
          "Sant Martí de Provençals",
          "Sant Martí de Provençals",
          "Sant Martí de Provençals",
          "Sant Martí de Provençals",
          "Sant Martí de Provençals",
          "Sant Martí de Provençals",
          "Sant Martí de Provençals",
          "Sant Martí de Provençals",
          "la Verneda i la Pau",
          "la Verneda i la Pau",
          "la Verneda i la Pau",
          "la Verneda i la Pau",
          "la Verneda i la Pau",
          "la Verneda i la Pau",
          "la Verneda i la Pau",
          "la Verneda i la Pau",
          "la Verneda i la Pau",
          "la Verneda i la Pau",
          "la Verneda i la Pau",
          "la Verneda i la Pau",
          "la Verneda i la Pau",
          "la Verneda i la Pau",
          "la Verneda i la Pau",
          "la Verneda i la Pau",
          "la Verneda i la Pau",
          "la Verneda i la Pau",
          "la Verneda i la Pau",
          "la Verneda i la Pau",
          "la Verneda i la Pau",
          "el Clot",
          "Diagonal Mar i el Front Marítim del Poblenou",
          "Diagonal Mar i el Front Marítim del Poblenou",
          "Provençals del Poblenou"
         ],
         "type": "scatter",
         "x": [
          11166,
          9115,
          9431,
          10898,
          9717,
          10214,
          9880,
          7755,
          10011,
          8936,
          8137,
          10578,
          10757,
          10052,
          10444,
          9623,
          9048,
          9854,
          9665,
          14725,
          14304,
          15141,
          15038,
          14081,
          14859,
          13379,
          12429,
          11413,
          11300,
          11604,
          15133,
          12890,
          13175,
          12947,
          13476,
          13402,
          12033,
          13289,
          13332,
          11903,
          13567,
          17964,
          16272,
          14198,
          12601,
          13294,
          10784,
          13097,
          13589,
          11908,
          17727,
          12487,
          13563,
          17342,
          17360,
          18298,
          20487,
          14770,
          19933,
          20119,
          20950,
          19176,
          18832,
          17709,
          18661,
          15460,
          16269,
          14867,
          15300,
          19727,
          19271,
          19442,
          18071,
          16179,
          17317,
          17604,
          18726,
          16799,
          17109,
          18083,
          17722,
          17634,
          18484,
          14734,
          18904,
          18104,
          17289,
          15736,
          18096,
          19667,
          19484,
          19996,
          17259,
          15952,
          17755,
          20134,
          18660,
          15721,
          18535,
          16440,
          17138,
          16423,
          16513,
          17613,
          15763,
          18709,
          19165,
          18069,
          18909,
          19330,
          21523,
          21830,
          20727,
          20529,
          19310,
          22087,
          26639,
          24745,
          20403,
          19980,
          17865,
          18113,
          21546,
          23478,
          23431,
          25710,
          22981,
          22346,
          21690,
          23065,
          20255,
          22793,
          25585,
          23579,
          23739,
          23306,
          24587,
          21309,
          22742,
          23534,
          21878,
          23664,
          22208,
          18827,
          20757,
          18926,
          20906,
          20610,
          19778,
          19220,
          18395,
          19540,
          21069,
          20966,
          19595,
          22918,
          18186,
          21982,
          18362,
          22833,
          22415,
          23588,
          25041,
          19807,
          20187,
          25168,
          22820,
          19902,
          19295,
          23599,
          19934,
          22115,
          21194,
          20539,
          21153,
          22307,
          20294,
          21550,
          19386,
          20203,
          19190,
          17733,
          19347,
          27558,
          19073,
          20403,
          21245,
          18761,
          17714,
          20442,
          17649,
          19523,
          18339,
          19163,
          17975,
          16885,
          18211,
          20931,
          17652,
          18025,
          17981,
          20238,
          17709,
          16410,
          18345,
          19827,
          19322,
          15599,
          16523,
          18283,
          17057,
          17976,
          17571,
          19971,
          17628,
          16864,
          19768,
          18527,
          18275,
          17215,
          17274,
          17738,
          17432,
          17008,
          15879,
          16511,
          17459,
          14247,
          13238,
          12578,
          15018,
          13965,
          13622,
          14036,
          13008,
          14594,
          12625,
          11481,
          13185,
          12518,
          12020,
          12854,
          11779,
          11728,
          13871,
          12919,
          15696,
          15268,
          14977,
          12823,
          13386,
          11802,
          13981,
          15254,
          16508,
          13058,
          14732,
          13753,
          12628,
          10569,
          13542,
          15149,
          16205,
          16201,
          10862,
          10253,
          18097,
          15260,
          15009,
          16679,
          14226,
          16342,
          18791,
          15222,
          18503,
          16166,
          16854,
          13296,
          15113,
          14259,
          16441,
          15814,
          15558,
          15600,
          19114,
          14638,
          17070,
          15119,
          15918,
          15062,
          16876,
          16261,
          14794,
          16197,
          14292,
          17274,
          13649,
          13716,
          14094,
          16840,
          16459,
          14718,
          14766,
          14471,
          14565,
          13347,
          15269,
          15983,
          17703,
          17592,
          17681,
          17565,
          20636,
          18744,
          15939,
          18315,
          20224,
          17221,
          17178,
          17620,
          18401,
          16746,
          15753,
          12301,
          13798,
          16691,
          15773,
          16558,
          15895,
          16400,
          15703,
          15724,
          16349,
          16925,
          16315,
          17220,
          17987,
          18035,
          19022,
          21563,
          20519,
          14303,
          13518,
          11370,
          19560,
          21553,
          21399,
          19655,
          19197,
          19820,
          16869,
          17678,
          19377,
          21245,
          23153,
          21353,
          22913,
          24480,
          21460,
          23031,
          21899,
          23356,
          27099,
          22922,
          25576,
          21986,
          32039,
          30055,
          20994,
          22198,
          23982,
          21620,
          24135,
          22883,
          19907,
          18983,
          19120,
          23629,
          22479,
          18061,
          19682,
          19857,
          18164,
          14924,
          16471,
          15808,
          22614,
          17519,
          17251,
          25831,
          20835,
          22687,
          27584,
          32039,
          23882,
          32039,
          20738,
          29408,
          32039,
          28091,
          23741,
          15609,
          24298,
          25067,
          29020,
          28881,
          32039,
          26450,
          28510,
          24433,
          22590,
          26954,
          22557,
          24361,
          26875,
          24606,
          20831,
          32039,
          24121,
          28882,
          28365,
          32039,
          31459,
          21564,
          30766,
          32039,
          32039,
          32039,
          28626,
          31998,
          32039,
          32039,
          32039,
          28111,
          11363,
          32039,
          29621,
          22303,
          23592,
          29997,
          22151,
          25302,
          23455,
          22791,
          25508,
          26567,
          31896,
          28010,
          28998,
          30910,
          25096,
          29638,
          32039,
          32039,
          32039,
          32039,
          28645,
          32039,
          31425,
          27290,
          30049,
          24283,
          27750,
          28264,
          25613,
          23322,
          27942,
          27237,
          25340,
          23900,
          24230,
          22919,
          26494,
          23972,
          26419,
          22459,
          25714,
          26513,
          25536,
          24694,
          22807,
          22614,
          21454,
          21253,
          20950,
          20052,
          21320,
          23403,
          23219,
          23237,
          21497,
          22069,
          29232,
          25458,
          26953,
          19762,
          19615,
          23283,
          20828,
          16744,
          18046,
          17007,
          18961,
          24534,
          19814,
          19288,
          24101,
          21130,
          20529,
          23459,
          17306,
          16861,
          15364,
          14819,
          15734,
          17816,
          18217,
          18867,
          20212,
          18754,
          24168,
          19352,
          20472,
          19276,
          20478,
          17324,
          19759,
          17593,
          19342,
          17669,
          18613,
          17646,
          21464,
          19797,
          19395,
          18425,
          17396,
          20084,
          20306,
          21965,
          19377,
          23333,
          19421,
          18867,
          16688,
          17686,
          18821,
          16394,
          19246,
          17901,
          17941,
          16566,
          17975,
          17411,
          16791,
          19116,
          18461,
          17350,
          17818,
          16421,
          17066,
          19579,
          21031,
          17346,
          19065,
          21024,
          19712,
          17973,
          19609,
          20424,
          18795,
          18192,
          21193,
          19652,
          16947,
          17585,
          19397,
          18582,
          18257,
          19173,
          20791,
          18391,
          19828,
          22988,
          21830,
          19455,
          19208,
          16633,
          17451,
          16429,
          16394,
          18604,
          16434,
          18031,
          16108,
          17481,
          16741,
          15818,
          19440,
          14800,
          16744,
          18381,
          16861,
          16242,
          16938,
          16536,
          18322,
          15317,
          13840,
          16576,
          15155,
          15971,
          14938,
          15635,
          17566,
          14408,
          14553,
          16522,
          17178,
          18246,
          18748,
          19037,
          16625,
          16592,
          17108,
          17070,
          15601,
          17249,
          16664,
          17946,
          15824,
          15587,
          16158,
          16896,
          16494,
          15464,
          15631,
          19908,
          18014,
          22473,
          22552,
          18031,
          18559,
          17727,
          13195,
          12739,
          13428,
          13312,
          11462,
          11937,
          10979,
          11682,
          11574,
          11194,
          11844,
          11813,
          14311,
          13445,
          12227,
          12874,
          12171,
          12372,
          12425,
          11999,
          12393,
          13184,
          14233,
          13129,
          13044,
          13343,
          13598,
          13087,
          13899,
          13561,
          16489,
          14200,
          14228,
          11962,
          14348,
          15406,
          15847,
          14643,
          17325,
          19254,
          18827,
          16795,
          16524,
          15605,
          14592,
          14097,
          17329,
          16279,
          18725,
          16483,
          13882,
          17117,
          19268,
          16977,
          15161,
          18151,
          19383,
          16443,
          16944,
          16462,
          14319,
          14915,
          14003,
          15397,
          17253,
          15386,
          16809,
          15308,
          14070,
          15919,
          15265,
          16418,
          15842,
          14604,
          17266,
          16946,
          15876,
          15114,
          15113,
          13679,
          14632,
          16752,
          15734,
          14003,
          14694,
          15295,
          15180,
          13684,
          12015,
          13163,
          15064,
          16107,
          14007,
          12429,
          13479,
          14613,
          14389,
          10184,
          11637,
          14199,
          11491,
          13194,
          12044,
          12919,
          11011,
          9086,
          14914,
          13414,
          11169,
          11120,
          12117,
          10145,
          9577,
          12127,
          16905,
          16226,
          14816,
          16179,
          15399,
          18999,
          13830,
          14088,
          13170,
          14544,
          15352,
          13675,
          15154,
          17439,
          13092,
          10161,
          9500,
          11556,
          10217,
          10670,
          10383,
          11106,
          12439,
          10246,
          10309,
          12291,
          12561,
          10397,
          11079,
          10734,
          11764,
          10476,
          12256,
          12459,
          13389,
          11912,
          12881,
          12615,
          12945,
          12480,
          13267,
          12975,
          13743,
          12805,
          13747,
          15693,
          13009,
          12450,
          11981,
          12306,
          12619,
          13323,
          10875,
          9398,
          10546,
          10663,
          9940,
          10796,
          10066,
          9561,
          7957,
          8813,
          8926,
          9011,
          9494,
          9328,
          10132,
          16248,
          8337,
          9565,
          9676,
          10317,
          13149,
          10638,
          9671,
          19225,
          14670,
          12999,
          11087,
          9572,
          11139,
          10989,
          16364,
          16187,
          16269,
          17558,
          17593,
          17726,
          18272,
          17896,
          17241,
          18041,
          18254,
          17987,
          19339,
          15969,
          17826,
          17776,
          13645,
          15799,
          14364,
          15911,
          17129,
          13677,
          17492,
          16853,
          17812,
          16135,
          18375,
          15506,
          16988,
          17245,
          18308,
          18227,
          16582,
          15688,
          17883,
          17686,
          16678,
          18243,
          17824,
          13809,
          16945,
          14733,
          16714,
          15977,
          15781,
          18307,
          16406,
          18082,
          17207,
          15430,
          17764,
          14608,
          16871,
          16092,
          12138,
          14705,
          13082,
          16848,
          15272,
          15110,
          15138,
          15977,
          15733,
          17000,
          16154,
          16030,
          16260,
          16654,
          17776,
          16484,
          16143,
          16934,
          14762,
          15410,
          15227,
          16236,
          16506,
          16219,
          16594,
          16517,
          15472,
          14863,
          15795,
          15884,
          16234,
          16789,
          17559,
          21636,
          17000,
          17258,
          15931,
          18141,
          17869,
          16523,
          15688,
          16447,
          17829,
          16646,
          16085,
          16948,
          15038,
          15345,
          16333,
          15455,
          17040,
          15683,
          17299,
          17284,
          16207,
          15399,
          16210,
          16619,
          16940,
          19430,
          15820,
          18018,
          18566,
          12606,
          18328,
          15391,
          16004,
          16736,
          14942,
          15112,
          17470,
          18553,
          18860,
          18334,
          18851,
          17719,
          18438,
          18720,
          23591,
          27126,
          22887,
          25476,
          13934,
          16064,
          15709,
          17963,
          16031,
          18324,
          17784,
          17745,
          18318,
          18573,
          17961,
          22433,
          19439,
          19826,
          16648,
          18961,
          16945,
          15797,
          16183,
          15995,
          18981,
          20587,
          21121,
          18273,
          23029,
          12800,
          7725,
          7028,
          9686,
          8762,
          10179,
          10322,
          13982,
          10406,
          11685,
          13133,
          15481,
          16435,
          17189,
          14059,
          18118,
          18451,
          17264,
          11929,
          14102,
          13639,
          13789,
          15310,
          17837,
          16029,
          15270,
          18763,
          15241,
          14108,
          14008,
          14520,
          18028,
          14290,
          12535,
          13576,
          13033,
          14233,
          17949,
          13146,
          14033,
          13427,
          16878,
          14930,
          15673,
          14109,
          15232,
          15853,
          16095,
          16115,
          15287,
          17885,
          13730,
          12910,
          13274,
          13663,
          13701,
          12252,
          10903,
          11579,
          11746,
          12213,
          11400,
          12705,
          16081,
          14455,
          14844,
          13443
         ],
         "y": [
          2.5,
          2.63,
          2.91,
          2.63,
          2.51,
          2.6,
          2.82,
          3.04,
          2.63,
          2.95,
          2.84,
          2.59,
          2.87,
          2.84,
          2.74,
          2.89,
          2.88,
          2.77,
          2.64,
          2.38,
          2.18,
          2.25,
          2.26,
          2.23,
          2.3,
          2.28,
          2.28,
          2.4,
          2.48,
          2.39,
          2.04,
          2.1,
          1.95,
          2.12,
          2.34,
          2.38,
          2.07,
          2.28,
          2.04,
          2.1,
          2.34,
          2.12,
          2.12,
          2.05,
          2.22,
          2.15,
          2.31,
          2.45,
          2.28,
          2.26,
          2.5,
          2.02,
          2.05,
          2.34,
          2.47,
          2.37,
          2.43,
          2.73,
          2.42,
          2.42,
          2.33,
          2.56,
          2.58,
          2.66,
          2.37,
          2.58,
          2.35,
          2.4,
          2.4,
          2.38,
          2.49,
          2.46,
          2.4,
          2.31,
          2.27,
          2.57,
          2.23,
          2.38,
          2.29,
          2.45,
          2.46,
          2.37,
          2.42,
          2.48,
          2.43,
          2.34,
          2.32,
          2.27,
          2.27,
          2.42,
          2.46,
          2.39,
          2.32,
          2.32,
          2.31,
          2.27,
          2.51,
          2.53,
          2.43,
          2.46,
          2.49,
          2.5,
          2.25,
          2.29,
          2.33,
          2.35,
          2.19,
          2.41,
          2.34,
          2.28,
          2.43,
          2.25,
          2.44,
          2.44,
          2.31,
          2.37,
          2.52,
          2.46,
          2.36,
          2.34,
          2.31,
          2.38,
          2.41,
          2.41,
          2.46,
          2.39,
          2.45,
          2.46,
          2.48,
          2.48,
          2.38,
          2.27,
          2.29,
          2.39,
          2.29,
          2.19,
          2.21,
          2.29,
          2.23,
          2.44,
          2.37,
          2.25,
          2.24,
          2.33,
          2.34,
          2.23,
          2.42,
          2.45,
          2.39,
          2.31,
          2.27,
          2.28,
          2.57,
          2.24,
          2.45,
          2.28,
          2.16,
          2.37,
          2.33,
          2.32,
          2.38,
          2.36,
          2.33,
          2.31,
          2.28,
          2.35,
          2.47,
          2.28,
          2.34,
          2.43,
          2.43,
          2.45,
          2.35,
          2.31,
          2.24,
          2.44,
          2.13,
          2.31,
          2.39,
          2.4,
          2.2,
          2.3,
          2.37,
          2.5,
          2.28,
          2.33,
          2.25,
          2.34,
          2.28,
          2.33,
          2.41,
          2.45,
          2.21,
          2.29,
          2.41,
          2.41,
          2.38,
          2.5,
          2.48,
          2.47,
          2.37,
          2.25,
          2.44,
          2.5,
          2.42,
          2.42,
          2.36,
          2.55,
          2.44,
          2.32,
          2.43,
          2.39,
          2.54,
          2.34,
          2.48,
          2.35,
          2.34,
          2.28,
          2.38,
          2.32,
          2.45,
          2.31,
          2.24,
          2.39,
          2.38,
          2.35,
          2.29,
          2.42,
          2.32,
          2.52,
          2.39,
          2.24,
          2.54,
          2.49,
          2.3,
          2.44,
          2.68,
          2.45,
          2.48,
          2.37,
          2.48,
          2.53,
          2.69,
          2.51,
          2.69,
          2.61,
          2.49,
          2.43,
          2.4,
          2.59,
          2.53,
          2.39,
          2.33,
          2.32,
          2.57,
          2.57,
          2.44,
          2.6,
          2.45,
          2.66,
          2.61,
          2.62,
          2.47,
          2.61,
          2.69,
          2.65,
          2.25,
          2.47,
          2.42,
          2.4,
          2.45,
          2.22,
          2.43,
          2.31,
          2.28,
          2.4,
          2.31,
          2.53,
          2.44,
          2.47,
          2.42,
          2.36,
          2.37,
          2.29,
          2.53,
          2.34,
          2.46,
          2.22,
          2.21,
          2.62,
          2.56,
          2.59,
          2.59,
          2.56,
          2.3,
          2.52,
          2.6,
          2.38,
          2.42,
          2.36,
          2.43,
          2.57,
          2.42,
          2.45,
          2.53,
          2.55,
          2.46,
          2.55,
          2.44,
          2.42,
          2.4,
          2.34,
          2.35,
          2.42,
          2.4,
          2.37,
          2.38,
          2.54,
          2.35,
          2.4,
          2.29,
          2.33,
          2.46,
          2.44,
          2.52,
          2.21,
          2.3,
          2.25,
          2.33,
          2.25,
          2.32,
          2.33,
          2.27,
          2.41,
          2.48,
          2.36,
          2.27,
          2.3,
          2.39,
          2.33,
          2.44,
          2.94,
          2.56,
          2.85,
          2.46,
          2.5,
          2.37,
          2.32,
          2.38,
          2.34,
          2.35,
          2.21,
          2.29,
          2.48,
          2.45,
          2.34,
          2.4,
          2.38,
          2.4,
          2.4,
          2.32,
          2.36,
          2.61,
          2.57,
          2.29,
          2.18,
          2.64,
          2.77,
          2.32,
          2.29,
          2.29,
          2.23,
          2.35,
          2.52,
          2.35,
          2.38,
          2.29,
          2.51,
          2.27,
          2.45,
          2.45,
          2.43,
          2.31,
          2.46,
          2.35,
          2.32,
          2.42,
          2.42,
          2.45,
          2.58,
          2.61,
          2.46,
          2.67,
          2.63,
          2.44,
          2.74,
          2.62,
          2.59,
          2.95,
          2.94,
          2.43,
          2.84,
          2.91,
          2.88,
          3.28,
          3.18,
          3.17,
          2.83,
          2.85,
          2.64,
          2.63,
          2.55,
          2.43,
          2.5,
          2.6,
          2.7,
          2.58,
          2.87,
          2.51,
          2.85,
          2.42,
          2.59,
          2.79,
          2.52,
          2.88,
          3.08,
          3.04,
          3.02,
          3.03,
          3.2,
          3.17,
          3.08,
          2.92,
          2.8,
          2.63,
          2.62,
          2.86,
          2.59,
          2.32,
          2.87,
          2.4,
          2.42,
          2.45,
          2.38,
          2.52,
          2.83,
          2.67,
          2.82,
          2.66,
          2.89,
          2.43,
          2.77,
          2.95,
          2.96,
          2.88,
          2.89,
          2.43,
          2.71,
          2.62,
          2.39,
          2.72,
          2.11,
          2.47,
          2.52,
          2.3,
          2.47,
          2.49,
          2.44,
          2.26,
          2.49,
          2.45,
          2.35,
          2.46,
          2.31,
          2.48,
          2.35,
          2.42,
          2.76,
          2.76,
          2.69,
          2.32,
          2.43,
          2.34,
          2.34,
          2.4,
          2.36,
          2.31,
          2.35,
          2.56,
          2.53,
          2.33,
          2.44,
          2.72,
          2.33,
          2.61,
          2.45,
          2.33,
          2.51,
          2.39,
          2.43,
          2.26,
          2.39,
          2.34,
          2.51,
          2.44,
          2.37,
          2.61,
          2.56,
          2.52,
          2.57,
          2.42,
          2.52,
          2.36,
          2.41,
          2.4,
          2.34,
          2.38,
          2.25,
          2.49,
          2.42,
          2.58,
          2.41,
          2.38,
          2.22,
          2.41,
          2.32,
          2.18,
          2.22,
          2.08,
          2.34,
          2.12,
          2.24,
          2.39,
          2.34,
          2.46,
          2.23,
          2.11,
          2.4,
          2.35,
          2.26,
          2.25,
          2.26,
          2.14,
          2.25,
          2.03,
          2.21,
          2.29,
          2.19,
          2.22,
          2.17,
          2.24,
          2.2,
          2.26,
          2.06,
          2.02,
          2.09,
          2.06,
          2.26,
          2.22,
          2.24,
          2.16,
          2.35,
          2.38,
          2.17,
          2.17,
          2.3,
          2.3,
          2.25,
          2.47,
          2.32,
          2.3,
          2.47,
          2.51,
          2.41,
          2.29,
          2.2,
          2.19,
          2.31,
          2.25,
          2.39,
          2.33,
          2.24,
          2.32,
          2.37,
          2.34,
          2.38,
          2.38,
          2.01,
          2.47,
          2.36,
          2.2,
          2.37,
          2.38,
          2.58,
          2.26,
          2.51,
          2.18,
          2.29,
          2.45,
          2.22,
          2.53,
          2.6,
          2.36,
          2.54,
          2.44,
          2.43,
          2.5,
          2.51,
          2.35,
          2.25,
          2.41,
          2.32,
          2.62,
          2.43,
          2.36,
          2.38,
          2.49,
          2.43,
          2.5,
          2.49,
          2.5,
          2.34,
          2.43,
          2.35,
          2.42,
          2.21,
          2.29,
          2.24,
          2.38,
          2.41,
          2.4,
          2.33,
          2.42,
          2.37,
          2.36,
          2.39,
          2.45,
          2.53,
          2.46,
          2.56,
          2.58,
          2.48,
          2.52,
          2.41,
          2.4,
          2.39,
          2.52,
          2.49,
          2.54,
          2.57,
          2.53,
          2.54,
          2.48,
          2.71,
          2.5,
          2.62,
          2.53,
          2.54,
          2.39,
          2.47,
          2.61,
          2.54,
          2.53,
          2.51,
          2.48,
          2.62,
          2.52,
          2.41,
          2.39,
          2.42,
          2.5,
          2.44,
          2.35,
          2.57,
          2.43,
          2.65,
          2.39,
          2.44,
          2.41,
          2.41,
          2.38,
          2.33,
          2.36,
          2.56,
          2.41,
          2.32,
          2.37,
          2.45,
          2.52,
          2.36,
          2.36,
          2.5,
          2.51,
          2.49,
          2.26,
          2.54,
          2.37,
          2.55,
          2.43,
          2.4,
          2.37,
          2.46,
          2.4,
          2.46,
          2.5,
          2.47,
          2.43,
          2.38,
          2.41,
          2.35,
          2.34,
          2.4,
          2.48,
          2.39,
          2.55,
          2.51,
          2.45,
          2.52,
          2.45,
          2.58,
          2.34,
          2.38,
          2.52,
          2.45,
          2.4,
          2.42,
          2.44,
          2.53,
          2.38,
          2.43,
          2.58,
          2.42,
          2.36,
          2.37,
          2.5,
          2.37,
          2.4,
          2.31,
          2.61,
          2.43,
          2.52,
          2.5,
          2.4,
          2.13,
          2.46,
          2.45,
          2.56,
          2.42,
          2.51,
          2.97,
          2.43,
          2.29,
          2.48,
          2.69,
          2.32,
          2.7,
          2.4,
          2.3,
          2.48,
          2.6,
          2.4,
          2.47,
          2.3,
          2.48,
          2.36,
          2.47,
          2.39,
          2.37,
          2.36,
          2.36,
          2.47,
          2.36,
          2.55,
          2.91,
          2.81,
          2.74,
          2.92,
          2.77,
          2.69,
          2.72,
          2.67,
          2.42,
          2.67,
          2.48,
          2.37,
          2.54,
          2.31,
          2.47,
          2.58,
          2.77,
          2.43,
          2.52,
          2.46,
          2.52,
          2.5,
          2.41,
          2.5,
          2.49,
          2.44,
          2.51,
          2.49,
          2.46,
          2.38,
          2.42,
          2.63,
          2.53,
          2.54,
          2.56,
          2.43,
          2.49,
          2.44,
          2.5,
          2.43,
          2.64,
          2.83,
          2.53,
          2.93,
          2.94,
          2.98,
          3.02,
          2.99,
          2.92,
          2.99,
          2.89,
          2.79,
          2.48,
          3.16,
          2.9,
          2.9,
          2.83,
          2.75,
          2.71,
          2.56,
          2.96,
          2.75,
          2.47,
          2.65,
          2.77,
          2.73,
          2.6,
          2.51,
          2.51,
          2.52,
          2.72,
          2.4,
          2.43,
          2.49,
          2.57,
          2.33,
          2.26,
          2.45,
          2.45,
          2.74,
          2.37,
          2.44,
          2.54,
          2.56,
          2.33,
          2.32,
          2.41,
          2.48,
          2.63,
          2.5,
          2.32,
          2.51,
          2.31,
          2.25,
          2.28,
          2.35,
          2.35,
          2.35,
          2.32,
          2.32,
          2.63,
          2.34,
          2.27,
          2.42,
          2.31,
          2.41,
          2.79,
          2.43,
          2.54,
          2.52,
          2.43,
          2.39,
          2.47,
          2.39,
          2.37,
          2.56,
          2.56,
          2.33,
          2.53,
          2.44,
          2.33,
          2.36,
          2.53,
          2.39,
          2.51,
          2.4,
          2.64,
          2.29,
          2.31,
          2.51,
          2.44,
          2.49,
          2.43,
          2.52,
          2.42,
          2.45,
          2.52,
          2.48,
          2.49,
          2.31,
          2.32,
          2.47,
          2.58,
          2.55,
          2.39,
          2.47,
          2.53,
          2.51,
          2.37,
          2.3,
          2.34,
          2.39,
          2.47,
          2.37,
          2.35,
          2.22,
          2.22,
          2.25,
          2.29,
          2.42,
          2.34,
          2.41,
          2.32,
          2.42,
          2.43,
          2.4,
          2.35,
          2.4,
          2.48,
          2.35,
          2.38,
          2.44,
          2.38,
          2.5,
          2.35,
          2.61,
          2.52,
          2.48,
          2.24,
          2.58,
          2.23,
          2.49,
          2.69,
          2.67,
          2.57,
          2.41,
          2.57,
          2.41,
          2.39,
          2.4,
          2.41,
          2.36,
          2.55,
          2.23,
          2.38,
          2.38,
          2.48,
          2.46,
          2.54,
          2.61,
          2.71,
          2.61,
          2.75,
          2.42,
          2.29,
          2.26,
          2.32,
          2.45,
          2.42,
          2.56,
          2.52,
          2.44,
          2.47,
          2.57,
          2.8,
          2.74,
          2.55,
          2.33,
          2.59,
          2.57,
          2.45,
          2.38,
          2.63,
          2.17,
          2.76,
          2.71,
          2.64,
          2.77,
          2.6,
          3,
          3.26,
          2.73,
          2.83,
          2.71,
          2.61,
          2.67,
          2.56,
          2.77,
          2.61,
          2.53,
          2.51,
          2.44,
          2.44,
          2.62,
          2.45,
          2.71,
          2.72,
          2.49,
          2.7,
          2.54,
          2.49,
          2.63,
          2.53,
          2.41,
          2.53,
          2.32,
          2.48,
          2.39,
          2.46,
          2.56,
          2.5,
          2.55,
          2.4,
          2.43,
          2.38,
          2.59,
          2.28,
          2.37,
          2.46,
          2.55,
          2.42,
          2.62,
          2.43,
          2.58,
          2.56,
          2.34,
          2.66,
          2.29,
          2.64,
          2.54,
          2.44,
          2.26,
          2.5,
          2.5,
          2.55,
          2.52,
          2.54,
          2.63,
          2.52,
          2.61,
          2.64,
          2.5,
          2.16,
          2.28,
          2.25
         ]
        },
        {
         "hoverinfo": "none",
         "line": {
          "color": "black",
          "width": 2
         },
         "mode": "lines",
         "type": "scatter",
         "x": [
          7028,
          7725,
          7755,
          7957,
          8137,
          8337,
          8762,
          8813,
          8926,
          8936,
          9011,
          9048,
          9086,
          9115,
          9328,
          9398,
          9431,
          9494,
          9500,
          9561,
          9565,
          9572,
          9577,
          9623,
          9665,
          9671,
          9676,
          9686,
          9717,
          9854,
          9880,
          9940,
          10011,
          10052,
          10066,
          10132,
          10145,
          10161,
          10179,
          10184,
          10214,
          10217,
          10246,
          10253,
          10309,
          10317,
          10322,
          10383,
          10397,
          10406,
          10444,
          10476,
          10546,
          10569,
          10578,
          10638,
          10663,
          10670,
          10734,
          10757,
          10784,
          10796,
          10862,
          10875,
          10898,
          10903,
          10979,
          10989,
          11011,
          11079,
          11087,
          11106,
          11120,
          11139,
          11166,
          11169,
          11194,
          11300,
          11363,
          11370,
          11400,
          11413,
          11462,
          11481,
          11491,
          11556,
          11574,
          11579,
          11604,
          11637,
          11682,
          11685,
          11728,
          11746,
          11764,
          11779,
          11802,
          11813,
          11844,
          11903,
          11908,
          11912,
          11929,
          11937,
          11962,
          11981,
          11999,
          12015,
          12020,
          12033,
          12044,
          12117,
          12127,
          12138,
          12171,
          12213,
          12227,
          12252,
          12256,
          12291,
          12301,
          12306,
          12372,
          12393,
          12425,
          12429,
          12429,
          12439,
          12450,
          12459,
          12480,
          12487,
          12518,
          12535,
          12561,
          12578,
          12601,
          12606,
          12615,
          12619,
          12625,
          12628,
          12705,
          12739,
          12800,
          12805,
          12823,
          12854,
          12874,
          12881,
          12890,
          12910,
          12919,
          12919,
          12945,
          12947,
          12975,
          12999,
          13008,
          13009,
          13033,
          13044,
          13058,
          13082,
          13087,
          13092,
          13097,
          13129,
          13133,
          13146,
          13149,
          13163,
          13170,
          13175,
          13184,
          13185,
          13194,
          13195,
          13238,
          13267,
          13274,
          13289,
          13294,
          13296,
          13312,
          13323,
          13332,
          13343,
          13347,
          13379,
          13386,
          13389,
          13402,
          13414,
          13427,
          13428,
          13443,
          13445,
          13476,
          13479,
          13518,
          13542,
          13561,
          13563,
          13567,
          13576,
          13589,
          13598,
          13622,
          13639,
          13645,
          13649,
          13663,
          13675,
          13677,
          13679,
          13684,
          13701,
          13716,
          13730,
          13743,
          13747,
          13753,
          13789,
          13798,
          13809,
          13830,
          13840,
          13871,
          13882,
          13899,
          13934,
          13965,
          13981,
          13982,
          14003,
          14003,
          14007,
          14008,
          14033,
          14036,
          14059,
          14070,
          14081,
          14088,
          14094,
          14097,
          14102,
          14108,
          14109,
          14198,
          14199,
          14200,
          14226,
          14228,
          14233,
          14233,
          14247,
          14259,
          14290,
          14292,
          14303,
          14304,
          14311,
          14319,
          14348,
          14364,
          14389,
          14408,
          14455,
          14471,
          14520,
          14544,
          14553,
          14565,
          14592,
          14594,
          14604,
          14608,
          14613,
          14632,
          14638,
          14643,
          14670,
          14694,
          14705,
          14718,
          14725,
          14732,
          14733,
          14734,
          14762,
          14766,
          14770,
          14794,
          14800,
          14816,
          14819,
          14844,
          14859,
          14863,
          14867,
          14914,
          14915,
          14924,
          14930,
          14938,
          14942,
          14977,
          15009,
          15018,
          15038,
          15038,
          15062,
          15064,
          15110,
          15112,
          15113,
          15113,
          15114,
          15119,
          15133,
          15138,
          15141,
          15149,
          15154,
          15155,
          15161,
          15180,
          15222,
          15227,
          15232,
          15241,
          15254,
          15260,
          15265,
          15268,
          15269,
          15270,
          15272,
          15287,
          15295,
          15300,
          15308,
          15310,
          15317,
          15345,
          15352,
          15364,
          15386,
          15391,
          15397,
          15399,
          15399,
          15406,
          15410,
          15430,
          15455,
          15460,
          15464,
          15472,
          15481,
          15506,
          15558,
          15587,
          15599,
          15600,
          15601,
          15605,
          15609,
          15631,
          15635,
          15673,
          15683,
          15688,
          15688,
          15693,
          15696,
          15703,
          15709,
          15721,
          15724,
          15733,
          15734,
          15734,
          15736,
          15753,
          15763,
          15773,
          15781,
          15795,
          15797,
          15799,
          15808,
          15814,
          15818,
          15820,
          15824,
          15842,
          15847,
          15853,
          15876,
          15879,
          15884,
          15895,
          15911,
          15918,
          15919,
          15931,
          15939,
          15952,
          15969,
          15971,
          15977,
          15977,
          15983,
          15995,
          16004,
          16029,
          16030,
          16031,
          16064,
          16081,
          16085,
          16092,
          16095,
          16107,
          16108,
          16115,
          16135,
          16143,
          16154,
          16158,
          16166,
          16179,
          16179,
          16183,
          16187,
          16197,
          16201,
          16205,
          16207,
          16210,
          16219,
          16226,
          16234,
          16236,
          16242,
          16248,
          16260,
          16261,
          16269,
          16269,
          16272,
          16279,
          16315,
          16333,
          16342,
          16349,
          16364,
          16394,
          16394,
          16400,
          16406,
          16410,
          16418,
          16421,
          16423,
          16429,
          16434,
          16435,
          16440,
          16441,
          16443,
          16447,
          16459,
          16462,
          16471,
          16483,
          16484,
          16489,
          16494,
          16506,
          16508,
          16511,
          16513,
          16517,
          16522,
          16523,
          16523,
          16524,
          16536,
          16558,
          16566,
          16576,
          16582,
          16592,
          16594,
          16619,
          16625,
          16633,
          16646,
          16648,
          16654,
          16664,
          16678,
          16679,
          16688,
          16691,
          16714,
          16736,
          16741,
          16744,
          16744,
          16746,
          16752,
          16789,
          16791,
          16795,
          16799,
          16809,
          16840,
          16848,
          16853,
          16854,
          16861,
          16861,
          16864,
          16869,
          16871,
          16876,
          16878,
          16885,
          16896,
          16905,
          16925,
          16934,
          16938,
          16940,
          16944,
          16945,
          16945,
          16946,
          16947,
          16948,
          16977,
          16988,
          17000,
          17000,
          17007,
          17008,
          17040,
          17057,
          17066,
          17070,
          17070,
          17108,
          17109,
          17117,
          17129,
          17138,
          17178,
          17178,
          17189,
          17207,
          17215,
          17220,
          17221,
          17241,
          17245,
          17249,
          17251,
          17253,
          17258,
          17259,
          17264,
          17266,
          17274,
          17274,
          17284,
          17289,
          17299,
          17306,
          17317,
          17324,
          17325,
          17329,
          17342,
          17346,
          17350,
          17360,
          17396,
          17411,
          17432,
          17439,
          17451,
          17459,
          17470,
          17481,
          17492,
          17519,
          17558,
          17559,
          17565,
          17566,
          17571,
          17585,
          17592,
          17593,
          17593,
          17604,
          17613,
          17620,
          17628,
          17634,
          17646,
          17649,
          17652,
          17669,
          17678,
          17681,
          17686,
          17686,
          17703,
          17709,
          17709,
          17714,
          17719,
          17722,
          17726,
          17727,
          17727,
          17733,
          17738,
          17745,
          17755,
          17764,
          17776,
          17776,
          17784,
          17812,
          17816,
          17818,
          17824,
          17826,
          17829,
          17837,
          17865,
          17869,
          17883,
          17885,
          17896,
          17901,
          17941,
          17946,
          17949,
          17961,
          17963,
          17964,
          17973,
          17975,
          17975,
          17976,
          17981,
          17987,
          17987,
          18014,
          18018,
          18025,
          18028,
          18031,
          18031,
          18035,
          18041,
          18046,
          18061,
          18069,
          18071,
          18082,
          18083,
          18096,
          18097,
          18104,
          18113,
          18118,
          18141,
          18151,
          18164,
          18186,
          18192,
          18211,
          18217,
          18227,
          18243,
          18246,
          18254,
          18257,
          18272,
          18273,
          18275,
          18283,
          18298,
          18307,
          18308,
          18315,
          18318,
          18322,
          18324,
          18328,
          18334,
          18339,
          18345,
          18362,
          18375,
          18381,
          18391,
          18395,
          18401,
          18425,
          18438,
          18451,
          18461,
          18484,
          18503,
          18527,
          18535,
          18553,
          18559,
          18566,
          18573,
          18582,
          18604,
          18613,
          18660,
          18661,
          18709,
          18720,
          18725,
          18726,
          18744,
          18748,
          18754,
          18761,
          18763,
          18791,
          18795,
          18821,
          18827,
          18827,
          18832,
          18851,
          18860,
          18867,
          18867,
          18904,
          18909,
          18926,
          18961,
          18961,
          18981,
          18983,
          18999,
          19022,
          19037,
          19065,
          19073,
          19114,
          19116,
          19120,
          19163,
          19165,
          19173,
          19176,
          19190,
          19197,
          19208,
          19220,
          19225,
          19246,
          19254,
          19268,
          19271,
          19276,
          19288,
          19295,
          19310,
          19322,
          19330,
          19339,
          19342,
          19347,
          19352,
          19377,
          19377,
          19383,
          19386,
          19395,
          19397,
          19421,
          19430,
          19439,
          19440,
          19442,
          19455,
          19484,
          19523,
          19540,
          19560,
          19579,
          19595,
          19609,
          19615,
          19652,
          19655,
          19667,
          19682,
          19712,
          19727,
          19759,
          19762,
          19768,
          19778,
          19797,
          19807,
          19814,
          19820,
          19826,
          19827,
          19828,
          19857,
          19902,
          19907,
          19908,
          19933,
          19934,
          19971,
          19980,
          19996,
          20052,
          20084,
          20119,
          20134,
          20187,
          20203,
          20212,
          20224,
          20238,
          20255,
          20294,
          20306,
          20403,
          20403,
          20424,
          20442,
          20472,
          20478,
          20487,
          20519,
          20529,
          20529,
          20539,
          20587,
          20610,
          20636,
          20727,
          20738,
          20757,
          20791,
          20828,
          20831,
          20835,
          20906,
          20931,
          20950,
          20950,
          20966,
          20994,
          21024,
          21031,
          21069,
          21121,
          21130,
          21153,
          21193,
          21194,
          21245,
          21245,
          21253,
          21309,
          21320,
          21353,
          21399,
          21454,
          21460,
          21464,
          21497,
          21523,
          21546,
          21550,
          21553,
          21563,
          21564,
          21620,
          21636,
          21690,
          21830,
          21830,
          21878,
          21899,
          21965,
          21982,
          21986,
          22069,
          22087,
          22115,
          22151,
          22198,
          22208,
          22303,
          22307,
          22346,
          22415,
          22433,
          22459,
          22473,
          22479,
          22552,
          22557,
          22590,
          22614,
          22614,
          22687,
          22742,
          22791,
          22793,
          22807,
          22820,
          22833,
          22883,
          22887,
          22913,
          22918,
          22919,
          22922,
          22981,
          22988,
          23029,
          23031,
          23065,
          23153,
          23219,
          23237,
          23283,
          23306,
          23322,
          23333,
          23356,
          23403,
          23431,
          23455,
          23459,
          23478,
          23534,
          23579,
          23588,
          23591,
          23592,
          23599,
          23629,
          23664,
          23739,
          23741,
          23882,
          23900,
          23972,
          23982,
          24101,
          24121,
          24135,
          24168,
          24230,
          24283,
          24298,
          24361,
          24433,
          24480,
          24534,
          24587,
          24606,
          24694,
          24745,
          25041,
          25067,
          25096,
          25168,
          25302,
          25340,
          25458,
          25476,
          25508,
          25536,
          25576,
          25585,
          25613,
          25710,
          25714,
          25831,
          26419,
          26450,
          26494,
          26513,
          26567,
          26639,
          26875,
          26953,
          26954,
          27099,
          27126,
          27237,
          27290,
          27558,
          27584,
          27750,
          27942,
          28010,
          28091,
          28111,
          28264,
          28365,
          28510,
          28626,
          28645,
          28881,
          28882,
          28998,
          29020,
          29232,
          29408,
          29621,
          29638,
          29997,
          30049,
          30055,
          30766,
          30910,
          31425,
          31459,
          31896,
          31998,
          32039,
          32039,
          32039,
          32039,
          32039,
          32039,
          32039,
          32039,
          32039,
          32039,
          32039,
          32039,
          32039,
          32039,
          32039,
          32039,
          32039,
          32039,
          32039
         ],
         "y": [
          3.061671658729153,
          2.9825610176365474,
          2.9791891994702895,
          2.956562269237913,
          2.936514751431272,
          2.914371528737914,
          2.8678054421815005,
          2.862263694984251,
          2.850021286460771,
          2.8489403158645246,
          2.840845635902039,
          2.8368604141476204,
          2.8327730475831876,
          2.8296575051686235,
          2.80687207161348,
          2.7994206855467976,
          2.7959140605131854,
          2.7892304727905817,
          2.7885946806052373,
          2.782138012924311,
          2.781715080477681,
          2.7809750824328447,
          2.780446616297199,
          2.775588750041216,
          2.771159543395357,
          2.7705272768917375,
          2.7700004783968515,
          2.7689471269172303,
          2.7656838047124275,
          2.7512988896311548,
          2.7485756246334208,
          2.7422992868613636,
          2.7348868579937986,
          2.730613614475848,
          2.7291556653788254,
          2.722290783037285,
          2.72094022736713,
          2.71927873811742,
          2.7174105312873684,
          2.716891767065907,
          2.713780849056607,
          2.713469915015566,
          2.7104657081808283,
          2.70974096094869,
          2.70394876807024,
          2.703122165740773,
          2.702605649638041,
          2.6963111384526464,
          2.694868365698277,
          2.6939412482529943,
          2.690030112865298,
          2.686740900867427,
          2.679560676030912,
          2.6772062148927107,
          2.6762855791544324,
          2.6701582353836675,
          2.6676107165046705,
          2.666898026052266,
          2.6603951220525794,
          2.658064195137659,
          2.65533219666733,
          2.654119506422793,
          2.647467194754544,
          2.646160468672228,
          2.6438515037926935,
          2.643350052439374,
          2.63574961695541,
          2.634752485872358,
          2.632561022071688,
          2.6258352599365584,
          2.625042119103156,
          2.6231594581055426,
          2.621773247237352,
          2.619893455973316,
          2.6172254122332492,
          2.6169292140507503,
          2.614462995969941,
          2.604054617508274,
          2.5979109455760407,
          2.5972303221074404,
          2.594317570236469,
          2.5930573169810303,
          2.5885110933412623,
          2.586679974894033,
          2.585717017332572,
          2.5795058586146826,
          2.577781571998173,
          2.577302990554958,
          2.5749128570193145,
          2.5717657883565432,
          2.567591788228744,
          2.5673078003446497,
          2.5632486937737906,
          2.5616216643489516,
          2.5599339930196594,
          2.5585310900778806,
          2.556386961406048,
          2.555364818637364,
          2.552497268361101,
          2.547102081346603,
          2.546649091790505,
          2.546287205997718,
          2.544754282200469,
          2.544035790688974,
          2.5418163061628825,
          2.5401308383432366,
          2.538626698174517,
          2.537222973051165,
          2.536785715248892,
          2.5356519016363985,
          2.5347098439054263,
          2.5293024020618495,
          2.5285117595604496,
          2.527597096852015,
          2.525014301864016,
          2.5217248251477753,
          2.520580728436184,
          2.5185574335317655,
          2.518236200110881,
          2.5154567231499887,
          2.5147547447768246,
          2.51436456007174,
          2.5094339324759614,
          2.5078999312698262,
          2.5057502819857858,
          2.5054858654728407,
          2.5054858654728407,
          2.504928682817764,
          2.5041389462089008,
          2.5034966672196517,
          2.5021113552917735,
          2.501632934784007,
          2.499987220909614,
          2.4988611470733404,
          2.4972426850276697,
          2.4961179724143383,
          2.494623876727566,
          2.494303342145129,
          2.4938634095820444,
          2.493698397653685,
          2.4933407921678628,
          2.4931516681573367,
          2.4886145932595563,
          2.486727641331092,
          2.483661977253089,
          2.4834821737856005,
          2.482635685236801,
          2.4811739868555285,
          2.4803234583106004,
          2.4800256024578275,
          2.4797217368515305,
          2.4789769872049296,
          2.478527031422715,
          2.478527031422715,
          2.4774364910762667,
          2.4773720269302517,
          2.4761409050406633,
          2.4750101150426467,
          2.474652586805856,
          2.4746058929162538,
          2.473598616579819,
          2.4731666511612165,
          2.472563848610268,
          2.471493337026481,
          2.471273016803313,
          2.4710762309848286,
          2.4709328014850307,
          2.4698107823104314,
          2.469676874265955,
          2.4691256285645213,
          2.468999274914888,
          2.4684137731579066,
          2.468123514023321,
          2.467917180936862,
          2.4676043418307736,
          2.467563424933254,
          2.4671966708521,
          2.4671560893760804,
          2.4655319563385225,
          2.464511151835459,
          2.464245343106756,
          2.4636825146511367,
          2.46350938734251,
          2.463460207462876,
          2.4628978898469063,
          2.4625123216274374,
          2.462190837046971,
          2.461802719617772,
          2.461662906420224,
          2.460711719549074,
          2.460475978890627,
          2.46039646084146,
          2.4599956087237143,
          2.4596027253681196,
          2.4591930773255006,
          2.45917068071798,
          2.458779005696265,
          2.4587157382243423,
          2.457809385016653,
          2.457717235904536,
          2.456593900561178,
          2.4558919321308434,
          2.4553568696073653,
          2.455308058506311,
          2.4551953799325847,
          2.454943718178057,
          2.4545846592440945,
          2.45437095986483,
          2.4537729463840403,
          2.4533829031009913,
          2.453261270591162,
          2.453156636453778,
          2.4527944013065626,
          2.452497803283684,
          2.4524472945314657,
          2.4523969193039603,
          2.452285837729896,
          2.4518944460936045,
          2.4515290634368174,
          2.4512159565818203,
          2.4509274641611873,
          2.4508472534878374,
          2.4507094066186443,
          2.4499271932047404,
          2.4497260940935957,
          2.449482774224701,
          2.449070652778569,
          2.44885299324798,
          2.448195746249667,
          2.447967831809451,
          2.447619274447546,
          2.446905204943216,
          2.44624549270327,
          2.4459253569730364,
          2.445906005857563,
          2.445479025546446,
          2.445479025546446,
          2.44539653159334,
          2.4453749487823035,
          2.4448442005478537,
          2.4447790803765552,
          2.4442927555191685,
          2.4440601678251572,
          2.4438318296692287,
          2.443683795582101,
          2.443558706411585,
          2.4434933242432786,
          2.4433843685686827,
          2.4432536825142255,
          2.443231911479288,
          2.441335309965145,
          2.44131422832789,
          2.441293159245857,
          2.440746956571525,
          2.4407050622403075,
          2.4406010094010253,
          2.4406010094010253,
          2.4403099930363874,
          2.440060669968495,
          2.43943030329238,
          2.439388595008275,
          2.4391657522076953,
          2.4391440502176494,
          2.4390008212831984,
          2.438841950093175,
          2.4382400594000275,
          2.437909033180386,
          2.437411236066845,
          2.4370434510745587,
          2.4360863170960187,
          2.435753566994938,
          2.434765526742041,
          2.4343269929197384,
          2.4341556016421992,
          2.4339384515175957,
          2.433442486885028,
          2.4334062994108137,
          2.433222191986832,
          2.4331454484060724,
          2.433045577922022,
          2.4326924093344227,
          2.432579552787536,
          2.4324848159821983,
          2.4319606428830887,
          2.4314851368078707,
          2.431264178122572,
          2.4310000332470265,
          2.430855548048811,
          2.430710728296409,
          2.4306910181369026,
          2.4306713534933633,
          2.430092464335419,
          2.4300051596732577,
          2.4299246621880077,
          2.4294100523762414,
          2.4292841141059247,
          2.428928949032027,
          2.4288586765827103,
          2.428285487447465,
          2.4280008264738018,
          2.4279328593381178,
          2.427847234163437,
          2.4268478889792253,
          2.4268236085155364,
          2.4266770992081224,
          2.4265733670697074,
          2.4263816287535027,
          2.4262861092285677,
          2.4256277353697615,
          2.42502374387755,
          2.4248722603064974,
          2.424486364189841,
          2.424486364189841,
          2.4241545370710322,
          2.424126293078886,
          2.423401083896122,
          2.423377433182684,
          2.4233656005922484,
          2.4233656005922484,
          2.4233537628402044,
          2.423284285784021,
          2.423056001168289,
          2.4229898137645245,
          2.422947294084851,
          2.422827037179595,
          2.4227544737752877,
          2.4227401970804974,
          2.422662170525879,
          2.422420187976354,
          2.4219196996053443,
          2.421862656081128,
          2.421805945261128,
          2.421708230176382,
          2.42156856013393,
          2.4215019141927354,
          2.4214480264842253,
          2.421417337249225,
          2.4214071314628334,
          2.4213969362580503,
          2.4213738126468973,
          2.421205340879694,
          2.421108758994662,
          2.421046372582455,
          2.420951390643442,
          2.4209284158084134,
          2.4208562697508684,
          2.420549591065639,
          2.420472822894855,
          2.420339583221355,
          2.4200693709071257,
          2.4200019013626304,
          2.419926468995058,
          2.4199020489580767,
          2.4199020489580767,
          2.4198123572966375,
          2.4197587832335836,
          2.419496687770706,
          2.419157172681922,
          2.41908727633527,
          2.4190307567198834,
          2.4189164896975237,
          2.418789336518095,
          2.418426200865918,
          2.4176613766581796,
          2.4172236598419503,
          2.4170300530403033,
          2.4170157212339682,
          2.4170013926658993,
          2.416944115350267,
          2.4168869076123807,
          2.416548666525422,
          2.416491822425478,
          2.4159214534386484,
          2.4157630950325766,
          2.4156781168622947,
          2.4156781168622947,
          2.415592683467117,
          2.415541209243772,
          2.415420495767874,
          2.41531637646122,
          2.4151064833880644,
          2.4150614948111193,
          2.4149108292919403,
          2.4148931616910563,
          2.4148931616910563,
          2.4148577913261953,
          2.4145835916079754,
          2.4144232412143194,
          2.4142448220039925,
          2.4141017310015127,
          2.4138867848163277,
          2.41385587257117,
          2.4138298134968292,
          2.413696267994898,
          2.4136168615592926,
          2.4135458551346325,
          2.4135204249221816,
          2.413457111451897,
          2.4131418509456926,
          2.4130642731158183,
          2.4129594084182466,
          2.4125996820079116,
          2.4125534138609406,
          2.4124683575466026,
          2.412283297255747,
          2.4120310846568485,
          2.411937664021616,
          2.4119214991821747,
          2.4117296611198586,
          2.4116038559666655,
          2.41145096600894,
          2.411214176091199,
          2.411187753403884,
          2.411120715556773,
          2.411120715556773,
          2.411036014714273,
          2.4108930583725536,
          2.41077238696708,
          2.410441127523423,
          2.410426505625494,
          2.4104118877672236,
          2.4099961125009655,
          2.4097931627973037,
          2.4097464858461337,
          2.4096637443407727,
          2.409627875956043,
          2.4094665023566337,
          2.4094525091502006,
          2.4093556794633,
          2.409082819085981,
          2.4089763791173184,
          2.408836859294863,
          2.4087867387638044,
          2.4086819134458652,
          2.4085069998372224,
          2.4085069998372224,
          2.40845162658884,
          2.4084031510363118,
          2.408274796857173,
          2.4082228289688623,
          2.4081681850535284,
          2.40814090488941,
          2.408100051234739,
          2.4079846875842743,
          2.4078951227361283,
          2.407790072781102,
          2.4077649730592023,
          2.407686162219697,
          2.4076083636743992,
          2.4074591187289007,
          2.4074464794962793,
          2.407346603223783,
          2.407346603223783,
          2.407309217501179,
          2.407222577811881,
          2.406792527040139,
          2.4065824820454043,
          2.4064871428085346,
          2.4064122858399286,
          2.4062627943548973,
          2.405970093239535,
          2.405970093239535,
          2.4059067685148454,
          2.4058376115933844,
          2.4058053152643697,
          2.4057428883202205,
          2.4057202332130982,
          2.405705360623822,
          2.4056510040750885,
          2.405585669280532,
          2.405571010871788,
          2.4055008083378224,
          2.405485888490398,
          2.405455916586984,
          2.405399331603397,
          2.4052344522279965,
          2.405187614848187,
          2.4050911896312814,
          2.404951076899775,
          2.4049437732788563,
          2.404898715984116,
          2.4048310042539995,
          2.4046619056216,
          2.4046290915369206,
          2.4045799150744225,
          2.404547173910718,
          2.404517388959557,
          2.4044807674879256,
          2.404468839633217,
          2.404468839633217,
          2.404452247773636,
          2.404361529452197,
          2.4041269815051565,
          2.4040150895906254,
          2.4039186174566174,
          2.4038305756988847,
          2.4036616974309473,
          2.4036284541970594,
          2.4032975744167406,
          2.403221765786015,
          2.403149547158986,
          2.4030165903606115,
          2.402984682398808,
          2.4029314418846615,
          2.4028483501202484,
          2.4026403995444294,
          2.4026247905304565,
          2.402529111462916,
          2.4025026605209487,
          2.402251579490314,
          2.4019561954832382,
          2.4019072780206385,
          2.4018775182647008,
          2.4018775182647008,
          2.4018550248523702,
          2.401777719404928,
          2.4013272861554946,
          2.401304198168545,
          2.40125728583723,
          2.4012093720261043,
          2.4010803800832563,
          2.400661212741162,
          2.4005424388575283,
          2.4004708458915496,
          2.4004554109451073,
          2.400352066175596,
          2.400352066175596,
          2.400313311907923,
          2.400250048228334,
          2.400223496743016,
          2.400160477423198,
          2.400136364507347,
          2.400045508040747,
          2.399917352406556,
          2.399788116004326,
          2.3995239238691854,
          2.3993759780269985,
          2.3993048582410164,
          2.399268674463856,
          2.3991950306272654,
          2.399176349749841,
          2.399176349749841,
          2.399166274422789,
          2.399156216657715,
          2.399146175429285,
          2.398755612188836,
          2.3986153829032038,
          2.3984074724607147,
          2.3984074724607147,
          2.3983254509510687,
          2.3983160656833973,
          2.3978247524442944,
          2.3975289557088484,
          2.397358817639877,
          2.3973112405351227,
          2.3973112405351227,
          2.3968325083427606,
          2.3968110864904246,
          2.39667940087863,
          2.396522796698566,
          2.3964174017532813,
          2.3958891886318185,
          2.3958891886318185,
          2.3957661932163297,
          2.395546457664668,
          2.3954325034632555,
          2.395347053583455,
          2.395337822779118,
          2.3950923239927264,
          2.395019639602978,
          2.3949760292055724,
          2.39494027985003,
          2.3949086889936355,
          2.3948434988958796,
          2.3948260431843362,
          2.394750512341779,
          2.3947302962365664,
          2.3946025592716795,
          2.3946025592716795,
          2.3944907793935957,
          2.3944327149826097,
          2.39431052071478,
          2.3942350582412493,
          2.3941140241659826,
          2.394022752929055,
          2.3940115459006535,
          2.3939665201824476,
          2.393818325835105,
          2.393772258753999,
          2.3937118002263347,
          2.3935818675754534,
          2.393119066568015,
          2.3929380648598912,
          2.392700908249564,
          2.3926198924217705,
          2.3924918098907306,
          2.3924007081201752,
          2.392281892059383,
          2.392180617045222,
          2.392068519314113,
          2.3918136329852744,
          2.391434232267424,
          2.391424387982585,
          2.3913656767961946,
          2.391355943082014,
          2.3913074497338713,
          2.391183555379282,
          2.391117498901797,
          2.391109417877085,
          2.391109417877085,
          2.3910062455599825,
          2.3909199596339223,
          2.390857812450839,
          2.390780649144321,
          2.390726852911426,
          2.3906096907504684,
          2.3905840365903717,
          2.3905550174143473,
          2.390386380543037,
          2.3902988481290044,
          2.390270805310775,
          2.3902232657291296,
          2.3902232657291296,
          2.390049923543085,
          2.3899850758034855,
          2.3899850758034855,
          2.38993280955571,
          2.389882619712731,
          2.389849150901434,
          2.389806819288689,
          2.3897954875911127,
          2.3897954875911127,
          2.3897306961910334,
          2.3896757194017124,
          2.3896075607804246,
          2.3895076920287504,
          2.3894066552077255,
          2.3892724977177187,
          2.3892724977177187,
          2.3891827779518766,
          2.3888506173413075,
          2.3888067010536433,
          2.3887846177300633,
          2.3887178850743314,
          2.388690973190134,
          2.388650145614582,
          2.388547083011616,
          2.3881693921095963,
          2.3881099123039733,
          2.387905046845623,
          2.387877004106414,
          2.387716239600582,
          2.3876344969090444,
          2.3870336993797983,
          2.38694004550991,
          2.3868829821072284,
          2.386668084817604,
          2.386628246679986,
          2.3866082123215646,
          2.3864838228481307,
          2.3864499482835786,
          2.3864499482835786,
          2.3864295560563997,
          2.386326420848417,
          2.3862112730736196,
          2.3862112730736196,
          2.385623001269141,
          2.3855310452890537,
          2.385385908754735,
          2.3853156310885835,
          2.3852672228056506,
          2.3852672228056506,
          2.385172672232277,
          2.3850297708756356,
          2.3849143414254357,
          2.384555456320197,
          2.3843826382928475,
          2.3843516671553266,
          2.3841532133516505,
          2.384137560317469,
          2.383847182404568,
          2.3838224080232915,
          2.383649243424843,
          2.383482966729844,
          2.3833806960669652,
          2.382880163232555,
          2.3826364238485254,
          2.3823572776517765,
          2.3818992520916202,
          2.3817788687762556,
          2.381405952865557,
          2.3812752286511607,
          2.381067337293929,
          2.3807605929414857,
          2.380710067303071,
          2.380545562620679,
          2.3804951030153205,
          2.3802343750022805,
          2.3802127943422304,
          2.380169816497076,
          2.3800004070597978,
          2.379734096790844,
          2.3795506284275785,
          2.3795305911070166,
          2.379392312199524,
          2.379334118055822,
          2.379263783844605,
          2.3792255637012163,
          2.3791533462449843,
          2.379041497064368,
          2.378951057719545,
          2.378848305286144,
          2.378555011652002,
          2.37834275803404,
          2.378245074798473,
          2.378084025085101,
          2.3780207601743326,
          2.3779285030764807,
          2.377584280919364,
          2.3774143149558573,
          2.3772384069491053,
          2.3771218355487527,
          2.376802939795705,
          2.3765893244589416,
          2.3763530495565597,
          2.3762692398331073,
          2.376102653007402,
          2.3760554630910335,
          2.37598594479418,
          2.3759335719742576,
          2.375864975586803,
          2.3756929996445932,
          2.375633060255135,
          2.3752652019903713,
          2.3752588454398507,
          2.3748360164444215,
          2.3747532000977625,
          2.374720584469149,
          2.374714024831003,
          2.37457499126727,
          2.3745482291827664,
          2.37450796967098,
          2.3744609370042116,
          2.3744475038185473,
          2.3742561622454916,
          2.3742274760131576,
          2.3740643458851887,
          2.3740283755555507,
          2.3740283755555507,
          2.373998918730468,
          2.373809971924835,
          2.3737383476599647,
          2.373681422986733,
          2.373681422986733,
          2.373456850193275,
          2.373434477202194,
          2.37330084598654,
          2.3730844466218515,
          2.3730844466218515,
          2.372960079434911,
          2.3729507437245903,
          2.3728756883972415,
          2.3727859594520826,
          2.3726191539224644,
          2.3726165560374604,
          2.3725774340294676,
          2.3725262589951512,
          2.3725318280949232,
          2.37254349062276,
          2.372427744120228,
          2.3724366176971996,
          2.372394114866179,
          2.3724084556405676,
          2.372480633307554,
          2.3724296039215806,
          2.3723870195669075,
          2.372461882384376,
          2.372494911031384,
          2.3724520546319936,
          2.372496258992428,
          2.372608106441333,
          2.372633055346127,
          2.3726588041812793,
          2.372713717258499,
          2.37277695487849,
          2.3729002107663004,
          2.3730157974674637,
          2.3730776015037613,
          2.3731668651349933,
          2.373196800296133,
          2.373246848450825,
          2.373297051396782,
          2.3734622438812893,
          2.3734622438812893,
          2.3735077176413775,
          2.373538360014448,
          2.373622315353866,
          2.3736118101799963,
          2.3737205155244303,
          2.373753192034561,
          2.3737792733829237,
          2.3737896591945473,
          2.373810400417291,
          2.3739442729102205,
          2.3741142605369028,
          2.3744963643324737,
          2.3746586514191077,
          2.3748437656274284,
          2.3749975787268207,
          2.3750638820662275,
          2.3751851371802455,
          2.375216110673435,
          2.3754973024714814,
          2.375520321078052,
          2.3755687345443217,
          2.375591072697252,
          2.3757002578906925,
          2.3758041342148486,
          2.3759421978269404,
          2.3759463067429336,
          2.3759760676094723,
          2.376026963933338,
          2.376102983536018,
          2.376135439439564,
          2.3761677289744947,
          2.376194070814309,
          2.376219218274168,
          2.376223295950803,
          2.37622734163013,
          2.3763077452478467,
          2.3764260303539126,
          2.3764341345662245,
          2.376435828904881,
          2.3764846360591423,
          2.3764864900063265,
          2.376552382467868,
          2.3765631224824166,
          2.3765796195288407,
          2.3766400267789165,
          2.376666015122955,
          2.376710223914099,
          2.3767250240955957,
          2.3768253111472397,
          2.3768684944180456,
          2.376896108656482,
          2.376934668224181,
          2.3769839787732234,
          2.3770463850067576,
          2.377219144651677,
          2.3772731807035394,
          2.3778665469296034,
          2.3778665469296034,
          2.378036225476658,
          2.3781908452842164,
          2.378474124516855,
          2.3785341293768023,
          2.378611674335707,
          2.378944276016469,
          2.3790391701704747,
          2.3790391701704747,
          2.3791276473247267,
          2.3796616431156363,
          2.3799433303066935,
          2.3802068343707323,
          2.381399682980162,
          2.3815494227742664,
          2.381805286194856,
          2.3823640040370786,
          2.3829379085945277,
          2.382990146395596,
          2.3830599361545337,
          2.3842068499252718,
          2.3845956473070964,
          2.3849352261136505,
          2.3849352261136505,
          2.38520689530834,
          2.3856684106697927,
          2.3861970230187013,
          2.386319178825453,
          2.3869412454092798,
          2.3878161689365984,
          2.3879643520841918,
          2.3883359219154663,
          2.388984151068933,
          2.3890006148951946,
          2.3897904151638816,
          2.3897904151638816,
          2.3899135779290517,
          2.3908102646519103,
          2.390985269377936,
          2.3915290814862664,
          2.392288095855301,
          2.393220822739292,
          2.3933240750227207,
          2.3933930827245913,
          2.3939677167103235,
          2.394427098169778,
          2.3948285984083024,
          2.394900485159912,
          2.3949448633459705,
          2.3951204068368495,
          2.395138481569548,
          2.3961117299633585,
          2.396407218309832,
          2.397393135269779,
          2.399956098831384,
          2.399956098831384,
          2.4008085533688788,
          2.4012013554474123,
          2.402363896906592,
          2.402678855394388,
          2.4027527551041854,
          2.4042464996589685,
          2.4045709724305375,
          2.40507244878028,
          2.4057115749329743,
          2.406536983774389,
          2.406711357945439,
          2.4083290736683134,
          2.4083975172379115,
          2.4090527108594064,
          2.4102044766556068,
          2.410512206775587,
          2.410946478879683,
          2.4111888866139655,
          2.4112932596348386,
          2.4125924475495393,
          2.4126836957866136,
          2.4132900026676585,
          2.4137266945456757,
          2.4137266945456757,
          2.415128385627918,
          2.416262740464595,
          2.417302637436103,
          2.417347177879145,
          2.4176615218664566,
          2.4179574047068435,
          2.418257093951091,
          2.419444215247665,
          2.419541472982369,
          2.4201815207378163,
          2.42030613309977,
          2.420331113258521,
          2.420395377379815,
          2.421823101007725,
          2.4220056362556583,
          2.4230879210627316,
          2.423141636203248,
          2.424064610140137,
          2.4264991893954893,
          2.4283665395723224,
          2.4288943753268377,
          2.430261341181004,
          2.4309375221732616,
          2.4314247066673187,
          2.431761777967094,
          2.4324445122311666,
          2.4339187950091836,
          2.4347873729279472,
          2.435560028359272,
          2.435689527435535,
          2.4363074825965114,
          2.4380434236056296,
          2.439556991845254,
          2.439862788700252,
          2.439964943630992,
          2.439999019842574,
          2.4402378951628863,
          2.4411980831601943,
          2.44238792766188,
          2.4449694662295185,
          2.4450411392862206,
          2.4501847921801083,
          2.4508622012409957,
          2.453480791424977,
          2.4538663274267405,
          2.458390293162126,
          2.459187071492054,
          2.4597472718795355,
          2.4610757822139315,
          2.463549397144298,
          2.4655194277431103,
          2.466144249377573,
          2.468796155783066,
          2.4718852249309715,
          2.4739349263745423,
          2.4763198471412675,
          2.4786883950116163,
          2.4795434552505444,
          2.4834133065016277,
          2.485713927388902,
          2.4995513588874507,
          2.5008026803577796,
          2.5022017363220437,
          2.5056878133289606,
          2.51214830466679,
          2.513735935914067,
          2.518845538530347,
          2.51974253596228,
          2.521344244687385,
          2.522756246685287,
          2.524795222617978,
          2.5252579656007685,
          2.526707634901491,
          2.5318520485980094,
          2.5320682378200345,
          2.5385177320390073,
          2.572219278007894,
          2.5739721102065447,
          2.5764501249354086,
          2.577516544958467,
          2.58053538338661,
          2.58453291346086,
          2.5974267567446727,
          2.6016244507044752,
          2.6016780816186436,
          2.609408808637247,
          2.6108389526994316,
          2.61669096656555,
          2.61947081519149,
          2.633410791755426,
          2.6347544516861268,
          2.6433046957022213,
          2.6531444913732365,
          2.656619650826999,
          2.6607539421400843,
          2.6617739830043345,
          2.669568932255141,
          2.6747081095397416,
          2.682080084509956,
          2.6879746126039437,
          2.6889399552291047,
          2.7009303457664022,
          2.7009811595659103,
          2.7068764999959414,
          2.707994831137446,
          2.718777061279873,
          2.727738173704908,
          2.738598393937434,
          2.739465990259043,
          2.7578194540695837,
          2.760483251505846,
          2.760790704005536,
          2.797363656834905,
          2.8048057527885892,
          2.8315175032376523,
          2.833286117697689,
          2.85607336333018,
          2.8614069719855384,
          2.86355247511796,
          2.86355247511796,
          2.86355247511796,
          2.86355247511796,
          2.86355247511796,
          2.86355247511796,
          2.86355247511796,
          2.86355247511796,
          2.86355247511796,
          2.86355247511796,
          2.86355247511796,
          2.86355247511796,
          2.86355247511796,
          2.86355247511796,
          2.86355247511796,
          2.86355247511796,
          2.86355247511796,
          2.86355247511796,
          2.86355247511796
         ]
        }
       ],
       "layout": {
        "margin": {
         "b": 50,
         "l": 100,
         "r": 25,
         "t": 25
        },
        "paper_bgcolor": "white",
        "plot_bgcolor": "white",
        "showlegend": false,
        "template": {
         "data": {
          "bar": [
           {
            "error_x": {
             "color": "#2a3f5f"
            },
            "error_y": {
             "color": "#2a3f5f"
            },
            "marker": {
             "line": {
              "color": "#E5ECF6",
              "width": 0.5
             },
             "pattern": {
              "fillmode": "overlay",
              "size": 10,
              "solidity": 0.2
             }
            },
            "type": "bar"
           }
          ],
          "barpolar": [
           {
            "marker": {
             "line": {
              "color": "#E5ECF6",
              "width": 0.5
             },
             "pattern": {
              "fillmode": "overlay",
              "size": 10,
              "solidity": 0.2
             }
            },
            "type": "barpolar"
           }
          ],
          "carpet": [
           {
            "aaxis": {
             "endlinecolor": "#2a3f5f",
             "gridcolor": "white",
             "linecolor": "white",
             "minorgridcolor": "white",
             "startlinecolor": "#2a3f5f"
            },
            "baxis": {
             "endlinecolor": "#2a3f5f",
             "gridcolor": "white",
             "linecolor": "white",
             "minorgridcolor": "white",
             "startlinecolor": "#2a3f5f"
            },
            "type": "carpet"
           }
          ],
          "choropleth": [
           {
            "colorbar": {
             "outlinewidth": 0,
             "ticks": ""
            },
            "type": "choropleth"
           }
          ],
          "contour": [
           {
            "colorbar": {
             "outlinewidth": 0,
             "ticks": ""
            },
            "colorscale": [
             [
              0,
              "#0d0887"
             ],
             [
              0.1111111111111111,
              "#46039f"
             ],
             [
              0.2222222222222222,
              "#7201a8"
             ],
             [
              0.3333333333333333,
              "#9c179e"
             ],
             [
              0.4444444444444444,
              "#bd3786"
             ],
             [
              0.5555555555555556,
              "#d8576b"
             ],
             [
              0.6666666666666666,
              "#ed7953"
             ],
             [
              0.7777777777777778,
              "#fb9f3a"
             ],
             [
              0.8888888888888888,
              "#fdca26"
             ],
             [
              1,
              "#f0f921"
             ]
            ],
            "type": "contour"
           }
          ],
          "contourcarpet": [
           {
            "colorbar": {
             "outlinewidth": 0,
             "ticks": ""
            },
            "type": "contourcarpet"
           }
          ],
          "heatmap": [
           {
            "colorbar": {
             "outlinewidth": 0,
             "ticks": ""
            },
            "colorscale": [
             [
              0,
              "#0d0887"
             ],
             [
              0.1111111111111111,
              "#46039f"
             ],
             [
              0.2222222222222222,
              "#7201a8"
             ],
             [
              0.3333333333333333,
              "#9c179e"
             ],
             [
              0.4444444444444444,
              "#bd3786"
             ],
             [
              0.5555555555555556,
              "#d8576b"
             ],
             [
              0.6666666666666666,
              "#ed7953"
             ],
             [
              0.7777777777777778,
              "#fb9f3a"
             ],
             [
              0.8888888888888888,
              "#fdca26"
             ],
             [
              1,
              "#f0f921"
             ]
            ],
            "type": "heatmap"
           }
          ],
          "heatmapgl": [
           {
            "colorbar": {
             "outlinewidth": 0,
             "ticks": ""
            },
            "colorscale": [
             [
              0,
              "#0d0887"
             ],
             [
              0.1111111111111111,
              "#46039f"
             ],
             [
              0.2222222222222222,
              "#7201a8"
             ],
             [
              0.3333333333333333,
              "#9c179e"
             ],
             [
              0.4444444444444444,
              "#bd3786"
             ],
             [
              0.5555555555555556,
              "#d8576b"
             ],
             [
              0.6666666666666666,
              "#ed7953"
             ],
             [
              0.7777777777777778,
              "#fb9f3a"
             ],
             [
              0.8888888888888888,
              "#fdca26"
             ],
             [
              1,
              "#f0f921"
             ]
            ],
            "type": "heatmapgl"
           }
          ],
          "histogram": [
           {
            "marker": {
             "pattern": {
              "fillmode": "overlay",
              "size": 10,
              "solidity": 0.2
             }
            },
            "type": "histogram"
           }
          ],
          "histogram2d": [
           {
            "colorbar": {
             "outlinewidth": 0,
             "ticks": ""
            },
            "colorscale": [
             [
              0,
              "#0d0887"
             ],
             [
              0.1111111111111111,
              "#46039f"
             ],
             [
              0.2222222222222222,
              "#7201a8"
             ],
             [
              0.3333333333333333,
              "#9c179e"
             ],
             [
              0.4444444444444444,
              "#bd3786"
             ],
             [
              0.5555555555555556,
              "#d8576b"
             ],
             [
              0.6666666666666666,
              "#ed7953"
             ],
             [
              0.7777777777777778,
              "#fb9f3a"
             ],
             [
              0.8888888888888888,
              "#fdca26"
             ],
             [
              1,
              "#f0f921"
             ]
            ],
            "type": "histogram2d"
           }
          ],
          "histogram2dcontour": [
           {
            "colorbar": {
             "outlinewidth": 0,
             "ticks": ""
            },
            "colorscale": [
             [
              0,
              "#0d0887"
             ],
             [
              0.1111111111111111,
              "#46039f"
             ],
             [
              0.2222222222222222,
              "#7201a8"
             ],
             [
              0.3333333333333333,
              "#9c179e"
             ],
             [
              0.4444444444444444,
              "#bd3786"
             ],
             [
              0.5555555555555556,
              "#d8576b"
             ],
             [
              0.6666666666666666,
              "#ed7953"
             ],
             [
              0.7777777777777778,
              "#fb9f3a"
             ],
             [
              0.8888888888888888,
              "#fdca26"
             ],
             [
              1,
              "#f0f921"
             ]
            ],
            "type": "histogram2dcontour"
           }
          ],
          "mesh3d": [
           {
            "colorbar": {
             "outlinewidth": 0,
             "ticks": ""
            },
            "type": "mesh3d"
           }
          ],
          "parcoords": [
           {
            "line": {
             "colorbar": {
              "outlinewidth": 0,
              "ticks": ""
             }
            },
            "type": "parcoords"
           }
          ],
          "pie": [
           {
            "automargin": true,
            "type": "pie"
           }
          ],
          "scatter": [
           {
            "fillpattern": {
             "fillmode": "overlay",
             "size": 10,
             "solidity": 0.2
            },
            "type": "scatter"
           }
          ],
          "scatter3d": [
           {
            "line": {
             "colorbar": {
              "outlinewidth": 0,
              "ticks": ""
             }
            },
            "marker": {
             "colorbar": {
              "outlinewidth": 0,
              "ticks": ""
             }
            },
            "type": "scatter3d"
           }
          ],
          "scattercarpet": [
           {
            "marker": {
             "colorbar": {
              "outlinewidth": 0,
              "ticks": ""
             }
            },
            "type": "scattercarpet"
           }
          ],
          "scattergeo": [
           {
            "marker": {
             "colorbar": {
              "outlinewidth": 0,
              "ticks": ""
             }
            },
            "type": "scattergeo"
           }
          ],
          "scattergl": [
           {
            "marker": {
             "colorbar": {
              "outlinewidth": 0,
              "ticks": ""
             }
            },
            "type": "scattergl"
           }
          ],
          "scattermapbox": [
           {
            "marker": {
             "colorbar": {
              "outlinewidth": 0,
              "ticks": ""
             }
            },
            "type": "scattermapbox"
           }
          ],
          "scatterpolar": [
           {
            "marker": {
             "colorbar": {
              "outlinewidth": 0,
              "ticks": ""
             }
            },
            "type": "scatterpolar"
           }
          ],
          "scatterpolargl": [
           {
            "marker": {
             "colorbar": {
              "outlinewidth": 0,
              "ticks": ""
             }
            },
            "type": "scatterpolargl"
           }
          ],
          "scatterternary": [
           {
            "marker": {
             "colorbar": {
              "outlinewidth": 0,
              "ticks": ""
             }
            },
            "type": "scatterternary"
           }
          ],
          "surface": [
           {
            "colorbar": {
             "outlinewidth": 0,
             "ticks": ""
            },
            "colorscale": [
             [
              0,
              "#0d0887"
             ],
             [
              0.1111111111111111,
              "#46039f"
             ],
             [
              0.2222222222222222,
              "#7201a8"
             ],
             [
              0.3333333333333333,
              "#9c179e"
             ],
             [
              0.4444444444444444,
              "#bd3786"
             ],
             [
              0.5555555555555556,
              "#d8576b"
             ],
             [
              0.6666666666666666,
              "#ed7953"
             ],
             [
              0.7777777777777778,
              "#fb9f3a"
             ],
             [
              0.8888888888888888,
              "#fdca26"
             ],
             [
              1,
              "#f0f921"
             ]
            ],
            "type": "surface"
           }
          ],
          "table": [
           {
            "cells": {
             "fill": {
              "color": "#EBF0F8"
             },
             "line": {
              "color": "white"
             }
            },
            "header": {
             "fill": {
              "color": "#C8D4E3"
             },
             "line": {
              "color": "white"
             }
            },
            "type": "table"
           }
          ]
         },
         "layout": {
          "annotationdefaults": {
           "arrowcolor": "#2a3f5f",
           "arrowhead": 0,
           "arrowwidth": 1
          },
          "autotypenumbers": "strict",
          "coloraxis": {
           "colorbar": {
            "outlinewidth": 0,
            "ticks": ""
           }
          },
          "colorscale": {
           "diverging": [
            [
             0,
             "#8e0152"
            ],
            [
             0.1,
             "#c51b7d"
            ],
            [
             0.2,
             "#de77ae"
            ],
            [
             0.3,
             "#f1b6da"
            ],
            [
             0.4,
             "#fde0ef"
            ],
            [
             0.5,
             "#f7f7f7"
            ],
            [
             0.6,
             "#e6f5d0"
            ],
            [
             0.7,
             "#b8e186"
            ],
            [
             0.8,
             "#7fbc41"
            ],
            [
             0.9,
             "#4d9221"
            ],
            [
             1,
             "#276419"
            ]
           ],
           "sequential": [
            [
             0,
             "#0d0887"
            ],
            [
             0.1111111111111111,
             "#46039f"
            ],
            [
             0.2222222222222222,
             "#7201a8"
            ],
            [
             0.3333333333333333,
             "#9c179e"
            ],
            [
             0.4444444444444444,
             "#bd3786"
            ],
            [
             0.5555555555555556,
             "#d8576b"
            ],
            [
             0.6666666666666666,
             "#ed7953"
            ],
            [
             0.7777777777777778,
             "#fb9f3a"
            ],
            [
             0.8888888888888888,
             "#fdca26"
            ],
            [
             1,
             "#f0f921"
            ]
           ],
           "sequentialminus": [
            [
             0,
             "#0d0887"
            ],
            [
             0.1111111111111111,
             "#46039f"
            ],
            [
             0.2222222222222222,
             "#7201a8"
            ],
            [
             0.3333333333333333,
             "#9c179e"
            ],
            [
             0.4444444444444444,
             "#bd3786"
            ],
            [
             0.5555555555555556,
             "#d8576b"
            ],
            [
             0.6666666666666666,
             "#ed7953"
            ],
            [
             0.7777777777777778,
             "#fb9f3a"
            ],
            [
             0.8888888888888888,
             "#fdca26"
            ],
            [
             1,
             "#f0f921"
            ]
           ]
          },
          "colorway": [
           "#636efa",
           "#EF553B",
           "#00cc96",
           "#ab63fa",
           "#FFA15A",
           "#19d3f3",
           "#FF6692",
           "#B6E880",
           "#FF97FF",
           "#FECB52"
          ],
          "font": {
           "color": "#2a3f5f"
          },
          "geo": {
           "bgcolor": "white",
           "lakecolor": "white",
           "landcolor": "#E5ECF6",
           "showlakes": true,
           "showland": true,
           "subunitcolor": "white"
          },
          "hoverlabel": {
           "align": "left"
          },
          "hovermode": "closest",
          "mapbox": {
           "style": "light"
          },
          "paper_bgcolor": "white",
          "plot_bgcolor": "#E5ECF6",
          "polar": {
           "angularaxis": {
            "gridcolor": "white",
            "linecolor": "white",
            "ticks": ""
           },
           "bgcolor": "#E5ECF6",
           "radialaxis": {
            "gridcolor": "white",
            "linecolor": "white",
            "ticks": ""
           }
          },
          "scene": {
           "xaxis": {
            "backgroundcolor": "#E5ECF6",
            "gridcolor": "white",
            "gridwidth": 2,
            "linecolor": "white",
            "showbackground": true,
            "ticks": "",
            "zerolinecolor": "white"
           },
           "yaxis": {
            "backgroundcolor": "#E5ECF6",
            "gridcolor": "white",
            "gridwidth": 2,
            "linecolor": "white",
            "showbackground": true,
            "ticks": "",
            "zerolinecolor": "white"
           },
           "zaxis": {
            "backgroundcolor": "#E5ECF6",
            "gridcolor": "white",
            "gridwidth": 2,
            "linecolor": "white",
            "showbackground": true,
            "ticks": "",
            "zerolinecolor": "white"
           }
          },
          "shapedefaults": {
           "line": {
            "color": "#2a3f5f"
           }
          },
          "ternary": {
           "aaxis": {
            "gridcolor": "white",
            "linecolor": "white",
            "ticks": ""
           },
           "baxis": {
            "gridcolor": "white",
            "linecolor": "white",
            "ticks": ""
           },
           "bgcolor": "#E5ECF6",
           "caxis": {
            "gridcolor": "white",
            "linecolor": "white",
            "ticks": ""
           }
          },
          "title": {
           "x": 0.05
          },
          "xaxis": {
           "automargin": true,
           "gridcolor": "white",
           "linecolor": "white",
           "ticks": "",
           "title": {
            "standoff": 15
           },
           "zerolinecolor": "white",
           "zerolinewidth": 2
          },
          "yaxis": {
           "automargin": true,
           "gridcolor": "white",
           "linecolor": "white",
           "ticks": "",
           "title": {
            "standoff": 15
           },
           "zerolinecolor": "white",
           "zerolinewidth": 2
          }
         }
        },
        "xaxis": {
         "gridcolor": "lightgrey",
         "linecolor": "black",
         "title": {
          "text": "Income per person/year (1000s €)"
         }
        },
        "yaxis": {
         "gridcolor": "lightgrey",
         "linecolor": "black",
         "title": {
          "text": "People per household"
         }
        }
       }
      }
     },
     "metadata": {},
     "output_type": "display_data"
    }
   ],
   "source": [
    "# map the colors to each row in the DataFrame\n",
    "district_colors = dict(zip(final_df[\"district_code\"].unique(), palcolors)) #dictionary matching district code and corresponding color\n",
    "final_df['color'] = final_df['district_code'].map(district_colors)\n",
    "\n",
    "#create the scatterplot\n",
    "scatter = go.Scatter(\n",
    "    x=final_df[\"income_per_person\"],\n",
    "    y=final_df[\"mean_people_household\"],\n",
    "    mode='markers',\n",
    "    marker=dict(color=final_df['color']),\n",
    "    text=final_df['neighborhood_name'],\n",
    "    customdata= np.stack((final_df['district_name'], final_df['neighborhood_name'], final_df['census_section'], final_df['income_per_person'], final_df['mean_people_household']), axis=-1),\n",
    "    hovertemplate =\n",
    "    '<br><b>District: %{customdata[0]}</b></br>' + \n",
    "    '<b>Neighborhood: %{customdata[1]}</b>' + \n",
    "    '<br><b>Census section: %{customdata[2]}</b></br>' + \n",
    "    '<b>Income per person/year: %{customdata[3]}</b>' + \n",
    "    '<br><b>People per household: %{customdata[4]}</b><extra></extra></br>' #add extra to remove trace:0 right next to hover box\n",
    ")\n",
    "\n",
    "#calculate LOWESS line\n",
    "final_df = final_df.sort_values(by='income_per_person') #sort the DataFrame by the 'income_per_person' column, necessary to calculate the LOWESS line\n",
    "lowess_result = lowess(final_df[\"mean_people_household\"], final_df[\"income_per_person\"], frac=0.3)\n",
    "lowess_line = go.Scatter(\n",
    "    x=final_df[\"income_per_person\"],\n",
    "    y=lowess_result[:, 1],\n",
    "    mode='lines',\n",
    "    line=dict(color='black', width=2),\n",
    "    hoverinfo='none',\n",
    ")\n",
    "\n",
    "#create Figure\n",
    "fig3 = go.Figure(data=[scatter, lowess_line], layout=mylayout)\n",
    "\n",
    "#update layout with axes titles and margins\n",
    "fig3.update_layout(\n",
    "    xaxis=dict(title='Income per person/year (1000s €)'),\n",
    "    yaxis=dict(title='People per household'),\n",
    "    margin=dict(l=100, r=25, b=50, t=25),#customizing margins\n",
    "    showlegend=False\n",
    ")\n",
    "\n",
    "#show the figure\n",
    "fig3.show()"
   ]
  },
  {
   "cell_type": "markdown",
   "metadata": {},
   "source": [
    "And there we have it, it's a clear U-shape relationship. People in low-income areas tend to live in households with more people, but as we move into mid-income city areas the number of tenants declines. However, high-income neighbrhoods are again characterized by households with more people. Colors show that some districts form clusters at different points along the spectrum."
   ]
  },
  {
   "cell_type": "markdown",
   "metadata": {},
   "source": [
    "## 6. Bonus track: introducing apartment size\n",
    "So should the take-home message be that richer people live in crammed apartments? Not necessarily... We have not factored in the size of those apartments yet. It would be logical to suppose that the more financially privileged would live in more spacious places. Let's test this hypothesis out then.\n",
    "\n",
    "In order to conduct this final part of the project we'll need two more datasets.\n",
    "\n",
    "The first dataset, available on the [website of the Catalan government](https://habitatge.gencat.cat/ca/dades/indicadors_estadistiques/estadistiques_de_construccio_i_mercat_immobiliari/mercat_de_lloguer/lloguers-barcelona-per-districtes-i-barris/), contains the average rental apartment size across neighborhoods in the city of Barcelona. You may have already caught two problems here... First, the dataset only includes rental apartments, so our data will not contain the apartments people own. The second problem is that the data is offered per neighborhood, without offering the more fine-grained census section information. This second issue forces us to have to take the dataset we've used before, and calculate income and household size for each neighborhood. To do it, one could quickly average across census sections, but those sections have a different population. Thus, we have to retrieve the population for each census section from yet another [dataset from the Barcelona city council](https://opendata-ajuntament.barcelona.cat/data/en/dataset/pad_mdbas_sexe/resource/86ab6583-6c83-412c-bdce-8b52077a821a), and use this information to calculate our variables appropriately."
   ]
  },
  {
   "cell_type": "markdown",
   "metadata": {},
   "source": [
    "### 6.1. Loading the apartment mean size dataset"
   ]
  },
  {
   "cell_type": "markdown",
   "metadata": {},
   "source": [
    "This dataset is not offered as a clean .csv file, but as a dirty Excel file with multiple headers and inconsistent formatting. So after inspecting the file, we can choose which rows and columns to include, and rename the variables."
   ]
  },
  {
   "cell_type": "code",
   "execution_count": 83,
   "metadata": {},
   "outputs": [
    {
     "data": {
      "text/html": [
       "<div>\n",
       "<style scoped>\n",
       "    .dataframe tbody tr th:only-of-type {\n",
       "        vertical-align: middle;\n",
       "    }\n",
       "\n",
       "    .dataframe tbody tr th {\n",
       "        vertical-align: top;\n",
       "    }\n",
       "\n",
       "    .dataframe thead th {\n",
       "        text-align: right;\n",
       "    }\n",
       "</style>\n",
       "<table border=\"1\" class=\"dataframe\">\n",
       "  <thead>\n",
       "    <tr style=\"text-align: right;\">\n",
       "      <th></th>\n",
       "      <th>neighborhood_code</th>\n",
       "      <th>mean_size</th>\n",
       "    </tr>\n",
       "  </thead>\n",
       "  <tbody>\n",
       "    <tr>\n",
       "      <th>0</th>\n",
       "      <td>1</td>\n",
       "      <td>63.47</td>\n",
       "    </tr>\n",
       "    <tr>\n",
       "      <th>1</th>\n",
       "      <td>2</td>\n",
       "      <td>83.42</td>\n",
       "    </tr>\n",
       "    <tr>\n",
       "      <th>2</th>\n",
       "      <td>3</td>\n",
       "      <td>56.30</td>\n",
       "    </tr>\n",
       "    <tr>\n",
       "      <th>3</th>\n",
       "      <td>4</td>\n",
       "      <td>71.89</td>\n",
       "    </tr>\n",
       "    <tr>\n",
       "      <th>4</th>\n",
       "      <td>5</td>\n",
       "      <td>75.64</td>\n",
       "    </tr>\n",
       "    <tr>\n",
       "      <th>...</th>\n",
       "      <td>...</td>\n",
       "      <td>...</td>\n",
       "    </tr>\n",
       "    <tr>\n",
       "      <th>68</th>\n",
       "      <td>69</td>\n",
       "      <td>84.81</td>\n",
       "    </tr>\n",
       "    <tr>\n",
       "      <th>69</th>\n",
       "      <td>70</td>\n",
       "      <td>64.15</td>\n",
       "    </tr>\n",
       "    <tr>\n",
       "      <th>70</th>\n",
       "      <td>71</td>\n",
       "      <td>72.22</td>\n",
       "    </tr>\n",
       "    <tr>\n",
       "      <th>71</th>\n",
       "      <td>72</td>\n",
       "      <td>72.15</td>\n",
       "    </tr>\n",
       "    <tr>\n",
       "      <th>72</th>\n",
       "      <td>73</td>\n",
       "      <td>68.56</td>\n",
       "    </tr>\n",
       "  </tbody>\n",
       "</table>\n",
       "<p>73 rows × 2 columns</p>\n",
       "</div>"
      ],
      "text/plain": [
       "    neighborhood_code  mean_size\n",
       "0                   1      63.47\n",
       "1                   2      83.42\n",
       "2                   3      56.30\n",
       "3                   4      71.89\n",
       "4                   5      75.64\n",
       "..                ...        ...\n",
       "68                 69      84.81\n",
       "69                 70      64.15\n",
       "70                 71      72.22\n",
       "71                 72      72.15\n",
       "72                 73      68.56\n",
       "\n",
       "[73 rows x 2 columns]"
      ]
     },
     "metadata": {},
     "output_type": "display_data"
    }
   ],
   "source": [
    "#load as DataFrame\n",
    "df_sizeapts = pd.read_excel(\n",
    "    'anual_bcn_sup.xlsx',\n",
    "    header=None, #skip the headers, we'll introduce them below in English\n",
    "    usecols=[0, 3], #use only 1st and 4th column, corresponding to neighborhood code and to apartment size for the year 2021 \n",
    "    skiprows= list(range(0, 19)) + list(range(92, pd.read_excel('anual_bcn_sup.xlsx', header=None).shape[0])) #take the rows corresponding to the actual data for each neighborhood\n",
    ")\n",
    "\n",
    "# Rename the columns and round the variable of interest\n",
    "df_sizeapts.columns = ['neighborhood_code', 'mean_size']\n",
    "\n",
    "df_sizeapts['mean_size'] = round(df_sizeapts['mean_size'],2)\n",
    "\n",
    "display(df_sizeapts)\n"
   ]
  },
  {
   "cell_type": "markdown",
   "metadata": {},
   "source": [
    "### 6.2. Loading the population per census section dataset\n",
    "As said above, since the apartment size dataset only includes information per neighborhood, we need to calculate income and household size per neighborhood too. But for that we'll need information about the population for each census section, provided in another dataset. After loading it, we'll have to wrangle it too, as information is provided separately for women and men. Let's do all this quickly, without stopping to see the result of the intermediate steps."
   ]
  },
  {
   "cell_type": "code",
   "execution_count": 84,
   "metadata": {},
   "outputs": [
    {
     "data": {
      "text/html": [
       "<div>\n",
       "<style scoped>\n",
       "    .dataframe tbody tr th:only-of-type {\n",
       "        vertical-align: middle;\n",
       "    }\n",
       "\n",
       "    .dataframe tbody tr th {\n",
       "        vertical-align: top;\n",
       "    }\n",
       "\n",
       "    .dataframe thead th {\n",
       "        text-align: right;\n",
       "    }\n",
       "</style>\n",
       "<table border=\"1\" class=\"dataframe\">\n",
       "  <thead>\n",
       "    <tr style=\"text-align: right;\">\n",
       "      <th></th>\n",
       "      <th>census_section</th>\n",
       "      <th>population</th>\n",
       "    </tr>\n",
       "  </thead>\n",
       "  <tbody>\n",
       "    <tr>\n",
       "      <th>0</th>\n",
       "      <td>1001</td>\n",
       "      <td>1311</td>\n",
       "    </tr>\n",
       "    <tr>\n",
       "      <th>1</th>\n",
       "      <td>1002</td>\n",
       "      <td>1489</td>\n",
       "    </tr>\n",
       "    <tr>\n",
       "      <th>2</th>\n",
       "      <td>1003</td>\n",
       "      <td>3661</td>\n",
       "    </tr>\n",
       "    <tr>\n",
       "      <th>3</th>\n",
       "      <td>1004</td>\n",
       "      <td>2972</td>\n",
       "    </tr>\n",
       "    <tr>\n",
       "      <th>4</th>\n",
       "      <td>1005</td>\n",
       "      <td>2448</td>\n",
       "    </tr>\n",
       "    <tr>\n",
       "      <th>...</th>\n",
       "      <td>...</td>\n",
       "      <td>...</td>\n",
       "    </tr>\n",
       "    <tr>\n",
       "      <th>1063</th>\n",
       "      <td>10143</td>\n",
       "      <td>1727</td>\n",
       "    </tr>\n",
       "    <tr>\n",
       "      <th>1064</th>\n",
       "      <td>10234</td>\n",
       "      <td>1829</td>\n",
       "    </tr>\n",
       "    <tr>\n",
       "      <th>1065</th>\n",
       "      <td>10235</td>\n",
       "      <td>1329</td>\n",
       "    </tr>\n",
       "    <tr>\n",
       "      <th>1066</th>\n",
       "      <td>10236</td>\n",
       "      <td>1617</td>\n",
       "    </tr>\n",
       "    <tr>\n",
       "      <th>1067</th>\n",
       "      <td>10237</td>\n",
       "      <td>924</td>\n",
       "    </tr>\n",
       "  </tbody>\n",
       "</table>\n",
       "<p>1068 rows × 2 columns</p>\n",
       "</div>"
      ],
      "text/plain": [
       "      census_section  population\n",
       "0               1001        1311\n",
       "1               1002        1489\n",
       "2               1003        3661\n",
       "3               1004        2972\n",
       "4               1005        2448\n",
       "...              ...         ...\n",
       "1063           10143        1727\n",
       "1064           10234        1829\n",
       "1065           10235        1329\n",
       "1066           10236        1617\n",
       "1067           10237         924\n",
       "\n",
       "[1068 rows x 2 columns]"
      ]
     },
     "metadata": {},
     "output_type": "display_data"
    }
   ],
   "source": [
    "#load as DataFrame\n",
    "df_popcensec = pd.read_csv('2021_pad_mdbas_sexe.csv')\n",
    "\n",
    "df_popcensec = df_popcensec.filter(items=['Seccio_Censal','Valor','SEXE']) #select only useful columns\n",
    "\n",
    "df_popcensec = df_popcensec.set_axis(['census_section','population','sex'], axis=1) #renaming all column names to English\n",
    "\n",
    "#pivot the dataframe to wider format, where women and men have separate columns\n",
    "df_popcensec = df_popcensec.pivot(index='census_section', columns='sex', values='population').reset_index()\n",
    "\n",
    "#rename columns\n",
    "df_popcensec.columns = ['census_section', 'population_women', 'population_men']\n",
    "\n",
    "#sum the population for men and women\n",
    "df_popcensec['population'] = df_popcensec['population_women'] + df_popcensec['population_men']\n",
    "\n",
    "#delete the separate women and men columns, as we do not need them anymore\n",
    "df_popcensec = df_popcensec.drop(['population_women','population_men'], axis=1)\n",
    "\n",
    "#display the DataFrame\n",
    "display(df_popcensec)"
   ]
  },
  {
   "cell_type": "markdown",
   "metadata": {},
   "source": [
    "The next step is recovering our \"final\" dataframe from section 5, adding the population information to it and calculating the variables `income_per_person` and `mean_people_household` collapsing across census sections within neighborhood, taking into account the population of each census section."
   ]
  },
  {
   "cell_type": "code",
   "execution_count": 85,
   "metadata": {},
   "outputs": [
    {
     "data": {
      "text/html": [
       "<div>\n",
       "<style scoped>\n",
       "    .dataframe tbody tr th:only-of-type {\n",
       "        vertical-align: middle;\n",
       "    }\n",
       "\n",
       "    .dataframe tbody tr th {\n",
       "        vertical-align: top;\n",
       "    }\n",
       "\n",
       "    .dataframe thead th {\n",
       "        text-align: right;\n",
       "    }\n",
       "</style>\n",
       "<table border=\"1\" class=\"dataframe\">\n",
       "  <thead>\n",
       "    <tr style=\"text-align: right;\">\n",
       "      <th></th>\n",
       "      <th>district_code</th>\n",
       "      <th>district_name</th>\n",
       "      <th>color</th>\n",
       "      <th>neighborhood_code</th>\n",
       "      <th>neighborhood_name</th>\n",
       "      <th>population</th>\n",
       "      <th>income_per_person</th>\n",
       "      <th>mean_people_household</th>\n",
       "    </tr>\n",
       "  </thead>\n",
       "  <tbody>\n",
       "    <tr>\n",
       "      <th>0</th>\n",
       "      <td>1</td>\n",
       "      <td>Ciutat Vella</td>\n",
       "      <td>#04BB85</td>\n",
       "      <td>1</td>\n",
       "      <td>el Raval</td>\n",
       "      <td>48688.0</td>\n",
       "      <td>10053.37</td>\n",
       "      <td>2.73</td>\n",
       "    </tr>\n",
       "    <tr>\n",
       "      <th>1</th>\n",
       "      <td>1</td>\n",
       "      <td>Ciutat Vella</td>\n",
       "      <td>#04BB85</td>\n",
       "      <td>2</td>\n",
       "      <td>el Barri Gòtic</td>\n",
       "      <td>22850.0</td>\n",
       "      <td>13697.22</td>\n",
       "      <td>2.32</td>\n",
       "    </tr>\n",
       "    <tr>\n",
       "      <th>2</th>\n",
       "      <td>1</td>\n",
       "      <td>Ciutat Vella</td>\n",
       "      <td>#04BB85</td>\n",
       "      <td>3</td>\n",
       "      <td>la Barceloneta</td>\n",
       "      <td>15125.0</td>\n",
       "      <td>13238.96</td>\n",
       "      <td>2.17</td>\n",
       "    </tr>\n",
       "    <tr>\n",
       "      <th>3</th>\n",
       "      <td>1</td>\n",
       "      <td>Ciutat Vella</td>\n",
       "      <td>#04BB85</td>\n",
       "      <td>4</td>\n",
       "      <td>Sant Pere, Santa Caterina i la Ribera</td>\n",
       "      <td>23009.0</td>\n",
       "      <td>14227.04</td>\n",
       "      <td>2.23</td>\n",
       "    </tr>\n",
       "    <tr>\n",
       "      <th>4</th>\n",
       "      <td>2</td>\n",
       "      <td>L'Eixample</td>\n",
       "      <td>#8F76D7</td>\n",
       "      <td>5</td>\n",
       "      <td>el Fort Pienc</td>\n",
       "      <td>33445.0</td>\n",
       "      <td>18137.79</td>\n",
       "      <td>2.45</td>\n",
       "    </tr>\n",
       "    <tr>\n",
       "      <th>...</th>\n",
       "      <td>...</td>\n",
       "      <td>...</td>\n",
       "      <td>...</td>\n",
       "      <td>...</td>\n",
       "      <td>...</td>\n",
       "      <td>...</td>\n",
       "      <td>...</td>\n",
       "      <td>...</td>\n",
       "    </tr>\n",
       "    <tr>\n",
       "      <th>68</th>\n",
       "      <td>10</td>\n",
       "      <td>Sant Martí</td>\n",
       "      <td>#C1A471</td>\n",
       "      <td>69</td>\n",
       "      <td>Diagonal Mar i el Front Marítim del Poblenou</td>\n",
       "      <td>13536.0</td>\n",
       "      <td>19237.37</td>\n",
       "      <td>2.52</td>\n",
       "    </tr>\n",
       "    <tr>\n",
       "      <th>69</th>\n",
       "      <td>10</td>\n",
       "      <td>Sant Martí</td>\n",
       "      <td>#C1A471</td>\n",
       "      <td>70</td>\n",
       "      <td>el Besòs i el Maresme</td>\n",
       "      <td>26116.0</td>\n",
       "      <td>10938.22</td>\n",
       "      <td>2.73</td>\n",
       "    </tr>\n",
       "    <tr>\n",
       "      <th>70</th>\n",
       "      <td>10</td>\n",
       "      <td>Sant Martí</td>\n",
       "      <td>#C1A471</td>\n",
       "      <td>71</td>\n",
       "      <td>Provençals del Poblenou</td>\n",
       "      <td>21185.0</td>\n",
       "      <td>15626.82</td>\n",
       "      <td>2.54</td>\n",
       "    </tr>\n",
       "    <tr>\n",
       "      <th>71</th>\n",
       "      <td>10</td>\n",
       "      <td>Sant Martí</td>\n",
       "      <td>#C1A471</td>\n",
       "      <td>72</td>\n",
       "      <td>Sant Martí de Provençals</td>\n",
       "      <td>26229.0</td>\n",
       "      <td>14919.70</td>\n",
       "      <td>2.46</td>\n",
       "    </tr>\n",
       "    <tr>\n",
       "      <th>72</th>\n",
       "      <td>10</td>\n",
       "      <td>Sant Martí</td>\n",
       "      <td>#C1A471</td>\n",
       "      <td>73</td>\n",
       "      <td>la Verneda i la Pau</td>\n",
       "      <td>28798.0</td>\n",
       "      <td>13644.19</td>\n",
       "      <td>2.51</td>\n",
       "    </tr>\n",
       "  </tbody>\n",
       "</table>\n",
       "<p>73 rows × 8 columns</p>\n",
       "</div>"
      ],
      "text/plain": [
       "    district_code district_name    color  neighborhood_code  \\\n",
       "0               1  Ciutat Vella  #04BB85                  1   \n",
       "1               1  Ciutat Vella  #04BB85                  2   \n",
       "2               1  Ciutat Vella  #04BB85                  3   \n",
       "3               1  Ciutat Vella  #04BB85                  4   \n",
       "4               2    L'Eixample  #8F76D7                  5   \n",
       "..            ...           ...      ...                ...   \n",
       "68             10    Sant Martí  #C1A471                 69   \n",
       "69             10    Sant Martí  #C1A471                 70   \n",
       "70             10    Sant Martí  #C1A471                 71   \n",
       "71             10    Sant Martí  #C1A471                 72   \n",
       "72             10    Sant Martí  #C1A471                 73   \n",
       "\n",
       "                               neighborhood_name  population  \\\n",
       "0                                       el Raval     48688.0   \n",
       "1                                 el Barri Gòtic     22850.0   \n",
       "2                                 la Barceloneta     15125.0   \n",
       "3          Sant Pere, Santa Caterina i la Ribera     23009.0   \n",
       "4                                  el Fort Pienc     33445.0   \n",
       "..                                           ...         ...   \n",
       "68  Diagonal Mar i el Front Marítim del Poblenou     13536.0   \n",
       "69                         el Besòs i el Maresme     26116.0   \n",
       "70                       Provençals del Poblenou     21185.0   \n",
       "71                      Sant Martí de Provençals     26229.0   \n",
       "72                           la Verneda i la Pau     28798.0   \n",
       "\n",
       "    income_per_person  mean_people_household  \n",
       "0            10053.37                   2.73  \n",
       "1            13697.22                   2.32  \n",
       "2            13238.96                   2.17  \n",
       "3            14227.04                   2.23  \n",
       "4            18137.79                   2.45  \n",
       "..                ...                    ...  \n",
       "68           19237.37                   2.52  \n",
       "69           10938.22                   2.73  \n",
       "70           15626.82                   2.54  \n",
       "71           14919.70                   2.46  \n",
       "72           13644.19                   2.51  \n",
       "\n",
       "[73 rows x 8 columns]"
      ]
     },
     "metadata": {},
     "output_type": "display_data"
    }
   ],
   "source": [
    "#make a copy of final_df to start working towards the neighborhood data frame\n",
    "df_hoods = final_df.copy()\n",
    "\n",
    "#merge the recently copied data frame with the population per census district data frame\n",
    "df_popcensec['census_section'] = df_popcensec['census_section'].astype(str) #turning common merging variable into string\n",
    "\n",
    "df_hoods = pd.merge(df_hoods,df_popcensec, how='left', on= ['census_section']) #merging\n",
    "\n",
    "#define the grouping variables before applying the data transformations\n",
    "df_hoods = df_hoods.groupby(['district_code', 'district_name', 'color', 'neighborhood_code', 'neighborhood_name'])\n",
    "\n",
    "#define a general weighted mean function that we'll use for each of the two variables we want to summarize \n",
    "def weighted_mean(group, column, weight_column):\n",
    "    return (group[column] * group[weight_column]).sum() / group[weight_column].sum()\n",
    "\n",
    "#apply the general weighted mean function\n",
    "df_hoods = df_hoods.apply(lambda group: pd.Series({\n",
    "    'population': group['population'].sum(),\n",
    "    'income_per_person': round( weighted_mean(group, 'income_per_person', 'population'), 2),\n",
    "    'mean_people_household': round( weighted_mean(group, 'mean_people_household', 'population'), 2)\n",
    "}), include_groups=False).reset_index()\n",
    "\n",
    "#display the DataFrame\n",
    "display(df_hoods)\n"
   ]
  },
  {
   "cell_type": "markdown",
   "metadata": {},
   "source": [
    "### 6.3. Merging both datasets and visualizing the result\n",
    "Almost there! Let's merge the two data frames we've produced on section 6."
   ]
  },
  {
   "cell_type": "code",
   "execution_count": 86,
   "metadata": {},
   "outputs": [
    {
     "data": {
      "text/html": [
       "<div>\n",
       "<style scoped>\n",
       "    .dataframe tbody tr th:only-of-type {\n",
       "        vertical-align: middle;\n",
       "    }\n",
       "\n",
       "    .dataframe tbody tr th {\n",
       "        vertical-align: top;\n",
       "    }\n",
       "\n",
       "    .dataframe thead th {\n",
       "        text-align: right;\n",
       "    }\n",
       "</style>\n",
       "<table border=\"1\" class=\"dataframe\">\n",
       "  <thead>\n",
       "    <tr style=\"text-align: right;\">\n",
       "      <th></th>\n",
       "      <th>district_code</th>\n",
       "      <th>district_name</th>\n",
       "      <th>color</th>\n",
       "      <th>neighborhood_code</th>\n",
       "      <th>neighborhood_name</th>\n",
       "      <th>population</th>\n",
       "      <th>income_per_person</th>\n",
       "      <th>mean_people_household</th>\n",
       "      <th>mean_size</th>\n",
       "    </tr>\n",
       "  </thead>\n",
       "  <tbody>\n",
       "    <tr>\n",
       "      <th>0</th>\n",
       "      <td>1</td>\n",
       "      <td>Ciutat Vella</td>\n",
       "      <td>#04BB85</td>\n",
       "      <td>1</td>\n",
       "      <td>el Raval</td>\n",
       "      <td>48688.0</td>\n",
       "      <td>10053.37</td>\n",
       "      <td>2.73</td>\n",
       "      <td>63.47</td>\n",
       "    </tr>\n",
       "    <tr>\n",
       "      <th>1</th>\n",
       "      <td>1</td>\n",
       "      <td>Ciutat Vella</td>\n",
       "      <td>#04BB85</td>\n",
       "      <td>2</td>\n",
       "      <td>el Barri Gòtic</td>\n",
       "      <td>22850.0</td>\n",
       "      <td>13697.22</td>\n",
       "      <td>2.32</td>\n",
       "      <td>83.42</td>\n",
       "    </tr>\n",
       "    <tr>\n",
       "      <th>2</th>\n",
       "      <td>1</td>\n",
       "      <td>Ciutat Vella</td>\n",
       "      <td>#04BB85</td>\n",
       "      <td>3</td>\n",
       "      <td>la Barceloneta</td>\n",
       "      <td>15125.0</td>\n",
       "      <td>13238.96</td>\n",
       "      <td>2.17</td>\n",
       "      <td>56.30</td>\n",
       "    </tr>\n",
       "    <tr>\n",
       "      <th>3</th>\n",
       "      <td>1</td>\n",
       "      <td>Ciutat Vella</td>\n",
       "      <td>#04BB85</td>\n",
       "      <td>4</td>\n",
       "      <td>Sant Pere, Santa Caterina i la Ribera</td>\n",
       "      <td>23009.0</td>\n",
       "      <td>14227.04</td>\n",
       "      <td>2.23</td>\n",
       "      <td>71.89</td>\n",
       "    </tr>\n",
       "    <tr>\n",
       "      <th>4</th>\n",
       "      <td>2</td>\n",
       "      <td>L'Eixample</td>\n",
       "      <td>#8F76D7</td>\n",
       "      <td>5</td>\n",
       "      <td>el Fort Pienc</td>\n",
       "      <td>33445.0</td>\n",
       "      <td>18137.79</td>\n",
       "      <td>2.45</td>\n",
       "      <td>75.64</td>\n",
       "    </tr>\n",
       "    <tr>\n",
       "      <th>...</th>\n",
       "      <td>...</td>\n",
       "      <td>...</td>\n",
       "      <td>...</td>\n",
       "      <td>...</td>\n",
       "      <td>...</td>\n",
       "      <td>...</td>\n",
       "      <td>...</td>\n",
       "      <td>...</td>\n",
       "      <td>...</td>\n",
       "    </tr>\n",
       "    <tr>\n",
       "      <th>68</th>\n",
       "      <td>10</td>\n",
       "      <td>Sant Martí</td>\n",
       "      <td>#C1A471</td>\n",
       "      <td>69</td>\n",
       "      <td>Diagonal Mar i el Front Marítim del Poblenou</td>\n",
       "      <td>13536.0</td>\n",
       "      <td>19237.37</td>\n",
       "      <td>2.52</td>\n",
       "      <td>84.81</td>\n",
       "    </tr>\n",
       "    <tr>\n",
       "      <th>69</th>\n",
       "      <td>10</td>\n",
       "      <td>Sant Martí</td>\n",
       "      <td>#C1A471</td>\n",
       "      <td>70</td>\n",
       "      <td>el Besòs i el Maresme</td>\n",
       "      <td>26116.0</td>\n",
       "      <td>10938.22</td>\n",
       "      <td>2.73</td>\n",
       "      <td>64.15</td>\n",
       "    </tr>\n",
       "    <tr>\n",
       "      <th>70</th>\n",
       "      <td>10</td>\n",
       "      <td>Sant Martí</td>\n",
       "      <td>#C1A471</td>\n",
       "      <td>71</td>\n",
       "      <td>Provençals del Poblenou</td>\n",
       "      <td>21185.0</td>\n",
       "      <td>15626.82</td>\n",
       "      <td>2.54</td>\n",
       "      <td>72.22</td>\n",
       "    </tr>\n",
       "    <tr>\n",
       "      <th>71</th>\n",
       "      <td>10</td>\n",
       "      <td>Sant Martí</td>\n",
       "      <td>#C1A471</td>\n",
       "      <td>72</td>\n",
       "      <td>Sant Martí de Provençals</td>\n",
       "      <td>26229.0</td>\n",
       "      <td>14919.70</td>\n",
       "      <td>2.46</td>\n",
       "      <td>72.15</td>\n",
       "    </tr>\n",
       "    <tr>\n",
       "      <th>72</th>\n",
       "      <td>10</td>\n",
       "      <td>Sant Martí</td>\n",
       "      <td>#C1A471</td>\n",
       "      <td>73</td>\n",
       "      <td>la Verneda i la Pau</td>\n",
       "      <td>28798.0</td>\n",
       "      <td>13644.19</td>\n",
       "      <td>2.51</td>\n",
       "      <td>68.56</td>\n",
       "    </tr>\n",
       "  </tbody>\n",
       "</table>\n",
       "<p>73 rows × 9 columns</p>\n",
       "</div>"
      ],
      "text/plain": [
       "    district_code district_name    color  neighborhood_code  \\\n",
       "0               1  Ciutat Vella  #04BB85                  1   \n",
       "1               1  Ciutat Vella  #04BB85                  2   \n",
       "2               1  Ciutat Vella  #04BB85                  3   \n",
       "3               1  Ciutat Vella  #04BB85                  4   \n",
       "4               2    L'Eixample  #8F76D7                  5   \n",
       "..            ...           ...      ...                ...   \n",
       "68             10    Sant Martí  #C1A471                 69   \n",
       "69             10    Sant Martí  #C1A471                 70   \n",
       "70             10    Sant Martí  #C1A471                 71   \n",
       "71             10    Sant Martí  #C1A471                 72   \n",
       "72             10    Sant Martí  #C1A471                 73   \n",
       "\n",
       "                               neighborhood_name  population  \\\n",
       "0                                       el Raval     48688.0   \n",
       "1                                 el Barri Gòtic     22850.0   \n",
       "2                                 la Barceloneta     15125.0   \n",
       "3          Sant Pere, Santa Caterina i la Ribera     23009.0   \n",
       "4                                  el Fort Pienc     33445.0   \n",
       "..                                           ...         ...   \n",
       "68  Diagonal Mar i el Front Marítim del Poblenou     13536.0   \n",
       "69                         el Besòs i el Maresme     26116.0   \n",
       "70                       Provençals del Poblenou     21185.0   \n",
       "71                      Sant Martí de Provençals     26229.0   \n",
       "72                           la Verneda i la Pau     28798.0   \n",
       "\n",
       "    income_per_person  mean_people_household  mean_size  \n",
       "0            10053.37                   2.73      63.47  \n",
       "1            13697.22                   2.32      83.42  \n",
       "2            13238.96                   2.17      56.30  \n",
       "3            14227.04                   2.23      71.89  \n",
       "4            18137.79                   2.45      75.64  \n",
       "..                ...                    ...        ...  \n",
       "68           19237.37                   2.52      84.81  \n",
       "69           10938.22                   2.73      64.15  \n",
       "70           15626.82                   2.54      72.22  \n",
       "71           14919.70                   2.46      72.15  \n",
       "72           13644.19                   2.51      68.56  \n",
       "\n",
       "[73 rows x 9 columns]"
      ]
     },
     "metadata": {},
     "output_type": "display_data"
    }
   ],
   "source": [
    "df_hoods = pd.merge(df_hoods,df_sizeapts, how='left', on= ['neighborhood_code'])\n",
    "\n",
    "#display the DataFrame\n",
    "display(df_hoods)"
   ]
  },
  {
   "cell_type": "markdown",
   "metadata": {},
   "source": [
    "And let's finally visualize the data. The challenge here is representing three variables: income, number of tenants per household, and apartment size. In order to keep it as similar as possible to our former plot, let's leave the x- and y-axes the same. The newly introduced variable, apartment size, will be displayed as the size of the dots (which now will represent neighborhoods). The only technical tweak here is to normalize the size of the dots according to the maximum size we want to display. We do this to maximize visual differences, that would be minimal if passing the absolute apartment sizes."
   ]
  },
  {
   "cell_type": "code",
   "execution_count": 87,
   "metadata": {},
   "outputs": [
    {
     "data": {
      "application/vnd.plotly.v1+json": {
       "config": {
        "plotlyServerURL": "https://plot.ly"
       },
       "data": [
        {
         "customdata": [
          [
           "Ciutat Vella",
           "el Raval",
           10053.37,
           2.73,
           63.47
          ],
          [
           "Ciutat Vella",
           "el Barri Gòtic",
           13697.22,
           2.32,
           83.42
          ],
          [
           "Ciutat Vella",
           "la Barceloneta",
           13238.96,
           2.17,
           56.3
          ],
          [
           "Ciutat Vella",
           "Sant Pere, Santa Caterina i la Ribera",
           14227.04,
           2.23,
           71.89
          ],
          [
           "L'Eixample",
           "el Fort Pienc",
           18137.79,
           2.45,
           75.64
          ],
          [
           "L'Eixample",
           "la Sagrada Família",
           17650.69,
           2.38,
           69.18
          ],
          [
           "L'Eixample",
           "la Dreta de l'Eixample",
           21947.09,
           2.37,
           98.63
          ],
          [
           "L'Eixample",
           "l'Antiga Esquerra de l'Eixample",
           21077.53,
           2.33,
           84.72
          ],
          [
           "L'Eixample",
           "la Nova Esquerra de l'Eixample",
           19849.1,
           2.36,
           74.88
          ],
          [
           "L'Eixample",
           "Sant Antoni",
           17703.01,
           2.38,
           76.63
          ],
          [
           "Sants-Montjuïc",
           "el Poble Sec",
           13286.7,
           2.49,
           59.56
          ],
          [
           "Sants-Montjuïc",
           "la Marina del Prat Vermell",
           11802,
           2.39,
           80.71
          ],
          [
           "Sants-Montjuïc",
           "la Marina de Port",
           13695.43,
           2.59,
           70.65
          ],
          [
           "Sants-Montjuïc",
           "la Font de la Guatlla",
           16267.41,
           2.39,
           67.25
          ],
          [
           "Sants-Montjuïc",
           "Hostafrancs",
           15583.15,
           2.4,
           63.49
          ],
          [
           "Sants-Montjuïc",
           "la Bordeta",
           16011.31,
           2.46,
           70.21
          ],
          [
           "Sants-Montjuïc",
           "Sants-Badal",
           15555.72,
           2.46,
           62.35
          ],
          [
           "Sants-Montjuïc",
           "Sants",
           17150.18,
           2.36,
           66.24
          ],
          [
           "Les Corts",
           "les Corts",
           22157.83,
           2.39,
           76.41
          ],
          [
           "Les Corts",
           "la Maternitat i Sant Ramon",
           20136.64,
           2.46,
           73.69
          ],
          [
           "Les Corts",
           "Pedralbes",
           28481.28,
           2.71,
           115.98
          ],
          [
           "Sarrià-Sant Gervasi",
           "Vallvidrera, el Tibidabo i les Planes",
           21260.05,
           2.87,
           79.02
          ],
          [
           "Sarrià-Sant Gervasi",
           "Sarrià",
           26417.78,
           2.75,
           86.16
          ],
          [
           "Sarrià-Sant Gervasi",
           "les Tres Torres",
           30282.5,
           2.9,
           103.12
          ],
          [
           "Sarrià-Sant Gervasi",
           "Sant Gervasi- la Bonanova",
           26492.54,
           2.67,
           86.61
          ],
          [
           "Sarrià-Sant Gervasi",
           "Sant Gervasi- Galvany",
           27132.64,
           2.55,
           101.22
          ],
          [
           "Sarrià-Sant Gervasi",
           "el Putxet i el Farró",
           22792.92,
           2.44,
           75.63
          ],
          [
           "Gràcia",
           "Vallcarca i els Penitents",
           19933.92,
           2.44,
           71.22
          ],
          [
           "Gràcia",
           "el Coll",
           16051.19,
           2.42,
           63.51
          ],
          [
           "Gràcia",
           "la Salut",
           19736.05,
           2.39,
           72.94
          ],
          [
           "Gràcia",
           "la Vila de Gràcia",
           18553.65,
           2.22,
           67.28
          ],
          [
           "Gràcia",
           "el Camp d'en Grassot i Gràcia Nova",
           19485.61,
           2.32,
           67.95
          ],
          [
           "Horta-Guinardó",
           "el Baix Guinardó",
           17097.73,
           2.39,
           67.88
          ],
          [
           "Horta-Guinardó",
           "Can Baró",
           15934.12,
           2.39,
           62.12
          ],
          [
           "Horta-Guinardó",
           "el Guinardó",
           16542.1,
           2.41,
           66.58
          ],
          [
           "Horta-Guinardó",
           "la Font d'en Fargues",
           19622.04,
           2.51,
           70.51
          ],
          [
           "Horta-Guinardó",
           "el Carmel",
           12364.25,
           2.52,
           59.29
          ],
          [
           "Horta-Guinardó",
           "la Teixonera",
           13532.94,
           2.45,
           61.32
          ],
          [
           "Horta-Guinardó",
           "Sant Genís dels Agudells",
           14181.78,
           2.46,
           69.76
          ],
          [
           "Horta-Guinardó",
           "Montbau",
           15648.8,
           2.37,
           68.29
          ],
          [
           "Horta-Guinardó",
           "la Vall d'Hebron",
           17988.12,
           2.44,
           73.32
          ],
          [
           "Horta-Guinardó",
           "la Clota",
           15605,
           2.45,
           77.33
          ],
          [
           "Horta-Guinardó",
           "Horta",
           16225.56,
           2.43,
           64.61
          ],
          [
           "Nou Barris",
           "Vilapicina i la Torre Llobeta",
           15431.67,
           2.45,
           67.85
          ],
          [
           "Nou Barris",
           "Porta",
           13638.85,
           2.39,
           64.34
          ],
          [
           "Nou Barris",
           "el Turó de la Peira",
           11483.18,
           2.58,
           61.98
          ],
          [
           "Nou Barris",
           "Can Peguera",
           11001.09,
           2.34,
           46.67
          ],
          [
           "Nou Barris",
           "la Guineueta",
           15589.73,
           2.44,
           69.58
          ],
          [
           "Nou Barris",
           "Canyelles",
           14650.88,
           2.43,
           81.47
          ],
          [
           "Nou Barris",
           "les Roquetes",
           10611.06,
           2.74,
           57.41
          ],
          [
           "Nou Barris",
           "Verdun",
           11482.71,
           2.5,
           54.91
          ],
          [
           "Nou Barris",
           "la Prosperitat",
           12822.69,
           2.49,
           58.96
          ],
          [
           "Nou Barris",
           "la Trinitat Nova",
           10279.31,
           2.58,
           52.98
          ],
          [
           "Nou Barris",
           "Torre Baró",
           9896.51,
           2.93,
           62.79
          ],
          [
           "Nou Barris",
           "Ciutat Meridiana",
           8912,
           2.97,
           59.46
          ],
          [
           "Nou Barris",
           "Vallbona",
           10132,
           2.79,
           85
          ],
          [
           "Sant Andreu",
           "la Trinitat Vella",
           9953.54,
           2.93,
           61.03
          ],
          [
           "Sant Andreu",
           "Baró de Viver",
           10136.46,
           2.63,
           68.44
          ],
          [
           "Sant Andreu",
           "el Bon Pastor",
           12593.56,
           2.71,
           64.77
          ],
          [
           "Sant Andreu",
           "Sant Andreu",
           16954.32,
           2.44,
           67.58
          ],
          [
           "Sant Andreu",
           "la Sagrera",
           15727.62,
           2.48,
           65.55
          ],
          [
           "Sant Andreu",
           "el Congrés i els Indians",
           15871.24,
           2.45,
           68.38
          ],
          [
           "Sant Andreu",
           "Navas",
           16268.56,
           2.46,
           71.31
          ],
          [
           "Sant Martí",
           "el Camp de l'Arpa del Clot",
           16612.49,
           2.36,
           65.78
          ],
          [
           "Sant Martí",
           "el Clot",
           16626.51,
           2.49,
           67.98
          ],
          [
           "Sant Martí",
           "el Parc i la Llacuna del Poblenou",
           17178.63,
           2.41,
           69.61
          ],
          [
           "Sant Martí",
           "la Vila Olímpica del Poblenou",
           23856.04,
           2.66,
           86.31
          ],
          [
           "Sant Martí",
           "el Poblenou",
           17665.88,
           2.5,
           68.16
          ],
          [
           "Sant Martí",
           "Diagonal Mar i el Front Marítim del Poblenou",
           19237.37,
           2.52,
           84.81
          ],
          [
           "Sant Martí",
           "el Besòs i el Maresme",
           10938.22,
           2.73,
           64.15
          ],
          [
           "Sant Martí",
           "Provençals del Poblenou",
           15626.82,
           2.54,
           72.22
          ],
          [
           "Sant Martí",
           "Sant Martí de Provençals",
           14919.7,
           2.46,
           72.15
          ],
          [
           "Sant Martí",
           "la Verneda i la Pau",
           13644.19,
           2.51,
           68.56
          ]
         ],
         "hovertemplate": "<br><b>District: %{customdata[0]}</b></br><b>Neighborhood: %{customdata[1]}</b><br><b>Income per person/year (€): %{customdata[2]}</b></br><b>People per household: %{customdata[2]}</b><br><b>Apartment size (sqm): %{customdata[3]}</b><extra></extra></br>",
         "marker": {
          "color": [
           "#04BB85",
           "#04BB85",
           "#04BB85",
           "#04BB85",
           "#8F76D7",
           "#8F76D7",
           "#8F76D7",
           "#8F76D7",
           "#8F76D7",
           "#8F76D7",
           "#FF9500",
           "#FF9500",
           "#FF9500",
           "#FF9500",
           "#FF9500",
           "#FF9500",
           "#FF9500",
           "#FF9500",
           "#019BBF",
           "#019BBF",
           "#019BBF",
           "#F62F36",
           "#F62F36",
           "#F62F36",
           "#F62F36",
           "#F62F36",
           "#F62F36",
           "#9D5E31",
           "#9D5E31",
           "#9D5E31",
           "#9D5E31",
           "#9D5E31",
           "#E65898",
           "#E65898",
           "#E65898",
           "#E65898",
           "#E65898",
           "#E65898",
           "#E65898",
           "#E65898",
           "#E65898",
           "#E65898",
           "#E65898",
           "#B1C019",
           "#B1C019",
           "#B1C019",
           "#B1C019",
           "#B1C019",
           "#B1C019",
           "#B1C019",
           "#B1C019",
           "#B1C019",
           "#B1C019",
           "#B1C019",
           "#B1C019",
           "#B1C019",
           "#FDC903",
           "#FDC903",
           "#FDC903",
           "#FDC903",
           "#FDC903",
           "#FDC903",
           "#FDC903",
           "#C1A471",
           "#C1A471",
           "#C1A471",
           "#C1A471",
           "#C1A471",
           "#C1A471",
           "#C1A471",
           "#C1A471",
           "#C1A471",
           "#C1A471"
          ],
          "size": [
           16.417485773409208,
           21.577858251422658,
           14.562855664769787,
           18.595447490946714,
           19.565442317640972,
           17.894464562855667,
           25.512157268494565,
           21.914123124676667,
           19.368856699430935,
           19.821520951888257,
           15.406104500775994,
           20.876875323331607,
           18.274702534919815,
           17.39524055871702,
           16.42265907915158,
           18.160889808587687,
           16.127780651836524,
           17.133988618727365,
           19.764614588722193,
           19.061045007759958,
           30,
           20.439730988101395,
           22.286601138127264,
           26.673564407656492,
           22.40300051733057,
           26.1821003621314,
           19.562855664769785,
           18.42214174857734,
           16.427832384893946,
           18.867046042421105,
           17.403000517330575,
           17.57630625969995,
           17.55819968960165,
           16.068287635799273,
           17.221934816347645,
           18.23848939472323,
           15.33626487325401,
           15.8613554061045,
           18.04449042938438,
           17.664252457320227,
           18.96533885152612,
           20.002586652871184,
           16.712364200724263,
           17.5504397309881,
           16.642524573202277,
           16.03207449560269,
           12.071908949818935,
           17.99793067770305,
           21.073460941541644,
           14.849974133471287,
           14.203310915675115,
           15.250905328504915,
           13.704086911536471,
           16.241593378168652,
           15.38023797206415,
           21.986549405069837,
           15.786342472840143,
           17.703052250387998,
           16.753750646663214,
           17.480600103466113,
           16.95550957061562,
           17.68753233316089,
           18.445421624418003,
           17.01500258665287,
           17.584066218313506,
           18.005690636316604,
           22.325400931195034,
           17.630625969994824,
           21.937403000517328,
           16.59337816864977,
           18.68080703569581,
           18.662700465597517,
           17.734092084842214
          ]
         },
         "mode": "markers",
         "text": [
          "el Raval",
          "el Barri Gòtic",
          "la Barceloneta",
          "Sant Pere, Santa Caterina i la Ribera",
          "el Fort Pienc",
          "la Sagrada Família",
          "la Dreta de l'Eixample",
          "l'Antiga Esquerra de l'Eixample",
          "la Nova Esquerra de l'Eixample",
          "Sant Antoni",
          "el Poble Sec",
          "la Marina del Prat Vermell",
          "la Marina de Port",
          "la Font de la Guatlla",
          "Hostafrancs",
          "la Bordeta",
          "Sants-Badal",
          "Sants",
          "les Corts",
          "la Maternitat i Sant Ramon",
          "Pedralbes",
          "Vallvidrera, el Tibidabo i les Planes",
          "Sarrià",
          "les Tres Torres",
          "Sant Gervasi- la Bonanova",
          "Sant Gervasi- Galvany",
          "el Putxet i el Farró",
          "Vallcarca i els Penitents",
          "el Coll",
          "la Salut",
          "la Vila de Gràcia",
          "el Camp d'en Grassot i Gràcia Nova",
          "el Baix Guinardó",
          "Can Baró",
          "el Guinardó",
          "la Font d'en Fargues",
          "el Carmel",
          "la Teixonera",
          "Sant Genís dels Agudells",
          "Montbau",
          "la Vall d'Hebron",
          "la Clota",
          "Horta",
          "Vilapicina i la Torre Llobeta",
          "Porta",
          "el Turó de la Peira",
          "Can Peguera",
          "la Guineueta",
          "Canyelles",
          "les Roquetes",
          "Verdun",
          "la Prosperitat",
          "la Trinitat Nova",
          "Torre Baró",
          "Ciutat Meridiana",
          "Vallbona",
          "la Trinitat Vella",
          "Baró de Viver",
          "el Bon Pastor",
          "Sant Andreu",
          "la Sagrera",
          "el Congrés i els Indians",
          "Navas",
          "el Camp de l'Arpa del Clot",
          "el Clot",
          "el Parc i la Llacuna del Poblenou",
          "la Vila Olímpica del Poblenou",
          "el Poblenou",
          "Diagonal Mar i el Front Marítim del Poblenou",
          "el Besòs i el Maresme",
          "Provençals del Poblenou",
          "Sant Martí de Provençals",
          "la Verneda i la Pau"
         ],
         "type": "scatter",
         "x": [
          10053.37,
          13697.22,
          13238.96,
          14227.04,
          18137.79,
          17650.69,
          21947.09,
          21077.53,
          19849.1,
          17703.01,
          13286.7,
          11802,
          13695.43,
          16267.41,
          15583.15,
          16011.31,
          15555.72,
          17150.18,
          22157.83,
          20136.64,
          28481.28,
          21260.05,
          26417.78,
          30282.5,
          26492.54,
          27132.64,
          22792.92,
          19933.92,
          16051.19,
          19736.05,
          18553.65,
          19485.61,
          17097.73,
          15934.12,
          16542.1,
          19622.04,
          12364.25,
          13532.94,
          14181.78,
          15648.8,
          17988.12,
          15605,
          16225.56,
          15431.67,
          13638.85,
          11483.18,
          11001.09,
          15589.73,
          14650.88,
          10611.06,
          11482.71,
          12822.69,
          10279.31,
          9896.51,
          8912,
          10132,
          9953.54,
          10136.46,
          12593.56,
          16954.32,
          15727.62,
          15871.24,
          16268.56,
          16612.49,
          16626.51,
          17178.63,
          23856.04,
          17665.88,
          19237.37,
          10938.22,
          15626.82,
          14919.7,
          13644.19
         ],
         "y": [
          2.73,
          2.32,
          2.17,
          2.23,
          2.45,
          2.38,
          2.37,
          2.33,
          2.36,
          2.38,
          2.49,
          2.39,
          2.59,
          2.39,
          2.4,
          2.46,
          2.46,
          2.36,
          2.39,
          2.46,
          2.71,
          2.87,
          2.75,
          2.9,
          2.67,
          2.55,
          2.44,
          2.44,
          2.42,
          2.39,
          2.22,
          2.32,
          2.39,
          2.39,
          2.41,
          2.51,
          2.52,
          2.45,
          2.46,
          2.37,
          2.44,
          2.45,
          2.43,
          2.45,
          2.39,
          2.58,
          2.34,
          2.44,
          2.43,
          2.74,
          2.5,
          2.49,
          2.58,
          2.93,
          2.97,
          2.79,
          2.93,
          2.63,
          2.71,
          2.44,
          2.48,
          2.45,
          2.46,
          2.36,
          2.49,
          2.41,
          2.66,
          2.5,
          2.52,
          2.73,
          2.54,
          2.46,
          2.51
         ]
        },
        {
         "hoverinfo": "none",
         "line": {
          "color": "black",
          "width": 2
         },
         "mode": "lines",
         "type": "scatter",
         "x": [
          8912,
          9896.51,
          9953.54,
          10053.37,
          10132,
          10136.46,
          10279.31,
          10611.06,
          10938.22,
          11001.09,
          11482.71,
          11483.18,
          11802,
          12364.25,
          12593.56,
          12822.69,
          13238.96,
          13286.7,
          13532.94,
          13638.85,
          13644.19,
          13695.43,
          13697.22,
          14181.78,
          14227.04,
          14650.88,
          14919.7,
          15431.67,
          15555.72,
          15583.15,
          15589.73,
          15605,
          15626.82,
          15648.8,
          15727.62,
          15871.24,
          15934.12,
          16011.31,
          16051.19,
          16225.56,
          16267.41,
          16268.56,
          16542.1,
          16612.49,
          16626.51,
          16954.32,
          17097.73,
          17150.18,
          17178.63,
          17650.69,
          17665.88,
          17703.01,
          17988.12,
          18137.79,
          18553.65,
          19237.37,
          19485.61,
          19622.04,
          19736.05,
          19849.1,
          19933.92,
          20136.64,
          21077.53,
          21260.05,
          21947.09,
          22157.83,
          22792.92,
          23856.04,
          26417.78,
          26492.54,
          27132.64,
          28481.28,
          30282.5
         ],
         "y": [
          2.9656015967584737,
          2.8162297037543977,
          2.8077804994657036,
          2.793055034139187,
          2.7815093406451146,
          2.780855753871014,
          2.7599946085412626,
          2.712200047729428,
          2.6666634916483765,
          2.658230751997757,
          2.5997099526284253,
          2.599654187563509,
          2.562439501958837,
          2.5239055721078545,
          2.50824095492135,
          2.496709633225972,
          2.477301530375952,
          2.475858975795036,
          2.467724839734429,
          2.4629533583847305,
          2.4626864797052375,
          2.4600598219679055,
          2.4599668568908863,
          2.444740119263114,
          2.4455561510038946,
          2.440027671984258,
          2.4372953847094223,
          2.445968634625792,
          2.4439569068812608,
          2.4434077319868472,
          2.4432722993472864,
          2.4431050850263034,
          2.442865143341269,
          2.4425990946838914,
          2.441306084664459,
          2.437529636310282,
          2.4358002825272624,
          2.433654705532532,
          2.4327213288437393,
          2.428064766138041,
          2.4269682269248145,
          2.426938374868379,
          2.4190913625933397,
          2.4165415600814044,
          2.416076418758906,
          2.413066223864347,
          2.414800579228201,
          2.4146377145704556,
          2.4149879564367325,
          2.4121159496718807,
          2.4121290878821795,
          2.4121355803200646,
          2.4157773011352686,
          2.417389938651478,
          2.4172373106709966,
          2.4173552265400353,
          2.4153760258564443,
          2.413865662708303,
          2.4115894549213284,
          2.4094396818791175,
          2.4083558675311227,
          2.405547202243081,
          2.413605131867137,
          2.4196150628068334,
          2.4410759261871653,
          2.4477592110945054,
          2.4906673159853856,
          2.538378752861203,
          2.6587002874211434,
          2.6624832527735935,
          2.6947646909655614,
          2.7619435669097303,
          2.850980093396336
         ]
        }
       ],
       "layout": {
        "margin": {
         "b": 50,
         "l": 100,
         "r": 25,
         "t": 25
        },
        "paper_bgcolor": "white",
        "plot_bgcolor": "white",
        "showlegend": false,
        "template": {
         "data": {
          "bar": [
           {
            "error_x": {
             "color": "#2a3f5f"
            },
            "error_y": {
             "color": "#2a3f5f"
            },
            "marker": {
             "line": {
              "color": "#E5ECF6",
              "width": 0.5
             },
             "pattern": {
              "fillmode": "overlay",
              "size": 10,
              "solidity": 0.2
             }
            },
            "type": "bar"
           }
          ],
          "barpolar": [
           {
            "marker": {
             "line": {
              "color": "#E5ECF6",
              "width": 0.5
             },
             "pattern": {
              "fillmode": "overlay",
              "size": 10,
              "solidity": 0.2
             }
            },
            "type": "barpolar"
           }
          ],
          "carpet": [
           {
            "aaxis": {
             "endlinecolor": "#2a3f5f",
             "gridcolor": "white",
             "linecolor": "white",
             "minorgridcolor": "white",
             "startlinecolor": "#2a3f5f"
            },
            "baxis": {
             "endlinecolor": "#2a3f5f",
             "gridcolor": "white",
             "linecolor": "white",
             "minorgridcolor": "white",
             "startlinecolor": "#2a3f5f"
            },
            "type": "carpet"
           }
          ],
          "choropleth": [
           {
            "colorbar": {
             "outlinewidth": 0,
             "ticks": ""
            },
            "type": "choropleth"
           }
          ],
          "contour": [
           {
            "colorbar": {
             "outlinewidth": 0,
             "ticks": ""
            },
            "colorscale": [
             [
              0,
              "#0d0887"
             ],
             [
              0.1111111111111111,
              "#46039f"
             ],
             [
              0.2222222222222222,
              "#7201a8"
             ],
             [
              0.3333333333333333,
              "#9c179e"
             ],
             [
              0.4444444444444444,
              "#bd3786"
             ],
             [
              0.5555555555555556,
              "#d8576b"
             ],
             [
              0.6666666666666666,
              "#ed7953"
             ],
             [
              0.7777777777777778,
              "#fb9f3a"
             ],
             [
              0.8888888888888888,
              "#fdca26"
             ],
             [
              1,
              "#f0f921"
             ]
            ],
            "type": "contour"
           }
          ],
          "contourcarpet": [
           {
            "colorbar": {
             "outlinewidth": 0,
             "ticks": ""
            },
            "type": "contourcarpet"
           }
          ],
          "heatmap": [
           {
            "colorbar": {
             "outlinewidth": 0,
             "ticks": ""
            },
            "colorscale": [
             [
              0,
              "#0d0887"
             ],
             [
              0.1111111111111111,
              "#46039f"
             ],
             [
              0.2222222222222222,
              "#7201a8"
             ],
             [
              0.3333333333333333,
              "#9c179e"
             ],
             [
              0.4444444444444444,
              "#bd3786"
             ],
             [
              0.5555555555555556,
              "#d8576b"
             ],
             [
              0.6666666666666666,
              "#ed7953"
             ],
             [
              0.7777777777777778,
              "#fb9f3a"
             ],
             [
              0.8888888888888888,
              "#fdca26"
             ],
             [
              1,
              "#f0f921"
             ]
            ],
            "type": "heatmap"
           }
          ],
          "heatmapgl": [
           {
            "colorbar": {
             "outlinewidth": 0,
             "ticks": ""
            },
            "colorscale": [
             [
              0,
              "#0d0887"
             ],
             [
              0.1111111111111111,
              "#46039f"
             ],
             [
              0.2222222222222222,
              "#7201a8"
             ],
             [
              0.3333333333333333,
              "#9c179e"
             ],
             [
              0.4444444444444444,
              "#bd3786"
             ],
             [
              0.5555555555555556,
              "#d8576b"
             ],
             [
              0.6666666666666666,
              "#ed7953"
             ],
             [
              0.7777777777777778,
              "#fb9f3a"
             ],
             [
              0.8888888888888888,
              "#fdca26"
             ],
             [
              1,
              "#f0f921"
             ]
            ],
            "type": "heatmapgl"
           }
          ],
          "histogram": [
           {
            "marker": {
             "pattern": {
              "fillmode": "overlay",
              "size": 10,
              "solidity": 0.2
             }
            },
            "type": "histogram"
           }
          ],
          "histogram2d": [
           {
            "colorbar": {
             "outlinewidth": 0,
             "ticks": ""
            },
            "colorscale": [
             [
              0,
              "#0d0887"
             ],
             [
              0.1111111111111111,
              "#46039f"
             ],
             [
              0.2222222222222222,
              "#7201a8"
             ],
             [
              0.3333333333333333,
              "#9c179e"
             ],
             [
              0.4444444444444444,
              "#bd3786"
             ],
             [
              0.5555555555555556,
              "#d8576b"
             ],
             [
              0.6666666666666666,
              "#ed7953"
             ],
             [
              0.7777777777777778,
              "#fb9f3a"
             ],
             [
              0.8888888888888888,
              "#fdca26"
             ],
             [
              1,
              "#f0f921"
             ]
            ],
            "type": "histogram2d"
           }
          ],
          "histogram2dcontour": [
           {
            "colorbar": {
             "outlinewidth": 0,
             "ticks": ""
            },
            "colorscale": [
             [
              0,
              "#0d0887"
             ],
             [
              0.1111111111111111,
              "#46039f"
             ],
             [
              0.2222222222222222,
              "#7201a8"
             ],
             [
              0.3333333333333333,
              "#9c179e"
             ],
             [
              0.4444444444444444,
              "#bd3786"
             ],
             [
              0.5555555555555556,
              "#d8576b"
             ],
             [
              0.6666666666666666,
              "#ed7953"
             ],
             [
              0.7777777777777778,
              "#fb9f3a"
             ],
             [
              0.8888888888888888,
              "#fdca26"
             ],
             [
              1,
              "#f0f921"
             ]
            ],
            "type": "histogram2dcontour"
           }
          ],
          "mesh3d": [
           {
            "colorbar": {
             "outlinewidth": 0,
             "ticks": ""
            },
            "type": "mesh3d"
           }
          ],
          "parcoords": [
           {
            "line": {
             "colorbar": {
              "outlinewidth": 0,
              "ticks": ""
             }
            },
            "type": "parcoords"
           }
          ],
          "pie": [
           {
            "automargin": true,
            "type": "pie"
           }
          ],
          "scatter": [
           {
            "fillpattern": {
             "fillmode": "overlay",
             "size": 10,
             "solidity": 0.2
            },
            "type": "scatter"
           }
          ],
          "scatter3d": [
           {
            "line": {
             "colorbar": {
              "outlinewidth": 0,
              "ticks": ""
             }
            },
            "marker": {
             "colorbar": {
              "outlinewidth": 0,
              "ticks": ""
             }
            },
            "type": "scatter3d"
           }
          ],
          "scattercarpet": [
           {
            "marker": {
             "colorbar": {
              "outlinewidth": 0,
              "ticks": ""
             }
            },
            "type": "scattercarpet"
           }
          ],
          "scattergeo": [
           {
            "marker": {
             "colorbar": {
              "outlinewidth": 0,
              "ticks": ""
             }
            },
            "type": "scattergeo"
           }
          ],
          "scattergl": [
           {
            "marker": {
             "colorbar": {
              "outlinewidth": 0,
              "ticks": ""
             }
            },
            "type": "scattergl"
           }
          ],
          "scattermapbox": [
           {
            "marker": {
             "colorbar": {
              "outlinewidth": 0,
              "ticks": ""
             }
            },
            "type": "scattermapbox"
           }
          ],
          "scatterpolar": [
           {
            "marker": {
             "colorbar": {
              "outlinewidth": 0,
              "ticks": ""
             }
            },
            "type": "scatterpolar"
           }
          ],
          "scatterpolargl": [
           {
            "marker": {
             "colorbar": {
              "outlinewidth": 0,
              "ticks": ""
             }
            },
            "type": "scatterpolargl"
           }
          ],
          "scatterternary": [
           {
            "marker": {
             "colorbar": {
              "outlinewidth": 0,
              "ticks": ""
             }
            },
            "type": "scatterternary"
           }
          ],
          "surface": [
           {
            "colorbar": {
             "outlinewidth": 0,
             "ticks": ""
            },
            "colorscale": [
             [
              0,
              "#0d0887"
             ],
             [
              0.1111111111111111,
              "#46039f"
             ],
             [
              0.2222222222222222,
              "#7201a8"
             ],
             [
              0.3333333333333333,
              "#9c179e"
             ],
             [
              0.4444444444444444,
              "#bd3786"
             ],
             [
              0.5555555555555556,
              "#d8576b"
             ],
             [
              0.6666666666666666,
              "#ed7953"
             ],
             [
              0.7777777777777778,
              "#fb9f3a"
             ],
             [
              0.8888888888888888,
              "#fdca26"
             ],
             [
              1,
              "#f0f921"
             ]
            ],
            "type": "surface"
           }
          ],
          "table": [
           {
            "cells": {
             "fill": {
              "color": "#EBF0F8"
             },
             "line": {
              "color": "white"
             }
            },
            "header": {
             "fill": {
              "color": "#C8D4E3"
             },
             "line": {
              "color": "white"
             }
            },
            "type": "table"
           }
          ]
         },
         "layout": {
          "annotationdefaults": {
           "arrowcolor": "#2a3f5f",
           "arrowhead": 0,
           "arrowwidth": 1
          },
          "autotypenumbers": "strict",
          "coloraxis": {
           "colorbar": {
            "outlinewidth": 0,
            "ticks": ""
           }
          },
          "colorscale": {
           "diverging": [
            [
             0,
             "#8e0152"
            ],
            [
             0.1,
             "#c51b7d"
            ],
            [
             0.2,
             "#de77ae"
            ],
            [
             0.3,
             "#f1b6da"
            ],
            [
             0.4,
             "#fde0ef"
            ],
            [
             0.5,
             "#f7f7f7"
            ],
            [
             0.6,
             "#e6f5d0"
            ],
            [
             0.7,
             "#b8e186"
            ],
            [
             0.8,
             "#7fbc41"
            ],
            [
             0.9,
             "#4d9221"
            ],
            [
             1,
             "#276419"
            ]
           ],
           "sequential": [
            [
             0,
             "#0d0887"
            ],
            [
             0.1111111111111111,
             "#46039f"
            ],
            [
             0.2222222222222222,
             "#7201a8"
            ],
            [
             0.3333333333333333,
             "#9c179e"
            ],
            [
             0.4444444444444444,
             "#bd3786"
            ],
            [
             0.5555555555555556,
             "#d8576b"
            ],
            [
             0.6666666666666666,
             "#ed7953"
            ],
            [
             0.7777777777777778,
             "#fb9f3a"
            ],
            [
             0.8888888888888888,
             "#fdca26"
            ],
            [
             1,
             "#f0f921"
            ]
           ],
           "sequentialminus": [
            [
             0,
             "#0d0887"
            ],
            [
             0.1111111111111111,
             "#46039f"
            ],
            [
             0.2222222222222222,
             "#7201a8"
            ],
            [
             0.3333333333333333,
             "#9c179e"
            ],
            [
             0.4444444444444444,
             "#bd3786"
            ],
            [
             0.5555555555555556,
             "#d8576b"
            ],
            [
             0.6666666666666666,
             "#ed7953"
            ],
            [
             0.7777777777777778,
             "#fb9f3a"
            ],
            [
             0.8888888888888888,
             "#fdca26"
            ],
            [
             1,
             "#f0f921"
            ]
           ]
          },
          "colorway": [
           "#636efa",
           "#EF553B",
           "#00cc96",
           "#ab63fa",
           "#FFA15A",
           "#19d3f3",
           "#FF6692",
           "#B6E880",
           "#FF97FF",
           "#FECB52"
          ],
          "font": {
           "color": "#2a3f5f"
          },
          "geo": {
           "bgcolor": "white",
           "lakecolor": "white",
           "landcolor": "#E5ECF6",
           "showlakes": true,
           "showland": true,
           "subunitcolor": "white"
          },
          "hoverlabel": {
           "align": "left"
          },
          "hovermode": "closest",
          "mapbox": {
           "style": "light"
          },
          "paper_bgcolor": "white",
          "plot_bgcolor": "#E5ECF6",
          "polar": {
           "angularaxis": {
            "gridcolor": "white",
            "linecolor": "white",
            "ticks": ""
           },
           "bgcolor": "#E5ECF6",
           "radialaxis": {
            "gridcolor": "white",
            "linecolor": "white",
            "ticks": ""
           }
          },
          "scene": {
           "xaxis": {
            "backgroundcolor": "#E5ECF6",
            "gridcolor": "white",
            "gridwidth": 2,
            "linecolor": "white",
            "showbackground": true,
            "ticks": "",
            "zerolinecolor": "white"
           },
           "yaxis": {
            "backgroundcolor": "#E5ECF6",
            "gridcolor": "white",
            "gridwidth": 2,
            "linecolor": "white",
            "showbackground": true,
            "ticks": "",
            "zerolinecolor": "white"
           },
           "zaxis": {
            "backgroundcolor": "#E5ECF6",
            "gridcolor": "white",
            "gridwidth": 2,
            "linecolor": "white",
            "showbackground": true,
            "ticks": "",
            "zerolinecolor": "white"
           }
          },
          "shapedefaults": {
           "line": {
            "color": "#2a3f5f"
           }
          },
          "ternary": {
           "aaxis": {
            "gridcolor": "white",
            "linecolor": "white",
            "ticks": ""
           },
           "baxis": {
            "gridcolor": "white",
            "linecolor": "white",
            "ticks": ""
           },
           "bgcolor": "#E5ECF6",
           "caxis": {
            "gridcolor": "white",
            "linecolor": "white",
            "ticks": ""
           }
          },
          "title": {
           "x": 0.05
          },
          "xaxis": {
           "automargin": true,
           "gridcolor": "white",
           "linecolor": "white",
           "ticks": "",
           "title": {
            "standoff": 15
           },
           "zerolinecolor": "white",
           "zerolinewidth": 2
          },
          "yaxis": {
           "automargin": true,
           "gridcolor": "white",
           "linecolor": "white",
           "ticks": "",
           "title": {
            "standoff": 15
           },
           "zerolinecolor": "white",
           "zerolinewidth": 2
          }
         }
        },
        "xaxis": {
         "gridcolor": "lightgrey",
         "linecolor": "black",
         "title": {
          "text": "Income per person/year"
         }
        },
        "yaxis": {
         "gridcolor": "lightgrey",
         "linecolor": "black",
         "title": {
          "text": "People per household"
         }
        }
       }
      }
     },
     "metadata": {},
     "output_type": "display_data"
    }
   ],
   "source": [
    "# Define maximum size and normalize sizes\n",
    "max_size = 30 #maximum dot size we want in our plot\n",
    "marker_sizes = (df_hoods['mean_size'] / df_hoods['mean_size'].max()) * max_size #normalize sizes\n",
    "\n",
    "#create a scatter plot\n",
    "scatter = go.Scatter(\n",
    "    x=df_hoods[\"income_per_person\"],\n",
    "    y=df_hoods[\"mean_people_household\"],\n",
    "    text=df_hoods['neighborhood_name'],\n",
    "    mode='markers',\n",
    "    marker=dict(color=df_hoods['color'], size=marker_sizes), #making color and dot size depend on district and normalized apartment sizes, respectively\n",
    "    customdata= np.stack((df_hoods['district_name'], df_hoods['neighborhood_name'], df_hoods['income_per_person'], df_hoods['mean_people_household'], df_hoods['mean_size']), axis=-1),\n",
    "    hovertemplate =\n",
    "    '<br><b>District: %{customdata[0]}</b></br>' + \n",
    "    '<b>Neighborhood: %{customdata[1]}</b>' + \n",
    "    '<br><b>Income per person/year (€): %{customdata[2]}</b></br>' + \n",
    "    '<b>People per household: %{customdata[2]}</b>' + \n",
    "    '<br><b>Apartment size (sqm): %{customdata[3]}</b><extra></extra></br>' #add extra to remove trace:0 right next to hover box\n",
    ")\n",
    "\n",
    "#calculate LOWESS line\n",
    "df_hoods = df_hoods.sort_values(by='income_per_person') #sort the DataFrame by the 'income_per_person' column, necessary to calculate the LOWESS line\n",
    "lowess_result = lowess(df_hoods[\"mean_people_household\"], df_hoods[\"income_per_person\"], frac=0.3)\n",
    "lowess_line = go.Scatter(\n",
    "    x=df_hoods[\"income_per_person\"],\n",
    "    y=lowess_result[:, 1],\n",
    "    mode='lines',\n",
    "    line=dict(color='black', width=2),\n",
    "    hoverinfo='none',\n",
    ")\n",
    "\n",
    "#create figure\n",
    "fig4 = go.Figure(data=[scatter, lowess_line], layout=mylayout)\n",
    "\n",
    "# update layout with axes titles and margins\n",
    "fig4.update_layout(\n",
    "    xaxis=dict(title='Income per person/year'),\n",
    "    yaxis=dict(title='People per household'),\n",
    "    margin=dict(l=100, r=25, b=50, t=25),#customizing margins\n",
    "    showlegend=False\n",
    ")\n",
    "\n",
    "#show the figure\n",
    "fig4.show()"
   ]
  },
  {
   "cell_type": "markdown",
   "metadata": {},
   "source": [
    "There we go. While it's not immediately clear that people in low-income neighborhoods live in smaller apartments than people in mid-income neighborhoods, it's very obvious that people enjoy bigger apartments in the wealthiest neighborhoods."
   ]
  },
  {
   "cell_type": "markdown",
   "metadata": {},
   "source": [
    "## 6. Conclusion\n",
    "\n",
    "We initially asked what the relationship was between the income of a certain person and the number of people this person shared a roof with. By using four different datasets we've dug into the matter and seen that, at least in the context of Barcelona, the relationship appears to be U-shaped. At both ends of the economic spectrum people live with more people, whereas the middle class dwells in less-populated apartments. However, we've also found evidence that leads us to think that wealthier people live in more spacious apartments, which means that they are probably less crowded. "
   ]
  }
 ],
 "metadata": {
  "kernelspec": {
   "display_name": "Python 3 (ipykernel)",
   "language": "python",
   "name": "python3"
  },
  "language_info": {
   "codemirror_mode": {
    "name": "ipython",
    "version": 3
   },
   "file_extension": ".py",
   "mimetype": "text/x-python",
   "name": "python",
   "nbconvert_exporter": "python",
   "pygments_lexer": "ipython3",
   "version": "3.12.1"
  },
  "widgets": {
   "application/vnd.jupyter.widget-state+json": {
    "state": {},
    "version_major": 2,
    "version_minor": 0
   }
  }
 },
 "nbformat": 4,
 "nbformat_minor": 4
}
